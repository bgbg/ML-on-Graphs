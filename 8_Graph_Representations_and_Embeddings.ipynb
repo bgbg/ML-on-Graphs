{
  "nbformat": 4,
  "nbformat_minor": 0,
  "metadata": {
    "colab": {
      "provenance": [],
      "toc_visible": true,
      "authorship_tag": "ABX9TyMqaFjcFfQ+15WXaIfYbFRl",
      "include_colab_link": true
    },
    "kernelspec": {
      "name": "python3",
      "display_name": "Python 3"
    },
    "language_info": {
      "name": "python"
    },
    "widgets": {
      "application/vnd.jupyter.widget-state+json": {
        "1491de9cbc1d422c80cc43885b07f860": {
          "model_module": "@jupyter-widgets/controls",
          "model_name": "HBoxModel",
          "model_module_version": "1.5.0",
          "state": {
            "_dom_classes": [],
            "_model_module": "@jupyter-widgets/controls",
            "_model_module_version": "1.5.0",
            "_model_name": "HBoxModel",
            "_view_count": null,
            "_view_module": "@jupyter-widgets/controls",
            "_view_module_version": "1.5.0",
            "_view_name": "HBoxView",
            "box_style": "",
            "children": [
              "IPY_MODEL_6b383893b48a4c4f8db7b97a5aefc66f",
              "IPY_MODEL_d76870ce8a684ff190caf5a1352dbf2d",
              "IPY_MODEL_ff05a03af89046bf9dd83583a6ee9879"
            ],
            "layout": "IPY_MODEL_d94d12bc78ab484ebd462209b6de90b2"
          }
        },
        "6b383893b48a4c4f8db7b97a5aefc66f": {
          "model_module": "@jupyter-widgets/controls",
          "model_name": "HTMLModel",
          "model_module_version": "1.5.0",
          "state": {
            "_dom_classes": [],
            "_model_module": "@jupyter-widgets/controls",
            "_model_module_version": "1.5.0",
            "_model_name": "HTMLModel",
            "_view_count": null,
            "_view_module": "@jupyter-widgets/controls",
            "_view_module_version": "1.5.0",
            "_view_name": "HTMLView",
            "description": "",
            "description_tooltip": null,
            "layout": "IPY_MODEL_0158daba8ca84ef68052ab962f97a183",
            "placeholder": "​",
            "style": "IPY_MODEL_02b14d9e0cfd4e05b510e311e55a3231",
            "value": "Computing transition probabilities: 100%"
          }
        },
        "d76870ce8a684ff190caf5a1352dbf2d": {
          "model_module": "@jupyter-widgets/controls",
          "model_name": "FloatProgressModel",
          "model_module_version": "1.5.0",
          "state": {
            "_dom_classes": [],
            "_model_module": "@jupyter-widgets/controls",
            "_model_module_version": "1.5.0",
            "_model_name": "FloatProgressModel",
            "_view_count": null,
            "_view_module": "@jupyter-widgets/controls",
            "_view_module_version": "1.5.0",
            "_view_name": "ProgressView",
            "bar_style": "success",
            "description": "",
            "description_tooltip": null,
            "layout": "IPY_MODEL_24fe794f330b400fa6079f527ac44ec6",
            "max": 1000,
            "min": 0,
            "orientation": "horizontal",
            "style": "IPY_MODEL_58e75d5a066943d088c6a5b4dbfbb3e0",
            "value": 1000
          }
        },
        "ff05a03af89046bf9dd83583a6ee9879": {
          "model_module": "@jupyter-widgets/controls",
          "model_name": "HTMLModel",
          "model_module_version": "1.5.0",
          "state": {
            "_dom_classes": [],
            "_model_module": "@jupyter-widgets/controls",
            "_model_module_version": "1.5.0",
            "_model_name": "HTMLModel",
            "_view_count": null,
            "_view_module": "@jupyter-widgets/controls",
            "_view_module_version": "1.5.0",
            "_view_name": "HTMLView",
            "description": "",
            "description_tooltip": null,
            "layout": "IPY_MODEL_7598fd7db73b430da9be23464d155823",
            "placeholder": "​",
            "style": "IPY_MODEL_709b67f554024ec09fe1d99b096777ad",
            "value": " 1000/1000 [00:01&lt;00:00, 647.36it/s]"
          }
        },
        "d94d12bc78ab484ebd462209b6de90b2": {
          "model_module": "@jupyter-widgets/base",
          "model_name": "LayoutModel",
          "model_module_version": "1.2.0",
          "state": {
            "_model_module": "@jupyter-widgets/base",
            "_model_module_version": "1.2.0",
            "_model_name": "LayoutModel",
            "_view_count": null,
            "_view_module": "@jupyter-widgets/base",
            "_view_module_version": "1.2.0",
            "_view_name": "LayoutView",
            "align_content": null,
            "align_items": null,
            "align_self": null,
            "border": null,
            "bottom": null,
            "display": null,
            "flex": null,
            "flex_flow": null,
            "grid_area": null,
            "grid_auto_columns": null,
            "grid_auto_flow": null,
            "grid_auto_rows": null,
            "grid_column": null,
            "grid_gap": null,
            "grid_row": null,
            "grid_template_areas": null,
            "grid_template_columns": null,
            "grid_template_rows": null,
            "height": null,
            "justify_content": null,
            "justify_items": null,
            "left": null,
            "margin": null,
            "max_height": null,
            "max_width": null,
            "min_height": null,
            "min_width": null,
            "object_fit": null,
            "object_position": null,
            "order": null,
            "overflow": null,
            "overflow_x": null,
            "overflow_y": null,
            "padding": null,
            "right": null,
            "top": null,
            "visibility": null,
            "width": null
          }
        },
        "0158daba8ca84ef68052ab962f97a183": {
          "model_module": "@jupyter-widgets/base",
          "model_name": "LayoutModel",
          "model_module_version": "1.2.0",
          "state": {
            "_model_module": "@jupyter-widgets/base",
            "_model_module_version": "1.2.0",
            "_model_name": "LayoutModel",
            "_view_count": null,
            "_view_module": "@jupyter-widgets/base",
            "_view_module_version": "1.2.0",
            "_view_name": "LayoutView",
            "align_content": null,
            "align_items": null,
            "align_self": null,
            "border": null,
            "bottom": null,
            "display": null,
            "flex": null,
            "flex_flow": null,
            "grid_area": null,
            "grid_auto_columns": null,
            "grid_auto_flow": null,
            "grid_auto_rows": null,
            "grid_column": null,
            "grid_gap": null,
            "grid_row": null,
            "grid_template_areas": null,
            "grid_template_columns": null,
            "grid_template_rows": null,
            "height": null,
            "justify_content": null,
            "justify_items": null,
            "left": null,
            "margin": null,
            "max_height": null,
            "max_width": null,
            "min_height": null,
            "min_width": null,
            "object_fit": null,
            "object_position": null,
            "order": null,
            "overflow": null,
            "overflow_x": null,
            "overflow_y": null,
            "padding": null,
            "right": null,
            "top": null,
            "visibility": null,
            "width": null
          }
        },
        "02b14d9e0cfd4e05b510e311e55a3231": {
          "model_module": "@jupyter-widgets/controls",
          "model_name": "DescriptionStyleModel",
          "model_module_version": "1.5.0",
          "state": {
            "_model_module": "@jupyter-widgets/controls",
            "_model_module_version": "1.5.0",
            "_model_name": "DescriptionStyleModel",
            "_view_count": null,
            "_view_module": "@jupyter-widgets/base",
            "_view_module_version": "1.2.0",
            "_view_name": "StyleView",
            "description_width": ""
          }
        },
        "24fe794f330b400fa6079f527ac44ec6": {
          "model_module": "@jupyter-widgets/base",
          "model_name": "LayoutModel",
          "model_module_version": "1.2.0",
          "state": {
            "_model_module": "@jupyter-widgets/base",
            "_model_module_version": "1.2.0",
            "_model_name": "LayoutModel",
            "_view_count": null,
            "_view_module": "@jupyter-widgets/base",
            "_view_module_version": "1.2.0",
            "_view_name": "LayoutView",
            "align_content": null,
            "align_items": null,
            "align_self": null,
            "border": null,
            "bottom": null,
            "display": null,
            "flex": null,
            "flex_flow": null,
            "grid_area": null,
            "grid_auto_columns": null,
            "grid_auto_flow": null,
            "grid_auto_rows": null,
            "grid_column": null,
            "grid_gap": null,
            "grid_row": null,
            "grid_template_areas": null,
            "grid_template_columns": null,
            "grid_template_rows": null,
            "height": null,
            "justify_content": null,
            "justify_items": null,
            "left": null,
            "margin": null,
            "max_height": null,
            "max_width": null,
            "min_height": null,
            "min_width": null,
            "object_fit": null,
            "object_position": null,
            "order": null,
            "overflow": null,
            "overflow_x": null,
            "overflow_y": null,
            "padding": null,
            "right": null,
            "top": null,
            "visibility": null,
            "width": null
          }
        },
        "58e75d5a066943d088c6a5b4dbfbb3e0": {
          "model_module": "@jupyter-widgets/controls",
          "model_name": "ProgressStyleModel",
          "model_module_version": "1.5.0",
          "state": {
            "_model_module": "@jupyter-widgets/controls",
            "_model_module_version": "1.5.0",
            "_model_name": "ProgressStyleModel",
            "_view_count": null,
            "_view_module": "@jupyter-widgets/base",
            "_view_module_version": "1.2.0",
            "_view_name": "StyleView",
            "bar_color": null,
            "description_width": ""
          }
        },
        "7598fd7db73b430da9be23464d155823": {
          "model_module": "@jupyter-widgets/base",
          "model_name": "LayoutModel",
          "model_module_version": "1.2.0",
          "state": {
            "_model_module": "@jupyter-widgets/base",
            "_model_module_version": "1.2.0",
            "_model_name": "LayoutModel",
            "_view_count": null,
            "_view_module": "@jupyter-widgets/base",
            "_view_module_version": "1.2.0",
            "_view_name": "LayoutView",
            "align_content": null,
            "align_items": null,
            "align_self": null,
            "border": null,
            "bottom": null,
            "display": null,
            "flex": null,
            "flex_flow": null,
            "grid_area": null,
            "grid_auto_columns": null,
            "grid_auto_flow": null,
            "grid_auto_rows": null,
            "grid_column": null,
            "grid_gap": null,
            "grid_row": null,
            "grid_template_areas": null,
            "grid_template_columns": null,
            "grid_template_rows": null,
            "height": null,
            "justify_content": null,
            "justify_items": null,
            "left": null,
            "margin": null,
            "max_height": null,
            "max_width": null,
            "min_height": null,
            "min_width": null,
            "object_fit": null,
            "object_position": null,
            "order": null,
            "overflow": null,
            "overflow_x": null,
            "overflow_y": null,
            "padding": null,
            "right": null,
            "top": null,
            "visibility": null,
            "width": null
          }
        },
        "709b67f554024ec09fe1d99b096777ad": {
          "model_module": "@jupyter-widgets/controls",
          "model_name": "DescriptionStyleModel",
          "model_module_version": "1.5.0",
          "state": {
            "_model_module": "@jupyter-widgets/controls",
            "_model_module_version": "1.5.0",
            "_model_name": "DescriptionStyleModel",
            "_view_count": null,
            "_view_module": "@jupyter-widgets/base",
            "_view_module_version": "1.2.0",
            "_view_name": "StyleView",
            "description_width": ""
          }
        },
        "305501c646a24b719c3377fec44cd957": {
          "model_module": "@jupyter-widgets/controls",
          "model_name": "HBoxModel",
          "model_module_version": "1.5.0",
          "state": {
            "_dom_classes": [],
            "_model_module": "@jupyter-widgets/controls",
            "_model_module_version": "1.5.0",
            "_model_name": "HBoxModel",
            "_view_count": null,
            "_view_module": "@jupyter-widgets/controls",
            "_view_module_version": "1.5.0",
            "_view_name": "HBoxView",
            "box_style": "",
            "children": [
              "IPY_MODEL_a34af699cc214134a1b708bbfb870719",
              "IPY_MODEL_a976daba38e34af89f88b08837264c31",
              "IPY_MODEL_04c2fd1e5edd422286a10041a5f72725"
            ],
            "layout": "IPY_MODEL_6ff5af5521df42e3956f751e205a14b2"
          }
        },
        "a34af699cc214134a1b708bbfb870719": {
          "model_module": "@jupyter-widgets/controls",
          "model_name": "HTMLModel",
          "model_module_version": "1.5.0",
          "state": {
            "_dom_classes": [],
            "_model_module": "@jupyter-widgets/controls",
            "_model_module_version": "1.5.0",
            "_model_name": "HTMLModel",
            "_view_count": null,
            "_view_module": "@jupyter-widgets/controls",
            "_view_module_version": "1.5.0",
            "_view_name": "HTMLView",
            "description": "",
            "description_tooltip": null,
            "layout": "IPY_MODEL_ee74d8619eca4f4cb590e9693a81ae43",
            "placeholder": "​",
            "style": "IPY_MODEL_7f124aa0893d4ef5bb047c91a45c0b3e",
            "value": "Computing transition probabilities: 100%"
          }
        },
        "a976daba38e34af89f88b08837264c31": {
          "model_module": "@jupyter-widgets/controls",
          "model_name": "FloatProgressModel",
          "model_module_version": "1.5.0",
          "state": {
            "_dom_classes": [],
            "_model_module": "@jupyter-widgets/controls",
            "_model_module_version": "1.5.0",
            "_model_name": "FloatProgressModel",
            "_view_count": null,
            "_view_module": "@jupyter-widgets/controls",
            "_view_module_version": "1.5.0",
            "_view_name": "ProgressView",
            "bar_style": "success",
            "description": "",
            "description_tooltip": null,
            "layout": "IPY_MODEL_7434a311a049418681a4c4a5fbd2ffd5",
            "max": 1000,
            "min": 0,
            "orientation": "horizontal",
            "style": "IPY_MODEL_b108cf1f77864467b1aef26bc9b36496",
            "value": 1000
          }
        },
        "04c2fd1e5edd422286a10041a5f72725": {
          "model_module": "@jupyter-widgets/controls",
          "model_name": "HTMLModel",
          "model_module_version": "1.5.0",
          "state": {
            "_dom_classes": [],
            "_model_module": "@jupyter-widgets/controls",
            "_model_module_version": "1.5.0",
            "_model_name": "HTMLModel",
            "_view_count": null,
            "_view_module": "@jupyter-widgets/controls",
            "_view_module_version": "1.5.0",
            "_view_name": "HTMLView",
            "description": "",
            "description_tooltip": null,
            "layout": "IPY_MODEL_60e9d31f7ad04dd780e76bdf0cd15166",
            "placeholder": "​",
            "style": "IPY_MODEL_a938a4e533f344a99d099b68e85ee68d",
            "value": " 1000/1000 [00:00&lt;00:00, 1455.30it/s]"
          }
        },
        "6ff5af5521df42e3956f751e205a14b2": {
          "model_module": "@jupyter-widgets/base",
          "model_name": "LayoutModel",
          "model_module_version": "1.2.0",
          "state": {
            "_model_module": "@jupyter-widgets/base",
            "_model_module_version": "1.2.0",
            "_model_name": "LayoutModel",
            "_view_count": null,
            "_view_module": "@jupyter-widgets/base",
            "_view_module_version": "1.2.0",
            "_view_name": "LayoutView",
            "align_content": null,
            "align_items": null,
            "align_self": null,
            "border": null,
            "bottom": null,
            "display": null,
            "flex": null,
            "flex_flow": null,
            "grid_area": null,
            "grid_auto_columns": null,
            "grid_auto_flow": null,
            "grid_auto_rows": null,
            "grid_column": null,
            "grid_gap": null,
            "grid_row": null,
            "grid_template_areas": null,
            "grid_template_columns": null,
            "grid_template_rows": null,
            "height": null,
            "justify_content": null,
            "justify_items": null,
            "left": null,
            "margin": null,
            "max_height": null,
            "max_width": null,
            "min_height": null,
            "min_width": null,
            "object_fit": null,
            "object_position": null,
            "order": null,
            "overflow": null,
            "overflow_x": null,
            "overflow_y": null,
            "padding": null,
            "right": null,
            "top": null,
            "visibility": null,
            "width": null
          }
        },
        "ee74d8619eca4f4cb590e9693a81ae43": {
          "model_module": "@jupyter-widgets/base",
          "model_name": "LayoutModel",
          "model_module_version": "1.2.0",
          "state": {
            "_model_module": "@jupyter-widgets/base",
            "_model_module_version": "1.2.0",
            "_model_name": "LayoutModel",
            "_view_count": null,
            "_view_module": "@jupyter-widgets/base",
            "_view_module_version": "1.2.0",
            "_view_name": "LayoutView",
            "align_content": null,
            "align_items": null,
            "align_self": null,
            "border": null,
            "bottom": null,
            "display": null,
            "flex": null,
            "flex_flow": null,
            "grid_area": null,
            "grid_auto_columns": null,
            "grid_auto_flow": null,
            "grid_auto_rows": null,
            "grid_column": null,
            "grid_gap": null,
            "grid_row": null,
            "grid_template_areas": null,
            "grid_template_columns": null,
            "grid_template_rows": null,
            "height": null,
            "justify_content": null,
            "justify_items": null,
            "left": null,
            "margin": null,
            "max_height": null,
            "max_width": null,
            "min_height": null,
            "min_width": null,
            "object_fit": null,
            "object_position": null,
            "order": null,
            "overflow": null,
            "overflow_x": null,
            "overflow_y": null,
            "padding": null,
            "right": null,
            "top": null,
            "visibility": null,
            "width": null
          }
        },
        "7f124aa0893d4ef5bb047c91a45c0b3e": {
          "model_module": "@jupyter-widgets/controls",
          "model_name": "DescriptionStyleModel",
          "model_module_version": "1.5.0",
          "state": {
            "_model_module": "@jupyter-widgets/controls",
            "_model_module_version": "1.5.0",
            "_model_name": "DescriptionStyleModel",
            "_view_count": null,
            "_view_module": "@jupyter-widgets/base",
            "_view_module_version": "1.2.0",
            "_view_name": "StyleView",
            "description_width": ""
          }
        },
        "7434a311a049418681a4c4a5fbd2ffd5": {
          "model_module": "@jupyter-widgets/base",
          "model_name": "LayoutModel",
          "model_module_version": "1.2.0",
          "state": {
            "_model_module": "@jupyter-widgets/base",
            "_model_module_version": "1.2.0",
            "_model_name": "LayoutModel",
            "_view_count": null,
            "_view_module": "@jupyter-widgets/base",
            "_view_module_version": "1.2.0",
            "_view_name": "LayoutView",
            "align_content": null,
            "align_items": null,
            "align_self": null,
            "border": null,
            "bottom": null,
            "display": null,
            "flex": null,
            "flex_flow": null,
            "grid_area": null,
            "grid_auto_columns": null,
            "grid_auto_flow": null,
            "grid_auto_rows": null,
            "grid_column": null,
            "grid_gap": null,
            "grid_row": null,
            "grid_template_areas": null,
            "grid_template_columns": null,
            "grid_template_rows": null,
            "height": null,
            "justify_content": null,
            "justify_items": null,
            "left": null,
            "margin": null,
            "max_height": null,
            "max_width": null,
            "min_height": null,
            "min_width": null,
            "object_fit": null,
            "object_position": null,
            "order": null,
            "overflow": null,
            "overflow_x": null,
            "overflow_y": null,
            "padding": null,
            "right": null,
            "top": null,
            "visibility": null,
            "width": null
          }
        },
        "b108cf1f77864467b1aef26bc9b36496": {
          "model_module": "@jupyter-widgets/controls",
          "model_name": "ProgressStyleModel",
          "model_module_version": "1.5.0",
          "state": {
            "_model_module": "@jupyter-widgets/controls",
            "_model_module_version": "1.5.0",
            "_model_name": "ProgressStyleModel",
            "_view_count": null,
            "_view_module": "@jupyter-widgets/base",
            "_view_module_version": "1.2.0",
            "_view_name": "StyleView",
            "bar_color": null,
            "description_width": ""
          }
        },
        "60e9d31f7ad04dd780e76bdf0cd15166": {
          "model_module": "@jupyter-widgets/base",
          "model_name": "LayoutModel",
          "model_module_version": "1.2.0",
          "state": {
            "_model_module": "@jupyter-widgets/base",
            "_model_module_version": "1.2.0",
            "_model_name": "LayoutModel",
            "_view_count": null,
            "_view_module": "@jupyter-widgets/base",
            "_view_module_version": "1.2.0",
            "_view_name": "LayoutView",
            "align_content": null,
            "align_items": null,
            "align_self": null,
            "border": null,
            "bottom": null,
            "display": null,
            "flex": null,
            "flex_flow": null,
            "grid_area": null,
            "grid_auto_columns": null,
            "grid_auto_flow": null,
            "grid_auto_rows": null,
            "grid_column": null,
            "grid_gap": null,
            "grid_row": null,
            "grid_template_areas": null,
            "grid_template_columns": null,
            "grid_template_rows": null,
            "height": null,
            "justify_content": null,
            "justify_items": null,
            "left": null,
            "margin": null,
            "max_height": null,
            "max_width": null,
            "min_height": null,
            "min_width": null,
            "object_fit": null,
            "object_position": null,
            "order": null,
            "overflow": null,
            "overflow_x": null,
            "overflow_y": null,
            "padding": null,
            "right": null,
            "top": null,
            "visibility": null,
            "width": null
          }
        },
        "a938a4e533f344a99d099b68e85ee68d": {
          "model_module": "@jupyter-widgets/controls",
          "model_name": "DescriptionStyleModel",
          "model_module_version": "1.5.0",
          "state": {
            "_model_module": "@jupyter-widgets/controls",
            "_model_module_version": "1.5.0",
            "_model_name": "DescriptionStyleModel",
            "_view_count": null,
            "_view_module": "@jupyter-widgets/base",
            "_view_module_version": "1.2.0",
            "_view_name": "StyleView",
            "description_width": ""
          }
        },
        "7a2a7059e0464702853c0e288e9980a6": {
          "model_module": "@jupyter-widgets/controls",
          "model_name": "HBoxModel",
          "model_module_version": "1.5.0",
          "state": {
            "_dom_classes": [],
            "_model_module": "@jupyter-widgets/controls",
            "_model_module_version": "1.5.0",
            "_model_name": "HBoxModel",
            "_view_count": null,
            "_view_module": "@jupyter-widgets/controls",
            "_view_module_version": "1.5.0",
            "_view_name": "HBoxView",
            "box_style": "",
            "children": [
              "IPY_MODEL_cfadbfb1a268453ea2529b000bf8175d",
              "IPY_MODEL_b20de403e4a6423280d114831e1dc2b3",
              "IPY_MODEL_c222472fe3964106ae630524e1bbdd48"
            ],
            "layout": "IPY_MODEL_d552f42046114c19a3918050c1951018"
          }
        },
        "cfadbfb1a268453ea2529b000bf8175d": {
          "model_module": "@jupyter-widgets/controls",
          "model_name": "HTMLModel",
          "model_module_version": "1.5.0",
          "state": {
            "_dom_classes": [],
            "_model_module": "@jupyter-widgets/controls",
            "_model_module_version": "1.5.0",
            "_model_name": "HTMLModel",
            "_view_count": null,
            "_view_module": "@jupyter-widgets/controls",
            "_view_module_version": "1.5.0",
            "_view_name": "HTMLView",
            "description": "",
            "description_tooltip": null,
            "layout": "IPY_MODEL_4d2d2b495dad4dec94a2fd01127a23b5",
            "placeholder": "​",
            "style": "IPY_MODEL_c5e7d2e45ff243fda8d4f65b339dad64",
            "value": "Computing transition probabilities: 100%"
          }
        },
        "b20de403e4a6423280d114831e1dc2b3": {
          "model_module": "@jupyter-widgets/controls",
          "model_name": "FloatProgressModel",
          "model_module_version": "1.5.0",
          "state": {
            "_dom_classes": [],
            "_model_module": "@jupyter-widgets/controls",
            "_model_module_version": "1.5.0",
            "_model_name": "FloatProgressModel",
            "_view_count": null,
            "_view_module": "@jupyter-widgets/controls",
            "_view_module_version": "1.5.0",
            "_view_name": "ProgressView",
            "bar_style": "success",
            "description": "",
            "description_tooltip": null,
            "layout": "IPY_MODEL_0b06f16506d74bb7813bf3cf14b6e64e",
            "max": 300,
            "min": 0,
            "orientation": "horizontal",
            "style": "IPY_MODEL_a32fb295762d415bad858b3cf0bf3e3a",
            "value": 300
          }
        },
        "c222472fe3964106ae630524e1bbdd48": {
          "model_module": "@jupyter-widgets/controls",
          "model_name": "HTMLModel",
          "model_module_version": "1.5.0",
          "state": {
            "_dom_classes": [],
            "_model_module": "@jupyter-widgets/controls",
            "_model_module_version": "1.5.0",
            "_model_name": "HTMLModel",
            "_view_count": null,
            "_view_module": "@jupyter-widgets/controls",
            "_view_module_version": "1.5.0",
            "_view_name": "HTMLView",
            "description": "",
            "description_tooltip": null,
            "layout": "IPY_MODEL_92bed14c96de42a9804f994f9b36333d",
            "placeholder": "​",
            "style": "IPY_MODEL_3bc255cf91e347c890805e4d108e6485",
            "value": " 300/300 [00:00&lt;00:00, 1747.99it/s]"
          }
        },
        "d552f42046114c19a3918050c1951018": {
          "model_module": "@jupyter-widgets/base",
          "model_name": "LayoutModel",
          "model_module_version": "1.2.0",
          "state": {
            "_model_module": "@jupyter-widgets/base",
            "_model_module_version": "1.2.0",
            "_model_name": "LayoutModel",
            "_view_count": null,
            "_view_module": "@jupyter-widgets/base",
            "_view_module_version": "1.2.0",
            "_view_name": "LayoutView",
            "align_content": null,
            "align_items": null,
            "align_self": null,
            "border": null,
            "bottom": null,
            "display": null,
            "flex": null,
            "flex_flow": null,
            "grid_area": null,
            "grid_auto_columns": null,
            "grid_auto_flow": null,
            "grid_auto_rows": null,
            "grid_column": null,
            "grid_gap": null,
            "grid_row": null,
            "grid_template_areas": null,
            "grid_template_columns": null,
            "grid_template_rows": null,
            "height": null,
            "justify_content": null,
            "justify_items": null,
            "left": null,
            "margin": null,
            "max_height": null,
            "max_width": null,
            "min_height": null,
            "min_width": null,
            "object_fit": null,
            "object_position": null,
            "order": null,
            "overflow": null,
            "overflow_x": null,
            "overflow_y": null,
            "padding": null,
            "right": null,
            "top": null,
            "visibility": null,
            "width": null
          }
        },
        "4d2d2b495dad4dec94a2fd01127a23b5": {
          "model_module": "@jupyter-widgets/base",
          "model_name": "LayoutModel",
          "model_module_version": "1.2.0",
          "state": {
            "_model_module": "@jupyter-widgets/base",
            "_model_module_version": "1.2.0",
            "_model_name": "LayoutModel",
            "_view_count": null,
            "_view_module": "@jupyter-widgets/base",
            "_view_module_version": "1.2.0",
            "_view_name": "LayoutView",
            "align_content": null,
            "align_items": null,
            "align_self": null,
            "border": null,
            "bottom": null,
            "display": null,
            "flex": null,
            "flex_flow": null,
            "grid_area": null,
            "grid_auto_columns": null,
            "grid_auto_flow": null,
            "grid_auto_rows": null,
            "grid_column": null,
            "grid_gap": null,
            "grid_row": null,
            "grid_template_areas": null,
            "grid_template_columns": null,
            "grid_template_rows": null,
            "height": null,
            "justify_content": null,
            "justify_items": null,
            "left": null,
            "margin": null,
            "max_height": null,
            "max_width": null,
            "min_height": null,
            "min_width": null,
            "object_fit": null,
            "object_position": null,
            "order": null,
            "overflow": null,
            "overflow_x": null,
            "overflow_y": null,
            "padding": null,
            "right": null,
            "top": null,
            "visibility": null,
            "width": null
          }
        },
        "c5e7d2e45ff243fda8d4f65b339dad64": {
          "model_module": "@jupyter-widgets/controls",
          "model_name": "DescriptionStyleModel",
          "model_module_version": "1.5.0",
          "state": {
            "_model_module": "@jupyter-widgets/controls",
            "_model_module_version": "1.5.0",
            "_model_name": "DescriptionStyleModel",
            "_view_count": null,
            "_view_module": "@jupyter-widgets/base",
            "_view_module_version": "1.2.0",
            "_view_name": "StyleView",
            "description_width": ""
          }
        },
        "0b06f16506d74bb7813bf3cf14b6e64e": {
          "model_module": "@jupyter-widgets/base",
          "model_name": "LayoutModel",
          "model_module_version": "1.2.0",
          "state": {
            "_model_module": "@jupyter-widgets/base",
            "_model_module_version": "1.2.0",
            "_model_name": "LayoutModel",
            "_view_count": null,
            "_view_module": "@jupyter-widgets/base",
            "_view_module_version": "1.2.0",
            "_view_name": "LayoutView",
            "align_content": null,
            "align_items": null,
            "align_self": null,
            "border": null,
            "bottom": null,
            "display": null,
            "flex": null,
            "flex_flow": null,
            "grid_area": null,
            "grid_auto_columns": null,
            "grid_auto_flow": null,
            "grid_auto_rows": null,
            "grid_column": null,
            "grid_gap": null,
            "grid_row": null,
            "grid_template_areas": null,
            "grid_template_columns": null,
            "grid_template_rows": null,
            "height": null,
            "justify_content": null,
            "justify_items": null,
            "left": null,
            "margin": null,
            "max_height": null,
            "max_width": null,
            "min_height": null,
            "min_width": null,
            "object_fit": null,
            "object_position": null,
            "order": null,
            "overflow": null,
            "overflow_x": null,
            "overflow_y": null,
            "padding": null,
            "right": null,
            "top": null,
            "visibility": null,
            "width": null
          }
        },
        "a32fb295762d415bad858b3cf0bf3e3a": {
          "model_module": "@jupyter-widgets/controls",
          "model_name": "ProgressStyleModel",
          "model_module_version": "1.5.0",
          "state": {
            "_model_module": "@jupyter-widgets/controls",
            "_model_module_version": "1.5.0",
            "_model_name": "ProgressStyleModel",
            "_view_count": null,
            "_view_module": "@jupyter-widgets/base",
            "_view_module_version": "1.2.0",
            "_view_name": "StyleView",
            "bar_color": null,
            "description_width": ""
          }
        },
        "92bed14c96de42a9804f994f9b36333d": {
          "model_module": "@jupyter-widgets/base",
          "model_name": "LayoutModel",
          "model_module_version": "1.2.0",
          "state": {
            "_model_module": "@jupyter-widgets/base",
            "_model_module_version": "1.2.0",
            "_model_name": "LayoutModel",
            "_view_count": null,
            "_view_module": "@jupyter-widgets/base",
            "_view_module_version": "1.2.0",
            "_view_name": "LayoutView",
            "align_content": null,
            "align_items": null,
            "align_self": null,
            "border": null,
            "bottom": null,
            "display": null,
            "flex": null,
            "flex_flow": null,
            "grid_area": null,
            "grid_auto_columns": null,
            "grid_auto_flow": null,
            "grid_auto_rows": null,
            "grid_column": null,
            "grid_gap": null,
            "grid_row": null,
            "grid_template_areas": null,
            "grid_template_columns": null,
            "grid_template_rows": null,
            "height": null,
            "justify_content": null,
            "justify_items": null,
            "left": null,
            "margin": null,
            "max_height": null,
            "max_width": null,
            "min_height": null,
            "min_width": null,
            "object_fit": null,
            "object_position": null,
            "order": null,
            "overflow": null,
            "overflow_x": null,
            "overflow_y": null,
            "padding": null,
            "right": null,
            "top": null,
            "visibility": null,
            "width": null
          }
        },
        "3bc255cf91e347c890805e4d108e6485": {
          "model_module": "@jupyter-widgets/controls",
          "model_name": "DescriptionStyleModel",
          "model_module_version": "1.5.0",
          "state": {
            "_model_module": "@jupyter-widgets/controls",
            "_model_module_version": "1.5.0",
            "_model_name": "DescriptionStyleModel",
            "_view_count": null,
            "_view_module": "@jupyter-widgets/base",
            "_view_module_version": "1.2.0",
            "_view_name": "StyleView",
            "description_width": ""
          }
        },
        "fc149f3a30e84623b24411166ae9e7c5": {
          "model_module": "@jupyter-widgets/controls",
          "model_name": "HBoxModel",
          "model_module_version": "1.5.0",
          "state": {
            "_dom_classes": [],
            "_model_module": "@jupyter-widgets/controls",
            "_model_module_version": "1.5.0",
            "_model_name": "HBoxModel",
            "_view_count": null,
            "_view_module": "@jupyter-widgets/controls",
            "_view_module_version": "1.5.0",
            "_view_name": "HBoxView",
            "box_style": "",
            "children": [
              "IPY_MODEL_8a24378071a1416ebf7707cf17683c8d",
              "IPY_MODEL_74db66ce93444d5bb59db2c2f2c11aaf",
              "IPY_MODEL_245d774595ac42f18e6185d92e25a148"
            ],
            "layout": "IPY_MODEL_1e95f16e893346db8c26abca4bad1f2e"
          }
        },
        "8a24378071a1416ebf7707cf17683c8d": {
          "model_module": "@jupyter-widgets/controls",
          "model_name": "HTMLModel",
          "model_module_version": "1.5.0",
          "state": {
            "_dom_classes": [],
            "_model_module": "@jupyter-widgets/controls",
            "_model_module_version": "1.5.0",
            "_model_name": "HTMLModel",
            "_view_count": null,
            "_view_module": "@jupyter-widgets/controls",
            "_view_module_version": "1.5.0",
            "_view_name": "HTMLView",
            "description": "",
            "description_tooltip": null,
            "layout": "IPY_MODEL_03f118872bea4d979412513ea9d85802",
            "placeholder": "​",
            "style": "IPY_MODEL_929a7d61e47347a88b94a7c744355131",
            "value": "Computing transition probabilities: 100%"
          }
        },
        "74db66ce93444d5bb59db2c2f2c11aaf": {
          "model_module": "@jupyter-widgets/controls",
          "model_name": "FloatProgressModel",
          "model_module_version": "1.5.0",
          "state": {
            "_dom_classes": [],
            "_model_module": "@jupyter-widgets/controls",
            "_model_module_version": "1.5.0",
            "_model_name": "FloatProgressModel",
            "_view_count": null,
            "_view_module": "@jupyter-widgets/controls",
            "_view_module_version": "1.5.0",
            "_view_name": "ProgressView",
            "bar_style": "success",
            "description": "",
            "description_tooltip": null,
            "layout": "IPY_MODEL_3079aef763744513b9af0fa8caa99bc0",
            "max": 300,
            "min": 0,
            "orientation": "horizontal",
            "style": "IPY_MODEL_512fbb7e86cb4065a43d416e6f262ef9",
            "value": 300
          }
        },
        "245d774595ac42f18e6185d92e25a148": {
          "model_module": "@jupyter-widgets/controls",
          "model_name": "HTMLModel",
          "model_module_version": "1.5.0",
          "state": {
            "_dom_classes": [],
            "_model_module": "@jupyter-widgets/controls",
            "_model_module_version": "1.5.0",
            "_model_name": "HTMLModel",
            "_view_count": null,
            "_view_module": "@jupyter-widgets/controls",
            "_view_module_version": "1.5.0",
            "_view_name": "HTMLView",
            "description": "",
            "description_tooltip": null,
            "layout": "IPY_MODEL_5d0a5334fed84ad18c446ab988db0f46",
            "placeholder": "​",
            "style": "IPY_MODEL_d573abb58ab44d4991ad8b54d36bbcfc",
            "value": " 300/300 [00:00&lt;00:00, 1395.22it/s]"
          }
        },
        "1e95f16e893346db8c26abca4bad1f2e": {
          "model_module": "@jupyter-widgets/base",
          "model_name": "LayoutModel",
          "model_module_version": "1.2.0",
          "state": {
            "_model_module": "@jupyter-widgets/base",
            "_model_module_version": "1.2.0",
            "_model_name": "LayoutModel",
            "_view_count": null,
            "_view_module": "@jupyter-widgets/base",
            "_view_module_version": "1.2.0",
            "_view_name": "LayoutView",
            "align_content": null,
            "align_items": null,
            "align_self": null,
            "border": null,
            "bottom": null,
            "display": null,
            "flex": null,
            "flex_flow": null,
            "grid_area": null,
            "grid_auto_columns": null,
            "grid_auto_flow": null,
            "grid_auto_rows": null,
            "grid_column": null,
            "grid_gap": null,
            "grid_row": null,
            "grid_template_areas": null,
            "grid_template_columns": null,
            "grid_template_rows": null,
            "height": null,
            "justify_content": null,
            "justify_items": null,
            "left": null,
            "margin": null,
            "max_height": null,
            "max_width": null,
            "min_height": null,
            "min_width": null,
            "object_fit": null,
            "object_position": null,
            "order": null,
            "overflow": null,
            "overflow_x": null,
            "overflow_y": null,
            "padding": null,
            "right": null,
            "top": null,
            "visibility": null,
            "width": null
          }
        },
        "03f118872bea4d979412513ea9d85802": {
          "model_module": "@jupyter-widgets/base",
          "model_name": "LayoutModel",
          "model_module_version": "1.2.0",
          "state": {
            "_model_module": "@jupyter-widgets/base",
            "_model_module_version": "1.2.0",
            "_model_name": "LayoutModel",
            "_view_count": null,
            "_view_module": "@jupyter-widgets/base",
            "_view_module_version": "1.2.0",
            "_view_name": "LayoutView",
            "align_content": null,
            "align_items": null,
            "align_self": null,
            "border": null,
            "bottom": null,
            "display": null,
            "flex": null,
            "flex_flow": null,
            "grid_area": null,
            "grid_auto_columns": null,
            "grid_auto_flow": null,
            "grid_auto_rows": null,
            "grid_column": null,
            "grid_gap": null,
            "grid_row": null,
            "grid_template_areas": null,
            "grid_template_columns": null,
            "grid_template_rows": null,
            "height": null,
            "justify_content": null,
            "justify_items": null,
            "left": null,
            "margin": null,
            "max_height": null,
            "max_width": null,
            "min_height": null,
            "min_width": null,
            "object_fit": null,
            "object_position": null,
            "order": null,
            "overflow": null,
            "overflow_x": null,
            "overflow_y": null,
            "padding": null,
            "right": null,
            "top": null,
            "visibility": null,
            "width": null
          }
        },
        "929a7d61e47347a88b94a7c744355131": {
          "model_module": "@jupyter-widgets/controls",
          "model_name": "DescriptionStyleModel",
          "model_module_version": "1.5.0",
          "state": {
            "_model_module": "@jupyter-widgets/controls",
            "_model_module_version": "1.5.0",
            "_model_name": "DescriptionStyleModel",
            "_view_count": null,
            "_view_module": "@jupyter-widgets/base",
            "_view_module_version": "1.2.0",
            "_view_name": "StyleView",
            "description_width": ""
          }
        },
        "3079aef763744513b9af0fa8caa99bc0": {
          "model_module": "@jupyter-widgets/base",
          "model_name": "LayoutModel",
          "model_module_version": "1.2.0",
          "state": {
            "_model_module": "@jupyter-widgets/base",
            "_model_module_version": "1.2.0",
            "_model_name": "LayoutModel",
            "_view_count": null,
            "_view_module": "@jupyter-widgets/base",
            "_view_module_version": "1.2.0",
            "_view_name": "LayoutView",
            "align_content": null,
            "align_items": null,
            "align_self": null,
            "border": null,
            "bottom": null,
            "display": null,
            "flex": null,
            "flex_flow": null,
            "grid_area": null,
            "grid_auto_columns": null,
            "grid_auto_flow": null,
            "grid_auto_rows": null,
            "grid_column": null,
            "grid_gap": null,
            "grid_row": null,
            "grid_template_areas": null,
            "grid_template_columns": null,
            "grid_template_rows": null,
            "height": null,
            "justify_content": null,
            "justify_items": null,
            "left": null,
            "margin": null,
            "max_height": null,
            "max_width": null,
            "min_height": null,
            "min_width": null,
            "object_fit": null,
            "object_position": null,
            "order": null,
            "overflow": null,
            "overflow_x": null,
            "overflow_y": null,
            "padding": null,
            "right": null,
            "top": null,
            "visibility": null,
            "width": null
          }
        },
        "512fbb7e86cb4065a43d416e6f262ef9": {
          "model_module": "@jupyter-widgets/controls",
          "model_name": "ProgressStyleModel",
          "model_module_version": "1.5.0",
          "state": {
            "_model_module": "@jupyter-widgets/controls",
            "_model_module_version": "1.5.0",
            "_model_name": "ProgressStyleModel",
            "_view_count": null,
            "_view_module": "@jupyter-widgets/base",
            "_view_module_version": "1.2.0",
            "_view_name": "StyleView",
            "bar_color": null,
            "description_width": ""
          }
        },
        "5d0a5334fed84ad18c446ab988db0f46": {
          "model_module": "@jupyter-widgets/base",
          "model_name": "LayoutModel",
          "model_module_version": "1.2.0",
          "state": {
            "_model_module": "@jupyter-widgets/base",
            "_model_module_version": "1.2.0",
            "_model_name": "LayoutModel",
            "_view_count": null,
            "_view_module": "@jupyter-widgets/base",
            "_view_module_version": "1.2.0",
            "_view_name": "LayoutView",
            "align_content": null,
            "align_items": null,
            "align_self": null,
            "border": null,
            "bottom": null,
            "display": null,
            "flex": null,
            "flex_flow": null,
            "grid_area": null,
            "grid_auto_columns": null,
            "grid_auto_flow": null,
            "grid_auto_rows": null,
            "grid_column": null,
            "grid_gap": null,
            "grid_row": null,
            "grid_template_areas": null,
            "grid_template_columns": null,
            "grid_template_rows": null,
            "height": null,
            "justify_content": null,
            "justify_items": null,
            "left": null,
            "margin": null,
            "max_height": null,
            "max_width": null,
            "min_height": null,
            "min_width": null,
            "object_fit": null,
            "object_position": null,
            "order": null,
            "overflow": null,
            "overflow_x": null,
            "overflow_y": null,
            "padding": null,
            "right": null,
            "top": null,
            "visibility": null,
            "width": null
          }
        },
        "d573abb58ab44d4991ad8b54d36bbcfc": {
          "model_module": "@jupyter-widgets/controls",
          "model_name": "DescriptionStyleModel",
          "model_module_version": "1.5.0",
          "state": {
            "_model_module": "@jupyter-widgets/controls",
            "_model_module_version": "1.5.0",
            "_model_name": "DescriptionStyleModel",
            "_view_count": null,
            "_view_module": "@jupyter-widgets/base",
            "_view_module_version": "1.2.0",
            "_view_name": "StyleView",
            "description_width": ""
          }
        },
        "3284b83d4f8942578f36b6e4e536ea45": {
          "model_module": "@jupyter-widgets/controls",
          "model_name": "HBoxModel",
          "model_module_version": "1.5.0",
          "state": {
            "_dom_classes": [],
            "_model_module": "@jupyter-widgets/controls",
            "_model_module_version": "1.5.0",
            "_model_name": "HBoxModel",
            "_view_count": null,
            "_view_module": "@jupyter-widgets/controls",
            "_view_module_version": "1.5.0",
            "_view_name": "HBoxView",
            "box_style": "",
            "children": [
              "IPY_MODEL_6d45fbe5e0a94fc19affa8de99fc2527",
              "IPY_MODEL_863f0f19dc234834b751e3b8f064f9bc",
              "IPY_MODEL_56703b0e1bea4a19a8a9169dec7af23f"
            ],
            "layout": "IPY_MODEL_46768e55949b42969713bffc03e14f78"
          }
        },
        "6d45fbe5e0a94fc19affa8de99fc2527": {
          "model_module": "@jupyter-widgets/controls",
          "model_name": "HTMLModel",
          "model_module_version": "1.5.0",
          "state": {
            "_dom_classes": [],
            "_model_module": "@jupyter-widgets/controls",
            "_model_module_version": "1.5.0",
            "_model_name": "HTMLModel",
            "_view_count": null,
            "_view_module": "@jupyter-widgets/controls",
            "_view_module_version": "1.5.0",
            "_view_name": "HTMLView",
            "description": "",
            "description_tooltip": null,
            "layout": "IPY_MODEL_f4691ade3c214ba0adaa1b265095dedd",
            "placeholder": "​",
            "style": "IPY_MODEL_8c62c41a08274fde92d8cd7802f9ea36",
            "value": "Computing transition probabilities: 100%"
          }
        },
        "863f0f19dc234834b751e3b8f064f9bc": {
          "model_module": "@jupyter-widgets/controls",
          "model_name": "FloatProgressModel",
          "model_module_version": "1.5.0",
          "state": {
            "_dom_classes": [],
            "_model_module": "@jupyter-widgets/controls",
            "_model_module_version": "1.5.0",
            "_model_name": "FloatProgressModel",
            "_view_count": null,
            "_view_module": "@jupyter-widgets/controls",
            "_view_module_version": "1.5.0",
            "_view_name": "ProgressView",
            "bar_style": "success",
            "description": "",
            "description_tooltip": null,
            "layout": "IPY_MODEL_6c6591bb7b9d44f59ef98f30688fab64",
            "max": 300,
            "min": 0,
            "orientation": "horizontal",
            "style": "IPY_MODEL_bbb414bbe02347df91cfbcf2383b5c1a",
            "value": 300
          }
        },
        "56703b0e1bea4a19a8a9169dec7af23f": {
          "model_module": "@jupyter-widgets/controls",
          "model_name": "HTMLModel",
          "model_module_version": "1.5.0",
          "state": {
            "_dom_classes": [],
            "_model_module": "@jupyter-widgets/controls",
            "_model_module_version": "1.5.0",
            "_model_name": "HTMLModel",
            "_view_count": null,
            "_view_module": "@jupyter-widgets/controls",
            "_view_module_version": "1.5.0",
            "_view_name": "HTMLView",
            "description": "",
            "description_tooltip": null,
            "layout": "IPY_MODEL_18afd767ea794ebfbac111d299d9d557",
            "placeholder": "​",
            "style": "IPY_MODEL_34b0993320da479d88cdf0073aea365b",
            "value": " 300/300 [00:00&lt;00:00, 1039.83it/s]"
          }
        },
        "46768e55949b42969713bffc03e14f78": {
          "model_module": "@jupyter-widgets/base",
          "model_name": "LayoutModel",
          "model_module_version": "1.2.0",
          "state": {
            "_model_module": "@jupyter-widgets/base",
            "_model_module_version": "1.2.0",
            "_model_name": "LayoutModel",
            "_view_count": null,
            "_view_module": "@jupyter-widgets/base",
            "_view_module_version": "1.2.0",
            "_view_name": "LayoutView",
            "align_content": null,
            "align_items": null,
            "align_self": null,
            "border": null,
            "bottom": null,
            "display": null,
            "flex": null,
            "flex_flow": null,
            "grid_area": null,
            "grid_auto_columns": null,
            "grid_auto_flow": null,
            "grid_auto_rows": null,
            "grid_column": null,
            "grid_gap": null,
            "grid_row": null,
            "grid_template_areas": null,
            "grid_template_columns": null,
            "grid_template_rows": null,
            "height": null,
            "justify_content": null,
            "justify_items": null,
            "left": null,
            "margin": null,
            "max_height": null,
            "max_width": null,
            "min_height": null,
            "min_width": null,
            "object_fit": null,
            "object_position": null,
            "order": null,
            "overflow": null,
            "overflow_x": null,
            "overflow_y": null,
            "padding": null,
            "right": null,
            "top": null,
            "visibility": null,
            "width": null
          }
        },
        "f4691ade3c214ba0adaa1b265095dedd": {
          "model_module": "@jupyter-widgets/base",
          "model_name": "LayoutModel",
          "model_module_version": "1.2.0",
          "state": {
            "_model_module": "@jupyter-widgets/base",
            "_model_module_version": "1.2.0",
            "_model_name": "LayoutModel",
            "_view_count": null,
            "_view_module": "@jupyter-widgets/base",
            "_view_module_version": "1.2.0",
            "_view_name": "LayoutView",
            "align_content": null,
            "align_items": null,
            "align_self": null,
            "border": null,
            "bottom": null,
            "display": null,
            "flex": null,
            "flex_flow": null,
            "grid_area": null,
            "grid_auto_columns": null,
            "grid_auto_flow": null,
            "grid_auto_rows": null,
            "grid_column": null,
            "grid_gap": null,
            "grid_row": null,
            "grid_template_areas": null,
            "grid_template_columns": null,
            "grid_template_rows": null,
            "height": null,
            "justify_content": null,
            "justify_items": null,
            "left": null,
            "margin": null,
            "max_height": null,
            "max_width": null,
            "min_height": null,
            "min_width": null,
            "object_fit": null,
            "object_position": null,
            "order": null,
            "overflow": null,
            "overflow_x": null,
            "overflow_y": null,
            "padding": null,
            "right": null,
            "top": null,
            "visibility": null,
            "width": null
          }
        },
        "8c62c41a08274fde92d8cd7802f9ea36": {
          "model_module": "@jupyter-widgets/controls",
          "model_name": "DescriptionStyleModel",
          "model_module_version": "1.5.0",
          "state": {
            "_model_module": "@jupyter-widgets/controls",
            "_model_module_version": "1.5.0",
            "_model_name": "DescriptionStyleModel",
            "_view_count": null,
            "_view_module": "@jupyter-widgets/base",
            "_view_module_version": "1.2.0",
            "_view_name": "StyleView",
            "description_width": ""
          }
        },
        "6c6591bb7b9d44f59ef98f30688fab64": {
          "model_module": "@jupyter-widgets/base",
          "model_name": "LayoutModel",
          "model_module_version": "1.2.0",
          "state": {
            "_model_module": "@jupyter-widgets/base",
            "_model_module_version": "1.2.0",
            "_model_name": "LayoutModel",
            "_view_count": null,
            "_view_module": "@jupyter-widgets/base",
            "_view_module_version": "1.2.0",
            "_view_name": "LayoutView",
            "align_content": null,
            "align_items": null,
            "align_self": null,
            "border": null,
            "bottom": null,
            "display": null,
            "flex": null,
            "flex_flow": null,
            "grid_area": null,
            "grid_auto_columns": null,
            "grid_auto_flow": null,
            "grid_auto_rows": null,
            "grid_column": null,
            "grid_gap": null,
            "grid_row": null,
            "grid_template_areas": null,
            "grid_template_columns": null,
            "grid_template_rows": null,
            "height": null,
            "justify_content": null,
            "justify_items": null,
            "left": null,
            "margin": null,
            "max_height": null,
            "max_width": null,
            "min_height": null,
            "min_width": null,
            "object_fit": null,
            "object_position": null,
            "order": null,
            "overflow": null,
            "overflow_x": null,
            "overflow_y": null,
            "padding": null,
            "right": null,
            "top": null,
            "visibility": null,
            "width": null
          }
        },
        "bbb414bbe02347df91cfbcf2383b5c1a": {
          "model_module": "@jupyter-widgets/controls",
          "model_name": "ProgressStyleModel",
          "model_module_version": "1.5.0",
          "state": {
            "_model_module": "@jupyter-widgets/controls",
            "_model_module_version": "1.5.0",
            "_model_name": "ProgressStyleModel",
            "_view_count": null,
            "_view_module": "@jupyter-widgets/base",
            "_view_module_version": "1.2.0",
            "_view_name": "StyleView",
            "bar_color": null,
            "description_width": ""
          }
        },
        "18afd767ea794ebfbac111d299d9d557": {
          "model_module": "@jupyter-widgets/base",
          "model_name": "LayoutModel",
          "model_module_version": "1.2.0",
          "state": {
            "_model_module": "@jupyter-widgets/base",
            "_model_module_version": "1.2.0",
            "_model_name": "LayoutModel",
            "_view_count": null,
            "_view_module": "@jupyter-widgets/base",
            "_view_module_version": "1.2.0",
            "_view_name": "LayoutView",
            "align_content": null,
            "align_items": null,
            "align_self": null,
            "border": null,
            "bottom": null,
            "display": null,
            "flex": null,
            "flex_flow": null,
            "grid_area": null,
            "grid_auto_columns": null,
            "grid_auto_flow": null,
            "grid_auto_rows": null,
            "grid_column": null,
            "grid_gap": null,
            "grid_row": null,
            "grid_template_areas": null,
            "grid_template_columns": null,
            "grid_template_rows": null,
            "height": null,
            "justify_content": null,
            "justify_items": null,
            "left": null,
            "margin": null,
            "max_height": null,
            "max_width": null,
            "min_height": null,
            "min_width": null,
            "object_fit": null,
            "object_position": null,
            "order": null,
            "overflow": null,
            "overflow_x": null,
            "overflow_y": null,
            "padding": null,
            "right": null,
            "top": null,
            "visibility": null,
            "width": null
          }
        },
        "34b0993320da479d88cdf0073aea365b": {
          "model_module": "@jupyter-widgets/controls",
          "model_name": "DescriptionStyleModel",
          "model_module_version": "1.5.0",
          "state": {
            "_model_module": "@jupyter-widgets/controls",
            "_model_module_version": "1.5.0",
            "_model_name": "DescriptionStyleModel",
            "_view_count": null,
            "_view_module": "@jupyter-widgets/base",
            "_view_module_version": "1.2.0",
            "_view_name": "StyleView",
            "description_width": ""
          }
        }
      }
    }
  },
  "cells": [
    {
      "cell_type": "markdown",
      "metadata": {
        "id": "view-in-github",
        "colab_type": "text"
      },
      "source": [
        "<a href=\"https://colab.research.google.com/github/ryandale7/ML-on-Graphs/blob/main/8_Graph_Representations_and_Embeddings.ipynb\" target=\"_parent\"><img src=\"https://colab.research.google.com/assets/colab-badge.svg\" alt=\"Open In Colab\"/></a>"
      ]
    },
    {
      "cell_type": "markdown",
      "source": [
        "# Tutorial: Arxiv HEP-TH Citation Network Data Handling\n",
        "\n",
        "This tutorial demonstrates two approaches to accessing the Arxiv HEP-TH citation network dataset:\n",
        "1. **Automated Download and Extraction**\n",
        "2. **Manual Upload Instructions**\n",
        "\n",
        "The dataset represents a citation graph for 27,770 papers (with 352,807 directed edges) from the high energy physics theory section on arXiv, covering January 1993 to April 2003. It was originally released as part of the 2003 KDD Cup.\n",
        "\n",
        "---\n",
        "## 1. Automated Download and Extraction\n",
        "\n",
        "In this approach we will:\n",
        "- **Mount Google Drive.**\n",
        "- **Create or navigate to a Data subfolder under Colab Notebooks.**\n",
        "- **Download the compressed file using `curl`.**\n",
        "- **Extract the `.gz` file using `gunzip`.**\n",
        "- **Verify and load the dataset.**\n"
      ],
      "metadata": {
        "id": "GyZfkiLodsAV"
      }
    },
    {
      "cell_type": "code",
      "execution_count": null,
      "metadata": {
        "colab": {
          "base_uri": "https://localhost:8080/"
        },
        "id": "UxTap3wIG7cs",
        "outputId": "15310b61-6fc0-486d-9d9e-fc513fa84c95"
      },
      "outputs": [
        {
          "output_type": "stream",
          "name": "stdout",
          "text": [
            "Mounted at /content/drive\n",
            "/content/drive/MyDrive/Colab Notebooks/Data\n",
            "  % Total    % Received % Xferd  Average Speed   Time    Time     Time  Current\n",
            "                                 Dload  Upload   Total   Spent    Left  Speed\n",
            "100 1286k  100 1286k    0     0   684k      0  0:00:01  0:00:01 --:--:--  684k\n",
            "total 197M\n",
            "-rw------- 1 root root 6.4M Jan 10 19:22 cit-HepPh.txt\n",
            "-rw------- 1 root root 5.4M Feb  7 08:12 cit-HepTh.txt\n",
            "-rw------- 1 root root 1.1M Jan 16 12:52 CollegeMsg.txt\n",
            "-rw------- 1 root root  13M Jan 10 18:46 com-amazon.ungraph.txt\n",
            "-rw------- 1 root root 1.1M Jan 16 18:57 com-lj.top5000.cmty.txt\n",
            "-rw------- 1 root root 7.5M Jan 10 19:22 com-orkut.top5000.cmty.txt\n",
            "drwx------ 2 root root 4.0K Jan  6 14:56 congress_network\n",
            "-rw------- 1 root root 190K Jan 16 10:36 congress_network.zip\n",
            "drwx------ 2 root root 4.0K Jan 10 19:12 deezer_ego_nets\n",
            "-rw------- 1 root root 189K Jan 16 10:47 email-Eu-core.txt\n",
            "drwx------ 2 root root 4.0K Jan 10 19:22 facebook_large\n",
            "drwx------ 2 root root 4.0K Jan 10 18:45 git_web_ml\n",
            "drwx------ 2 root root 4.0K Jan 10 19:22 lasftm_asia\n",
            "-rw------- 1 root root 4.4M Jan 23 09:46 loc-brightkite_edges.txt\n",
            "-rw------- 1 root root  57M Jan 10 19:02 roadNet-TX.txt\n",
            "-rw------- 1 root root 5.5M Jan 23 10:18 soc-Epinions1.txt\n",
            "-rw------- 1 root root 988K Jan 16 10:49 soc-sign-bitcoinotc.csv\n",
            "-rw------- 1 root root  11M Jan 10 19:22 soc-Slashdot0811.txt\n",
            "-rw------- 1 root root  22M Jan 10 19:11 sx-askubuntu.txt\n",
            "-rw------- 1 root root  33M Jan 10 19:11 sx-superuser.txt\n",
            "-rw------- 1 root root  32M Jan 10 19:01 web-Stanford.txt\n",
            "# Directed graph (each unordered pair of nodes is saved once): Cit-HepTh.txt\n",
            "# Paper citation network of Arxiv High Energy Physics Theory category\n",
            "# Nodes: 27770 Edges: 352807\n",
            "# FromNodeId\tToNodeId\n",
            "1001\t9304045\n",
            "1001\t9308122\n",
            "1001\t9309097\n",
            "1001\t9311042\n",
            "1001\t9401139\n",
            "1001\t9404151\n"
          ]
        }
      ],
      "source": [
        "from google.colab import drive\n",
        "drive.mount('/content/drive')\n",
        "\n",
        "# Create a Data directory under Colab Notebooks and navigate to it\n",
        "!mkdir -p \"/content/drive/MyDrive/Colab Notebooks/Data\"\n",
        "%cd \"/content/drive/MyDrive/Colab Notebooks/Data\"\n",
        "\n",
        "# Download the compressed dataset using curl\n",
        "!curl -O https://snap.stanford.edu/data/cit-HepTh.txt.gz\n",
        "\n",
        "# Extract the .gz file using gunzip\n",
        "!gunzip cit-HepTh.txt.gz\n",
        "\n",
        "# Verify that the file has been extracted\n",
        "!ls -lh\n",
        "\n",
        "# Load and verify the dataset by printing the first 10 lines\n",
        "with open('cit-HepTh.txt', 'r') as f:\n",
        "    for i in range(10):\n",
        "        print(f.readline().strip())\n"
      ]
    },
    {
      "cell_type": "markdown",
      "source": [
        "## 2. Manual Upload Instructions\n",
        "\n",
        "If the automated method is not feasible, follow these manual steps:\n",
        "\n",
        "1. **Download the file** `cit-HepTh.txt.gz` from [this link](https://snap.stanford.edu/data/cit-HepTh.txt.gz) to your local machine.\n",
        "2. **Extract the file locally** (e.g., right-click and unzip, or run `gunzip` on macOS/Linux) to obtain `cit-HepTh.txt`.\n",
        "3. **Upload the extracted file** into the `Data` subfolder under `Colab Notebooks` in your Google Drive.\n",
        "4. **Open or create a Colab notebook.**\n",
        "5. **Mount your Google Drive and navigate to the `Data` directory.**\n",
        "\n",
        "Below is the code to mount Google Drive and change the working directory:\n"
      ],
      "metadata": {
        "id": "FsR6HfYqeEta"
      }
    },
    {
      "cell_type": "code",
      "source": [
        "from google.colab import drive\n",
        "drive.mount('/content/drive')\n",
        "\n",
        "# Change directory to the Data folder under Colab Notebooks\n",
        "%cd \"/content/drive/MyDrive/Colab Notebooks/Data\"\n",
        "\n",
        "# Load and verify the manually uploaded dataset by printing the first 10 lines\n",
        "with open('cit-HepTh.txt', 'r') as f:\n",
        "    for i in range(10):\n",
        "        print(f.readline().strip())\n"
      ],
      "metadata": {
        "id": "AMdgmdi5eGmI"
      },
      "execution_count": null,
      "outputs": []
    },
    {
      "cell_type": "markdown",
      "source": [
        "## Dataset Information\n",
        "\n",
        "**High-energy Physics Theory Citation Network**\n",
        "\n",
        "- **Description:**  \n",
        "  The dataset represents the citation network among 27,770 papers in the arXiv HEP-TH category, featuring 352,807 directed edges. If paper *i* cites paper *j*, the graph contains a directed edge from *i* to *j*. Citations involving papers outside the dataset are not included. The data spans from January 1993 to April 2003 and was originally released as part of the 2003 KDD Cup.\n",
        "\n",
        "- **Dataset Statistics:**\n",
        "  - **Nodes:** 27,770\n",
        "  - **Edges:** 352,807\n",
        "  - **Nodes in largest WCC:** 27,400 (0.987)\n",
        "  - **Edges in largest WCC:** 352,542 (0.999)\n",
        "  - **Nodes in largest SCC:** 7,464 (0.269)\n",
        "  - **Edges in largest SCC:** 116,268 (0.330)\n",
        "  - **Average clustering coefficient:** 0.3120\n",
        "  - **Number of triangles:** 1,478,735\n",
        "  - **Fraction of closed triangles:** 0.04331\n",
        "  - **Diameter (longest shortest path):** 13\n",
        "  - **90-percentile effective diameter:** 5.3\n",
        "\n",
        "- **Citation Sources:**\n",
        "  - *J. Leskovec, J. Kleinberg and C. Faloutsos. Graphs over Time: Densification Laws, Shrinking Diameters and Possible Explanations. ACM SIGKDD International Conference on Knowledge Discovery and Data Mining (KDD), 2005.*\n",
        "  - *J. Gehrke, P. Ginsparg, J. M. Kleinberg. Overview of the 2003 KDD Cup. SIGKDD Explorations 5(2): 149-151, 2003.*\n",
        "\n",
        "- **File Details:**\n",
        "  - **File:** `cit-HepTh.txt.gz`  \n",
        "    **Description:** Compressed file containing the paper citation network.  \n",
        "    **Download link:** [cit-HepTh.txt.gz](https://snap.stanford.edu/data/cit-HepTh.txt.gz)\n",
        "\n",
        "**Example Entry:**\n",
        "\n",
        "_Paper: hep-th/0002031_  \n",
        "_From: Maulik K. Parikh_  \n",
        "_Date: Fri, 4 Feb 2000 17:04:51 GMT (10kb)_  \n",
        "_Title: Confinement and the AdS/CFT Correspondence_  \n",
        "_Authors: D. S. Berman and Maulik K. Parikh_  \n",
        "_Comments: 12 pages, 1 figure, RevTeX_  \n",
        "_Report-no: SPIN-1999/25, UG-1999/42_  \n",
        "_Journal-ref: Phys.Lett. B483 (2000) 271-276_  \n",
        "\n",
        "_We study the thermodynamics of the confined and unconfined phases of superconformal Yang-Mills in finite volume and at large N using the AdS/CFT correspondence. We discuss the necessary conditions for a smooth phase crossover and obtain an N-dependent curve for the phase boundary._\n"
      ],
      "metadata": {
        "id": "XlZ_A5WBeKlG"
      }
    },
    {
      "cell_type": "code",
      "source": [
        "# Running black\n",
        "\n",
        "from google.colab import drive\n",
        "\n",
        "\n",
        "# Install nbqa and black (required each new session)\n",
        "!pip install nbqa black\n",
        "\n",
        "# Run nbqa black on all notebooks in the current directory\n",
        "!nbqa black .\n"
      ],
      "metadata": {
        "colab": {
          "base_uri": "https://localhost:8080/"
        },
        "id": "FwavxZEGeNRv",
        "outputId": "a68672d1-adca-4446-a0d0-7ee4e0d2a546"
      },
      "execution_count": 14,
      "outputs": [
        {
          "output_type": "stream",
          "name": "stdout",
          "text": [
            "Requirement already satisfied: nbqa in /usr/local/lib/python3.11/dist-packages (1.9.1)\n",
            "Requirement already satisfied: black in /usr/local/lib/python3.11/dist-packages (25.1.0)\n",
            "Requirement already satisfied: autopep8>=1.5 in /usr/local/lib/python3.11/dist-packages (from nbqa) (2.3.2)\n",
            "Requirement already satisfied: ipython>=7.8.0 in /usr/local/lib/python3.11/dist-packages (from nbqa) (7.34.0)\n",
            "Requirement already satisfied: tokenize-rt>=3.2.0 in /usr/local/lib/python3.11/dist-packages (from nbqa) (6.1.0)\n",
            "Requirement already satisfied: tomli in /usr/local/lib/python3.11/dist-packages (from nbqa) (2.2.1)\n",
            "Requirement already satisfied: click>=8.0.0 in /usr/local/lib/python3.11/dist-packages (from black) (8.1.8)\n",
            "Requirement already satisfied: mypy-extensions>=0.4.3 in /usr/local/lib/python3.11/dist-packages (from black) (1.0.0)\n",
            "Requirement already satisfied: packaging>=22.0 in /usr/local/lib/python3.11/dist-packages (from black) (24.2)\n",
            "Requirement already satisfied: pathspec>=0.9.0 in /usr/local/lib/python3.11/dist-packages (from black) (0.12.1)\n",
            "Requirement already satisfied: platformdirs>=2 in /usr/local/lib/python3.11/dist-packages (from black) (4.3.6)\n",
            "Requirement already satisfied: pycodestyle>=2.12.0 in /usr/local/lib/python3.11/dist-packages (from autopep8>=1.5->nbqa) (2.12.1)\n",
            "Requirement already satisfied: setuptools>=18.5 in /usr/local/lib/python3.11/dist-packages (from ipython>=7.8.0->nbqa) (75.1.0)\n",
            "Requirement already satisfied: jedi>=0.16 in /usr/local/lib/python3.11/dist-packages (from ipython>=7.8.0->nbqa) (0.19.2)\n",
            "Requirement already satisfied: decorator in /usr/local/lib/python3.11/dist-packages (from ipython>=7.8.0->nbqa) (4.4.2)\n",
            "Requirement already satisfied: pickleshare in /usr/local/lib/python3.11/dist-packages (from ipython>=7.8.0->nbqa) (0.7.5)\n",
            "Requirement already satisfied: traitlets>=4.2 in /usr/local/lib/python3.11/dist-packages (from ipython>=7.8.0->nbqa) (5.7.1)\n",
            "Requirement already satisfied: prompt-toolkit!=3.0.0,!=3.0.1,<3.1.0,>=2.0.0 in /usr/local/lib/python3.11/dist-packages (from ipython>=7.8.0->nbqa) (3.0.50)\n",
            "Requirement already satisfied: pygments in /usr/local/lib/python3.11/dist-packages (from ipython>=7.8.0->nbqa) (2.18.0)\n",
            "Requirement already satisfied: backcall in /usr/local/lib/python3.11/dist-packages (from ipython>=7.8.0->nbqa) (0.2.0)\n",
            "Requirement already satisfied: matplotlib-inline in /usr/local/lib/python3.11/dist-packages (from ipython>=7.8.0->nbqa) (0.1.7)\n",
            "Requirement already satisfied: pexpect>4.3 in /usr/local/lib/python3.11/dist-packages (from ipython>=7.8.0->nbqa) (4.9.0)\n",
            "Requirement already satisfied: parso<0.9.0,>=0.8.4 in /usr/local/lib/python3.11/dist-packages (from jedi>=0.16->ipython>=7.8.0->nbqa) (0.8.4)\n",
            "Requirement already satisfied: ptyprocess>=0.5 in /usr/local/lib/python3.11/dist-packages (from pexpect>4.3->ipython>=7.8.0->nbqa) (0.7.0)\n",
            "Requirement already satisfied: wcwidth in /usr/local/lib/python3.11/dist-packages (from prompt-toolkit!=3.0.0,!=3.0.1,<3.1.0,>=2.0.0->ipython>=7.8.0->nbqa) (0.2.13)\n",
            "No notebooks found in given path(s)\n"
          ]
        }
      ]
    },
    {
      "cell_type": "markdown",
      "source": [
        "## Section 1: Introduction to Graph Embeddings in Machine Learning\n"
      ],
      "metadata": {
        "id": "aHz2E_wYh6Yn"
      }
    },
    {
      "cell_type": "markdown",
      "source": [
        "### Objectives\n",
        "- Understand the concept and purpose of graph embeddings.\n",
        "- Recognize the significance of embeddings in representing complex network data.\n"
      ],
      "metadata": {
        "id": "F6WUrIpjh7Xn"
      }
    },
    {
      "cell_type": "markdown",
      "source": [
        "### Introduction\n",
        "Graph embeddings provide a way to convert high-dimensional graph data into a low-dimensional vector space. This section introduces the concept of graph embeddings and explains how they simplify the analysis of complex networks, such as the High-energy Physics Theory citation network.\n"
      ],
      "metadata": {
        "id": "qGYZXN1Zh8mP"
      }
    },
    {
      "cell_type": "markdown",
      "source": [
        "### Key Concepts\n",
        "- **Graph Embeddings:** Techniques to represent nodes, edges, or entire graphs as vectors in a lower-dimensional space.\n",
        "- **Preservation of Structure:** Ensuring that the essential structural information of the original graph is maintained in the embedded space.\n"
      ],
      "metadata": {
        "id": "a-24HvTSh-xk"
      }
    },
    {
      "cell_type": "markdown",
      "source": [
        "### Code Examples\n",
        "Below is an example of how to load the citation network dataset and visualize its basic graph properties, such as the degree distribution.\n"
      ],
      "metadata": {
        "id": "-KG72b7oh_xn"
      }
    },
    {
      "cell_type": "code",
      "source": [
        "import networkx as nx\n",
        "import matplotlib.pyplot as plt\n",
        "\n",
        "# Load the citation network dataset as a directed graph.\n",
        "# The file 'cit-HepTh.txt' should be present in the current working directory.\n",
        "G = nx.read_edgelist(\"cit-HepTh.txt\", create_using=nx.DiGraph(), nodetype=int, comments='#')\n",
        "\n",
        "print(\"Number of nodes:\", G.number_of_nodes())\n",
        "print(\"Number of edges:\", G.number_of_edges())\n",
        "\n",
        "# Compute the degree distribution (using total degree: in-degree + out-degree).\n",
        "degrees = [G.degree(n) for n in G.nodes()]\n",
        "\n",
        "plt.figure(figsize=(10, 6))\n",
        "plt.hist(degrees, bins=50, color='skyblue', edgecolor='black')\n",
        "plt.title(\"Degree Distribution of the Citation Network\")\n",
        "plt.xlabel(\"Degree\")\n",
        "plt.ylabel(\"Frequency\")\n",
        "plt.show()\n"
      ],
      "metadata": {
        "colab": {
          "base_uri": "https://localhost:8080/",
          "height": 600
        },
        "id": "wXw8O--4iBcp",
        "outputId": "703c2d71-9c4b-4e7b-9a66-adc23beb79fe"
      },
      "execution_count": null,
      "outputs": [
        {
          "output_type": "stream",
          "name": "stdout",
          "text": [
            "Number of nodes: 27770\n",
            "Number of edges: 352807\n"
          ]
        },
        {
          "output_type": "display_data",
          "data": {
            "text/plain": [
              "<Figure size 1000x600 with 1 Axes>"
            ],
            "image/png": "[encoded data removed]"
          },
          "metadata": {}
        }
      ]
    },
    {
      "cell_type": "markdown",
      "source": [
        "### Observations & Explanations\n",
        "- The citation network is sparse, with many nodes having a low degree and only a few nodes acting as hubs with very high degrees.\n",
        "- The degree distribution visualization reveals how connectivity is distributed across the network, providing insights into potential influential nodes.\n",
        "- These structural insights motivate the need for graph embeddings, which can capture and preserve the nuances of the graph’s connectivity in a lower-dimensional space.\n"
      ],
      "metadata": {
        "id": "XNMrPIg3iFKA"
      }
    },
    {
      "cell_type": "markdown",
      "source": [
        "### Quiz\n",
        "1. What is a graph embedding and why is it important in machine learning?  \n",
        "2. How does the structure of the high-energy physics citation network motivate the use of graph embeddings?\n"
      ],
      "metadata": {
        "id": "JitwZqWRiGju"
      }
    },
    {
      "cell_type": "markdown",
      "source": [
        "### Practical Activities\n",
        "- **Activity 1:** Load and inspect the dataset by printing out the first few lines of the file. Look for any patterns or anomalies in the data.\n",
        "- **Activity 2:** Modify the histogram parameters (e.g., change the number of bins) in the code example and observe how the visualization of the degree distribution changes.\n"
      ],
      "metadata": {
        "id": "lzZGHiEJiIyM"
      }
    },
    {
      "cell_type": "code",
      "source": [
        "# Practical Activity: Inspect the dataset by reading the first 10 lines.\n",
        "with open(\"cit-HepTh.txt\", \"r\") as file:\n",
        "    for i in range(10):\n",
        "        print(file.readline().strip())\n"
      ],
      "metadata": {
        "colab": {
          "base_uri": "https://localhost:8080/"
        },
        "id": "3zNXgbHbiMog",
        "outputId": "8c3a398d-a69f-4033-e75f-3092d46d8958"
      },
      "execution_count": null,
      "outputs": [
        {
          "output_type": "stream",
          "name": "stdout",
          "text": [
            "# Directed graph (each unordered pair of nodes is saved once): Cit-HepTh.txt\n",
            "# Paper citation network of Arxiv High Energy Physics Theory category\n",
            "# Nodes: 27770 Edges: 352807\n",
            "# FromNodeId\tToNodeId\n",
            "1001\t9304045\n",
            "1001\t9308122\n",
            "1001\t9309097\n",
            "1001\t9311042\n",
            "1001\t9401139\n",
            "1001\t9404151\n"
          ]
        }
      ]
    },
    {
      "cell_type": "markdown",
      "source": [
        "## Section 2: Node2Vec and DeepWalk Methods for Node Embeddings\n"
      ],
      "metadata": {
        "id": "qRfpClt1izsN"
      }
    },
    {
      "cell_type": "markdown",
      "source": [
        "### Objectives\n",
        "- Learn how Node2Vec and DeepWalk generate node embeddings.\n",
        "- Compare the methodological differences and parameter settings of both methods.\n"
      ],
      "metadata": {
        "id": "lqDosHm0i1Ca"
      }
    },
    {
      "cell_type": "markdown",
      "source": [
        "### Introduction\n",
        "Random walk–based methods form the foundation of both Node2Vec and DeepWalk. These techniques simulate random walks on a graph to capture both local and global structural information. In this section, we will explore how these methods work and apply them to the High-energy Physics Theory citation network.\n"
      ],
      "metadata": {
        "id": "fOoL4mQEi2Ft"
      }
    },
    {
      "cell_type": "markdown",
      "source": [
        "### Key Concepts\n",
        "- **Random Walks:** The process of traversing a graph by randomly selecting the next node, which helps capture local connectivity patterns.\n",
        "- **Biased vs. Uniform Walks:**  \n",
        "  - *Node2Vec* uses biased random walks (via parameters `p` and `q`) to flexibly explore neighborhoods.  \n",
        "  - *DeepWalk* employs uniform random walks (by setting `p` and `q` to 1), resulting in a more straightforward exploration.\n"
      ],
      "metadata": {
        "id": "CO3hwvaBi3QK"
      }
    },
    {
      "cell_type": "markdown",
      "source": [
        "### Code Examples\n",
        "Below is an example that demonstrates how to implement Node2Vec and DeepWalk on the citation network. We will generate node embeddings using both methods and visualize the results using PCA to reduce the embedding dimensions.\n"
      ],
      "metadata": {
        "id": "XMOUtPR0i4R3"
      }
    },
    {
      "cell_type": "code",
      "source": [
        "# Install the node2vec library if not already installed\n",
        "!pip install node2vec\n",
        "\n",
        "import networkx as nx\n",
        "import matplotlib.pyplot as plt\n",
        "import numpy as np\n",
        "from node2vec import Node2Vec\n",
        "from sklearn.decomposition import PCA\n",
        "\n",
        "# Load the citation network dataset as a directed graph.\n",
        "G = nx.read_edgelist(\"cit-HepTh.txt\", create_using=nx.DiGraph(), nodetype=int, comments='#')\n",
        "print(\"Graph loaded: Nodes =\", G.number_of_nodes(), \"Edges =\", G.number_of_edges())\n",
        "\n",
        "# Use a subgraph for faster execution (e.g., first 1000 nodes)\n",
        "subset_nodes = list(G.nodes())[:1000]\n",
        "G_sub = G.subgraph(subset_nodes).copy()\n",
        "print(\"Subgraph loaded: Nodes =\", G_sub.number_of_nodes(), \"Edges =\", G_sub.number_of_edges())\n",
        "\n",
        "# ---------------------------\n",
        "# Node2Vec Embedding (Biased Random Walks) with optimized parameters\n",
        "# ---------------------------\n",
        "node2vec = Node2Vec(G_sub, dimensions=32, walk_length=10, num_walks=20, p=0.5, q=2, workers=2)\n",
        "model_node2vec = node2vec.fit(window=5, min_count=1)\n",
        "\n",
        "# ---------------------------\n",
        "# DeepWalk Embedding (Uniform Random Walks) with optimized parameters\n",
        "# ---------------------------\n",
        "deepwalk = Node2Vec(G_sub, dimensions=32, walk_length=10, num_walks=20, p=1, q=1, workers=2)\n",
        "model_deepwalk = deepwalk.fit(window=5, min_count=1)\n",
        "\n",
        "# ---------------------------\n",
        "# Visualization using PCA for Node2Vec Embeddings\n",
        "embeddings_node2vec = np.array([model_node2vec.wv[str(node)] for node in G_sub.nodes() if str(node) in model_node2vec.wv])\n",
        "pca = PCA(n_components=2)\n",
        "node2vec_2d = pca.fit_transform(embeddings_node2vec)\n",
        "\n",
        "plt.figure(figsize=(10, 6))\n",
        "plt.scatter(node2vec_2d[:, 0], node2vec_2d[:, 1], s=10, alpha=0.7)\n",
        "plt.title(\"Node2Vec Embeddings on Subgraph Visualized via PCA\")\n",
        "plt.xlabel(\"Principal Component 1\")\n",
        "plt.ylabel(\"Principal Component 2\")\n",
        "plt.show()\n",
        "\n",
        "# ---------------------------\n",
        "# Visualization using PCA for DeepWalk Embeddings\n",
        "embeddings_deepwalk = np.array([model_deepwalk.wv[str(node)] for node in G_sub.nodes() if str(node) in model_deepwalk.wv])\n",
        "deepwalk_2d = pca.fit_transform(embeddings_deepwalk)\n",
        "\n",
        "plt.figure(figsize=(10, 6))\n",
        "plt.scatter(deepwalk_2d[:, 0], deepwalk_2d[:, 1], s=10, alpha=0.7, color='orange')\n",
        "plt.title(\"DeepWalk Embeddings on Subgraph Visualized via PCA\")\n",
        "plt.xlabel(\"Principal Component 1\")\n",
        "plt.ylabel(\"Principal Component 2\")\n",
        "plt.show()\n"
      ],
      "metadata": {
        "colab": {
          "base_uri": "https://localhost:8080/",
          "height": 1000,
          "referenced_widgets": [
            "1491de9cbc1d422c80cc43885b07f860",
            "6b383893b48a4c4f8db7b97a5aefc66f",
            "d76870ce8a684ff190caf5a1352dbf2d",
            "ff05a03af89046bf9dd83583a6ee9879",
            "d94d12bc78ab484ebd462209b6de90b2",
            "0158daba8ca84ef68052ab962f97a183",
            "02b14d9e0cfd4e05b510e311e55a3231",
            "24fe794f330b400fa6079f527ac44ec6",
            "58e75d5a066943d088c6a5b4dbfbb3e0",
            "7598fd7db73b430da9be23464d155823",
            "709b67f554024ec09fe1d99b096777ad",
            "305501c646a24b719c3377fec44cd957",
            "a34af699cc214134a1b708bbfb870719",
            "a976daba38e34af89f88b08837264c31",
            "04c2fd1e5edd422286a10041a5f72725",
            "6ff5af5521df42e3956f751e205a14b2",
            "ee74d8619eca4f4cb590e9693a81ae43",
            "7f124aa0893d4ef5bb047c91a45c0b3e",
            "7434a311a049418681a4c4a5fbd2ffd5",
            "b108cf1f77864467b1aef26bc9b36496",
            "60e9d31f7ad04dd780e76bdf0cd15166",
            "a938a4e533f344a99d099b68e85ee68d"
          ]
        },
        "id": "zBNnRaGFspGO",
        "outputId": "7fdda2e5-2c36-443f-92e0-29d0b34c735d"
      },
      "execution_count": 8,
      "outputs": [
        {
          "output_type": "stream",
          "name": "stdout",
          "text": [
            "Requirement already satisfied: node2vec in /usr/local/lib/python3.11/dist-packages (0.5.0)\n",
            "Requirement already satisfied: gensim<5.0.0,>=4.3.0 in /usr/local/lib/python3.11/dist-packages (from node2vec) (4.3.3)\n",
            "Requirement already satisfied: joblib<2.0.0,>=1.4.0 in /usr/local/lib/python3.11/dist-packages (from node2vec) (1.4.2)\n",
            "Requirement already satisfied: networkx<4.0.0,>=3.1.0 in /usr/local/lib/python3.11/dist-packages (from node2vec) (3.4.2)\n",
            "Requirement already satisfied: numpy<2.0.0,>=1.24.0 in /usr/local/lib/python3.11/dist-packages (from node2vec) (1.26.4)\n",
            "Requirement already satisfied: tqdm<5.0.0,>=4.66.1 in /usr/local/lib/python3.11/dist-packages (from node2vec) (4.67.1)\n",
            "Requirement already satisfied: scipy<1.14.0,>=1.7.0 in /usr/local/lib/python3.11/dist-packages (from gensim<5.0.0,>=4.3.0->node2vec) (1.13.1)\n",
            "Requirement already satisfied: smart-open>=1.8.1 in /usr/local/lib/python3.11/dist-packages (from gensim<5.0.0,>=4.3.0->node2vec) (7.1.0)\n",
            "Requirement already satisfied: wrapt in /usr/local/lib/python3.11/dist-packages (from smart-open>=1.8.1->gensim<5.0.0,>=4.3.0->node2vec) (1.17.2)\n",
            "Graph loaded: Nodes = 27770 Edges = 352807\n",
            "Subgraph loaded: Nodes = 1000 Edges = 12944\n"
          ]
        },
        {
          "output_type": "display_data",
          "data": {
            "text/plain": [
              "Computing transition probabilities:   0%|          | 0/1000 [00:00<?, ?it/s]"
            ],
            "application/vnd.jupyter.widget-view+json": {
              "version_major": 2,
              "version_minor": 0,
              "model_id": "1491de9cbc1d422c80cc43885b07f860"
            }
          },
          "metadata": {}
        },
        {
          "output_type": "display_data",
          "data": {
            "text/plain": [
              "Computing transition probabilities:   0%|          | 0/1000 [00:00<?, ?it/s]"
            ],
            "application/vnd.jupyter.widget-view+json": {
              "version_major": 2,
              "version_minor": 0,
              "model_id": "305501c646a24b719c3377fec44cd957"
            }
          },
          "metadata": {}
        },
        {
          "output_type": "display_data",
          "data": {
            "text/plain": [
              "<Figure size 1000x600 with 1 Axes>"
            ],
            "image/png": "[encoded data removed]"
          },
          "metadata": {}
        },
        {
          "output_type": "display_data",
          "data": {
            "text/plain": [
              "<Figure size 1000x600 with 1 Axes>"
            ],
            "image/png": "[encoded data removed]"
          },
          "metadata": {}
        }
      ]
    },
    {
      "cell_type": "markdown",
      "source": [
        "### Observations & Explanations\n",
        "- **Parameter Effects:**  \n",
        "  Adjusting parameters such as `p` and `q` in Node2Vec alters the bias of the random walks. This can lead to embeddings that emphasize different structural properties of the graph.\n",
        "- **Comparison:**  \n",
        "  DeepWalk, using uniform random walks, provides a baseline embedding method. In contrast, Node2Vec’s flexibility through biasing enables a more nuanced capture of local and global structures.\n",
        "- **Visualization:**  \n",
        "  The PCA plots illustrate how the embeddings distribute in a two-dimensional space. Differences in clustering and spread can hint at the underlying graph structure captured by each method.\n"
      ],
      "metadata": {
        "id": "eddM380ftD17"
      }
    },
    {
      "cell_type": "markdown",
      "source": [
        "### Quiz\n",
        "1. What differentiates Node2Vec from DeepWalk in terms of random walk strategy?  \n",
        "2. In what way do random walks contribute to effective node embedding generation?\n"
      ],
      "metadata": {
        "id": "Tl6VuKZZtE-t"
      }
    },
    {
      "cell_type": "markdown",
      "source": [
        "### Practical Activities\n",
        "- **Activity 1:** Experiment with parameter tuning for Node2Vec. Adjust parameters such as `walk_length` and `num_walks`, and observe how the embedding visualization changes.  \n",
        "- **Activity 2:** Compare the embeddings produced by Node2Vec and DeepWalk. Try setting different values for `p` and `q` in Node2Vec to see how bias affects the output.\n"
      ],
      "metadata": {
        "id": "ECbCG4DItGCs"
      }
    },
    {
      "cell_type": "markdown",
      "source": [
        "## Section 3: Features Derived from Graph Metrics\n"
      ],
      "metadata": {
        "id": "4Xu9qn7gtlYX"
      }
    },
    {
      "cell_type": "markdown",
      "source": [
        "### Objectives\n",
        "- Extract and interpret graph metrics that inform embedding processes.\n",
        "- Understand how additional graph features, such as centrality measures and clustering coefficients, can complement graph embeddings.\n"
      ],
      "metadata": {
        "id": "utQ0rTyftmJz"
      }
    },
    {
      "cell_type": "markdown",
      "source": [
        "### Introduction\n",
        "In this section, we explore several graph metrics that provide insights into the structural properties of a network. Metrics such as degree centrality, clustering coefficients, and betweenness centrality can highlight influential nodes and community structures. These metrics not only help in understanding the graph’s topology but can also be used as supplementary features to enhance the performance of graph embedding techniques.\n"
      ],
      "metadata": {
        "id": "IsSczCZgtneb"
      }
    },
    {
      "cell_type": "markdown",
      "source": [
        "### Key Concepts\n",
        "- **Degree Centrality:** Measures the importance of a node based on the number of connections it has.\n",
        "- **Clustering Coefficient:** Quantifies how close a node's neighbors are to forming a complete graph (clique).\n",
        "- **Betweenness Centrality:** Indicates the frequency at which a node appears on the shortest paths between other nodes.\n"
      ],
      "metadata": {
        "id": "sPvdnLEWtocq"
      }
    },
    {
      "cell_type": "markdown",
      "source": [
        "### Code Examples\n",
        "Below, we compute key graph metrics for a subgraph of the citation network and visualize their distributions using histograms. This demonstration uses a subgraph sampled from the full dataset for faster computation.\n"
      ],
      "metadata": {
        "id": "P88p0W4TtpSc"
      }
    },
    {
      "cell_type": "code",
      "source": [
        "import networkx as nx\n",
        "import matplotlib.pyplot as plt\n",
        "import numpy as np\n",
        "\n",
        "# Load the citation network dataset as a directed graph.\n",
        "G = nx.read_edgelist(\"cit-HepTh.txt\", create_using=nx.DiGraph(), nodetype=int, comments='#')\n",
        "print(\"Graph loaded: Nodes =\", G.number_of_nodes(), \"Edges =\", G.number_of_edges())\n",
        "\n",
        "# For demonstration, select a subgraph with a sample of nodes (e.g., first 500 nodes)\n",
        "sample_nodes = list(G.nodes())[:500]\n",
        "G_sample = G.subgraph(sample_nodes).copy()\n",
        "print(\"Subgraph loaded: Nodes =\", G_sample.number_of_nodes(), \"Edges =\", G_sample.number_of_edges())\n",
        "\n",
        "# Compute Degree Centrality\n",
        "degree_centrality = nx.degree_centrality(G_sample)\n",
        "\n",
        "# Compute Clustering Coefficients\n",
        "clustering_coeffs = nx.clustering(G_sample.to_undirected())\n",
        "\n",
        "# Compute Betweenness Centrality (using approximation for speed)\n",
        "betweenness_centrality = nx.betweenness_centrality(G_sample, k=100, seed=42)\n",
        "\n",
        "# Plot Degree Centrality Distribution\n",
        "plt.figure(figsize=(10, 6))\n",
        "plt.hist(list(degree_centrality.values()), bins=30, color='skyblue', edgecolor='black')\n",
        "plt.title(\"Degree Centrality Distribution\")\n",
        "plt.xlabel(\"Degree Centrality\")\n",
        "plt.ylabel(\"Frequency\")\n",
        "plt.show()\n",
        "\n",
        "# Plot Clustering Coefficient Distribution\n",
        "plt.figure(figsize=(10, 6))\n",
        "plt.hist(list(clustering_coeffs.values()), bins=30, color='lightgreen', edgecolor='black')\n",
        "plt.title(\"Clustering Coefficient Distribution\")\n",
        "plt.xlabel(\"Clustering Coefficient\")\n",
        "plt.ylabel(\"Frequency\")\n",
        "plt.show()\n",
        "\n",
        "# Plot Betweenness Centrality Distribution (Approximate)\n",
        "plt.figure(figsize=(10, 6))\n",
        "plt.hist(list(betweenness_centrality.values()), bins=30, color='salmon', edgecolor='black')\n",
        "plt.title(\"Betweenness Centrality Distribution (Approximate)\")\n",
        "plt.xlabel(\"Betweenness Centrality\")\n",
        "plt.ylabel(\"Frequency\")\n",
        "plt.show()\n"
      ],
      "metadata": {
        "colab": {
          "base_uri": "https://localhost:8080/",
          "height": 1000
        },
        "id": "GdFUclBltqKZ",
        "outputId": "01bd9be4-892d-4f3e-b05f-f8feceb7997c"
      },
      "execution_count": 9,
      "outputs": [
        {
          "output_type": "stream",
          "name": "stdout",
          "text": [
            "Graph loaded: Nodes = 27770 Edges = 352807\n",
            "Subgraph loaded: Nodes = 500 Edges = 6669\n"
          ]
        },
        {
          "output_type": "display_data",
          "data": {
            "text/plain": [
              "<Figure size 1000x600 with 1 Axes>"
            ],
            "image/png": "[encoded data removed]"
          },
          "metadata": {}
        },
        {
          "output_type": "display_data",
          "data": {
            "text/plain": [
              "<Figure size 1000x600 with 1 Axes>"
            ],
            "image/png": "[encoded data removed]"
          },
          "metadata": {}
        },
        {
          "output_type": "display_data",
          "data": {
            "text/plain": [
              "<Figure size 1000x600 with 1 Axes>"
            ],
            "image/png": "[encoded data removed]"
          },
          "metadata": {}
        }
      ]
    },
    {
      "cell_type": "markdown",
      "source": [
        "### Observations & Explanations\n",
        "- **Degree Centrality:** The histogram shows how many nodes have a low versus high degree centrality. Nodes with high degree centrality are typically influential and may serve as hubs in the network.\n",
        "- **Clustering Coefficient:** A higher clustering coefficient indicates a higher tendency for nodes to form tightly-knit communities. The distribution can reveal the presence of local clusters.\n",
        "- **Betweenness Centrality:** This metric highlights nodes that frequently appear on shortest paths between other nodes. Nodes with high betweenness centrality can be critical for information flow.\n"
      ],
      "metadata": {
        "id": "3c_auIfsts0E"
      }
    },
    {
      "cell_type": "markdown",
      "source": [
        "### Quiz\n",
        "1. Why are graph metrics critical when analyzing node embeddings?  \n",
        "2. How can centrality measures enhance the interpretation of a graph’s structure?\n"
      ],
      "metadata": {
        "id": "DfzUbu0WtuWx"
      }
    },
    {
      "cell_type": "markdown",
      "source": [
        "### Practical Activities\n",
        "- **Activity 1:** Compute various graph metrics (degree centrality, clustering coefficient, betweenness centrality) on the citation network or its subgraph, and observe the distributions.\n",
        "- **Activity 2:** Modify the sample size for the subgraph and compare how the distributions of these metrics change. Consider what this indicates about the overall structure of the network.\n"
      ],
      "metadata": {
        "id": "2e5axFs5tvSa"
      }
    },
    {
      "cell_type": "code",
      "source": [
        "# Practical Activity: Experiment with different subgraph sizes and compute graph metrics\n",
        "\n",
        "def compute_and_plot_metrics(G, sample_size):\n",
        "    sample_nodes = list(G.nodes())[:sample_size]\n",
        "    G_sample = G.subgraph(sample_nodes).copy()\n",
        "\n",
        "    # Compute metrics\n",
        "    degree_centrality = nx.degree_centrality(G_sample)\n",
        "    clustering_coeffs = nx.clustering(G_sample.to_undirected())\n",
        "    betweenness_centrality = nx.betweenness_centrality(G_sample, k=50, seed=42)\n",
        "\n",
        "    # Plot Degree Centrality Distribution\n",
        "    plt.figure(figsize=(10, 4))\n",
        "    plt.subplot(1, 3, 1)\n",
        "    plt.hist(list(degree_centrality.values()), bins=20, color='skyblue', edgecolor='black')\n",
        "    plt.title(\"Degree Centrality\")\n",
        "    plt.xlabel(\"Centrality\")\n",
        "\n",
        "    # Plot Clustering Coefficient Distribution\n",
        "    plt.subplot(1, 3, 2)\n",
        "    plt.hist(list(clustering_coeffs.values()), bins=20, color='lightgreen', edgecolor='black')\n",
        "    plt.title(\"Clustering Coefficient\")\n",
        "    plt.xlabel(\"Coefficient\")\n",
        "\n",
        "    # Plot Betweenness Centrality Distribution\n",
        "    plt.subplot(1, 3, 3)\n",
        "    plt.hist(list(betweenness_centrality.values()), bins=20, color='salmon', edgecolor='black')\n",
        "    plt.title(\"Betweenness Centrality\")\n",
        "    plt.xlabel(\"Centrality\")\n",
        "\n",
        "    plt.tight_layout()\n",
        "    plt.show()\n",
        "\n",
        "# Try with a subgraph of 300 nodes\n",
        "compute_and_plot_metrics(G, sample_size=300)\n"
      ],
      "metadata": {
        "colab": {
          "base_uri": "https://localhost:8080/",
          "height": 407
        },
        "id": "BIWGnDgctxDs",
        "outputId": "2af7ccf7-a71c-4af9-c330-395863c697c8"
      },
      "execution_count": 10,
      "outputs": [
        {
          "output_type": "display_data",
          "data": {
            "text/plain": [
              "<Figure size 1000x400 with 3 Axes>"
            ],
            "image/png": "[encoded data removed]"
          },
          "metadata": {}
        }
      ]
    },
    {
      "cell_type": "markdown",
      "source": [
        "### Explanation/Feedback\n",
        "In the practical activity above, you experimented with computing and visualizing graph metrics on a subgraph of the citation network. Adjusting the sample size can help you understand how these metrics vary across different parts of the network. Observing the distributions of degree centrality, clustering coefficients, and betweenness centrality provides insights into the network’s structure and can guide the development of more informed graph embeddings.\n"
      ],
      "metadata": {
        "id": "yv6PjXUhty6U"
      }
    },
    {
      "cell_type": "markdown",
      "source": [
        "## Section 4: Hands-On Implementation of Embeddings for a Sample Graph\n"
      ],
      "metadata": {
        "id": "23MvtehUuBHz"
      }
    },
    {
      "cell_type": "markdown",
      "source": [
        "### Objectives\n",
        "- Apply graph embedding techniques to a subset of the citation network.\n",
        "- Interpret the embedding output through visualization and analysis.\n"
      ],
      "metadata": {
        "id": "5i_4wxPLuCKQ"
      }
    },
    {
      "cell_type": "markdown",
      "source": [
        "### Introduction\n",
        "This section provides a step-by-step guide to implementing graph embeddings on a sample of the High-energy Physics Theory citation network. We focus on pre-processing the data, generating embeddings using Node2Vec, and visualizing the results. The process highlights the importance of cleaning and parameter tuning in creating effective embeddings.\n"
      ],
      "metadata": {
        "id": "QwQSt1NJuDE1"
      }
    },
    {
      "cell_type": "markdown",
      "source": [
        "### Key Concepts\n",
        "- **Data Pre-processing:** Selecting and cleaning a representative subset of the dataset to speed up computations.\n",
        "- **Embedding Generation:** Using algorithms like Node2Vec to convert graph nodes into a vector space.\n",
        "- **Visualization:** Applying techniques such as PCA to reduce dimensionality for effective visualization of high-dimensional embeddings.\n"
      ],
      "metadata": {
        "id": "aU0r_q5luEbA"
      }
    },
    {
      "cell_type": "markdown",
      "source": [
        "### Code Examples\n",
        "Below is an example of loading a sample subgraph, generating node embeddings using Node2Vec, and visualizing the embeddings with a 2D scatter plot.\n"
      ],
      "metadata": {
        "id": "rWYG3A8iuF77"
      }
    },
    {
      "cell_type": "code",
      "source": [
        "# Install the node2vec library if needed\n",
        "!pip install node2vec\n",
        "\n",
        "import networkx as nx\n",
        "import matplotlib.pyplot as plt\n",
        "import numpy as np\n",
        "from node2vec import Node2Vec\n",
        "from sklearn.decomposition import PCA\n",
        "\n",
        "# Load the citation network dataset as a directed graph.\n",
        "G = nx.read_edgelist(\"cit-HepTh.txt\", create_using=nx.DiGraph(), nodetype=int, comments='#')\n",
        "print(\"Full Graph: Nodes =\", G.number_of_nodes(), \"Edges =\", G.number_of_edges())\n",
        "\n",
        "# For faster execution, select a subgraph with the first 300 nodes\n",
        "sample_nodes = list(G.nodes())[:300]\n",
        "G_sample = G.subgraph(sample_nodes).copy()\n",
        "print(\"Sample Subgraph: Nodes =\", G_sample.number_of_nodes(), \"Edges =\", G_sample.number_of_edges())\n",
        "\n",
        "# Generate Node2Vec embeddings with optimized parameters for the sample\n",
        "node2vec = Node2Vec(G_sample, dimensions=32, walk_length=10, num_walks=20, p=0.5, q=2, workers=2)\n",
        "model = node2vec.fit(window=5, min_count=1)\n",
        "\n",
        "# Extract embeddings for nodes in the sample subgraph\n",
        "embeddings = np.array([model.wv[str(node)] for node in G_sample.nodes() if str(node) in model.wv])\n",
        "\n",
        "# Reduce the embeddings to 2D using PCA for visualization\n",
        "pca = PCA(n_components=2)\n",
        "embeddings_2d = pca.fit_transform(embeddings)\n",
        "\n",
        "# Visualize the 2D embeddings using a scatter plot\n",
        "plt.figure(figsize=(10, 6))\n",
        "plt.scatter(embeddings_2d[:, 0], embeddings_2d[:, 1], s=15, alpha=0.7)\n",
        "plt.title(\"Node2Vec Embeddings on Sample Subgraph Visualized via PCA\")\n",
        "plt.xlabel(\"Principal Component 1\")\n",
        "plt.ylabel(\"Principal Component 2\")\n",
        "plt.show()\n"
      ],
      "metadata": {
        "colab": {
          "base_uri": "https://localhost:8080/",
          "height": 812,
          "referenced_widgets": [
            "7a2a7059e0464702853c0e288e9980a6",
            "cfadbfb1a268453ea2529b000bf8175d",
            "b20de403e4a6423280d114831e1dc2b3",
            "c222472fe3964106ae630524e1bbdd48",
            "d552f42046114c19a3918050c1951018",
            "4d2d2b495dad4dec94a2fd01127a23b5",
            "c5e7d2e45ff243fda8d4f65b339dad64",
            "0b06f16506d74bb7813bf3cf14b6e64e",
            "a32fb295762d415bad858b3cf0bf3e3a",
            "92bed14c96de42a9804f994f9b36333d",
            "3bc255cf91e347c890805e4d108e6485"
          ]
        },
        "id": "zkMSzKL8uGsm",
        "outputId": "5e5a5efe-60ce-43cf-b631-2eaeb25c9004"
      },
      "execution_count": 11,
      "outputs": [
        {
          "output_type": "stream",
          "name": "stdout",
          "text": [
            "Requirement already satisfied: node2vec in /usr/local/lib/python3.11/dist-packages (0.5.0)\n",
            "Requirement already satisfied: gensim<5.0.0,>=4.3.0 in /usr/local/lib/python3.11/dist-packages (from node2vec) (4.3.3)\n",
            "Requirement already satisfied: joblib<2.0.0,>=1.4.0 in /usr/local/lib/python3.11/dist-packages (from node2vec) (1.4.2)\n",
            "Requirement already satisfied: networkx<4.0.0,>=3.1.0 in /usr/local/lib/python3.11/dist-packages (from node2vec) (3.4.2)\n",
            "Requirement already satisfied: numpy<2.0.0,>=1.24.0 in /usr/local/lib/python3.11/dist-packages (from node2vec) (1.26.4)\n",
            "Requirement already satisfied: tqdm<5.0.0,>=4.66.1 in /usr/local/lib/python3.11/dist-packages (from node2vec) (4.67.1)\n",
            "Requirement already satisfied: scipy<1.14.0,>=1.7.0 in /usr/local/lib/python3.11/dist-packages (from gensim<5.0.0,>=4.3.0->node2vec) (1.13.1)\n",
            "Requirement already satisfied: smart-open>=1.8.1 in /usr/local/lib/python3.11/dist-packages (from gensim<5.0.0,>=4.3.0->node2vec) (7.1.0)\n",
            "Requirement already satisfied: wrapt in /usr/local/lib/python3.11/dist-packages (from smart-open>=1.8.1->gensim<5.0.0,>=4.3.0->node2vec) (1.17.2)\n",
            "Full Graph: Nodes = 27770 Edges = 352807\n",
            "Sample Subgraph: Nodes = 300 Edges = 3194\n"
          ]
        },
        {
          "output_type": "display_data",
          "data": {
            "text/plain": [
              "Computing transition probabilities:   0%|          | 0/300 [00:00<?, ?it/s]"
            ],
            "application/vnd.jupyter.widget-view+json": {
              "version_major": 2,
              "version_minor": 0,
              "model_id": "7a2a7059e0464702853c0e288e9980a6"
            }
          },
          "metadata": {}
        },
        {
          "output_type": "display_data",
          "data": {
            "text/plain": [
              "<Figure size 1000x600 with 1 Axes>"
            ],
            "image/png": "[encoded data removed]"
          },
          "metadata": {}
        }
      ]
    },
    {
      "cell_type": "markdown",
      "source": [
        "### Observations & Explanations\n",
        "- The PCA scatter plot visualizes the distribution of node embeddings in a two-dimensional space.\n",
        "- Clusters in the plot may indicate groups of nodes with similar connectivity patterns.\n",
        "- The quality of the embeddings is influenced by the chosen pre-processing steps and parameter tuning. For example, reducing the sample size speeds up computation but might lose some structural details.\n"
      ],
      "metadata": {
        "id": "D-tw_0uKuMsV"
      }
    },
    {
      "cell_type": "markdown",
      "source": [
        "### Quiz\n",
        "1. What are the essential pre-processing steps before generating graph embeddings?  \n",
        "2. How can visualizations assist in evaluating the quality of the embedding space?\n"
      ],
      "metadata": {
        "id": "2kMIP2yluOsE"
      }
    },
    {
      "cell_type": "markdown",
      "source": [
        "### Practical Activities\n",
        "- **Activity 1:** Execute the provided embedding generation code on the sample subgraph and observe the scatter plot.  \n",
        "- **Activity 2:** Experiment with different parameters (e.g., `walk_length`, `num_walks`, or `dimensions`) in the Node2Vec function and note how the embedding visualization changes.\n"
      ],
      "metadata": {
        "id": "XwNxx0DUuP_p"
      }
    },
    {
      "cell_type": "code",
      "source": [
        "# Practical Activity: Experiment with Node2Vec parameter tuning on the sample subgraph.\n",
        "# Try adjusting parameters and observe the resulting PCA scatter plot.\n",
        "def generate_and_visualize_embeddings(G, dimensions=32, walk_length=10, num_walks=20, p=0.5, q=2):\n",
        "    from node2vec import Node2Vec\n",
        "    from sklearn.decomposition import PCA\n",
        "    # Generate embeddings\n",
        "    node2vec = Node2Vec(G, dimensions=dimensions, walk_length=walk_length,\n",
        "                        num_walks=num_walks, p=p, q=q, workers=2)\n",
        "    model = node2vec.fit(window=5, min_count=1)\n",
        "    embeddings = np.array([model.wv[str(node)] for node in G.nodes() if str(node) in model.wv])\n",
        "\n",
        "    # Reduce to 2D and visualize\n",
        "    pca = PCA(n_components=2)\n",
        "    embeddings_2d = pca.fit_transform(embeddings)\n",
        "\n",
        "    plt.figure(figsize=(10, 6))\n",
        "    plt.scatter(embeddings_2d[:, 0], embeddings_2d[:, 1], s=15, alpha=0.7)\n",
        "    plt.title(\"Experiment: Node2Vec Embeddings with Custom Parameters\")\n",
        "    plt.xlabel(\"Principal Component 1\")\n",
        "    plt.ylabel(\"Principal Component 2\")\n",
        "    plt.show()\n",
        "\n",
        "# Run the experiment with a sample subgraph of 300 nodes\n",
        "sample_nodes = list(G.nodes())[:300]\n",
        "G_sample = G.subgraph(sample_nodes).copy()\n",
        "generate_and_visualize_embeddings(G_sample, dimensions=32, walk_length=15, num_walks=30, p=0.75, q=1.5)\n"
      ],
      "metadata": {
        "colab": {
          "base_uri": "https://localhost:8080/",
          "height": 596,
          "referenced_widgets": [
            "fc149f3a30e84623b24411166ae9e7c5",
            "8a24378071a1416ebf7707cf17683c8d",
            "74db66ce93444d5bb59db2c2f2c11aaf",
            "245d774595ac42f18e6185d92e25a148",
            "1e95f16e893346db8c26abca4bad1f2e",
            "03f118872bea4d979412513ea9d85802",
            "929a7d61e47347a88b94a7c744355131",
            "3079aef763744513b9af0fa8caa99bc0",
            "512fbb7e86cb4065a43d416e6f262ef9",
            "5d0a5334fed84ad18c446ab988db0f46",
            "d573abb58ab44d4991ad8b54d36bbcfc"
          ]
        },
        "id": "5cdovwuLuTsp",
        "outputId": "11706fd4-f98c-411c-9a90-6504a14ad006"
      },
      "execution_count": 12,
      "outputs": [
        {
          "output_type": "display_data",
          "data": {
            "text/plain": [
              "Computing transition probabilities:   0%|          | 0/300 [00:00<?, ?it/s]"
            ],
            "application/vnd.jupyter.widget-view+json": {
              "version_major": 2,
              "version_minor": 0,
              "model_id": "fc149f3a30e84623b24411166ae9e7c5"
            }
          },
          "metadata": {}
        },
        {
          "output_type": "display_data",
          "data": {
            "text/plain": [
              "<Figure size 1000x600 with 1 Axes>"
            ],
            "image/png": "[encoded data removed]"
          },
          "metadata": {}
        }
      ]
    },
    {
      "cell_type": "markdown",
      "source": [
        "### Explanation/Feedback\n",
        "In this practical exercise, you adjusted parameters such as `walk_length`, `num_walks`, `p`, and `q` in the Node2Vec model. Observe how these changes affect the PCA scatter plot of the embeddings. Effective parameter tuning can enhance the quality of the embedding space, making patterns in the graph structure more discernible.\n"
      ],
      "metadata": {
        "id": "OQ0Piz0IuVbz"
      }
    },
    {
      "cell_type": "markdown",
      "source": [
        "## Section 5: Advanced Topics and Integration\n"
      ],
      "metadata": {
        "id": "T-pgU76IupuE"
      }
    },
    {
      "cell_type": "markdown",
      "source": [
        "### Objectives\n",
        "- Explore methods for merging graph embeddings with computed graph metrics.\n",
        "- Understand the advantages of combining multiple graph features for enhanced analysis.\n"
      ],
      "metadata": {
        "id": "cKl0hnK3urLv"
      }
    },
    {
      "cell_type": "markdown",
      "source": [
        "### Introduction\n",
        "In this section, we integrate node embeddings with additional graph metrics to create richer feature representations. By merging embedding vectors with metrics such as degree centrality and clustering coefficients, we can capture both local connectivity patterns and global structural properties of the network. This integrated approach can improve the performance of downstream machine learning tasks such as clustering, classification, and anomaly detection.\n"
      ],
      "metadata": {
        "id": "ErKCq-_Zusaa"
      }
    },
    {
      "cell_type": "markdown",
      "source": [
        "### Key Concepts\n",
        "- **Merging Features:** Combining node embeddings with graph metrics (e.g., degree centrality, clustering coefficient) to form an integrated feature vector.\n",
        "- **Evaluation Techniques:** Comparing standalone embeddings versus integrated features using visualization tools like PCA.\n",
        "- **Real-World Applications:** Integrated analysis can enhance tasks such as community detection and anomaly detection by providing a more comprehensive view of the network structure.\n"
      ],
      "metadata": {
        "id": "3zDG2yjLutj1"
      }
    },
    {
      "cell_type": "markdown",
      "source": [
        "### Code Examples\n",
        "The following code demonstrates how to:\n",
        "- Generate Node2Vec embeddings on a sample subgraph.\n",
        "- Compute additional graph metrics (degree centrality and clustering coefficient).\n",
        "- Merge the embedding vectors with the computed metrics.\n",
        "- Visualize both the standalone embeddings and the integrated features using PCA.\n"
      ],
      "metadata": {
        "id": "kmLoJQC7uuei"
      }
    },
    {
      "cell_type": "code",
      "source": [
        "# Install the node2vec library if needed\n",
        "!pip install node2vec\n",
        "\n",
        "import networkx as nx\n",
        "import matplotlib.pyplot as plt\n",
        "import numpy as np\n",
        "from node2vec import Node2Vec\n",
        "from sklearn.decomposition import PCA\n",
        "\n",
        "# Load the citation network dataset as a directed graph.\n",
        "G = nx.read_edgelist(\"cit-HepTh.txt\", create_using=nx.DiGraph(), nodetype=int, comments='#')\n",
        "print(\"Full Graph: Nodes =\", G.number_of_nodes(), \"Edges =\", G.number_of_edges())\n",
        "\n",
        "# Select a sample subgraph for faster execution (e.g., first 300 nodes)\n",
        "sample_nodes = list(G.nodes())[:300]\n",
        "G_sample = G.subgraph(sample_nodes).copy()\n",
        "print(\"Sample Subgraph: Nodes =\", G_sample.number_of_nodes(), \"Edges =\", G_sample.number_of_edges())\n",
        "\n",
        "# Generate Node2Vec embeddings with optimized parameters for the sample subgraph\n",
        "node2vec = Node2Vec(G_sample, dimensions=32, walk_length=10, num_walks=20, p=0.5, q=2, workers=2)\n",
        "model = node2vec.fit(window=5, min_count=1)\n",
        "\n",
        "# Extract embeddings for each node in the sample subgraph\n",
        "embeddings = {}\n",
        "for node in G_sample.nodes():\n",
        "    node_str = str(node)\n",
        "    if node_str in model.wv:\n",
        "        embeddings[node] = model.wv[node_str]\n",
        "\n",
        "# Compute additional graph metrics on the sample subgraph\n",
        "# For clustering, convert to undirected graph\n",
        "G_sample_undirected = G_sample.to_undirected()\n",
        "degree_centrality = nx.degree_centrality(G_sample)\n",
        "clustering_coeffs = nx.clustering(G_sample_undirected)\n",
        "\n",
        "# Create integrated feature vectors by concatenating the embedding with its metrics\n",
        "integrated_features = []\n",
        "pure_embeddings = []\n",
        "nodes_used = []  # to maintain order\n",
        "\n",
        "for node in G_sample.nodes():\n",
        "    if node in embeddings:\n",
        "        emb_vector = embeddings[node]\n",
        "        # Use degree centrality and clustering coefficient as additional features\n",
        "        dc = degree_centrality[node]\n",
        "        cc = clustering_coeffs[node]\n",
        "        integrated_vector = np.concatenate([emb_vector, [dc, cc]])\n",
        "        integrated_features.append(integrated_vector)\n",
        "        pure_embeddings.append(emb_vector)\n",
        "        nodes_used.append(node)\n",
        "\n",
        "integrated_features = np.array(integrated_features)\n",
        "pure_embeddings = np.array(pure_embeddings)\n",
        "\n",
        "# Reduce dimensions using PCA for visualization\n",
        "pca = PCA(n_components=2)\n",
        "pure_embeddings_2d = pca.fit_transform(pure_embeddings)\n",
        "integrated_features_2d = pca.fit_transform(integrated_features)\n",
        "\n",
        "# Visual comparative analysis: standalone embeddings vs. integrated features\n",
        "plt.figure(figsize=(14, 6))\n",
        "\n",
        "plt.subplot(1, 2, 1)\n",
        "plt.scatter(pure_embeddings_2d[:, 0], pure_embeddings_2d[:, 1], s=15, alpha=0.7)\n",
        "plt.title(\"Standalone Node2Vec Embeddings (2D PCA)\")\n",
        "plt.xlabel(\"Principal Component 1\")\n",
        "plt.ylabel(\"Principal Component 2\")\n",
        "\n",
        "plt.subplot(1, 2, 2)\n",
        "plt.scatter(integrated_features_2d[:, 0], integrated_features_2d[:, 1], s=15, alpha=0.7, color='orange')\n",
        "plt.title(\"Integrated Features (Embeddings + Metrics) (2D PCA)\")\n",
        "plt.xlabel(\"Principal Component 1\")\n",
        "plt.ylabel(\"Principal Component 2\")\n",
        "\n",
        "plt.tight_layout()\n",
        "plt.show()\n"
      ],
      "metadata": {
        "colab": {
          "base_uri": "https://localhost:8080/",
          "height": 696,
          "referenced_widgets": [
            "3284b83d4f8942578f36b6e4e536ea45",
            "6d45fbe5e0a94fc19affa8de99fc2527",
            "863f0f19dc234834b751e3b8f064f9bc",
            "56703b0e1bea4a19a8a9169dec7af23f",
            "46768e55949b42969713bffc03e14f78",
            "f4691ade3c214ba0adaa1b265095dedd",
            "8c62c41a08274fde92d8cd7802f9ea36",
            "6c6591bb7b9d44f59ef98f30688fab64",
            "bbb414bbe02347df91cfbcf2383b5c1a",
            "18afd767ea794ebfbac111d299d9d557",
            "34b0993320da479d88cdf0073aea365b"
          ]
        },
        "id": "x9l5u5N-uv9E",
        "outputId": "b537511f-8019-4101-f2af-3d47f9a47fb0"
      },
      "execution_count": 13,
      "outputs": [
        {
          "output_type": "stream",
          "name": "stdout",
          "text": [
            "Requirement already satisfied: node2vec in /usr/local/lib/python3.11/dist-packages (0.5.0)\n",
            "Requirement already satisfied: gensim<5.0.0,>=4.3.0 in /usr/local/lib/python3.11/dist-packages (from node2vec) (4.3.3)\n",
            "Requirement already satisfied: joblib<2.0.0,>=1.4.0 in /usr/local/lib/python3.11/dist-packages (from node2vec) (1.4.2)\n",
            "Requirement already satisfied: networkx<4.0.0,>=3.1.0 in /usr/local/lib/python3.11/dist-packages (from node2vec) (3.4.2)\n",
            "Requirement already satisfied: numpy<2.0.0,>=1.24.0 in /usr/local/lib/python3.11/dist-packages (from node2vec) (1.26.4)\n",
            "Requirement already satisfied: tqdm<5.0.0,>=4.66.1 in /usr/local/lib/python3.11/dist-packages (from node2vec) (4.67.1)\n",
            "Requirement already satisfied: scipy<1.14.0,>=1.7.0 in /usr/local/lib/python3.11/dist-packages (from gensim<5.0.0,>=4.3.0->node2vec) (1.13.1)\n",
            "Requirement already satisfied: smart-open>=1.8.1 in /usr/local/lib/python3.11/dist-packages (from gensim<5.0.0,>=4.3.0->node2vec) (7.1.0)\n",
            "Requirement already satisfied: wrapt in /usr/local/lib/python3.11/dist-packages (from smart-open>=1.8.1->gensim<5.0.0,>=4.3.0->node2vec) (1.17.2)\n",
            "Full Graph: Nodes = 27770 Edges = 352807\n",
            "Sample Subgraph: Nodes = 300 Edges = 3194\n"
          ]
        },
        {
          "output_type": "display_data",
          "data": {
            "text/plain": [
              "Computing transition probabilities:   0%|          | 0/300 [00:00<?, ?it/s]"
            ],
            "application/vnd.jupyter.widget-view+json": {
              "version_major": 2,
              "version_minor": 0,
              "model_id": "3284b83d4f8942578f36b6e4e536ea45"
            }
          },
          "metadata": {}
        },
        {
          "output_type": "display_data",
          "data": {
            "text/plain": [
              "<Figure size 1400x600 with 2 Axes>"
            ],
            "image/png": "[encoded data removed]"
          },
          "metadata": {}
        }
      ]
    },
    {
      "cell_type": "markdown",
      "source": [
        "## All Quiz Answers\n",
        "\n",
        "**Section 1 Answers:**\n",
        "1. A graph embedding is a method of transforming high-dimensional graph data into a lower-dimensional vector space, preserving essential structural relationships. It is important in machine learning because it enables traditional algorithms to process complex network data effectively.\n",
        "2. The high-energy physics citation network, with its complex interconnections and varied node degrees, motivates the use of graph embeddings by simplifying and revealing hidden patterns within a large-scale network.\n",
        "\n",
        "**Section 2 Answers:**\n",
        "1. Node2Vec introduces a bias in random walks to explore neighborhoods flexibly, whereas DeepWalk employs uniform random walks. This bias in Node2Vec allows it to capture nuanced structural properties.\n",
        "2. Random walks generate sequences that capture the local context of nodes, which can then be leveraged to learn meaningful representations of nodes in the embedding space.\n",
        "\n",
        "**Section 3 Answers:**\n",
        "1. Graph metrics such as centrality and clustering coefficients provide insights into the importance and connectivity of nodes, enhancing the understanding and quality of node embeddings.\n",
        "2. Centrality measures help identify influential nodes, which is critical for understanding the underlying structure and dynamics of the network.\n",
        "\n",
        "**Section 4 Answers:**\n",
        "1. Essential pre-processing steps include cleaning the dataset, selecting a representative sample, and configuring appropriate parameters for the embedding algorithm.\n",
        "2. Visualizations, such as scatter plots of the embedding space, help reveal clusters, trends, and outliers, making it easier to interpret and assess the quality of the embeddings.\n",
        "\n",
        "**Section 5 Answers:**\n",
        "1. Integrating graph embeddings with additional graph metrics combines the strengths of both approaches, leading to more robust analysis and deeper insights into network structure.\n",
        "2. In scenarios like community detection or anomaly detection—where both local node features (from embeddings) and global structural properties (from graph metrics) are critical—an integrated analysis provides a more comprehensive view than using embeddings alone.\n"
      ],
      "metadata": {
        "id": "a4z6_TyLvXQD"
      }
    }
  ]
}