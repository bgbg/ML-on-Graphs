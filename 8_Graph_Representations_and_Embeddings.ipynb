{
  "nbformat": 4,
  "nbformat_minor": 0,
  "metadata": {
    "colab": {
      "provenance": [],
      "include_colab_link": true
    },
    "kernelspec": {
      "name": "python3",
      "display_name": "Python 3"
    },
    "language_info": {
      "name": "python"
    }
  },
  "cells": [
    {
      "cell_type": "markdown",
      "metadata": {
        "id": "view-in-github",
        "colab_type": "text"
      },
      "source": [
        "<a href=\"https://colab.research.google.com/github/ryandale7/ML-on-Graphs/blob/main/8_Graph_Representations_and_Embeddings.ipynb\" target=\"_parent\"><img src=\"https://colab.research.google.com/assets/colab-badge.svg\" alt=\"Open In Colab\"/></a>"
      ]
    },
    {
      "cell_type": "markdown",
      "source": [
        "# Dataset Download and Loading Tutorial\n",
        "\n",
        "This tutorial provides two methods for downloading and loading the Epinions social network dataset into your Google Colab environment: an automated approach and a manual upload approach."
      ],
      "metadata": {
        "id": "RjFyC6ACqgXq"
      }
    },
    {
      "cell_type": "markdown",
      "source": [
        "## Dataset Information\n",
        "\n",
        "**Dataset:** Epinions Social Network\n",
        "\n",
        "**Download Link:** https://snap.stanford.edu/data/soc-Epinions1.txt.gz\n",
        "\n",
        "**Extracted File:** `soc-Epinions1.txt`\n",
        "\n",
        "**Description:** This dataset represents the \"who-trust-whom\" network of Epinions.com, a consumer review site. Users can declare trust relationships with others.\n",
        "\n",
        "**Statistics:**\n",
        "*   Nodes: 75,879\n",
        "*   Edges: 508,837\n",
        "\n",
        "Let's get started!"
      ],
      "metadata": {
        "id": "c-B52vyxqil-"
      }
    },
    {
      "cell_type": "markdown",
      "source": [
        "## Automated Download and Extraction\n",
        "\n",
        "This method will automate the process of downloading and extracting the data directly within your Colab notebook."
      ],
      "metadata": {
        "id": "o2eIdCM8qlCt"
      }
    },
    {
      "cell_type": "code",
      "source": [
        "from google.colab import drive\n",
        "import os\n",
        "\n",
        "# Mount Google Drive\n",
        "drive.mount('/content/drive')\n",
        "\n",
        "# Define the directory to store the dataset\n",
        "DATA_DIR = '/content/drive/MyDrive/Colab Notebooks/Data'\n",
        "\n",
        "# Create the directory if it does not exist\n",
        "os.makedirs(DATA_DIR, exist_ok=True)\n",
        "\n",
        "# Navigate to the directory\n",
        "os.chdir(DATA_DIR)\n",
        "\n",
        "# Download the .gz file using curl\n",
        "!curl -O https://snap.stanford.edu/data/soc-Epinions1.txt.gz\n",
        "\n",
        "# Extract the .gz file using gunzip\n",
        "!gunzip soc-Epinions1.txt.gz\n",
        "\n",
        "# Verify the extracted file\n",
        "!ls"
      ],
      "metadata": {
        "colab": {
          "base_uri": "https://localhost:8080/"
        },
        "id": "r1WDEjM4qmKW",
        "outputId": "f23c68c1-a113-482a-eee2-2d0f900943c6"
      },
      "execution_count": 1,
      "outputs": [
        {
          "output_type": "stream",
          "name": "stdout",
          "text": [
            "Mounted at /content/drive\n",
            "  % Total    % Received % Xferd  Average Speed   Time    Time     Time  Current\n",
            "                                 Dload  Upload   Total   Spent    Left  Speed\n",
            "100 1592k  100 1592k    0     0   930k      0  0:00:01  0:00:01 --:--:--  930k\n",
            "gzip: soc-Epinions1.txt already exists; do you wish to overwrite (y or n)? y\n",
            "cit-HepPh.txt\t\t    congress_network\t  git_web_ml\t\t    soc-sign-bitcoinotc.csv\n",
            "CollegeMsg.txt\t\t    congress_network.zip  lasftm_asia\t\t    soc-Slashdot0811.txt\n",
            "com-amazon.ungraph.txt\t    deezer_ego_nets\t  loc-brightkite_edges.txt  sx-askubuntu.txt\n",
            "com-lj.top5000.cmty.txt     email-Eu-core.txt\t  roadNet-TX.txt\t    sx-superuser.txt\n",
            "com-orkut.top5000.cmty.txt  facebook_large\t  soc-Epinions1.txt\t    web-Stanford.txt\n"
          ]
        }
      ]
    },
    {
      "cell_type": "code",
      "source": [
        "# load the dataset\n",
        "dataset_path = os.path.join(DATA_DIR, 'soc-Epinions1.txt')\n",
        "\n",
        "with open(dataset_path, 'r') as f:\n",
        "    first_five_lines = [next(f).strip() for x in range(5)]\n",
        "\n",
        "print(\"First 5 lines of the dataset:\")\n",
        "print(first_five_lines)\n",
        "\n",
        "print(\"\\nDataset has been downloaded, extracted, and loaded successfully using the automated approach.\")"
      ],
      "metadata": {
        "colab": {
          "base_uri": "https://localhost:8080/"
        },
        "id": "8Jjf7F1pq1Zz",
        "outputId": "2cec4a41-9c25-4ee9-bdd1-972a873aabeb"
      },
      "execution_count": 2,
      "outputs": [
        {
          "output_type": "stream",
          "name": "stdout",
          "text": [
            "First 5 lines of the dataset:\n",
            "['# Directed graph (each unordered pair of nodes is saved once): soc-Epinions1.txt', '# Directed Epinions social network', '# Nodes: 75879 Edges: 508837', '# FromNodeId\\tToNodeId', '0\\t4']\n",
            "\n",
            "Dataset has been downloaded, extracted, and loaded successfully using the automated approach.\n"
          ]
        }
      ]
    },
    {
      "cell_type": "markdown",
      "source": [
        "## Manual Upload Instructions\n",
        "\n",
        "If you prefer to download and extract the data manually, follow these steps:\n",
        "\n",
        "1.  **Download:** Click the download link: [https://snap.stanford.edu/data/soc-Epinions1.txt.gz](https://snap.stanford.edu/data/soc-Epinions1.txt.gz) and save the .gz file to your local machine.\n",
        "\n",
        "2.  **Extract:** Use your local machine's tools to extract `soc-Epinions1.txt` from `soc-Epinions1.txt.gz`. This could be a right-click and unzip option or using the command line tool such as `gunzip soc-Epinions1.txt.gz` on macOS/Linux.\n",
        "\n",
        "3.  **Create Data Directory:** Navigate to your Google Drive. If it doesn't exist, create a folder named \"Colab Notebooks\". Inside this folder, create another folder named \"Data\". If these folders already exist, you can navigate to that folder.\n",
        "\n",
        "4.  **Upload:**  Upload the extracted `soc-Epinions1.txt` into the \"Data\" folder you created in the previous step.\n",
        "\n",
        "5.  **Open Colab Notebook:** Open or create a Colab notebook.\n",
        "\n",
        "6.  **Mount Google Drive and Change Directory:** Run the following code cell to mount your Google Drive and change the directory to your \"Data\" folder:"
      ],
      "metadata": {
        "id": "NoK7QiH4q03I"
      }
    },
    {
      "cell_type": "code",
      "source": [
        "from google.colab import drive\n",
        "import os\n",
        "\n",
        "# Mount Google Drive\n",
        "drive.mount('/content/drive')\n",
        "\n",
        "# Define the directory to store the dataset\n",
        "DATA_DIR = '/content/drive/MyDrive/Colab Notebooks/Data'\n",
        "\n",
        "# Navigate to the directory\n",
        "os.chdir(DATA_DIR)\n",
        "\n",
        "# Verify the contents of the data directory\n",
        "!ls"
      ],
      "metadata": {
        "colab": {
          "base_uri": "https://localhost:8080/"
        },
        "id": "6NN8cqGGq4sP",
        "outputId": "f678b8a8-f5d1-4336-e421-6b4a524fdeb9"
      },
      "execution_count": 3,
      "outputs": [
        {
          "output_type": "stream",
          "name": "stdout",
          "text": [
            "Drive already mounted at /content/drive; to attempt to forcibly remount, call drive.mount(\"/content/drive\", force_remount=True).\n",
            "cit-HepPh.txt\t\t    congress_network\t  git_web_ml\t\t    soc-sign-bitcoinotc.csv\n",
            "CollegeMsg.txt\t\t    congress_network.zip  lasftm_asia\t\t    soc-Slashdot0811.txt\n",
            "com-amazon.ungraph.txt\t    deezer_ego_nets\t  loc-brightkite_edges.txt  sx-askubuntu.txt\n",
            "com-lj.top5000.cmty.txt     email-Eu-core.txt\t  roadNet-TX.txt\t    sx-superuser.txt\n",
            "com-orkut.top5000.cmty.txt  facebook_large\t  soc-Epinions1.txt\t    web-Stanford.txt\n"
          ]
        }
      ]
    },
    {
      "cell_type": "code",
      "source": [
        "# load the dataset\n",
        "dataset_path = os.path.join(DATA_DIR, 'soc-Epinions1.txt')\n",
        "\n",
        "with open(dataset_path, 'r') as f:\n",
        "    first_five_lines = [next(f).strip() for x in range(5)]\n",
        "\n",
        "print(\"First 5 lines of the dataset:\")\n",
        "print(first_five_lines)\n",
        "\n",
        "print(\"\\nDataset has been loaded successfully using the manual approach.\")"
      ],
      "metadata": {
        "colab": {
          "base_uri": "https://localhost:8080/"
        },
        "id": "oDBe9or0q7kD",
        "outputId": "190fcb03-4bb6-4742-c9e5-fc382f2bcb55"
      },
      "execution_count": 4,
      "outputs": [
        {
          "output_type": "stream",
          "name": "stdout",
          "text": [
            "First 5 lines of the dataset:\n",
            "['# Directed graph (each unordered pair of nodes is saved once): soc-Epinions1.txt', '# Directed Epinions social network', '# Nodes: 75879 Edges: 508837', '# FromNodeId\\tToNodeId', '0\\t4']\n",
            "\n",
            "Dataset has been loaded successfully using the manual approach.\n"
          ]
        }
      ]
    },
    {
      "cell_type": "markdown",
      "source": [
        "7.  **Load & Verify the dataset:** Run the cell above to verify you have successfully uploaded the dataset.\n",
        "\n",
        "Now you're ready to use the Epinions dataset in your Colab notebook."
      ],
      "metadata": {
        "id": "oOpTUfpYq-ot"
      }
    },
    {
      "cell_type": "code",
      "source": [
        "# Running black\n",
        "\n",
        "from google.colab import drive\n",
        "\n",
        "\n",
        "# Install nbqa and black (required each new session)\n",
        "!pip install nbqa black\n",
        "\n",
        "# Run nbqa black on the current notebook\n",
        "!nbqa black /content/"
      ],
      "metadata": {
        "colab": {
          "base_uri": "https://localhost:8080/"
        },
        "id": "Bkfj0MtgrBVw",
        "outputId": "69146dd7-0efc-488e-c198-6bbbf7cbc479"
      },
      "execution_count": 27,
      "outputs": [
        {
          "output_type": "stream",
          "name": "stdout",
          "text": [
            "Requirement already satisfied: nbqa in /usr/local/lib/python3.11/dist-packages (1.9.1)\n",
            "Requirement already satisfied: black in /usr/local/lib/python3.11/dist-packages (24.10.0)\n",
            "Requirement already satisfied: autopep8>=1.5 in /usr/local/lib/python3.11/dist-packages (from nbqa) (2.3.2)\n",
            "Requirement already satisfied: ipython>=7.8.0 in /usr/local/lib/python3.11/dist-packages (from nbqa) (7.34.0)\n",
            "Requirement already satisfied: tokenize-rt>=3.2.0 in /usr/local/lib/python3.11/dist-packages (from nbqa) (6.1.0)\n",
            "Requirement already satisfied: tomli in /usr/local/lib/python3.11/dist-packages (from nbqa) (2.2.1)\n",
            "Requirement already satisfied: click>=8.0.0 in /usr/local/lib/python3.11/dist-packages (from black) (8.1.8)\n",
            "Requirement already satisfied: mypy-extensions>=0.4.3 in /usr/local/lib/python3.11/dist-packages (from black) (1.0.0)\n",
            "Requirement already satisfied: packaging>=22.0 in /usr/local/lib/python3.11/dist-packages (from black) (24.2)\n",
            "Requirement already satisfied: pathspec>=0.9.0 in /usr/local/lib/python3.11/dist-packages (from black) (0.12.1)\n",
            "Requirement already satisfied: platformdirs>=2 in /usr/local/lib/python3.11/dist-packages (from black) (4.3.6)\n",
            "Requirement already satisfied: pycodestyle>=2.12.0 in /usr/local/lib/python3.11/dist-packages (from autopep8>=1.5->nbqa) (2.12.1)\n",
            "Requirement already satisfied: setuptools>=18.5 in /usr/local/lib/python3.11/dist-packages (from ipython>=7.8.0->nbqa) (75.1.0)\n",
            "Requirement already satisfied: jedi>=0.16 in /usr/local/lib/python3.11/dist-packages (from ipython>=7.8.0->nbqa) (0.19.2)\n",
            "Requirement already satisfied: decorator in /usr/local/lib/python3.11/dist-packages (from ipython>=7.8.0->nbqa) (4.4.2)\n",
            "Requirement already satisfied: pickleshare in /usr/local/lib/python3.11/dist-packages (from ipython>=7.8.0->nbqa) (0.7.5)\n",
            "Requirement already satisfied: traitlets>=4.2 in /usr/local/lib/python3.11/dist-packages (from ipython>=7.8.0->nbqa) (5.7.1)\n",
            "Requirement already satisfied: prompt-toolkit!=3.0.0,!=3.0.1,<3.1.0,>=2.0.0 in /usr/local/lib/python3.11/dist-packages (from ipython>=7.8.0->nbqa) (3.0.48)\n",
            "Requirement already satisfied: pygments in /usr/local/lib/python3.11/dist-packages (from ipython>=7.8.0->nbqa) (2.18.0)\n",
            "Requirement already satisfied: backcall in /usr/local/lib/python3.11/dist-packages (from ipython>=7.8.0->nbqa) (0.2.0)\n",
            "Requirement already satisfied: matplotlib-inline in /usr/local/lib/python3.11/dist-packages (from ipython>=7.8.0->nbqa) (0.1.7)\n",
            "Requirement already satisfied: pexpect>4.3 in /usr/local/lib/python3.11/dist-packages (from ipython>=7.8.0->nbqa) (4.9.0)\n",
            "Requirement already satisfied: parso<0.9.0,>=0.8.4 in /usr/local/lib/python3.11/dist-packages (from jedi>=0.16->ipython>=7.8.0->nbqa) (0.8.4)\n",
            "Requirement already satisfied: ptyprocess>=0.5 in /usr/local/lib/python3.11/dist-packages (from pexpect>4.3->ipython>=7.8.0->nbqa) (0.7.0)\n",
            "Requirement already satisfied: wcwidth in /usr/local/lib/python3.11/dist-packages (from prompt-toolkit!=3.0.0,!=3.0.1,<3.1.0,>=2.0.0->ipython>=7.8.0->nbqa) (0.2.13)\n",
            "reformatted /content/drive/MyDrive/Colab Notebooks/8. Graph Representations and Embeddings.ipynb\n",
            "\n",
            "All done! ✨ 🍰 ✨\n",
            "1 file reformatted, 15 files left unchanged.\n"
          ]
        }
      ]
    },
    {
      "cell_type": "markdown",
      "source": [
        "## Unit 8: Graph Representations and Embeddings\n",
        "\n",
        "### Section 1: Concept of Graph Embeddings and Their Role in ML\n",
        "\n",
        "#### Objectives\n",
        "*   Define what graph embeddings are and their purpose in machine learning.\n",
        "*   Understand why graph embeddings are important for analyzing graph data.\n",
        "\n",
        "#### Introduction\n",
        "Graph embeddings transform graph data into a low-dimensional space where similar nodes or graphs are placed close to each other. These embeddings enable the application of traditional machine learning techniques. This section introduces the fundamental idea behind graph embeddings.\n",
        "\n",
        "#### Key Concepts\n",
        "*   **Graph embeddings** capture the structural properties of a graph in a vector format. These vectors represent the nodes or the entire graph and capture their position and relationship within the network.\n",
        "*   Embeddings can be used for various downstream tasks such as **node classification**, which classifies the type or category of nodes, **link prediction**, which predicts potential connections between nodes and **graph visualization**, where the embedding makes it easier to see node relationships.\n",
        "*   Embeddings help overcome the limitations of traditional machine learning methods when dealing with relational data by enabling the use of distance-based computations to determine similarity."
      ],
      "metadata": {
        "id": "jZa23PpHsTMs"
      }
    },
    {
      "cell_type": "code",
      "source": [
        "import networkx as nx\n",
        "import numpy as np\n",
        "import os\n",
        "from google.colab import drive\n",
        "\n",
        "# Mount Google Drive\n",
        "drive.mount('/content/drive')\n",
        "\n",
        "# Define the directory to store the dataset\n",
        "DATA_DIR = '/content/drive/MyDrive/Colab Notebooks/Data'\n",
        "\n",
        "# Verify the directory exists and if not create the directory\n",
        "os.makedirs(DATA_DIR, exist_ok=True)\n",
        "\n",
        "# Navigate to the directory\n",
        "os.chdir(DATA_DIR)\n",
        "\n",
        "# Load the dataset\n",
        "dataset_path = os.path.join(DATA_DIR, 'soc-Epinions1.txt')\n",
        "\n",
        "# Load the edges of the dataset\n",
        "edges = []\n",
        "with open(dataset_path, 'r') as f:\n",
        "    for line in f:\n",
        "        line = line.strip()\n",
        "        if line.startswith('#'):\n",
        "            continue  # Skip comments\n",
        "        parts = line.split()\n",
        "        if len(parts) == 2:\n",
        "            try:\n",
        "                node1, node2 = map(int, parts)\n",
        "                edges.append((node1, node2))\n",
        "            except ValueError:\n",
        "                print(f\"Skipping invalid line: {line}\")\n",
        "\n",
        "\n",
        "# Create a graph from the loaded edges\n",
        "G = nx.Graph()\n",
        "G.add_edges_from(edges)\n",
        "\n",
        "# Create an adjacency matrix from a sample of the graph\n",
        "num_nodes = min(100, len(G.nodes))\n",
        "sample_nodes = list(G.nodes)[:num_nodes]\n",
        "subgraph = G.subgraph(sample_nodes)\n",
        "adj_matrix = nx.to_numpy_array(subgraph)\n",
        "\n",
        "print(\"Adjacency Matrix (first few rows):\\n\", adj_matrix[:5, :5])"
      ],
      "metadata": {
        "colab": {
          "base_uri": "https://localhost:8080/"
        },
        "id": "_-96MyXSsUok",
        "outputId": "a70b369c-f882-4fad-8b14-054c51444ed2"
      },
      "execution_count": 8,
      "outputs": [
        {
          "output_type": "stream",
          "name": "stdout",
          "text": [
            "Drive already mounted at /content/drive; to attempt to forcibly remount, call drive.mount(\"/content/drive\", force_remount=True).\n",
            "Adjacency Matrix (first few rows):\n",
            " [[0. 1. 1. 1. 1.]\n",
            " [1. 0. 1. 0. 0.]\n",
            " [1. 1. 0. 0. 1.]\n",
            " [1. 0. 0. 0. 1.]\n",
            " [1. 0. 1. 1. 0.]]\n"
          ]
        }
      ]
    },
    {
      "cell_type": "markdown",
      "source": [
        "#### Code Examples\n",
        "\n",
        "Let’s start by creating a basic graph representation using an adjacency matrix. An adjacency matrix shows all the connections within the graph.  If two nodes are connected there will be a '1' in the matrix, otherwise '0'.  The code below loads the graph data from the Epinions dataset, converts the graph to an adjacency matrix using `NetworkX` and prints the first few rows of the matrix."
      ],
      "metadata": {
        "id": "q3EOGqTYsllf"
      }
    },
    {
      "cell_type": "code",
      "source": [
        "from sklearn.manifold import TSNE\n",
        "import matplotlib.pyplot as plt\n",
        "\n",
        "# Generate random node embeddings as an example\n",
        "num_nodes = len(subgraph.nodes)\n",
        "embedding_dim = 2 # Reduce to two dimensions for visualization\n",
        "node_embeddings = np.random.rand(num_nodes, embedding_dim)\n",
        "\n",
        "# Apply t-SNE for dimensionality reduction\n",
        "tsne = TSNE(n_components=2, random_state=0)\n",
        "node_embeddings_2d = tsne.fit_transform(node_embeddings)\n",
        "\n",
        "# Visualize the embeddings\n",
        "plt.figure(figsize=(8, 6))\n",
        "plt.scatter(node_embeddings_2d[:, 0], node_embeddings_2d[:, 1], c='skyblue')\n",
        "plt.title(\"Visualization of Node Embeddings using t-SNE (Random Embeddings)\")\n",
        "plt.xlabel(\"Dimension 1\")\n",
        "plt.ylabel(\"Dimension 2\")\n",
        "plt.show()"
      ],
      "metadata": {
        "colab": {
          "base_uri": "https://localhost:8080/",
          "height": 564
        },
        "id": "MM4bMsIasmwZ",
        "outputId": "1b8ce714-b91e-4da7-e261-22bf7226c977"
      },
      "execution_count": 9,
      "outputs": [
        {
          "output_type": "display_data",
          "data": {
            "text/plain": [
              "<Figure size 800x600 with 1 Axes>"
            ],
            "image/png": "[encoded data removed]"
          },
          "metadata": {}
        }
      ]
    },
    {
      "cell_type": "markdown",
      "source": [
        "The code above shows how to reduce the high-dimensional embeddings into two-dimensional vector using t-SNE and then visualizes these embeddings using scatter plot. This example uses randomly generated embeddings.\n",
        "\n",
        "#### Observations & Explanations\n",
        "* Graph embeddings enable us to use vector-based methods like distance calculations for ML tasks. For example, using cosine similarity for tasks such as node classification.\n",
        "* They help to preserve the topology and relationships between nodes. Similar nodes in the graph will be close to each other in the embedding space.\n",
        "* High-quality embeddings improve the performance of downstream machine learning tasks. The better the embeddings the better the performance of the model, as they will contain the structural and relational information of the graph.\n",
        "\n",
        "#### Quiz\n",
        "1. What are graph embeddings and what is their purpose?\n",
        "2. List two key applications where graph embeddings are useful?\n",
        "3. What is the main benefit of using embeddings over directly using graph structure?"
      ],
      "metadata": {
        "id": "URL-WgYEsqea"
      }
    },
    {
      "cell_type": "markdown",
      "source": [
        "### Section 2: Node2Vec and DeepWalk Methods for Node Embeddings\n",
        "\n",
        "#### Objectives\n",
        "*   Introduce and explain the Node2Vec and DeepWalk methods.\n",
        "*   Compare and contrast the different embedding strategies of Node2Vec and DeepWalk.\n",
        "\n",
        "#### Introduction\n",
        "Node2Vec and DeepWalk are popular techniques for learning node embeddings. Both methods use random walks to explore the graph structure and learn node embeddings. These embeddings are vectors that capture the structural role and relationships of nodes within the graph. This section delves into how these methods work and how they differ from each other.\n",
        "\n",
        "#### Key Concepts\n",
        "*   **Node2Vec** is a flexible method that uses biased random walks to explore the graph neighborhood. It has two parameters, `p` (return parameter) and `q` (in-out parameter), that allow control over whether to explore breadth-first or depth-first in the local neighborhood of a node.\n",
        "*   **DeepWalk** generates node embeddings by performing unbiased random walks on the graph, treating these random walks as sequences of words. These walks are then used to train a Skip-gram model to learn embeddings.\n",
        "*   **Random walks** help to learn node relationships and structures. Nodes that are often visited together in random walks will be close to each other in the embedding space."
      ],
      "metadata": {
        "id": "K3ibiO--s-Sn"
      }
    },
    {
      "cell_type": "code",
      "source": [
        "import networkx as nx\n",
        "import random\n",
        "import os\n",
        "from google.colab import drive\n",
        "\n",
        "# Mount Google Drive\n",
        "drive.mount('/content/drive')\n",
        "\n",
        "# Define the directory to store the dataset\n",
        "DATA_DIR = '/content/drive/MyDrive/Colab Notebooks/Data'\n",
        "\n",
        "# Verify the directory exists and if not create the directory\n",
        "os.makedirs(DATA_DIR, exist_ok=True)\n",
        "\n",
        "# Navigate to the directory\n",
        "os.chdir(DATA_DIR)\n",
        "\n",
        "# Load the dataset\n",
        "dataset_path = os.path.join(DATA_DIR, 'soc-Epinions1.txt')\n",
        "\n",
        "# Load the edges of the dataset\n",
        "edges = []\n",
        "with open(dataset_path, 'r') as f:\n",
        "    for line in f:\n",
        "        line = line.strip()\n",
        "        if line.startswith('#'):\n",
        "            continue  # Skip comments\n",
        "        parts = line.split()\n",
        "        if len(parts) == 2:\n",
        "            try:\n",
        "                node1, node2 = map(int, parts)\n",
        "                edges.append((node1, node2))\n",
        "            except ValueError:\n",
        "                print(f\"Skipping invalid line: {line}\")\n",
        "\n",
        "\n",
        "# Create a graph from the loaded edges\n",
        "G = nx.Graph()\n",
        "G.add_edges_from(edges)\n",
        "\n",
        "# Sample a graph for random walk\n",
        "sample_nodes = list(G.nodes)[:100]\n",
        "sample_graph = G.subgraph(sample_nodes)\n",
        "\n",
        "def random_walk(graph, start_node, walk_length):\n",
        "    walk = [start_node]\n",
        "    for _ in range(walk_length):\n",
        "        neighbors = list(graph.neighbors(walk[-1]))\n",
        "        if neighbors:\n",
        "            walk.append(random.choice(neighbors))\n",
        "        else:\n",
        "            break\n",
        "    return walk\n",
        "\n",
        "start_node = random.choice(list(sample_graph.nodes))\n",
        "walk = random_walk(sample_graph, start_node, 10)\n",
        "\n",
        "print(\"Random Walk Example:\", walk)"
      ],
      "metadata": {
        "colab": {
          "base_uri": "https://localhost:8080/"
        },
        "id": "fCpdsSactByy",
        "outputId": "4fcdc247-d7b4-4561-a60c-a827162b57db"
      },
      "execution_count": 10,
      "outputs": [
        {
          "output_type": "stream",
          "name": "stdout",
          "text": [
            "Drive already mounted at /content/drive; to attempt to forcibly remount, call drive.mount(\"/content/drive\", force_remount=True).\n",
            "Random Walk Example: [85, 34, 77, 39, 77, 96, 12, 37, 79, 90, 48]\n"
          ]
        }
      ]
    },
    {
      "cell_type": "markdown",
      "source": [
        "#### Code Examples\n",
        "\n",
        "Let's start with implementing random walks on a sample graph. This function will perform a random walk of a specified length starting from the given node. The code above creates a function that shows how to perform random walks on the graph."
      ],
      "metadata": {
        "id": "plf39-OttIE8"
      }
    },
    {
      "cell_type": "code",
      "source": [
        "# Example with gensim\n",
        "\n",
        "try:\n",
        "    from gensim.models import Word2Vec\n",
        "except ImportError:\n",
        "    print(\"gensim not found. Installing...\")\n",
        "    !pip install gensim\n",
        "    from gensim.models import Word2Vec\n",
        "\n",
        "\n",
        "def generate_random_walks(graph, num_walks, walk_length):\n",
        "    walks = []\n",
        "    nodes = list(graph.nodes())\n",
        "    for _ in range(num_walks):\n",
        "        for node in nodes:\n",
        "              walks.append(random_walk(graph, node, walk_length))\n",
        "    return walks\n",
        "\n",
        "# Generate random walks for DeepWalk\n",
        "walks = generate_random_walks(sample_graph, num_walks=10, walk_length=20)\n",
        "\n",
        "# Train DeepWalk model\n",
        "model = Word2Vec(walks, vector_size=10, window=5, min_count=0, sg=1, epochs=10)\n",
        "\n",
        "# Get embeddings of first 5 nodes\n",
        "sample_nodes = list(sample_graph.nodes)[:5]\n",
        "for node in sample_nodes:\n",
        "    print(f\"Embedding of node {node}: {model.wv[node]}\")"
      ],
      "metadata": {
        "colab": {
          "base_uri": "https://localhost:8080/"
        },
        "id": "cpA8WP3jtKBt",
        "outputId": "41ba82c4-026c-4b68-ff50-b2483eefe4ac"
      },
      "execution_count": 11,
      "outputs": [
        {
          "output_type": "stream",
          "name": "stdout",
          "text": [
            "Embedding of node 0: [-0.05944886 -0.02768224  0.51932627  0.04935085  0.2849243  -0.07882757\n",
            "  0.23439106  0.6398079  -0.41710165 -0.7803592 ]\n",
            "Embedding of node 4: [ 0.06899845  0.03256848  0.25518844  0.12396429  0.3802428   0.41407633\n",
            "  0.63507986  0.25995544 -0.5486666  -0.6289804 ]\n",
            "Embedding of node 5: [ 0.22049603  0.03445042  0.35249498 -0.1280721   0.21292803  0.31494263\n",
            "  0.6686035   0.17400733 -0.55086404 -0.6694547 ]\n",
            "Embedding of node 7: [-0.4821108   0.06627332  0.60607034  0.26022312  1.0499487   0.5586999\n",
            " -0.03878224  0.6718773   0.08144591 -1.2757497 ]\n",
            "Embedding of node 8: [-0.20752314  0.11787876  0.38765395  0.30915293  0.8350041   0.11739424\n",
            " -0.04280059  0.6337708  -0.34697065 -1.1525663 ]\n"
          ]
        }
      ]
    },
    {
      "cell_type": "markdown",
      "source": [
        "The code above shows how to create random walks and use those random walks to train a DeepWalk model with the `gensim` library and it shows how to generate embeddings of nodes. This provides an example how random walks are used to create embeddings.\n",
        "\n",
        "#### Observations & Explanations\n",
        "\n",
        "*   **Node2Vec** provides flexibility to explore different neighborhoods by controlling walk parameters. The p and q parameters allow you to choose between breadth first search or depth first search in the local node neighborhood.\n",
        "*   **DeepWalk** is a simpler random walk approach that effectively captures node proximities. It is easy to implement and understand.\n",
        "*   Both methods rely on the Skip-gram model to map random walk sequences to embeddings. The skip-gram model learns to predict the context of the \"words\" in the random walk sequences.\n",
        "\n",
        "#### Practical Activities\n",
        "\n",
        "*   Experiment with different parameters of Node2Vec on the Epinions dataset.\n",
        "*   Visualize Node2Vec and DeepWalk embeddings in a 2D space using t-SNE."
      ],
      "metadata": {
        "id": "fH1gew5EtNpe"
      }
    },
    {
      "cell_type": "code",
      "source": [
        "# Activity: Experimenting with different Node2Vec parameters\n",
        "# Node2Vec is not available in gensim library so not using code for this\n",
        "# You can use other node embedding libraries to implement Node2Vec and experiment with different parameter.\n",
        "# Here we will only generate DeepWalk Embeddings.\n",
        "\n",
        "import matplotlib.pyplot as plt\n",
        "from sklearn.manifold import TSNE\n",
        "import numpy as np\n",
        "try:\n",
        "    from gensim.models import Word2Vec\n",
        "except ImportError:\n",
        "    print(\"gensim not found. Installing...\")\n",
        "    !pip install gensim\n",
        "    from gensim.models import Word2Vec\n",
        "import networkx as nx\n",
        "import random\n",
        "import os\n",
        "from google.colab import drive\n",
        "\n",
        "# Mount Google Drive\n",
        "drive.mount('/content/drive')\n",
        "\n",
        "# Define the directory to store the dataset\n",
        "DATA_DIR = '/content/drive/MyDrive/Colab Notebooks/Data'\n",
        "\n",
        "# Verify the directory exists and if not create the directory\n",
        "os.makedirs(DATA_DIR, exist_ok=True)\n",
        "\n",
        "# Navigate to the directory\n",
        "os.chdir(DATA_DIR)\n",
        "\n",
        "# Load the dataset\n",
        "dataset_path = os.path.join(DATA_DIR, 'soc-Epinions1.txt')\n",
        "\n",
        "# Load the edges of the dataset\n",
        "edges = []\n",
        "with open(dataset_path, 'r') as f:\n",
        "    for line in f:\n",
        "        line = line.strip()\n",
        "        if line.startswith('#'):\n",
        "            continue  # Skip comments\n",
        "        parts = line.split()\n",
        "        if len(parts) == 2:\n",
        "            try:\n",
        "                node1, node2 = map(int, parts)\n",
        "                edges.append((node1, node2))\n",
        "            except ValueError:\n",
        "                print(f\"Skipping invalid line: {line}\")\n",
        "\n",
        "\n",
        "# Create a graph from the loaded edges\n",
        "G = nx.Graph()\n",
        "G.add_edges_from(edges)\n",
        "\n",
        "# Sample a graph for random walk\n",
        "sample_nodes = list(G.nodes)[:100]\n",
        "sample_graph = G.subgraph(sample_nodes)\n",
        "\n",
        "def random_walk(graph, start_node, walk_length):\n",
        "    walk = [start_node]\n",
        "    for _ in range(walk_length):\n",
        "        neighbors = list(graph.neighbors(walk[-1]))\n",
        "        if neighbors:\n",
        "            walk.append(random.choice(neighbors))\n",
        "        else:\n",
        "            break\n",
        "    return walk\n",
        "\n",
        "def generate_random_walks(graph, num_walks, walk_length):\n",
        "    walks = []\n",
        "    nodes = list(graph.nodes())\n",
        "    for _ in range(num_walks):\n",
        "        for node in nodes:\n",
        "              walks.append(random_walk(graph, node, walk_length))\n",
        "    return walks\n",
        "\n",
        "\n",
        "# Generate random walks for DeepWalk\n",
        "walks = generate_random_walks(sample_graph, num_walks=10, walk_length=20)\n",
        "\n",
        "# Train DeepWalk model\n",
        "model = Word2Vec(walks, vector_size=10, window=5, min_count=0, sg=1, epochs=10)\n",
        "\n",
        "\n",
        "# Get embeddings for all nodes\n",
        "all_nodes = list(sample_graph.nodes)\n",
        "node_embeddings = [model.wv[node] for node in all_nodes]\n",
        "\n",
        "# Apply t-SNE for dimensionality reduction\n",
        "tsne = TSNE(n_components=2, random_state=0)\n",
        "node_embeddings_2d = tsne.fit_transform(np.array(node_embeddings))\n",
        "\n",
        "# Visualize the embeddings\n",
        "plt.figure(figsize=(10, 8))\n",
        "plt.scatter(node_embeddings_2d[:, 0], node_embeddings_2d[:, 1], c='skyblue')\n",
        "plt.title(\"Visualization of DeepWalk Embeddings using t-SNE\")\n",
        "plt.xlabel(\"Dimension 1\")\n",
        "plt.ylabel(\"Dimension 2\")\n",
        "plt.show()"
      ],
      "metadata": {
        "colab": {
          "base_uri": "https://localhost:8080/",
          "height": 736
        },
        "id": "z_i0cM_QtPCS",
        "outputId": "bd22f9f4-14d2-4590-d15a-a6c6eb70c585"
      },
      "execution_count": 13,
      "outputs": [
        {
          "output_type": "stream",
          "name": "stdout",
          "text": [
            "Drive already mounted at /content/drive; to attempt to forcibly remount, call drive.mount(\"/content/drive\", force_remount=True).\n"
          ]
        },
        {
          "output_type": "display_data",
          "data": {
            "text/plain": [
              "<Figure size 1000x800 with 1 Axes>"
            ],
            "image/png": "[encoded data removed]"
          },
          "metadata": {}
        }
      ]
    },
    {
      "cell_type": "markdown",
      "source": [
        "Try to change the parameters of `num_walks` and `walk_length` and other parameters in `Word2Vec` and see how that affects the node embedding visualization using t-SNE."
      ],
      "metadata": {
        "id": "FLKQOJyVtdfU"
      }
    },
    {
      "cell_type": "markdown",
      "source": [
        "### Section 3: Features Derived from Graph Metrics\n",
        "\n",
        "#### Objectives\n",
        "*   Explore graph metrics and use them to generate node features.\n",
        "*   Understand how graph metrics capture useful structural information.\n",
        "\n",
        "#### Introduction\n",
        "Graph metrics such as degree, centrality, and clustering coefficients can be used to derive features for machine learning. These features can supplement or replace learned embeddings in downstream tasks. In this section, we will explore how these metrics are calculated and what kind of information they provide about the nodes in the network.\n",
        "\n",
        "#### Key Concepts\n",
        "*   **Node Degree:** This is the number of connections a node has to other nodes. A high degree suggests that the node is well-connected and has many interactions.\n",
        "*   **Centrality Measures:**\n",
        "    *   **Betweenness Centrality:** This measures the number of times a node acts as a bridge along the shortest path between two other nodes. Nodes with high betweenness are often critical to information flow.\n",
        "    *  **Closeness Centrality:** This measures how close a node is to all other nodes in the network. Nodes with high closeness centrality can quickly reach other parts of the network.\n",
        "*   **Clustering Coefficient:** This measures how connected a node's neighbors are. It describes how much nodes form a tightly knit group."
      ],
      "metadata": {
        "id": "U21wZKqXtppv"
      }
    },
    {
      "cell_type": "code",
      "source": [
        "import networkx as nx\n",
        "import os\n",
        "from google.colab import drive\n",
        "\n",
        "# Mount Google Drive\n",
        "drive.mount('/content/drive')\n",
        "\n",
        "# Define the directory to store the dataset\n",
        "DATA_DIR = '/content/drive/MyDrive/Colab Notebooks/Data'\n",
        "\n",
        "# Verify the directory exists and if not create the directory\n",
        "os.makedirs(DATA_DIR, exist_ok=True)\n",
        "\n",
        "# Navigate to the directory\n",
        "os.chdir(DATA_DIR)\n",
        "\n",
        "# Load the dataset\n",
        "dataset_path = os.path.join(DATA_DIR, 'soc-Epinions1.txt')\n",
        "\n",
        "# Load the edges of the dataset\n",
        "edges = []\n",
        "with open(dataset_path, 'r') as f:\n",
        "    for line in f:\n",
        "        line = line.strip()\n",
        "        if line.startswith('#'):\n",
        "            continue  # Skip comments\n",
        "        parts = line.split()\n",
        "        if len(parts) == 2:\n",
        "            try:\n",
        "                node1, node2 = map(int, parts)\n",
        "                edges.append((node1, node2))\n",
        "            except ValueError:\n",
        "                print(f\"Skipping invalid line: {line}\")\n",
        "\n",
        "\n",
        "# Create a graph from the loaded edges\n",
        "G = nx.Graph()\n",
        "G.add_edges_from(edges)\n",
        "\n",
        "\n",
        "# Calculate node degrees\n",
        "degrees = dict(G.degree())\n",
        "print(\"First 10 node degrees:\", list(degrees.items())[:10])"
      ],
      "metadata": {
        "colab": {
          "base_uri": "https://localhost:8080/"
        },
        "id": "TDhCQ0uStrlC",
        "outputId": "3079e8c9-47a5-4978-91e4-6be67ad3190d"
      },
      "execution_count": 14,
      "outputs": [
        {
          "output_type": "stream",
          "name": "stdout",
          "text": [
            "Drive already mounted at /content/drive; to attempt to forcibly remount, call drive.mount(\"/content/drive\", force_remount=True).\n",
            "First 10 node degrees: [(0, 682), (4, 154), (5, 210), (7, 41), (8, 104), (9, 23), (10, 286), (11, 224), (12, 417), (13, 366)]\n"
          ]
        }
      ]
    },
    {
      "cell_type": "markdown",
      "source": [
        "#### Code Examples\n",
        "Let's start by calculating a few graph metrics using NetworkX library, such as node degrees. The code above loads the graph and calculates node degrees, printing the first ten nodes and their degree values."
      ],
      "metadata": {
        "id": "GOhoN98Zu5-h"
      }
    },
    {
      "cell_type": "markdown",
      "source": [
        "\n",
        "#### Quiz\n",
        "1.  How do centrality measures like betweenness centrality help in understanding graphs?\n",
        "2.  What is a clustering coefficient and what kind of information does it represent?\n",
        "3.  Why is it helpful to combine graph metrics and graph embeddings?"
      ],
      "metadata": {
        "id": "b9eg9ibEvkNf"
      }
    },
    {
      "cell_type": "markdown",
      "source": [
        "### Section 4: Hands-on Implementation of Embeddings for a Sample Graph\n",
        "\n",
        "#### Objectives\n",
        "*   Learn the steps to create graph embeddings from a raw dataset.\n",
        "*   Learn to combine graph metrics and learned embeddings.\n",
        "\n",
        "#### Introduction\n",
        "In this section, we will use the Epinions dataset to generate node embeddings. We will then combine node features derived from network metrics with these embeddings. This will provide a practical example of how to create and use graph embeddings.\n",
        "\n",
        "#### Key Concepts\n",
        "*   **Implementing graph representation in NetworkX:** We will use NetworkX to create a graph object from the Epinions dataset's edge list.\n",
        "*   **Using gensim to generate embeddings:** We will use the gensim library, which provides an implementation of the Word2Vec algorithm which can be used to generate embeddings.\n",
        "*   **Combining the embeddings with node features:** We will combine node features like degree and centrality with the learned embeddings to create a richer feature representation."
      ],
      "metadata": {
        "id": "_xwWpp_HwM5U"
      }
    },
    {
      "cell_type": "code",
      "source": [
        "import networkx as nx\n",
        "import random\n",
        "import os\n",
        "from google.colab import drive\n",
        "import numpy as np\n",
        "\n",
        "# Mount Google Drive\n",
        "drive.mount('/content/drive')\n",
        "\n",
        "# Define the directory to store the dataset\n",
        "DATA_DIR = '/content/drive/MyDrive/Colab Notebooks/Data'\n",
        "\n",
        "# Verify the directory exists and if not create the directory\n",
        "os.makedirs(DATA_DIR, exist_ok=True)\n",
        "\n",
        "# Navigate to the directory\n",
        "os.chdir(DATA_DIR)\n",
        "\n",
        "# Load the dataset\n",
        "dataset_path = os.path.join(DATA_DIR, 'soc-Epinions1.txt')\n",
        "\n",
        "# Load the edges of the dataset\n",
        "edges = []\n",
        "with open(dataset_path, 'r') as f:\n",
        "    for line in f:\n",
        "        line = line.strip()\n",
        "        if line.startswith('#'):\n",
        "            continue  # Skip comments\n",
        "        parts = line.split()\n",
        "        if len(parts) == 2:\n",
        "            try:\n",
        "                node1, node2 = map(int, parts)\n",
        "                edges.append((node1, node2))\n",
        "            except ValueError:\n",
        "                print(f\"Skipping invalid line: {line}\")\n",
        "\n",
        "# Create a graph from the loaded edges\n",
        "G = nx.Graph()\n",
        "G.add_edges_from(edges)\n",
        "\n",
        "# Sample graph\n",
        "sample_nodes = list(G.nodes)[:100]\n",
        "sample_graph = G.subgraph(sample_nodes)\n",
        "\n",
        "print(\"Number of nodes in the sample graph:\", len(sample_graph.nodes))\n",
        "print(\"Number of edges in the sample graph:\", len(sample_graph.edges))"
      ],
      "metadata": {
        "colab": {
          "base_uri": "https://localhost:8080/"
        },
        "id": "STQL45UrwPjG",
        "outputId": "01e0acdf-1d4a-448e-9e47-94e3184d48bb"
      },
      "execution_count": 17,
      "outputs": [
        {
          "output_type": "stream",
          "name": "stdout",
          "text": [
            "Drive already mounted at /content/drive; to attempt to forcibly remount, call drive.mount(\"/content/drive\", force_remount=True).\n",
            "Number of nodes in the sample graph: 100\n",
            "Number of edges in the sample graph: 1439\n"
          ]
        }
      ]
    },
    {
      "cell_type": "markdown",
      "source": [
        "#### Code Examples\n",
        "Let's start by creating a NetworkX graph object from the Epinions dataset. We will sample the graph to reduce the computation complexity. The code above loads a sample of the Epinions dataset and creates a NetworkX graph object, then prints the basic statistics."
      ],
      "metadata": {
        "id": "y5CtZVkcwT8T"
      }
    },
    {
      "cell_type": "code",
      "source": [
        "try:\n",
        "    from gensim.models import Word2Vec\n",
        "except ImportError:\n",
        "    print(\"gensim not found. Installing...\")\n",
        "    !pip install gensim\n",
        "    from gensim.models import Word2Vec\n",
        "\n",
        "def random_walk(graph, start_node, walk_length):\n",
        "    walk = [start_node]\n",
        "    for _ in range(walk_length):\n",
        "        neighbors = list(graph.neighbors(walk[-1]))\n",
        "        if neighbors:\n",
        "            walk.append(random.choice(neighbors))\n",
        "        else:\n",
        "            break\n",
        "    return walk\n",
        "\n",
        "def generate_random_walks(graph, num_walks, walk_length):\n",
        "    walks = []\n",
        "    nodes = list(graph.nodes())\n",
        "    for _ in range(num_walks):\n",
        "        for node in nodes:\n",
        "              walks.append(random_walk(graph, node, walk_length))\n",
        "    return walks\n",
        "\n",
        "# Generate random walks\n",
        "walks = generate_random_walks(sample_graph, num_walks=10, walk_length=20)\n",
        "\n",
        "# Train DeepWalk model\n",
        "model = Word2Vec(walks, vector_size=10, window=5, min_count=0, sg=1, epochs=10)\n",
        "\n",
        "\n",
        "# Get node embeddings\n",
        "sample_nodes = list(sample_graph.nodes)[:5]\n",
        "for node in sample_nodes:\n",
        "    print(f\"Embedding of node {node}: {model.wv[node]}\")"
      ],
      "metadata": {
        "colab": {
          "base_uri": "https://localhost:8080/"
        },
        "id": "Aedgesc4wVB5",
        "outputId": "9681c636-15ac-4abc-eef0-bdb4c3cdb4fb"
      },
      "execution_count": 18,
      "outputs": [
        {
          "output_type": "stream",
          "name": "stdout",
          "text": [
            "Embedding of node 0: [ 0.01247215 -0.10400809  0.56559056 -0.18049191 -0.27110544 -0.13757668\n",
            "  0.36582628  0.4657877  -0.7145079  -0.4546649 ]\n",
            "Embedding of node 4: [ 0.12208461 -0.23216967  0.4275323  -0.07759377  0.3009075   0.09010671\n",
            "  0.651351    0.55117965 -0.501836   -0.4156892 ]\n",
            "Embedding of node 5: [ 0.37587816 -0.29420453  0.13275078 -0.28502086  0.13890491 -0.2959694\n",
            "  0.9029978   0.20863903 -0.52580804 -0.26662615]\n",
            "Embedding of node 7: [-0.04093973 -0.876647    0.84024733 -0.14644696  0.37929374 -0.71848935\n",
            " -0.25482732  0.06605365 -1.3083363  -0.33485848]\n",
            "Embedding of node 8: [ 0.01846952 -0.43105993  0.5859985  -0.21920592  0.4372192  -0.94572335\n",
            " -0.22952035  0.44642034 -1.2078085  -0.2239177 ]\n"
          ]
        }
      ]
    },
    {
      "cell_type": "markdown",
      "source": [
        "The code above uses the gensim library to generate node embeddings using the DeepWalk method on a sample of the graph."
      ],
      "metadata": {
        "id": "7SVnaVoywX4d"
      }
    },
    {
      "cell_type": "code",
      "source": [
        "# Combine embeddings with node features\n",
        "degrees = dict(sample_graph.degree())\n",
        "betweenness = nx.betweenness_centrality(sample_graph)\n",
        "\n",
        "combined_features = {}\n",
        "for node in sample_graph.nodes():\n",
        "  embedding = model.wv[node]\n",
        "  degree = degrees.get(node, 0)\n",
        "  betweenness_val = betweenness.get(node, 0)\n",
        "  combined_features[node] = np.concatenate([embedding, [degree], [betweenness_val]])\n",
        "\n",
        "# Print combined features for sample nodes\n",
        "for node in sample_nodes:\n",
        "    print(f\"Combined features of node {node}: {combined_features[node]}\")"
      ],
      "metadata": {
        "colab": {
          "base_uri": "https://localhost:8080/"
        },
        "id": "BRWqmWZ_wZAf",
        "outputId": "70415f30-1f3c-43c7-b35c-66d83a05f540"
      },
      "execution_count": 19,
      "outputs": [
        {
          "output_type": "stream",
          "name": "stdout",
          "text": [
            "Combined features of node 0: [ 1.24721508e-02 -1.04008086e-01  5.65590560e-01 -1.80491909e-01\n",
            " -2.71105438e-01 -1.37576684e-01  3.65826279e-01  4.65787709e-01\n",
            " -7.14507878e-01 -4.54664886e-01  9.90000000e+01  2.29769157e-01]\n",
            "Combined features of node 4: [ 1.22084610e-01 -2.32169673e-01  4.27532285e-01 -7.75937736e-02\n",
            "  3.00907493e-01  9.01067108e-02  6.51350975e-01  5.51179647e-01\n",
            " -5.01836002e-01 -4.15689200e-01  3.50000000e+01  4.56225660e-03]\n",
            "Combined features of node 5: [ 3.75878155e-01 -2.94204533e-01  1.32750779e-01 -2.85020858e-01\n",
            "  1.38904914e-01 -2.95969397e-01  9.02997792e-01  2.08639026e-01\n",
            " -5.25808036e-01 -2.66626149e-01  4.20000000e+01  9.57769507e-03]\n",
            "Combined features of node 7: [-4.09397334e-02 -8.76646996e-01  8.40247333e-01 -1.46446958e-01\n",
            "  3.79293740e-01 -7.18489349e-01 -2.54827321e-01  6.60536513e-02\n",
            " -1.30833626e+00 -3.34858477e-01  6.00000000e+00  4.06069114e-04]\n",
            "Combined features of node 8: [ 1.84695218e-02 -4.31059927e-01  5.85998476e-01 -2.19205916e-01\n",
            "  4.37219203e-01 -9.45723355e-01 -2.29520351e-01  4.46420342e-01\n",
            " -1.20780849e+00 -2.23917693e-01  5.00000000e+00  1.69724455e-04]\n"
          ]
        }
      ]
    },
    {
      "cell_type": "markdown",
      "source": [
        "The code above shows how to combine the learned embeddings with node features such as degree and betweenness centrality to create a combined feature vector.\n",
        "\n",
        "#### Observations & Explanations\n",
        "*   We are using a combination of graph representation in NetworkX and learning graph embeddings with gensim. The graph representation is used to create the graph object and to calculate graph metrics.\n",
        "*   The learned embeddings using DeepWalk can capture some relationship between nodes. Nodes that are closely related in the graph structure will have similar embeddings.\n",
        "*   By combining the embeddings with features derived from graph metrics, we are creating a rich node representation that contains both the structural (graph metrics) and relational information (graph embedding) of a given node.\n",
        "\n",
        "#### Practical Activities\n",
        "*   Use graph metrics (degree, betweenness) and combine with the learned embedding in a downstream task such as node classification.\n",
        "*   Visualize the combined embedding using dimensionality reduction techniques such as t-SNE."
      ],
      "metadata": {
        "id": "b-evRmvcwbPt"
      }
    },
    {
      "cell_type": "code",
      "source": [
        "import matplotlib.pyplot as plt\n",
        "from sklearn.manifold import TSNE\n",
        "\n",
        "# Prepare combined feature matrix for t-SNE\n",
        "feature_matrix = np.array(list(combined_features.values()))\n",
        "\n",
        "# Apply t-SNE for dimensionality reduction\n",
        "tsne = TSNE(n_components=2, random_state=0)\n",
        "reduced_features = tsne.fit_transform(feature_matrix)\n",
        "\n",
        "# Visualize the reduced features\n",
        "plt.figure(figsize=(10, 8))\n",
        "plt.scatter(reduced_features[:, 0], reduced_features[:, 1], c='skyblue')\n",
        "plt.title(\"Visualization of Combined Features using t-SNE\")\n",
        "plt.xlabel(\"Dimension 1\")\n",
        "plt.ylabel(\"Dimension 2\")\n",
        "plt.show()"
      ],
      "metadata": {
        "colab": {
          "base_uri": "https://localhost:8080/",
          "height": 718
        },
        "id": "6VewRL2RwdBG",
        "outputId": "12e2b5b5-593b-4a8d-abda-ea26bb0ac35b"
      },
      "execution_count": 20,
      "outputs": [
        {
          "output_type": "display_data",
          "data": {
            "text/plain": [
              "<Figure size 1000x800 with 1 Axes>"
            ],
            "image/png": "[encoded data removed]"
          },
          "metadata": {}
        }
      ]
    },
    {
      "cell_type": "markdown",
      "source": [
        "Try changing the number of dimensions in the embedding, or change the number of nodes used for visualization to see the impact of the combined features on the final visualization. Also experiment with different combinations of node features."
      ],
      "metadata": {
        "id": "z5mzkRzzwe5k"
      }
    },
    {
      "cell_type": "markdown",
      "source": [
        "### Section 5: Evaluation and Applications of Graph Embeddings\n",
        "\n",
        "#### Objectives\n",
        "*   Understand the methods to evaluate the quality of graph embeddings.\n",
        "*   Explore the applications of graph embeddings in real-world scenarios.\n",
        "\n",
        "#### Introduction\n",
        "Evaluating graph embeddings is necessary to determine their effectiveness and to understand how well they capture the underlying graph structure. In this section, we will look at methods to evaluate the quality of graph embeddings and we will explore the various applications of graph embeddings in real-world scenarios.\n",
        "\n",
        "#### Key Concepts\n",
        "*   **Downstream task performance evaluation:** We can evaluate graph embeddings by using them in a machine learning task, such as node classification or link prediction and measuring the performance of the model.\n",
        "*   **Qualitative assessment using visualization techniques:** Techniques like t-SNE can be used to visualize the node embeddings in a lower dimensional space (2D or 3D), allowing a visual inspection to see if similar nodes cluster close to each other.\n",
        "*   **Applications of embeddings:** Graph embeddings have numerous applications in various fields, such as recommender systems, link prediction, social network analysis, and drug discovery."
      ],
      "metadata": {
        "id": "HSz_6AjkwrMV"
      }
    },
    {
      "cell_type": "code",
      "source": [
        "import networkx as nx\n",
        "import random\n",
        "import os\n",
        "from google.colab import drive\n",
        "import numpy as np\n",
        "from sklearn.model_selection import train_test_split\n",
        "from sklearn.linear_model import LogisticRegression\n",
        "from sklearn.metrics import accuracy_score\n",
        "from sklearn.preprocessing import StandardScaler\n",
        "\n",
        "\n",
        "# Mount Google Drive\n",
        "drive.mount('/content/drive')\n",
        "\n",
        "# Define the directory to store the dataset\n",
        "DATA_DIR = '/content/drive/MyDrive/Colab Notebooks/Data'\n",
        "\n",
        "# Verify the directory exists and if not create the directory\n",
        "os.makedirs(DATA_DIR, exist_ok=True)\n",
        "\n",
        "# Navigate to the directory\n",
        "os.chdir(DATA_DIR)\n",
        "\n",
        "# Load the dataset\n",
        "dataset_path = os.path.join(DATA_DIR, 'soc-Epinions1.txt')\n",
        "\n",
        "# Load the edges of the dataset\n",
        "edges = []\n",
        "with open(dataset_path, 'r') as f:\n",
        "    for line in f:\n",
        "        line = line.strip()\n",
        "        if line.startswith('#'):\n",
        "            continue  # Skip comments\n",
        "        parts = line.split()\n",
        "        if len(parts) == 2:\n",
        "            try:\n",
        "                node1, node2 = map(int, parts)\n",
        "                edges.append((node1, node2))\n",
        "            except ValueError:\n",
        "                print(f\"Skipping invalid line: {line}\")\n",
        "\n",
        "# Create a graph from the loaded edges\n",
        "G = nx.Graph()\n",
        "G.add_edges_from(edges)\n",
        "\n",
        "# Sample graph\n",
        "sample_nodes = list(G.nodes)[:100]\n",
        "sample_graph = G.subgraph(sample_nodes)\n",
        "\n",
        "try:\n",
        "    from gensim.models import Word2Vec\n",
        "except ImportError:\n",
        "    print(\"gensim not found. Installing...\")\n",
        "    !pip install gensim\n",
        "    from gensim.models import Word2Vec\n",
        "\n",
        "def random_walk(graph, start_node, walk_length):\n",
        "    walk = [start_node]\n",
        "    for _ in range(walk_length):\n",
        "        neighbors = list(graph.neighbors(walk[-1]))\n",
        "        if neighbors:\n",
        "            walk.append(random.choice(neighbors))\n",
        "        else:\n",
        "            break\n",
        "    return walk\n",
        "\n",
        "def generate_random_walks(graph, num_walks, walk_length):\n",
        "    walks = []\n",
        "    nodes = list(graph.nodes())\n",
        "    for _ in range(num_walks):\n",
        "        for node in nodes:\n",
        "              walks.append(random_walk(graph, node, walk_length))\n",
        "    return walks\n",
        "\n",
        "# Generate random walks\n",
        "walks = generate_random_walks(sample_graph, num_walks=10, walk_length=20)\n",
        "\n",
        "# Train DeepWalk model\n",
        "model = Word2Vec(walks, vector_size=10, window=5, min_count=0, sg=1, epochs=10)\n",
        "\n",
        "\n",
        "# Get node embeddings\n",
        "degrees = dict(sample_graph.degree())\n",
        "betweenness = nx.betweenness_centrality(sample_graph)\n",
        "combined_features = {}\n",
        "for node in sample_graph.nodes():\n",
        "  embedding = model.wv[node]\n",
        "  degree = degrees.get(node, 0)\n",
        "  betweenness_val = betweenness.get(node, 0)\n",
        "  combined_features[node] = np.concatenate([embedding, [degree], [betweenness_val]])\n",
        "\n",
        "# Create node labels for node classification (example)\n",
        "# using node degree\n",
        "node_labels = {node: 1 if degrees.get(node, 0) > np.mean(list(degrees.values())) else 0 for node in sample_graph.nodes}"
      ],
      "metadata": {
        "colab": {
          "base_uri": "https://localhost:8080/"
        },
        "id": "6hAGv2TPwsq3",
        "outputId": "fe9037c4-a979-4b16-8cba-7ba0c3b3a270"
      },
      "execution_count": 22,
      "outputs": [
        {
          "output_type": "stream",
          "name": "stdout",
          "text": [
            "Drive already mounted at /content/drive; to attempt to forcibly remount, call drive.mount(\"/content/drive\", force_remount=True).\n"
          ]
        }
      ]
    },
    {
      "cell_type": "markdown",
      "source": [
        "#### Code Examples\n",
        "\n",
        "Let's evaluate the embedding by using them in a supervised learning task, such as node classification.  In this case, nodes will be classified based on their degree relative to the average degree of the graph.  The code above loads the graph dataset, creates node embeddings, then prepares node labels for the node classification task using degree centrality."
      ],
      "metadata": {
        "id": "ZpCPncQow1cm"
      }
    },
    {
      "cell_type": "code",
      "source": [
        "# Prepare the data for logistic regression\n",
        "X = np.array([combined_features[node] for node in sample_graph.nodes])\n",
        "y = np.array([node_labels[node] for node in sample_graph.nodes])\n",
        "\n",
        "# Scale the features\n",
        "scaler = StandardScaler()\n",
        "X_scaled = scaler.fit_transform(X)\n",
        "\n",
        "# Split data into train and test sets\n",
        "X_train, X_test, y_train, y_test = train_test_split(X_scaled, y, test_size=0.2, random_state=42)\n",
        "\n",
        "# Train logistic regression model\n",
        "model = LogisticRegression(random_state=42)\n",
        "model.fit(X_train, y_train)\n",
        "\n",
        "# Predict the test set\n",
        "y_pred = model.predict(X_test)\n",
        "\n",
        "# Calculate the accuracy\n",
        "accuracy = accuracy_score(y_test, y_pred)\n",
        "print(f\"Accuracy: {accuracy:.2f}\")"
      ],
      "metadata": {
        "colab": {
          "base_uri": "https://localhost:8080/"
        },
        "id": "iHlpjsw1w2bL",
        "outputId": "8d8d5127-2503-4556-f843-f7374ab1fd87"
      },
      "execution_count": 23,
      "outputs": [
        {
          "output_type": "stream",
          "name": "stdout",
          "text": [
            "Accuracy: 0.95\n"
          ]
        }
      ]
    },
    {
      "cell_type": "markdown",
      "source": [
        "The code above trains a logistic regression model using the combined embeddings and node features and evaluates the performance of the classifier using accuracy."
      ],
      "metadata": {
        "id": "JbIvl4hIw4uA"
      }
    },
    {
      "cell_type": "code",
      "source": [
        "import matplotlib.pyplot as plt\n",
        "from sklearn.manifold import TSNE\n",
        "\n",
        "# Prepare combined feature matrix for t-SNE\n",
        "feature_matrix = np.array(list(combined_features.values()))\n",
        "\n",
        "# Apply t-SNE for dimensionality reduction\n",
        "tsne = TSNE(n_components=2, random_state=0)\n",
        "reduced_features = tsne.fit_transform(feature_matrix)\n",
        "\n",
        "# Visualize the reduced features with labels\n",
        "plt.figure(figsize=(10, 8))\n",
        "scatter = plt.scatter(reduced_features[:, 0], reduced_features[:, 1], c=y, cmap='coolwarm')\n",
        "plt.title(\"Visualization of Combined Features using t-SNE\")\n",
        "plt.xlabel(\"Dimension 1\")\n",
        "plt.ylabel(\"Dimension 2\")\n",
        "plt.legend(*scatter.legend_elements(), title=\"Node Class\")\n",
        "plt.show()"
      ],
      "metadata": {
        "colab": {
          "base_uri": "https://localhost:8080/",
          "height": 718
        },
        "id": "Yt76bA1Dw53O",
        "outputId": "edef955f-1e7c-4bd9-e44c-39bcc46771d9"
      },
      "execution_count": 24,
      "outputs": [
        {
          "output_type": "display_data",
          "data": {
            "text/plain": [
              "<Figure size 1000x800 with 1 Axes>"
            ],
            "image/png": "[encoded data removed]"
          },
          "metadata": {}
        }
      ]
    },
    {
      "cell_type": "markdown",
      "source": [
        "The code above visualizes the combined features using t-SNE, with different colors representing different node classes based on the labels we created earlier. This visualization helps to see the clusters formed in the embedding space.\n",
        "\n",
        "#### Observations & Explanations\n",
        "*   Visual evaluation helps verify whether similar nodes are close in the embedding space. Clusters of similar nodes in visualization is a good indicator of embedding quality.\n",
        "*   Good embeddings will improve performance in downstream tasks. High accuracy in node classification or other downstream tasks is a good indicator of embedding quality.\n",
        "*   Graph embeddings are flexible and can be used in many applications, like social network analysis, recommendation systems, and bioinformatics.\n",
        "\n",
        "#### Practical Activities\n",
        "*   Apply Node2Vec or DeepWalk embeddings to a node classification task on the Epinions dataset.\n",
        "*   Evaluate the performance of the classifier."
      ],
      "metadata": {
        "id": "xR4R_3E3w7xV"
      }
    },
    {
      "cell_type": "code",
      "source": [
        "# Apply Node2Vec or DeepWalk embeddings to a node classification task on the Epinions dataset.\n",
        "\n",
        "from sklearn.model_selection import train_test_split\n",
        "from sklearn.linear_model import LogisticRegression\n",
        "from sklearn.metrics import accuracy_score\n",
        "from sklearn.preprocessing import StandardScaler\n",
        "import matplotlib.pyplot as plt\n",
        "from sklearn.manifold import TSNE\n",
        "import networkx as nx\n",
        "import random\n",
        "import os\n",
        "from google.colab import drive\n",
        "import numpy as np\n",
        "try:\n",
        "    from gensim.models import Word2Vec\n",
        "except ImportError:\n",
        "    print(\"gensim not found. Installing...\")\n",
        "    !pip install gensim\n",
        "    from gensim.models import Word2Vec\n",
        "\n",
        "\n",
        "# Mount Google Drive\n",
        "drive.mount('/content/drive')\n",
        "\n",
        "# Define the directory to store the dataset\n",
        "DATA_DIR = '/content/drive/MyDrive/Colab Notebooks/Data'\n",
        "\n",
        "# Verify the directory exists and if not create the directory\n",
        "os.makedirs(DATA_DIR, exist_ok=True)\n",
        "\n",
        "# Navigate to the directory\n",
        "os.chdir(DATA_DIR)\n",
        "\n",
        "# Load the dataset\n",
        "dataset_path = os.path.join(DATA_DIR, 'soc-Epinions1.txt')\n",
        "\n",
        "# Load the edges of the dataset\n",
        "edges = []\n",
        "with open(dataset_path, 'r') as f:\n",
        "    for line in f:\n",
        "        line = line.strip()\n",
        "        if line.startswith('#'):\n",
        "            continue  # Skip comments\n",
        "        parts = line.split()\n",
        "        if len(parts) == 2:\n",
        "            try:\n",
        "                node1, node2 = map(int, parts)\n",
        "                edges.append((node1, node2))\n",
        "            except ValueError:\n",
        "                print(f\"Skipping invalid line: {line}\")\n",
        "\n",
        "# Create a graph from the loaded edges\n",
        "G = nx.Graph()\n",
        "G.add_edges_from(edges)\n",
        "\n",
        "# Sample graph\n",
        "sample_nodes = list(G.nodes)[:100]\n",
        "sample_graph = G.subgraph(sample_nodes)\n",
        "\n",
        "def random_walk(graph, start_node, walk_length):\n",
        "    walk = [start_node]\n",
        "    for _ in range(walk_length):\n",
        "        neighbors = list(graph.neighbors(walk[-1]))\n",
        "        if neighbors:\n",
        "            walk.append(random.choice(neighbors))\n",
        "        else:\n",
        "            break\n",
        "    return walk\n",
        "\n",
        "def generate_random_walks(graph, num_walks, walk_length):\n",
        "    walks = []\n",
        "    nodes = list(graph.nodes())\n",
        "    for _ in range(num_walks):\n",
        "        for node in nodes:\n",
        "              walks.append(random_walk(graph, node, walk_length))\n",
        "    return walks\n",
        "\n",
        "# Generate random walks\n",
        "walks = generate_random_walks(sample_graph, num_walks=10, walk_length=20)\n",
        "\n",
        "# Train DeepWalk model\n",
        "model_deepwalk = Word2Vec(walks, vector_size=10, window=5, min_count=0, sg=1, epochs=10)\n",
        "\n",
        "\n",
        "# Get node embeddings\n",
        "degrees = dict(sample_graph.degree())\n",
        "betweenness = nx.betweenness_centrality(sample_graph)\n",
        "combined_features = {}\n",
        "for node in sample_graph.nodes():\n",
        "  embedding = model_deepwalk.wv[node]\n",
        "  degree = degrees.get(node, 0)\n",
        "  betweenness_val = betweenness.get(node, 0)\n",
        "  combined_features[node] = np.concatenate([embedding, [degree], [betweenness_val]])\n",
        "\n",
        "# Create node labels for node classification (example)\n",
        "# using node degree\n",
        "node_labels = {node: 1 if degrees.get(node, 0) > np.mean(list(degrees.values())) else 0 for node in sample_graph.nodes}\n",
        "\n",
        "\n",
        "# Prepare the data for logistic regression\n",
        "X = np.array([model_deepwalk.wv[node] for node in sample_graph.nodes])\n",
        "y = np.array([node_labels[node] for node in sample_graph.nodes])\n",
        "\n",
        "\n",
        "# Scale the features\n",
        "scaler = StandardScaler()\n",
        "X_scaled = scaler.fit_transform(X)\n",
        "\n",
        "# Split data into train and test sets\n",
        "X_train, X_test, y_train, y_test = train_test_split(X_scaled, y, test_size=0.2, random_state=42)\n",
        "\n",
        "# Train logistic regression model\n",
        "model_log = LogisticRegression(random_state=42)\n",
        "model_log.fit(X_train, y_train)\n",
        "\n",
        "# Predict the test set\n",
        "y_pred = model_log.predict(X_test)\n",
        "\n",
        "# Calculate the accuracy\n",
        "accuracy = accuracy_score(y_test, y_pred)\n",
        "print(f\"Accuracy using only DeepWalk Embeddings: {accuracy:.2f}\")\n",
        "\n",
        "# Apply t-SNE for visualization\n",
        "tsne = TSNE(n_components=2, random_state=0)\n",
        "reduced_features = tsne.fit_transform(X)\n",
        "\n",
        "# Visualize the reduced features\n",
        "plt.figure(figsize=(10, 8))\n",
        "scatter = plt.scatter(reduced_features[:, 0], reduced_features[:, 1], c=y, cmap='coolwarm')\n",
        "plt.title(\"Visualization of DeepWalk Embeddings using t-SNE\")\n",
        "plt.xlabel(\"Dimension 1\")\n",
        "plt.ylabel(\"Dimension 2\")\n",
        "plt.legend(*scatter.legend_elements(), title=\"Node Class\")\n",
        "plt.show()"
      ],
      "metadata": {
        "colab": {
          "base_uri": "https://localhost:8080/",
          "height": 754
        },
        "id": "7xVG34AYw9zh",
        "outputId": "6fe669f6-e12c-45f6-89fa-9dbcc3258070"
      },
      "execution_count": 26,
      "outputs": [
        {
          "output_type": "stream",
          "name": "stdout",
          "text": [
            "Drive already mounted at /content/drive; to attempt to forcibly remount, call drive.mount(\"/content/drive\", force_remount=True).\n",
            "Accuracy using only DeepWalk Embeddings: 0.75\n"
          ]
        },
        {
          "output_type": "display_data",
          "data": {
            "text/plain": [
              "<Figure size 1000x800 with 1 Axes>"
            ],
            "image/png": "[encoded data removed]"
          },
          "metadata": {}
        }
      ]
    },
    {
      "cell_type": "markdown",
      "source": [
        "Try to change the number of dimensions in the embedding, number of random walks, and the size of the training data, and observe the change in the performance of the model and visualization.\n",
        "\n",
        "#### Quiz\n",
        "1. Why is it important to evaluate the quality of graph embeddings?\n",
        "2. Name two applications where graph embeddings are used.\n",
        "3. What evaluation metrics are relevant for testing if an embedding technique is good?"
      ],
      "metadata": {
        "id": "dpg-mHJnxQDQ"
      }
    },
    {
      "cell_type": "markdown",
      "source": [
        "## Answers to Quizzes\n",
        "\n",
        "Here are the answers to the quizzes in the previous sections.\n",
        "\n",
        "### Section 1: Concept of Graph Embeddings and Their Role in ML\n",
        "\n",
        "1.  **What are graph embeddings and what is their purpose?**\n",
        "    *   Graph embeddings are vector representations of nodes or graphs that capture their structural properties in a low-dimensional space. They are used to enable the application of machine learning techniques on graph data.\n",
        "\n",
        "2.  **List two key applications where graph embeddings are useful?**\n",
        "    *   Graph embeddings are useful for node classification, link prediction, and graph visualization.\n",
        "\n",
        "3.  **What is the main benefit of using embeddings over directly using graph structure?**\n",
        "    *   The main benefit is that embeddings convert the graph structure into a vector format that enables the use of traditional machine learning algorithms and distance calculations.\n",
        "\n",
        "### Section 2: Node2Vec and DeepWalk Methods for Node Embeddings\n",
        "\n",
        "1.  **How do centrality measures like betweenness centrality help in understanding graphs?**\n",
        "    *   Betweenness centrality helps in identifying critical nodes that act as bridges along the shortest paths between other nodes, which can show nodes that control the flow of information.\n",
        "\n",
        "2.  **What is a clustering coefficient and what kind of information does it represent?**\n",
        "    *   A clustering coefficient measures how connected a node's neighbors are, indicating how tightly-knit a local community or group around a node is.\n",
        "\n",
        "3.  **Why is it helpful to combine graph metrics and graph embeddings?**\n",
        "    *   It is helpful to combine graph metrics and embeddings because they capture different types of information about nodes. Graph metrics capture node's local and global structural properties, whereas graph embeddings capture node proximities based on network topology. Combining them provides richer node representation.\n",
        "\n",
        "### Section 3: Features Derived from Graph Metrics\n",
        "1.  **How do centrality measures like betweenness centrality help in understanding graphs?**\n",
        "     * Betweenness centrality identifies nodes that act as bridges along the shortest paths between other nodes, highlighting their importance in network connectivity and information flow.\n",
        "2.  **What is a clustering coefficient and what kind of information does it represent?**\n",
        "    *   A clustering coefficient measures how connected a node's neighbors are, indicating the density of connections in its local neighborhood and forming closely knit groups.\n",
        "3.  **Why is it helpful to combine graph metrics and graph embeddings?**\n",
        "    *   Combining graph metrics and embeddings is beneficial as metrics capture structural properties like node importance and connectivity, while embeddings capture node relationships and proximities, providing a richer representation for machine learning tasks.\n",
        "\n",
        "### Section 4: Hands-on Implementation of Embeddings for a Sample Graph\n",
        "There is no quiz for this section.\n",
        "\n",
        "### Section 5: Evaluation and Applications of Graph Embeddings\n",
        "1. **Why is it important to evaluate the quality of graph embeddings?**\n",
        "    * It is important to evaluate the quality of graph embeddings because it helps in determining how well they capture the structural information of the graph and if they are suitable for a given task.\n",
        "\n",
        "2.  **Name two applications where graph embeddings are used.**\n",
        "    *  Graph embeddings are used in recommender systems, link prediction, social network analysis, and drug discovery.\n",
        "\n",
        "3.  **What evaluation metrics are relevant for testing if an embedding technique is good?**\n",
        "    * Evaluation metrics include the performance of node classification, link prediction or other downstream tasks. Qualitative evaluation can be done using visualization techniques such as t-SNE."
      ],
      "metadata": {
        "id": "mgZobS8bxYUK"
      }
    }
  ]
}