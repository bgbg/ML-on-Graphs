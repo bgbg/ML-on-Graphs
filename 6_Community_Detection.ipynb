{
  "nbformat": 4,
  "nbformat_minor": 0,
  "metadata": {
    "colab": {
      "provenance": [],
      "authorship_tag": "ABX9TyOKLgtGIauzGc3FRzBLClni",
      "include_colab_link": true
    },
    "kernelspec": {
      "name": "python3",
      "display_name": "Python 3"
    },
    "language_info": {
      "name": "python"
    }
  },
  "cells": [
    {
      "cell_type": "markdown",
      "metadata": {
        "id": "view-in-github",
        "colab_type": "text"
      },
      "source": [
        "<a href=\"https://colab.research.google.com/github/ryandale7/ML-on-Graphs/blob/main/6_Community_Detection.ipynb\" target=\"_parent\"><img src=\"https://colab.research.google.com/assets/colab-badge.svg\" alt=\"Open In Colab\"/></a>"
      ]
    },
    {
      "cell_type": "markdown",
      "source": [
        "# **Prerequisites: Data Download and Setup**\n",
        "\n",
        "This tutorial demonstrates two methods of obtaining and loading the LiveJournal social network dataset. We will cover:\n",
        "\n",
        "1. **Automated Download and Extraction**  \n",
        "2. **Manual Upload Instructions**  \n",
        "3. **Verifying the Dataset**  \n",
        "4. **Running Black** to format notebooks\n",
        "\n",
        "---\n",
        "\n",
        "## **Automated Download and Extraction**\n",
        "\n",
        "1. Mount Google Drive in your Colab environment.  \n",
        "2. Create or navigate to a `Data` folder under `Colab Notebooks`.  \n",
        "3. Use `curl` to download the `.gz` file from the repository.  \n",
        "4. Extract (unzip) the `.gz` file using `gunzip`.  \n",
        "5. Verify that the extracted file (`com-lj.top5000.cmty.txt`) exists.  \n",
        "6. Load and inspect the dataset.\n"
      ],
      "metadata": {
        "id": "HGDIWm7xeJQn"
      }
    },
    {
      "cell_type": "code",
      "source": [
        "# Automated Download and Extraction\n",
        "\n",
        "# 1. Mount Google Drive\n",
        "from google.colab import drive\n",
        "drive.mount('/content/drive')\n",
        "\n",
        "# 2. Change directory to 'Colab Notebooks' (adjust if your folder name differs)\n",
        "%cd \"/content/drive/My Drive/Colab Notebooks\"\n",
        "\n",
        "# 3. Create a Data folder if it doesn't exist, then navigate into it\n",
        "!mkdir -p Data\n",
        "%cd Data\n",
        "\n",
        "# 4. Download the dataset using curl\n",
        "!curl -O https://snap.stanford.edu/data/bigdata/communities/com-lj.top5000.cmty.txt.gz\n",
        "\n",
        "# 5. Extract the file\n",
        "!gunzip com-lj.top5000.cmty.txt.gz\n",
        "\n",
        "# 6. Verify the extracted file\n",
        "!ls -lh\n",
        "\n",
        "# 7. Basic load of the dataset (each line in the file lists the node IDs of one community)\n",
        "with open('com-lj.top5000.cmty.txt', 'r') as f:\n",
        "    communities = [line.strip().split() for line in f if line.strip()]\n",
        "\n",
        "print(f\"Loaded {len(communities)} communities from the file.\")\n",
        "print(\"First 2 communities:\")\n",
        "for i in range(2):\n",
        "    print(communities[i])\n"
      ],
      "metadata": {
        "colab": {
          "base_uri": "https://localhost:8080/"
        },
        "id": "g2D9SoTdeUKT",
        "outputId": "9978e742-c645-4875-a7ca-9e78da106798"
      },
      "execution_count": 1,
      "outputs": [
        {
          "output_type": "stream",
          "name": "stdout",
          "text": [
            "Mounted at /content/drive\n",
            "/content/drive/My Drive/Colab Notebooks\n",
            "/content/drive/My Drive/Colab Notebooks/Data\n",
            "  % Total    % Received % Xferd  Average Speed   Time    Time     Time  Current\n",
            "                                 Dload  Upload   Total   Spent    Left  Speed\n",
            "100  276k  100  276k    0     0   654k      0 --:--:-- --:--:-- --:--:--  654k\n",
            "gzip: com-lj.top5000.cmty.txt already exists; do you wish to overwrite (y or n)? y\n",
            "total 192M\n",
            "-rw------- 1 root root 6.4M Jan 10 19:22 cit-HepPh.txt\n",
            "-rw------- 1 root root 1.1M Jan 16 12:52 CollegeMsg.txt\n",
            "-rw------- 1 root root  13M Jan 10 18:46 com-amazon.ungraph.txt\n",
            "-rw------- 1 root root 1.1M Jan 16 18:57 com-lj.top5000.cmty.txt\n",
            "-rw------- 1 root root 7.5M Jan 10 19:22 com-orkut.top5000.cmty.txt\n",
            "drwx------ 2 root root 4.0K Jan  6 14:56 congress_network\n",
            "-rw------- 1 root root 190K Jan 16 10:36 congress_network.zip\n",
            "drwx------ 2 root root 4.0K Jan 10 19:12 deezer_ego_nets\n",
            "-rw------- 1 root root 189K Jan 16 10:47 email-Eu-core.txt\n",
            "drwx------ 2 root root 4.0K Jan 10 19:22 facebook_large\n",
            "drwx------ 2 root root 4.0K Jan 10 18:45 git_web_ml\n",
            "drwx------ 2 root root 4.0K Jan 10 19:22 lasftm_asia\n",
            "-rw------- 1 root root 4.4M Jan 10 19:11 loc-brightkite_edges.txt\n",
            "-rw------- 1 root root  57M Jan 10 19:02 roadNet-TX.txt\n",
            "-rw------- 1 root root 5.5M Jan 10 19:22 soc-Epinions1.txt\n",
            "-rw------- 1 root root 988K Jan 16 10:49 soc-sign-bitcoinotc.csv\n",
            "-rw------- 1 root root  11M Jan 10 19:22 soc-Slashdot0811.txt\n",
            "-rw------- 1 root root  22M Jan 10 19:11 sx-askubuntu.txt\n",
            "-rw------- 1 root root  33M Jan 10 19:11 sx-superuser.txt\n",
            "-rw------- 1 root root  32M Jan 10 19:01 web-Stanford.txt\n",
            "Loaded 5000 communities from the file.\n",
            "First 2 communities:\n",
            "['1852932', '1996272', '3314431']\n",
            "['1173600', '4016759', '4016760']\n"
          ]
        }
      ]
    },
    {
      "cell_type": "markdown",
      "source": [
        "## **Manual Upload Instructions**\n",
        "\n",
        "If you cannot or prefer not to download via `curl`:\n",
        "\n",
        "1. **Download** the file from the repository to your local computer:  \n",
        "   [https://snap.stanford.edu/data/bigdata/communities/com-lj.top5000.cmty.txt.gz](https://snap.stanford.edu/data/bigdata/communities/com-lj.top5000.cmty.txt.gz)\n",
        "\n",
        "2. **Extract** it locally (e.g., right-click and unzip, or use `gunzip` on macOS/Linux).  \n",
        "   You should see the extracted file: `com-lj.top5000.cmty.txt`.\n",
        "\n",
        "3. **Create** or **navigate** to a `Data` subfolder under `Colab Notebooks` in your Google Drive.  \n",
        "   - Go to `My Drive` > `Colab Notebooks` (or your chosen folder).  \n",
        "   - Create a `Data` folder if it doesn’t exist.\n",
        "\n",
        "4. **Upload** the extracted file (`com-lj.top5000.cmty.txt`) into the `Data` folder.\n",
        "\n",
        "5. **Open or create** a Colab notebook and mount Google Drive:\n",
        "\n",
        "6. **Load and verify** the dataset.\n"
      ],
      "metadata": {
        "id": "46T_OJhMee_w"
      }
    },
    {
      "cell_type": "code",
      "source": [
        "# Manual Upload Instructions - Verification\n",
        "\n",
        "from google.colab import drive\n",
        "drive.mount('/content/drive')\n",
        "\n",
        "# Change directory to Colab Notebooks (adjust if needed)\n",
        "%cd \"/content/drive/My Drive/Colab Notebooks\"\n",
        "\n",
        "# Navigate into the Data folder\n",
        "%cd Data\n",
        "\n",
        "# Verify the file\n",
        "!ls -lh\n",
        "\n",
        "# Load the LiveJournal communities file\n",
        "with open('com-lj.top5000.cmty.txt', 'r') as f:\n",
        "    communities = [line.strip().split() for line in f if line.strip()]\n",
        "\n",
        "print(f\"Number of communities: {len(communities)}\")\n",
        "print('Sample community:', communities[0][:10], '...')\n"
      ],
      "metadata": {
        "colab": {
          "base_uri": "https://localhost:8080/"
        },
        "id": "qKY_XyJOel3F",
        "outputId": "9e07fcc9-2fc9-4d3c-d80e-5312163f2bc1"
      },
      "execution_count": 2,
      "outputs": [
        {
          "output_type": "stream",
          "name": "stdout",
          "text": [
            "Drive already mounted at /content/drive; to attempt to forcibly remount, call drive.mount(\"/content/drive\", force_remount=True).\n",
            "/content/drive/My Drive/Colab Notebooks\n",
            "/content/drive/My Drive/Colab Notebooks/Data\n",
            "total 192M\n",
            "-rw------- 1 root root 6.4M Jan 10 19:22 cit-HepPh.txt\n",
            "-rw------- 1 root root 1.1M Jan 16 12:52 CollegeMsg.txt\n",
            "-rw------- 1 root root  13M Jan 10 18:46 com-amazon.ungraph.txt\n",
            "-rw------- 1 root root 1.1M Jan 16 18:57 com-lj.top5000.cmty.txt\n",
            "-rw------- 1 root root 7.5M Jan 10 19:22 com-orkut.top5000.cmty.txt\n",
            "drwx------ 2 root root 4.0K Jan  6 14:56 congress_network\n",
            "-rw------- 1 root root 190K Jan 16 10:36 congress_network.zip\n",
            "drwx------ 2 root root 4.0K Jan 10 19:12 deezer_ego_nets\n",
            "-rw------- 1 root root 189K Jan 16 10:47 email-Eu-core.txt\n",
            "drwx------ 2 root root 4.0K Jan 10 19:22 facebook_large\n",
            "drwx------ 2 root root 4.0K Jan 10 18:45 git_web_ml\n",
            "drwx------ 2 root root 4.0K Jan 10 19:22 lasftm_asia\n",
            "-rw------- 1 root root 4.4M Jan 10 19:11 loc-brightkite_edges.txt\n",
            "-rw------- 1 root root  57M Jan 10 19:02 roadNet-TX.txt\n",
            "-rw------- 1 root root 5.5M Jan 10 19:22 soc-Epinions1.txt\n",
            "-rw------- 1 root root 988K Jan 16 10:49 soc-sign-bitcoinotc.csv\n",
            "-rw------- 1 root root  11M Jan 10 19:22 soc-Slashdot0811.txt\n",
            "-rw------- 1 root root  22M Jan 10 19:11 sx-askubuntu.txt\n",
            "-rw------- 1 root root  33M Jan 10 19:11 sx-superuser.txt\n",
            "-rw------- 1 root root  32M Jan 10 19:01 web-Stanford.txt\n",
            "Number of communities: 5000\n",
            "Sample community: ['1852932', '1996272', '3314431'] ...\n"
          ]
        }
      ]
    },
    {
      "cell_type": "markdown",
      "source": [
        "## **Dataset Description**\n",
        "\n",
        "**LiveJournal social network and ground-truth communities**  \n",
        "- LiveJournal is a free online blogging community where users declare friendship with each other.  \n",
        "- Users can form groups, which we treat as ground-truth communities.  \n",
        "- Each connected component in a group is considered a separate ground-truth community.  \n",
        "- Only communities with at least 3 nodes are included.  \n",
        "- `com-lj.top5000.cmty.txt` contains the top 5,000 high-quality communities.  \n",
        "- The network provided is the largest connected component of the friendship graph.\n",
        "\n",
        "---\n",
        "\n",
        "## **Running Black**\n",
        "\n"
      ],
      "metadata": {
        "id": "Kvg1hcjFepa5"
      }
    },
    {
      "cell_type": "code",
      "source": [
        "# Running black (verbatim)\n",
        "\n",
        "from google.colab import drive\n",
        "\n",
        "# Install nbqa and black (required each new session)\n",
        "!pip install nbqa black\n",
        "\n",
        "# Run nbqa black on all notebooks in the current directory\n",
        "!nbqa black .\n"
      ],
      "metadata": {
        "colab": {
          "base_uri": "https://localhost:8080/"
        },
        "id": "5-Fgg4V8erf_",
        "outputId": "2330e4c4-0262-4f6a-d550-1ebaa9e60535"
      },
      "execution_count": 18,
      "outputs": [
        {
          "output_type": "stream",
          "name": "stdout",
          "text": [
            "Requirement already satisfied: nbqa in /usr/local/lib/python3.11/dist-packages (1.9.1)\n",
            "Requirement already satisfied: black in /usr/local/lib/python3.11/dist-packages (24.10.0)\n",
            "Requirement already satisfied: autopep8>=1.5 in /usr/local/lib/python3.11/dist-packages (from nbqa) (2.3.2)\n",
            "Requirement already satisfied: ipython>=7.8.0 in /usr/local/lib/python3.11/dist-packages (from nbqa) (7.34.0)\n",
            "Requirement already satisfied: tokenize-rt>=3.2.0 in /usr/local/lib/python3.11/dist-packages (from nbqa) (6.1.0)\n",
            "Requirement already satisfied: tomli in /usr/local/lib/python3.11/dist-packages (from nbqa) (2.2.1)\n",
            "Requirement already satisfied: click>=8.0.0 in /usr/local/lib/python3.11/dist-packages (from black) (8.1.8)\n",
            "Requirement already satisfied: mypy-extensions>=0.4.3 in /usr/local/lib/python3.11/dist-packages (from black) (1.0.0)\n",
            "Requirement already satisfied: packaging>=22.0 in /usr/local/lib/python3.11/dist-packages (from black) (24.2)\n",
            "Requirement already satisfied: pathspec>=0.9.0 in /usr/local/lib/python3.11/dist-packages (from black) (0.12.1)\n",
            "Requirement already satisfied: platformdirs>=2 in /usr/local/lib/python3.11/dist-packages (from black) (4.3.6)\n",
            "Requirement already satisfied: pycodestyle>=2.12.0 in /usr/local/lib/python3.11/dist-packages (from autopep8>=1.5->nbqa) (2.12.1)\n",
            "Requirement already satisfied: setuptools>=18.5 in /usr/local/lib/python3.11/dist-packages (from ipython>=7.8.0->nbqa) (75.1.0)\n",
            "Requirement already satisfied: jedi>=0.16 in /usr/local/lib/python3.11/dist-packages (from ipython>=7.8.0->nbqa) (0.19.2)\n",
            "Requirement already satisfied: decorator in /usr/local/lib/python3.11/dist-packages (from ipython>=7.8.0->nbqa) (4.4.2)\n",
            "Requirement already satisfied: pickleshare in /usr/local/lib/python3.11/dist-packages (from ipython>=7.8.0->nbqa) (0.7.5)\n",
            "Requirement already satisfied: traitlets>=4.2 in /usr/local/lib/python3.11/dist-packages (from ipython>=7.8.0->nbqa) (5.7.1)\n",
            "Requirement already satisfied: prompt-toolkit!=3.0.0,!=3.0.1,<3.1.0,>=2.0.0 in /usr/local/lib/python3.11/dist-packages (from ipython>=7.8.0->nbqa) (3.0.48)\n",
            "Requirement already satisfied: pygments in /usr/local/lib/python3.11/dist-packages (from ipython>=7.8.0->nbqa) (2.18.0)\n",
            "Requirement already satisfied: backcall in /usr/local/lib/python3.11/dist-packages (from ipython>=7.8.0->nbqa) (0.2.0)\n",
            "Requirement already satisfied: matplotlib-inline in /usr/local/lib/python3.11/dist-packages (from ipython>=7.8.0->nbqa) (0.1.7)\n",
            "Requirement already satisfied: pexpect>4.3 in /usr/local/lib/python3.11/dist-packages (from ipython>=7.8.0->nbqa) (4.9.0)\n",
            "Requirement already satisfied: parso<0.9.0,>=0.8.4 in /usr/local/lib/python3.11/dist-packages (from jedi>=0.16->ipython>=7.8.0->nbqa) (0.8.4)\n",
            "Requirement already satisfied: ptyprocess>=0.5 in /usr/local/lib/python3.11/dist-packages (from pexpect>4.3->ipython>=7.8.0->nbqa) (0.7.0)\n",
            "Requirement already satisfied: wcwidth in /usr/local/lib/python3.11/dist-packages (from prompt-toolkit!=3.0.0,!=3.0.1,<3.1.0,>=2.0.0->ipython>=7.8.0->nbqa) (0.2.13)\n",
            "No notebooks found in given path(s)\n"
          ]
        }
      ]
    },
    {
      "cell_type": "markdown",
      "source": [
        "## 6.1 Definition of Communities and Their Importance\n",
        "\n",
        "**Overview**\n",
        "\n",
        "**a. Objective**  \n",
        "- Clarify the meaning of “community” in network analysis  \n",
        "- Highlight reasons why community detection is essential for understanding complex networks  \n",
        "\n",
        "**b. Introduction**  \n",
        "- Brief history of community detection in social networks  \n",
        "- Typical examples of communities in real-world datasets  \n",
        "\n",
        "**c. Networks as Social Structures**  \n",
        "- How friendships and interactions form clusters  \n",
        "- Relevance of user-defined groups or communities in social platforms  \n",
        "\n",
        "**d. Examples/Codes (using LiveJournal dataset)**  \n",
        "- Basic exploration of the dataset structure (number of communities, size distribution)  \n",
        "- Simple visualization of a small subgraph to illustrate clusters  \n",
        "\n",
        "**e. Explanation**  \n",
        "- Significance of communities in spreading information or influence  \n",
        "- The role of community cohesiveness (density of links within groups)  \n",
        "\n",
        "**f. Community Significance Metrics**  \n",
        "- Measuring community size, density, and reach  \n",
        "- Assessing group cohesion with internal and external link comparisons  \n",
        "\n",
        "**g. Practical Activities/Codes (using LiveJournal dataset)**  \n",
        "- Loading and parsing the `com-lj.top5000.cmty.txt` file in a Jupyter notebook  \n",
        "- Generating a bar chart or histogram of community sizes  \n",
        "\n",
        "**h. Challenges in Defining Communities**  \n",
        "- Overlapping communities versus distinctly partitioned communities  \n",
        "- Impact of varying definitions on analysis results  \n",
        "# d. Examples/Codes (using LiveJournal dataset)\n",
        "\n"
      ],
      "metadata": {
        "id": "TDyH42zKe5p0"
      }
    },
    {
      "cell_type": "code",
      "source": [
        "\n",
        "# Example: Basic exploration and size distribution\n",
        "# Assumes you've already downloaded and extracted 'com-lj.top5000.cmty.txt' in a 'Data' folder\n",
        "\n",
        "import os\n",
        "\n",
        "# Change directory if needed, for example:\n",
        "# %cd \"/content/drive/My Drive/Colab Notebooks/Data\"\n",
        "\n",
        "# Check file existence\n",
        "file_path = 'com-lj.top5000.cmty.txt'\n",
        "if os.path.exists(file_path):\n",
        "    with open(file_path, 'r') as f:\n",
        "        communities = [line.strip().split() for line in f if line.strip()]\n",
        "\n",
        "    # Compute size distribution\n",
        "    community_sizes = [len(c) for c in communities]\n",
        "\n",
        "    print(\"Number of communities:\", len(community_sizes))\n",
        "    print(\"Smallest community size:\", min(community_sizes))\n",
        "    print(\"Largest community size:\", max(community_sizes))\n",
        "\n",
        "else:\n",
        "    print(\"File not found. Please ensure 'com-lj.top5000.cmty.txt' is in the current directory.\")"
      ],
      "metadata": {
        "colab": {
          "base_uri": "https://localhost:8080/"
        },
        "id": "TcJleUUwfDip",
        "outputId": "f2556864-e73f-47aa-fa08-7120b7984787"
      },
      "execution_count": 4,
      "outputs": [
        {
          "output_type": "stream",
          "name": "stdout",
          "text": [
            "Number of communities: 5000\n",
            "Smallest community size: 3\n",
            "Largest community size: 1441\n"
          ]
        }
      ]
    },
    {
      "cell_type": "code",
      "source": [
        "# Visualization: Simple histogram of community sizes\n",
        "\n",
        "import matplotlib.pyplot as plt\n",
        "\n",
        "if os.path.exists(file_path):\n",
        "    plt.figure(figsize=(8, 5))\n",
        "    plt.hist(community_sizes, bins=50, color='skyblue', edgecolor='black')\n",
        "    plt.title(\"Distribution of Community Sizes (LiveJournal)\")\n",
        "    plt.xlabel(\"Community Size\")\n",
        "    plt.ylabel(\"Frequency\")\n",
        "    plt.show()\n"
      ],
      "metadata": {
        "colab": {
          "base_uri": "https://localhost:8080/",
          "height": 487
        },
        "id": "flKP9DiYfGBv",
        "outputId": "7314e5dc-fec8-47d7-f19a-251f5aa6b367"
      },
      "execution_count": 5,
      "outputs": [
        {
          "output_type": "display_data",
          "data": {
            "text/plain": [
              "<Figure size 800x500 with 1 Axes>"
            ],
            "image/png": "[encoded data removed]"
          },
          "metadata": {}
        }
      ]
    },
    {
      "cell_type": "markdown",
      "source": [
        "**e. Explanation**  \n",
        "Communities in a network significantly influence the flow of information and can drive how quickly ideas, trends, or behaviors spread. A closely-knit group (high cohesiveness) can rapidly share knowledge internally. This makes identifying and understanding these communities crucial for areas like marketing, public health interventions, or content recommendations.\n",
        "\n",
        "**f. Community Significance Metrics**  \n",
        "- **Size**: The number of nodes in a community can determine how impactful it might be within the larger network.  \n",
        "- **Density**: Measures how many edges exist among members relative to the maximum possible number of edges.  \n",
        "- **Internal vs. External Links**: A community with significantly more internal edges than external edges is generally considered cohesive.\n",
        "\n",
        "---\n",
        "\n",
        "**g. Practical Activities/Codes (using LiveJournal dataset)**\n",
        "\n",
        "1. **Loading and Parsing**: Learners can write or modify the code above to load the file and explore community statistics.  \n",
        "2. **Generating a Bar Chart or Histogram**: As shown, use plotting libraries to visualize how community sizes are distributed.  \n",
        "\n",
        "**h. Challenges in Defining Communities**  \n",
        "- **Overlapping vs. Disjoint**: Users in real social networks may belong to multiple groups or communities simultaneously.  \n",
        "- **Definition Variance**: The results can differ dramatically depending on whether you define communities by internal density, modularity, or other criteria.\n",
        "### **Quiz**\n",
        "\n",
        "1. **Short questions testing understanding of community definitions and importance:**\n",
        "   - What is a “community” in the context of network analysis?  \n",
        "   - Why is community detection vital for complex networks?  \n",
        "   - Give one real-world example where identifying communities might be beneficial.\n",
        "\n",
        "### **Activities to Practice**\n",
        "\n",
        "1. **Write a Short Paragraph**  \n",
        "   - Explain why community detection matters for social platforms. Discuss how it could influence new features or policies.\n",
        "\n",
        "2. **Explore the Dataset**  \n",
        "   - Identify the largest and smallest communities from the dataset.  \n",
        "   - Share your observations on the distribution of community sizes and why this might matter in real-world applications.\n"
      ],
      "metadata": {
        "id": "o3OKROwyfIGx"
      }
    },
    {
      "cell_type": "markdown",
      "source": [
        "## 6.2 Algorithms: Modularity Optimization, Spectral Clustering, Louvain Method\n",
        "\n",
        "**Overview**\n",
        "\n",
        "**a. Objective**  \n",
        "- Introduce popular algorithms for community detection  \n",
        "- Compare their theoretical foundations and practical uses  \n",
        "\n",
        "**b. Introduction**  \n",
        "- High-level overview of modularity-based methods and spectral methods  \n",
        "- Brief mention of hierarchical approaches like Louvain  \n",
        "\n",
        "**c. Modularity Optimization Concepts**  \n",
        "- Explanation of modularity and why maximizing it helps identify communities  \n",
        "- Trade-offs and known limitations of modularity  \n",
        "\n",
        "**d. Examples/Codes (using LiveJournal dataset)**  \n",
        "- Demonstrating modularity-based community detection on a subset of the data  \n",
        "- Visualization of detected communities and modularity score  \n",
        "\n",
        "**e. Explanation**  \n",
        "- Differences between spectral clustering and modularity approaches  \n",
        "- How Louvain method iteratively refines community partitions  \n",
        "\n",
        "**f. Spectral Clustering and Graph Laplacian**  \n",
        "- Importance of eigenvectors in clustering  \n",
        "- Steps for applying spectral clustering to real-world networks  \n",
        "\n",
        "**g. Practical Activities/Codes (using LiveJournal dataset)**  \n",
        "- Running a simple spectral clustering library function on the dataset  \n",
        "- Visual comparison of results from modularity optimization and spectral clustering  \n",
        "\n",
        "**h. Louvain Method Insights**  \n",
        "- Implementation details and typical runtime advantages  \n",
        "- Suitability for large-scale datasets, such as LiveJournal  \n"
      ],
      "metadata": {
        "id": "CSt4WImNfUI1"
      }
    },
    {
      "cell_type": "markdown",
      "source": [
        "### **b. Introduction: Modularity and Spectral Methods**\n",
        "\n",
        "Community detection algorithms come in many varieties, but two major approaches are:\n",
        "\n",
        "- **Modularity-Based Methods**: These revolve around the concept of modularity, a measure of how densely connected the nodes are within communities compared to random chance.  \n",
        "- **Spectral Methods**: These rely on the spectral properties of matrices derived from the network graph (such as the Laplacian).  \n",
        "\n",
        "A **hierarchical** method like **Louvain** builds communities from small clusters up to larger clusters, refining partitions iteratively.\n",
        "\n",
        "---\n",
        "\n",
        "### **c. Modularity Optimization Concepts**\n",
        "\n",
        "1. **Modularity**:  \n",
        "   Modularity \\( Q \\) measures the difference between the actual fraction of edges within communities and the fraction of edges we would expect in a randomized network with the same degree sequence. Higher \\( Q \\) suggests better-defined communities.\n",
        "\n",
        "2. **Trade-offs / Limitations**:  \n",
        "   - The **resolution limit** problem: Modularity might merge smaller communities into larger ones, losing fine-grained details.  \n",
        "   - Computational cost on very large networks can be high, though optimizations exist.\n",
        "\n",
        "---\n",
        "\n",
        "### **d. Examples/Codes (using LiveJournal dataset)**\n",
        "\n",
        "Below, we demonstrate how to implement or pseudo-implement a modularity-based method on a smaller portion of the LiveJournal data. For large datasets, these algorithms can be computationally heavy.\n"
      ],
      "metadata": {
        "id": "wzEGF_ncfZtk"
      }
    },
    {
      "cell_type": "code",
      "source": [
        "# d. Examples/Codes: Simple Modularity-Based Community Detection\n",
        "\n",
        "# Note: This example uses NetworkX for demonstration.\n",
        "# We assume the 'communities' list from previous sections is available,\n",
        "# but let's also generate a smaller subset to keep it manageable.\n",
        "\n",
        "!pip install networkx\n",
        "import networkx as nx\n",
        "\n",
        "# Example function: build a small graph from the first few communities\n",
        "def build_small_graph(communities, max_nodes=2000):\n",
        "    \"\"\"\n",
        "    Build a smaller graph from the list of community definitions.\n",
        "    Each line in 'communities' is a list of node IDs belonging to a community.\n",
        "    We'll create edges by connecting all nodes within each listed community.\n",
        "    \"\"\"\n",
        "    G = nx.Graph()\n",
        "    node_count = 0\n",
        "    for c in communities:\n",
        "        for node in c:\n",
        "            if node_count < max_nodes:  # limit total number of nodes\n",
        "                G.add_node(node)\n",
        "            else:\n",
        "                break\n",
        "        node_count += len(c)\n",
        "        if node_count >= max_nodes:\n",
        "            break\n",
        "\n",
        "    # Re-iterate to add edges for the included nodes\n",
        "    for c in communities:\n",
        "        nodes_in_c = [n for n in c if n in G.nodes()]\n",
        "        for i in range(len(nodes_in_c)):\n",
        "            for j in range(i+1, len(nodes_in_c)):\n",
        "                G.add_edge(nodes_in_c[i], nodes_in_c[j])\n",
        "        if len(G.nodes()) >= max_nodes:\n",
        "            break\n",
        "\n",
        "    return G\n",
        "\n",
        "# Build a small test graph\n",
        "if 'communities' in globals():\n",
        "    G_small = build_small_graph(communities, max_nodes=500)\n",
        "    print(f\"Constructed small graph with {G_small.number_of_nodes()} nodes and {G_small.number_of_edges()} edges.\")\n",
        "else:\n",
        "    print(\"Please load the 'communities' list first.\")\n"
      ],
      "metadata": {
        "colab": {
          "base_uri": "https://localhost:8080/"
        },
        "id": "lpJ3XEZLfb5a",
        "outputId": "49ead7a0-bf33-4542-d507-c27b92805358"
      },
      "execution_count": 6,
      "outputs": [
        {
          "output_type": "stream",
          "name": "stdout",
          "text": [
            "Requirement already satisfied: networkx in /usr/local/lib/python3.11/dist-packages (3.4.2)\n",
            "Constructed small graph with 486 nodes and 515 edges.\n"
          ]
        }
      ]
    },
    {
      "cell_type": "code",
      "source": [
        "# Using a built-in community detection approach (e.g., networkx.algorithms.community)\n",
        "# Note: networkx has a method for the Louvain algorithm, but it may not be in the standard library.\n",
        "# For demonstration, let's do a naive modularity-based approach or the greedy_modularity_communities:\n",
        "\n",
        "from networkx.algorithms.community import greedy_modularity_communities\n",
        "\n",
        "if 'G_small' in globals():\n",
        "    communities_mod = greedy_modularity_communities(G_small)\n",
        "    print(f\"Detected {len(communities_mod)} communities using greedy_modularity_communities.\")\n",
        "    # Print size of the first few communities\n",
        "    for idx, comm in enumerate(list(communities_mod)[:3]):\n",
        "        print(f\"Community {idx} size:\", len(comm))\n"
      ],
      "metadata": {
        "colab": {
          "base_uri": "https://localhost:8080/"
        },
        "id": "SXtOqgu-fhgu",
        "outputId": "95f3f67a-2ee7-424e-ffad-833b557f0754"
      },
      "execution_count": 7,
      "outputs": [
        {
          "output_type": "stream",
          "name": "stdout",
          "text": [
            "Detected 157 communities using greedy_modularity_communities.\n",
            "Community 0 size: 4\n",
            "Community 1 size: 4\n",
            "Community 2 size: 4\n"
          ]
        }
      ]
    },
    {
      "cell_type": "markdown",
      "source": [
        "### **e. Explanation**\n",
        "\n",
        "- **Spectral Clustering vs. Modularity**:  \n",
        "  Modularity optimization typically tries to group nodes to maximize \\( Q \\). In **spectral clustering**, we use eigenvectors of the graph Laplacian to identify natural cuts in the graph.  \n",
        "\n",
        "- **Louvain Method**:  \n",
        "  This is a popular hierarchical approach, which starts with small clusters and merges them iteratively to increase modularity. Each pass refines the community assignments until no further improvement is possible.\n",
        "\n",
        "---\n",
        "\n",
        "### **f. Spectral Clustering and Graph Laplacian**\n",
        "\n",
        "1. **Graph Laplacian**: The Laplacian \\( L = D - A \\) is the difference between the degree matrix \\( D \\) and adjacency matrix \\( A \\).  \n",
        "2. **Eigenvectors**: The eigenvectors of \\( L \\) (often focusing on the smallest eigenvalues) can reveal natural splits in the graph.  \n",
        "3. **Implementation Steps**:  \n",
        "   - Construct the adjacency or Laplacian matrix.  \n",
        "   - Compute a fixed number of eigenvectors (k).  \n",
        "   - Cluster the data in that new eigen-space, often with K-means.\n",
        "\n",
        "---\n",
        "\n",
        "### **g. Practical Activities/Codes (using LiveJournal dataset)**\n",
        "\n",
        "**Activity 1**: *Spectral Clustering on a Sub-sample*\n",
        "\n",
        "Try to accomplish basic spectral clustering on `G_small`. In a new code cell, install a library such as `scikit-learn` or use `networkx` functions to perform spectral clustering. Compare the results to the greedy modularity approach.\n",
        "\n",
        "**Activity 2**: *Modularity vs. Spectral Results*\n",
        "\n",
        "After performing both techniques (modularity-based and spectral-based), visualize or compare how many communities you get and their approximate sizes.  \n",
        "\n",
        "---\n",
        "\n",
        "### **h. Louvain Method Insights**\n",
        "\n",
        "1. **Implementation Details**: Louvain typically requires repetitive passes over the nodes to find moves that locally increase modularity.  \n",
        "2. **Runtime Advantages**: Scales better than many other methods on large graphs, such as our LiveJournal data.  \n",
        "3. **Suitability**: Often the go-to approach for big networks due to its balance of performance and speed.\n",
        "\n",
        "---\n",
        "\n",
        "### **Quiz**\n",
        "\n",
        "Multiple-choice questions on algorithmic differences (modularity vs. spectral vs. Louvain).  \n",
        "1. Which approach is known for the resolution limit issue?  \n",
        "2. Which approach relies on eigenvectors of the graph Laplacian?  \n",
        "3. Which method iteratively merges communities to maximize modularity?\n",
        "\n",
        "---\n",
        "\n",
        "### **Activities to Practice**\n",
        "\n",
        "1. **Experiment with Two Algorithms**  \n",
        "   - Pick any two from (Greedy Modularity, Spectral, Louvain).  \n",
        "   - Run them on a smaller subset of the LiveJournal data.  \n",
        "   - Document the differences in the communities detected (e.g., size, count).  \n",
        "\n",
        "2. **Observations**  \n",
        "   - Discuss any discrepancies or similarities in the identified communities.  \n",
        "   - Reflect on potential reasons (e.g., different objectives, resolution limit).\n"
      ],
      "metadata": {
        "id": "isen2q5xfjUt"
      }
    },
    {
      "cell_type": "markdown",
      "source": [
        "## 6.3 Applications in Detecting Groups in Social Networks and Protein-Protein Interactions\n",
        "\n",
        "**Overview**\n",
        "\n",
        "**a. Objective**  \n",
        "- Show how community detection algorithms are applied beyond social networks  \n",
        "- Emphasize cross-domain importance of clustering in graphs  \n",
        "\n",
        "**b. Introduction**  \n",
        "- Common use cases: friend recommendation, marketing, biology research  \n",
        "- Value of communities in specialized domains (e.g., functional modules in protein networks)  \n",
        "\n",
        "**c. Social Network Group Detection**  \n",
        "- Identifying influential groups for targeted advertising  \n",
        "- Tracking community evolution over time  \n",
        "\n",
        "**d. Examples/Codes (using LiveJournal dataset)**  \n",
        "- Highlight real groups in the LiveJournal data (e.g., hobby groups, fan clubs)  \n",
        "- Visualization of a specific community and its members  \n",
        "\n",
        "**e. Explanation**  \n",
        "- How insights from social network communities translate to business or policy decisions  \n",
        "- Key metrics (centrality, density) that reveal community roles  \n",
        "\n",
        "**f. Protein-Protein Interaction (PPI) Networks**  \n",
        "- Biological analogy: communities as functional modules  \n",
        "- Relevance of dense subgraphs in understanding protein complexes  \n",
        "\n",
        "**g. Practical Activities/Codes (using LiveJournal dataset)**  \n",
        "- Draw parallels between social network clusters and hypothetical PPI data  \n",
        "- Modify code to treat user communities as “functional modules” in a mock scenario  \n",
        "\n",
        "**h. Cross-Domain Challenges**  \n",
        "- Different data scales and noise levels in social vs. biological networks  \n",
        "- Importance of domain knowledge when interpreting communities  \n",
        "### **b. Introduction: Applications Across Domains**\n",
        "\n",
        "Community detection goes beyond social networks. In online platforms, detecting groups can help tailor recommendations and identify influential communities. In biological networks, finding densely connected subgraphs can reveal underlying functionalities, like protein complexes or gene regulatory modules.\n",
        "\n",
        "---\n",
        "\n",
        "### **c. Social Network Group Detection**\n",
        "\n",
        "1. **Influential Groups for Targeted Advertising**  \n",
        "   By identifying groups with high internal connectivity, marketers can more effectively focus on specific communities. This can optimize advertising campaigns or outreach.\n",
        "\n",
        "2. **Community Evolution**  \n",
        "   Communities are not static; monitoring how they grow, shrink, or split can provide insights into user behavior, brand loyalty, or social movements.\n",
        "\n",
        "---\n",
        "\n",
        "### **d. Examples/Codes (using LiveJournal dataset)**\n",
        "\n",
        "Below is an example of how we might look for a specific community in the LiveJournal dataset and attempt to visualize it.\n"
      ],
      "metadata": {
        "id": "oZaraMnMfkjf"
      }
    },
    {
      "cell_type": "code",
      "source": [
        "# d. Examples/Codes: Highlight a real group from the LiveJournal data\n",
        "\n",
        "import os\n",
        "import networkx as nx\n",
        "import matplotlib.pyplot as plt\n",
        "\n",
        "file_path = 'com-lj.top5000.cmty.txt'\n",
        "\n",
        "if os.path.exists(file_path):\n",
        "    with open(file_path, 'r') as f:\n",
        "        communities = [line.strip().split() for line in f if line.strip()]\n",
        "\n",
        "    # Let's assume we pick the 10th community as an example (arbitrarily).\n",
        "    # Convert it to a small subgraph for visualization.\n",
        "    community_index = 9  # 10th community in 0-based indexing\n",
        "    chosen_community = communities[community_index]\n",
        "\n",
        "    G_community = nx.Graph()\n",
        "    G_community.add_nodes_from(chosen_community)\n",
        "\n",
        "    # In reality, we would need an edge list or adjacency data to link these nodes.\n",
        "    # For demonstration, let's assume all nodes in this community form a clique.\n",
        "    for i in range(len(chosen_community)):\n",
        "        for j in range(i+1, len(chosen_community)):\n",
        "            G_community.add_edge(chosen_community[i], chosen_community[j])\n",
        "\n",
        "    print(f\"Visualizing community index: {community_index}\")\n",
        "    print(f\"Number of nodes in this community: {len(chosen_community)}\")\n",
        "\n",
        "    plt.figure(figsize=(6,6))\n",
        "    nx.draw_networkx(G_community, with_labels=False, node_size=50, node_color='orange')\n",
        "    plt.title(f\"LiveJournal Community #{community_index + 1}\")\n",
        "    plt.axis('off')\n",
        "    plt.show()\n",
        "else:\n",
        "    print(\"File not found. Please ensure 'com-lj.top5000.cmty.txt' is present.\")\n"
      ],
      "metadata": {
        "colab": {
          "base_uri": "https://localhost:8080/",
          "height": 557
        },
        "id": "l8CsV8X7fvbj",
        "outputId": "add74c8c-4bb3-4f93-df72-094aceccaec1"
      },
      "execution_count": 8,
      "outputs": [
        {
          "output_type": "stream",
          "name": "stdout",
          "text": [
            "Visualizing community index: 9\n",
            "Number of nodes in this community: 3\n"
          ]
        },
        {
          "output_type": "display_data",
          "data": {
            "text/plain": [
              "<Figure size 600x600 with 1 Axes>"
            ],
            "image/png": "[encoded data removed]"
          },
          "metadata": {}
        }
      ]
    },
    {
      "cell_type": "markdown",
      "source": [
        "### **e. Explanation**\n",
        "\n",
        "- **Social Network Communities & Business/Policy Decisions**  \n",
        "  Identifying a thriving fan club or interest group can guide how a platform might suggest new groups or content. Networks with high centrality nodes can be targeted for disseminating public health campaigns or political messages.\n",
        "\n",
        "- **Role of Centrality and Density**  \n",
        "  - **Centrality** (e.g., degree, betweenness) indicates how critical certain nodes are within the community.  \n",
        "  - **Density** relates to how interconnected the group is, impacting information flow and community stability.\n",
        "\n",
        "---\n",
        "\n",
        "### **f. Protein-Protein Interaction (PPI) Networks**\n",
        "\n",
        "In biological settings, a group of proteins that frequently interact with each other may represent a functional module. Identifying such modules helps in discovering protein complexes, understanding pathways, and hypothesizing gene functions. PPI networks often resemble social networks in that “communities” or “clusters” can indicate functional groupings.\n",
        "\n",
        "---\n",
        "\n",
        "### **g. Practical Activities/Codes (using LiveJournal dataset)**\n",
        "\n",
        "**Activity 1**: *Social-to-Biological Analogy*  \n",
        "Draw parallels between a social network cluster and a hypothetical protein cluster.  \n"
      ],
      "metadata": {
        "id": "hmDmmhqffxl8"
      }
    },
    {
      "cell_type": "code",
      "source": [
        "# Activity 1: Code skeleton\n",
        "\n",
        "def map_social_community_to_biological(community_nodes):\n",
        "    \"\"\"\n",
        "    Pretend each node in this social community is a 'protein'.\n",
        "    Return a hypothetical functional annotation or modular grouping for demonstration.\n",
        "    \"\"\"\n",
        "    # For the sake of demonstration, randomly assign an annotation or pretend to read from a file\n",
        "    import random\n",
        "    annotations = {}\n",
        "    possible_functions = [\"Regulation\", \"Metabolism\", \"SignalTransduction\", \"Defense\"]\n",
        "\n",
        "    for node in community_nodes:\n",
        "        annotations[node] = random.choice(possible_functions)\n",
        "    return annotations\n",
        "\n",
        "# Try it on the chosen_community from the code above:\n",
        "if 'chosen_community' in globals():\n",
        "    mock_annotations = map_social_community_to_biological(chosen_community)\n",
        "    # Print the first few mappings\n",
        "    list_items = list(mock_annotations.items())[:5]\n",
        "    for item in list_items:\n",
        "        print(\"Node:\", item[0], \"| Function:\", item[1])\n"
      ],
      "metadata": {
        "colab": {
          "base_uri": "https://localhost:8080/"
        },
        "id": "z06H43fqf2mS",
        "outputId": "913f4512-6202-46c5-f105-875e76973eb3"
      },
      "execution_count": 9,
      "outputs": [
        {
          "output_type": "stream",
          "name": "stdout",
          "text": [
            "Node: 1533170 | Function: Regulation\n",
            "Node: 2821108 | Function: Defense\n",
            "Node: 2821109 | Function: Defense\n"
          ]
        }
      ]
    },
    {
      "cell_type": "markdown",
      "source": [
        "**Activity 2**: *Modifying the Community Code*  \n",
        "- Modify or extend the code to cluster “proteins” based on shared annotations or co-occurrence in the same community.  \n",
        "- Visualize a mock PPI network, assigning edges if two proteins (nodes) share the same assigned “function.”\n",
        "\n",
        "Immediately after running these activities, think about how similar (or different) the resulting structures are from actual social clusters.\n",
        "\n",
        "---\n",
        "\n",
        "### **h. Cross-Domain Challenges**\n",
        "\n",
        "1. **Data Scale & Noise**  \n",
        "   Biological data often has more noise and uncertainty compared to many social network datasets. Overfitting or mislabeling can be common if the data is incomplete.  \n",
        "2. **Domain Knowledge**  \n",
        "   In social networks, user behavior shapes group formation, whereas in biological systems, physical interactions or genetic relationships define communities. Interpreting clusters correctly requires different expertise.\n",
        "\n",
        "---\n",
        "\n",
        "### **Quiz**\n",
        "\n",
        "1. **Short answer questions on cross-domain parallels**:  \n",
        "   - How does a community in a social network compare to a functional module in a PPI network?  \n",
        "   - Name two potential pitfalls of directly applying social network methods to PPI data.  \n",
        "\n",
        "---\n",
        "\n",
        "### **Activities to Practice**\n",
        "\n",
        "1. **Research a Real Example**: Find a research study or article where community detection in a biological network led to a significant discovery. Summarize the key findings in a short paragraph.  \n",
        "2. **LiveJournal Connection**: Reflect on how identifying user groups in a social network might follow a similar approach to analyzing functional modules in biological data.\n"
      ],
      "metadata": {
        "id": "69_nodu5f6W_"
      }
    },
    {
      "cell_type": "markdown",
      "source": [
        "## 6.4 Implementing Community Detection on Benchmark Datasets\n",
        "\n",
        "**Overview**\n",
        "\n",
        "**a. Objective**  \n",
        "- Demonstrate end-to-end workflows for community detection  \n",
        "- Showcase reproducible experiments on known benchmark datasets  \n",
        "\n",
        "**b. Introduction**  \n",
        "- Common benchmark datasets: LiveJournal, Facebook, email networks  \n",
        "- Importance of reproducibility and open-source implementations  \n",
        "\n",
        "**c. Dataset Preparation**  \n",
        "- Steps for cleaning or preprocessing the LiveJournal file (duplicates, incomplete data)  \n",
        "- Managing memory and large file considerations  \n",
        "\n",
        "**d. Examples/Codes (using LiveJournal dataset)**  \n",
        "- Building a pipeline: load data, apply algorithm, compute metrics  \n",
        "- Visualization of the final communities in a chart or network diagram  \n",
        "\n",
        "**e. Explanation**  \n",
        "- Interpreting the results with modularity score or other quality metrics  \n",
        "- Techniques to validate or compare multiple algorithms  \n",
        "\n",
        "**f. Scalability Factors**  \n",
        "- Considering time and space complexity when handling millions of edges  \n",
        "- Possible optimizations like parallel computing  \n",
        "\n",
        "**g. Practical Activities/Codes (using LiveJournal dataset)**  \n",
        "- Implement a modular pipeline for repeated experiments (e.g., run multiple algorithms)  \n",
        "- Record runtime and community quality metrics in a table  \n",
        "\n",
        "**h. Result Interpretation and Reporting**  \n",
        "- Summarizing findings with visual and numerical outputs  \n",
        "- Best practices for reporting community detection outcomes in research or business  \n"
      ],
      "metadata": {
        "id": "Qxezic6GgEhj"
      }
    },
    {
      "cell_type": "markdown",
      "source": [
        "### **b. Introduction: Benchmark Datasets and Reproducibility**\n",
        "\n",
        "Community detection is most useful when experiments can be repeated and validated across different datasets.  \n",
        "- **LiveJournal** is one of many well-known network datasets (others include Facebook, email networks, or citation networks).  \n",
        "- **Reproducibility**: Using openly available data and standardized code ensures that results can be compared across studies.\n",
        "\n",
        "---\n",
        "\n",
        "### **c. Dataset Preparation**\n",
        "\n",
        "1. **Cleaning & Preprocessing**:  \n",
        "   - Remove any duplicate lines or malformed data.  \n",
        "   - Check for disconnected components if relevant.  \n",
        "\n",
        "2. **Memory Management**:  \n",
        "   - Large community data can be gigabytes in size.  \n",
        "   - Consider chunked loading or streaming if the dataset is extremely large.\n",
        "\n",
        "Below is an example snippet reviewing how we might preprocess or verify the LiveJournal file.\n"
      ],
      "metadata": {
        "id": "qC1DU7Y1gGBr"
      }
    },
    {
      "cell_type": "code",
      "source": [
        "# c. Dataset Preparation Example (LiveJournal)\n",
        "\n",
        "import os\n",
        "\n",
        "file_path = 'com-lj.top5000.cmty.txt'\n",
        "\n",
        "if os.path.exists(file_path):\n",
        "    with open(file_path, 'r') as f:\n",
        "        raw_lines = [line.strip() for line in f if line.strip()]\n",
        "\n",
        "    # Example check for duplicates\n",
        "    unique_lines = set(raw_lines)\n",
        "    print(f\"Total lines read: {len(raw_lines)}\")\n",
        "    print(f\"Unique lines (possible communities): {len(unique_lines)}\")\n",
        "\n",
        "    # Convert each line to a list of node IDs\n",
        "    communities = [line.split() for line in unique_lines]\n",
        "    print(\"Example community:\", communities[0][:10])\n",
        "else:\n",
        "    print(\"com-lj.top5000.cmty.txt not found in the directory.\")\n"
      ],
      "metadata": {
        "colab": {
          "base_uri": "https://localhost:8080/"
        },
        "id": "LAhlJIWggHYS",
        "outputId": "a7fec108-4ca6-4738-d569-9ae71fd82222"
      },
      "execution_count": 10,
      "outputs": [
        {
          "output_type": "stream",
          "name": "stdout",
          "text": [
            "Total lines read: 5000\n",
            "Unique lines (possible communities): 4703\n",
            "Example community: ['2543244', '3979915', '3979919', '3979920', '3979921', '3979922', '3979923', '3979924', '3979925', '3979926']\n"
          ]
        }
      ]
    },
    {
      "cell_type": "markdown",
      "source": [
        "### **d. Examples/Codes (using LiveJournal dataset)**\n",
        "\n",
        "To illustrate an end-to-end pipeline:\n",
        "1. **Load** the data.  \n",
        "2. **Apply** a chosen algorithm (e.g., Louvain).  \n",
        "3. **Compute** metrics (like modularity).  \n",
        "4. **Visualize** the resulting communities.\n",
        "\n"
      ],
      "metadata": {
        "id": "P4gHKqRBgMB4"
      }
    },
    {
      "cell_type": "code",
      "source": [
        "# d. Pipeline Example: Loading, Applying Algorithm, and Simple Metrics\n",
        "\n",
        "!pip install networkx python-louvain\n",
        "import networkx as nx\n",
        "from community import community_louvain  # Implementation of the Louvain method\n",
        "import matplotlib.pyplot as plt\n",
        "\n",
        "# Build a small graph from first few communities to avoid memory issues in this demo\n",
        "def build_graph(communities, max_nodes=1000):\n",
        "    G = nx.Graph()\n",
        "    node_count = 0\n",
        "    for c in communities:\n",
        "        for node in c:\n",
        "            if node not in G:\n",
        "                G.add_node(node)\n",
        "            node_count += 1\n",
        "            if node_count > max_nodes:\n",
        "                break\n",
        "        if node_count > max_nodes:\n",
        "            break\n",
        "    # For demonstration, artificially connect nodes within each community\n",
        "    for c in communities:\n",
        "        valid_nodes = [n for n in c if n in G.nodes()]\n",
        "        for i in range(len(valid_nodes)):\n",
        "            for j in range(i+1, len(valid_nodes)):\n",
        "                G.add_edge(valid_nodes[i], valid_nodes[j])\n",
        "        if len(G.nodes()) >= max_nodes:\n",
        "            break\n",
        "    return G\n",
        "\n",
        "if 'communities' in globals():\n",
        "    G_small = build_graph(communities, max_nodes=500)\n",
        "    print(f\"Graph built with {G_small.number_of_nodes()} nodes and {G_small.number_of_edges()} edges.\")\n",
        "\n",
        "    # Apply Louvain\n",
        "    partition = community_louvain.best_partition(G_small)\n",
        "    num_communities = len(set(partition.values()))\n",
        "    print(\"Detected communities:\", num_communities)\n",
        "\n",
        "    # Simple metric: modularity\n",
        "    mod_score = community_louvain.modularity(partition, G_small)\n",
        "    print(f\"Modularity of this partition: {mod_score:.4f}\")\n",
        "\n",
        "    # Visualization of final communities (color by partition)\n",
        "    plt.figure(figsize=(8,6))\n",
        "    pos = nx.spring_layout(G_small, seed=42)\n",
        "    colors = [partition[node] for node in G_small.nodes()]\n",
        "    nx.draw_networkx(G_small, pos, node_color=colors, node_size=50, with_labels=False, cmap=plt.cm.Set3)\n",
        "    plt.title(\"Louvain Community Detection (Subset of LiveJournal)\")\n",
        "    plt.axis('off')\n",
        "    plt.show()\n",
        "else:\n",
        "    print(\"Please run the dataset preparation step first.\")\n"
      ],
      "metadata": {
        "colab": {
          "base_uri": "https://localhost:8080/",
          "height": 628
        },
        "id": "BRVaS0xSgNeF",
        "outputId": "0f34b594-2b94-45f1-d372-31616ff0ba74"
      },
      "execution_count": 12,
      "outputs": [
        {
          "output_type": "stream",
          "name": "stdout",
          "text": [
            "Requirement already satisfied: networkx in /usr/local/lib/python3.11/dist-packages (3.4.2)\n",
            "Requirement already satisfied: python-louvain in /usr/local/lib/python3.11/dist-packages (0.16)\n",
            "Requirement already satisfied: numpy in /usr/local/lib/python3.11/dist-packages (from python-louvain) (1.26.4)\n",
            "Graph built with 501 nodes and 378 edges.\n",
            "Detected communities: 474\n",
            "Modularity of this partition: 0.0000\n"
          ]
        },
        {
          "output_type": "display_data",
          "data": {
            "text/plain": [
              "<Figure size 800x600 with 1 Axes>"
            ],
            "image/png": "[encoded data removed]"
          },
          "metadata": {}
        }
      ]
    },
    {
      "cell_type": "markdown",
      "source": [
        "### **e. Explanation**\n",
        "\n",
        "After building a pipeline, we interpret results by examining:\n",
        "- **Modularity**: Gives a sense of how well-defined the communities are.  \n",
        "- **Number of Communities**: An excessive count might indicate over-partitioning, while too few communities may hide important substructures.  \n",
        "\n",
        "We can compare multiple algorithms (e.g., Louvain, Greedy Modularity, Spectral) on the same dataset to see if results are consistent or vary significantly.\n",
        "\n",
        "---\n",
        "\n",
        "### **f. Scalability Factors**\n",
        "\n",
        "With millions of edges (as can occur in full LiveJournal or even bigger networks):\n",
        "1. **Time Complexity**: Some methods (like spectral clustering) become expensive on large graphs.  \n",
        "2. **Parallel/Distributed Computing**: Tools like Spark, Dask, or HPC clusters can help.  \n",
        "3. **Iterative & Heuristic Approaches**: Methods like Louvain are popular for large-scale networks due to their relatively efficient iterative nature.\n",
        "\n",
        "---\n",
        "\n",
        "### **g. Practical Activities/Codes (using LiveJournal dataset)**\n",
        "\n",
        "**Activity 1**: *Modular Pipeline*  \n",
        "Try to create a pipeline function that:\n",
        "1. Reads the dataset.  \n",
        "2. Builds a graph.  \n",
        "3. Applies two different community detection algorithms.  \n",
        "4. Logs out metrics (like modularity) and runtime.\n",
        "\n"
      ],
      "metadata": {
        "id": "ktZC__-HgRbV"
      }
    },
    {
      "cell_type": "code",
      "source": [
        "# Activity 1 Starter Code\n",
        "\n",
        "import time\n",
        "\n",
        "def run_multiple_algorithms(communities, max_nodes=500):\n",
        "    \"\"\"\n",
        "    Build a smaller graph, run two algorithms,\n",
        "    and report modularity and time taken for each.\n",
        "    \"\"\"\n",
        "    G_small = build_graph(communities, max_nodes=max_nodes)\n",
        "\n",
        "    results = {}\n",
        "\n",
        "    # Louvain\n",
        "    start_louvain = time.time()\n",
        "    partition_louvain = community_louvain.best_partition(G_small)\n",
        "    louvain_modularity = community_louvain.modularity(partition_louvain, G_small)\n",
        "    end_louvain = time.time()\n",
        "\n",
        "    results[\"louvain\"] = {\n",
        "        \"modularity\": louvain_modularity,\n",
        "        \"num_communities\": len(set(partition_louvain.values())),\n",
        "        \"time_s\": round(end_louvain - start_louvain, 3)\n",
        "    }\n",
        "\n",
        "    # Greedy Modularity\n",
        "    start_greedy = time.time()\n",
        "    from networkx.algorithms.community import greedy_modularity_communities\n",
        "    greedy_communities = greedy_modularity_communities(G_small)\n",
        "    end_greedy = time.time()\n",
        "\n",
        "    # Convert set of frozensets to a partition dict for modularity calculation\n",
        "    partition_greedy = {}\n",
        "    idx = 0\n",
        "    for cset in greedy_communities:\n",
        "        for node in cset:\n",
        "            partition_greedy[node] = idx\n",
        "        idx += 1\n",
        "    greedy_mod = community_louvain.modularity(partition_greedy, G_small)\n",
        "\n",
        "    results[\"greedy\"] = {\n",
        "        \"modularity\": greedy_mod,\n",
        "        \"num_communities\": len(greedy_communities),\n",
        "        \"time_s\": round(end_greedy - start_greedy, 3)\n",
        "    }\n",
        "\n",
        "    return results\n"
      ],
      "metadata": {
        "id": "gttzQxm6gUiK"
      },
      "execution_count": 14,
      "outputs": []
    },
    {
      "cell_type": "markdown",
      "source": [
        "**Activity 2**: *Record Results in a Table*  \n",
        "- Extend the code to print or store results in a Pandas DataFrame.  \n",
        "- Compare which method yields the best modularity and which is fastest.\n",
        "\n",
        "---\n",
        "\n",
        "### **h. Result Interpretation and Reporting**\n",
        "\n",
        "1. **Visual and Numerical Summaries**:  \n",
        "   Always combine a metric (like modularity) with a qualitative look at your communities. A purely numerical approach may overlook interpretive subtleties.\n",
        "\n",
        "2. **Best Practices**:  \n",
        "   - Document your code, parameters, and dataset versions.  \n",
        "   - Provide clear visualizations (plots, tables) for each experiment.  \n",
        "   - Consider saving partitions or community lists for future reference.\n",
        "\n",
        "---\n",
        "\n",
        "### **Quiz**\n",
        "\n",
        "1. **True/False**: Louvain is generally less scalable than spectral clustering for very large networks.  \n",
        "2. **Short Answer**: Why might we see drastically different community structures when using different algorithms on the same dataset?\n",
        "\n",
        "---\n",
        "\n",
        "### **Activities to Practice**\n",
        "\n",
        "1. **Complete Pipeline on a Smaller Dataset**  \n",
        "   - Run the entire pipeline (load → algorithm → evaluate) on a subset of LiveJournal.  \n",
        "   - Then, if resources allow, scale up to the full dataset.  \n",
        "\n",
        "2. **Compare Implementations**  \n",
        "   - For Louvain, try a Python library vs. a C++ implementation (if available).  \n",
        "   - Observe differences in speed and final modularity or community count.\n"
      ],
      "metadata": {
        "id": "XYqKEvwIgZMV"
      }
    },
    {
      "cell_type": "markdown",
      "source": [
        "## 6.5 Evaluation, Advanced Topics, and Conclusion\n",
        "\n",
        "**Overview**\n",
        "\n",
        "**a. Objective**  \n",
        "- Provide insights into evaluating community detection methods  \n",
        "- Introduce advanced topics and finalize the unit  \n",
        "\n",
        "**b. Introduction**  \n",
        "- Overview of community evaluation metrics (ARI, NMI, F-measure)  \n",
        "- The gap between theoretical performance and real-world results  \n",
        "\n",
        "**c. Evaluation Metrics**  \n",
        "- In-depth explanation of Normalized Mutual Information (NMI)  \n",
        "- Importance of ground-truth comparisons (if available)  \n",
        "\n",
        "**d. Examples/Codes (using LiveJournal dataset)**  \n",
        "- Demonstrating evaluation metrics for communities discovered in previous sections  \n",
        "- Simple comparison chart of different algorithms’ performance metrics  \n",
        "\n",
        "**e. Explanation**  \n",
        "- Common pitfalls (overfitting, resolution limit in modularity)  \n",
        "- Importance of domain context when interpreting metric scores  \n",
        "\n",
        "**f. Advanced Topics**  \n",
        "- Overlapping communities and fuzzy clustering methods  \n",
        "- Dynamic community detection for temporal networks  \n",
        "\n",
        "**g. Practical Activities/Codes (using LiveJournal dataset)**  \n",
        "- Implement or integrate a library to calculate evaluation metrics  \n",
        "- Attempt overlapping detection on a small sub-sample, if feasible  \n",
        "\n",
        "**h. Conclusion and Further Study**  \n",
        "- Recap of main takeaways from community detection research  \n",
        "- Recommended resources for deeper exploration  \n",
        "### **b. Introduction: Evaluation Metrics and Real-World Gaps**\n",
        "\n",
        "Evaluating community detection often involves comparing the discovered communities to a “ground truth” or using objective measures like **Normalized Mutual Information (NMI)** or **Adjusted Rand Index (ARI)**. However, real-world data may be noisy, incomplete, or without a clear definition of ground-truth communities, making evaluation trickier. Theoretical improvements may not always translate into better real-world performance due to network complexity and dynamic changes.\n",
        "\n",
        "---\n",
        "\n",
        "### **c. Evaluation Metrics**\n",
        "\n",
        "1. **Normalized Mutual Information (NMI)**  \n",
        "   - Compares two partitions (the detected communities vs. ground truth).  \n",
        "   - Ranges from 0 (no agreement) to 1 (perfect match).\n",
        "\n",
        "2. **Adjusted Rand Index (ARI)**  \n",
        "   - Accounts for random chance in clustering agreements.  \n",
        "   - More robust than simple accuracy measures for partition comparisons.\n",
        "\n",
        "3. **F-Measure / Precision-Recall**  \n",
        "   - Sometimes used when ground-truth labels are known.  \n",
        "   - Balances how many nodes are correctly grouped vs. incorrectly grouped.\n",
        "\n",
        "4. **Practical Concern**:  \n",
        "   - Not all datasets have a definitive ground truth, so algorithmic comparison might rely solely on internal metrics like **modularity** or silhouette scores.\n",
        "\n",
        "---\n",
        "\n",
        "### **d. Examples/Codes (using LiveJournal dataset)**\n",
        "\n",
        "Below is an example of how you might compute a simple evaluation metric like NMI if you have a known “ground truth” partition. For demonstration, we treat the original community file as ground truth.\n",
        "\n"
      ],
      "metadata": {
        "id": "vueTdh9igoCi"
      }
    },
    {
      "cell_type": "code",
      "source": [
        "# d. Example: Computing NMI in Python\n",
        "# We'll assume the \"communities\" variable represents our ground-truth partition\n",
        "# and \"predicted_partition\" some dictionary where node -> predicted community ID.\n",
        "\n",
        "!pip install scikit-learn  # <-- Use scikit-learn instead of sklearn\n",
        "from sklearn.metrics import normalized_mutual_info_score\n",
        "import networkx as nx\n",
        "\n",
        "# Mock: Suppose we have a function that translates \"communities\" into a ground_truth dict\n",
        "def build_ground_truth_dict(communities):\n",
        "    gt_dict = {}\n",
        "    cluster_id = 0\n",
        "    for c in communities:\n",
        "        for node in c:\n",
        "            gt_dict[node] = cluster_id\n",
        "        cluster_id += 1\n",
        "    return gt_dict\n",
        "\n",
        "# Similarly, assume we have a predicted partition from an algorithm\n",
        "def example_predicted_partition(G_small):\n",
        "    \"\"\"\n",
        "    This is just an example that assigns each node to its own community.\n",
        "    Obviously not a good solution, but for demonstration.\n",
        "    \"\"\"\n",
        "    pred_partition = {}\n",
        "    unique_id = 0\n",
        "    for node in G_small.nodes():\n",
        "        pred_partition[node] = unique_id\n",
        "        unique_id += 1\n",
        "    return pred_partition\n",
        "\n",
        "if 'communities' in globals():\n",
        "    ground_truth_dict = build_ground_truth_dict(communities[:500])  # partial for demonstration\n",
        "    if 'G_small' in globals():\n",
        "        predicted_dict = example_predicted_partition(G_small)\n",
        "\n",
        "        # Extract node labels from both dicts (only for common nodes)\n",
        "        common_nodes = set(ground_truth_dict.keys()).intersection(set(predicted_dict.keys()))\n",
        "        true_labels = [ground_truth_dict[n] for n in common_nodes]\n",
        "        pred_labels = [predicted_dict[n] for n in common_nodes]\n",
        "\n",
        "        # Calculate NMI\n",
        "        nmi_score = normalized_mutual_info_score(true_labels, pred_labels)\n",
        "        print(f\"Mock NMI Score: {nmi_score:.3f}\")\n",
        "    else:\n",
        "        print(\"No predicted partition found. Please generate 'G_small' and try again.\")\n",
        "else:\n",
        "    print(\"Please load or define 'communities' first.\")\n"
      ],
      "metadata": {
        "colab": {
          "base_uri": "https://localhost:8080/"
        },
        "id": "QTXc5DQCgqLk",
        "outputId": "d8c5e919-8152-457d-a7cb-982a504f87a9"
      },
      "execution_count": 16,
      "outputs": [
        {
          "output_type": "stream",
          "name": "stdout",
          "text": [
            "Requirement already satisfied: scikit-learn in /usr/local/lib/python3.11/dist-packages (1.6.0)\n",
            "Requirement already satisfied: numpy>=1.19.5 in /usr/local/lib/python3.11/dist-packages (from scikit-learn) (1.26.4)\n",
            "Requirement already satisfied: scipy>=1.6.0 in /usr/local/lib/python3.11/dist-packages (from scikit-learn) (1.13.1)\n",
            "Requirement already satisfied: joblib>=1.2.0 in /usr/local/lib/python3.11/dist-packages (from scikit-learn) (1.4.2)\n",
            "Requirement already satisfied: threadpoolctl>=3.1.0 in /usr/local/lib/python3.11/dist-packages (from scikit-learn) (3.5.0)\n",
            "Mock NMI Score: 0.648\n"
          ]
        }
      ]
    },
    {
      "cell_type": "markdown",
      "source": [
        "### **e. Explanation**\n",
        "\n",
        "- **Overfitting**: An algorithm might try to create many small communities to inflate certain metrics.  \n",
        "- **Resolution Limit in Modularity**: Large networks may “hide” small communities due to how modularity aggregates edges.  \n",
        "- **Domain Context**: In social networks, the best metric might focus on user engagement rather than purely structural metrics.\n",
        "\n",
        "---\n",
        "\n",
        "### **f. Advanced Topics**\n",
        "\n",
        "1. **Overlapping Communities and Fuzzy Clustering**  \n",
        "   - Real-world networks often have nodes in multiple groups. Techniques like fuzzy clustering assign degrees of membership.\n",
        "\n",
        "2. **Dynamic Community Detection**  \n",
        "   - Networks evolve. Analyzing community changes over time gives insights into growth, decay, or merging of communities.\n",
        "\n",
        "---\n",
        "\n",
        "### **g. Practical Activities/Codes (using LiveJournal dataset)**\n",
        "\n",
        "**Activity 1**: *Implement a Library for Evaluation*  \n",
        "- Use an established library (like `sklearn` or a specialized community detection library) to compute ARI or NMI on your predicted partitions vs. the ground truth.  \n",
        "- Explore how the score changes if you tweak the algorithm parameters.\n",
        "\n"
      ],
      "metadata": {
        "id": "mUeUfqZThIrX"
      }
    },
    {
      "cell_type": "code",
      "source": [
        "# Activity 1 Starter Code\n",
        "\n",
        "def compute_ari(true_partition, predicted_partition):\n",
        "    \"\"\"\n",
        "    A function to compute Adjusted Rand Index.\n",
        "    true_partition and predicted_partition should be dicts of node->communityID.\n",
        "    Returns the ARI score.\n",
        "    \"\"\"\n",
        "    from sklearn.metrics import adjusted_rand_score\n",
        "\n",
        "    common_nodes = set(true_partition.keys()).intersection(set(predicted_partition.keys()))\n",
        "    true_labels = [true_partition[n] for n in common_nodes]\n",
        "    pred_labels = [predicted_partition[n] for n in common_nodes]\n",
        "    ari_value = adjusted_rand_score(true_labels, pred_labels)\n",
        "    return ari_value\n",
        "\n",
        "# Try to accomplish computing ARI with your own predicted partition\n"
      ],
      "metadata": {
        "id": "HcmuX18ghLh8"
      },
      "execution_count": 17,
      "outputs": []
    },
    {
      "cell_type": "markdown",
      "source": [
        "**Activity 2**: *Overlap Detection*  \n",
        "- Modify or augment your community detection approach to allow nodes to appear in multiple clusters.  \n",
        "- Compare how the metrics (NMI, ARI) handle overlapping partitions (hint: might require specialized versions of these metrics).\n",
        "\n",
        "---\n",
        "\n",
        "### **h. Conclusion and Further Study**\n",
        "\n",
        "1. **Key Takeaways**:  \n",
        "   - Evaluation requires both quantitative metrics (e.g., NMI) and qualitative/contextual checks.  \n",
        "   - Overlapping and dynamic communities add layers of complexity.\n",
        "\n",
        "2. **Additional Resources**:  \n",
        "   - **Papers**: “Community detection in graphs” by Santo Fortunato.  \n",
        "   - **Libraries**: `cdlib`, `igraph`, `networkx` advanced modules.\n",
        "\n",
        "---\n",
        "\n",
        "### **Quiz**\n",
        "\n",
        "1. **Evaluation Metrics**: What metric compares discovered partitions with ground truth, adjusting for chance?  \n",
        "2. **Advanced**: What is one reason overlapping communities are more realistic in many real-world networks?\n",
        "\n",
        "---\n",
        "\n",
        "### **Activities to Practice**\n",
        "\n",
        "1. **Experiment**: Compare results when you partition the same data with an algorithm that generates overlapping communities vs. one that does not.  \n",
        "2. **Reflection**: Write a short paragraph on how community detection might evolve for large dynamic networks (e.g., real-time social media).\n"
      ],
      "metadata": {
        "id": "4dXHkUYGhNvU"
      }
    },
    {
      "cell_type": "markdown",
      "source": [
        "# **Answers to Quizzes**\n",
        "\n",
        "---\n",
        "\n",
        "## **Answers for Unit 6.1**\n",
        "\n",
        "1. **What is a “community” in the context of network analysis?**  \n",
        "   A community is a group of nodes that are more densely connected to each other than to the rest of the network.\n",
        "\n",
        "2. **Why is community detection vital for complex networks?**  \n",
        "   It reveals underlying structures or clusters that can influence information flow, user behavior, or functional roles within the network.\n",
        "\n",
        "3. **Real-world example where identifying communities might be beneficial**  \n",
        "   In social media, finding tightly knit fan groups helps target recommendations or ads more effectively.\n",
        "\n",
        "---\n",
        "\n",
        "## **Answers for Unit 6.2**\n",
        "\n",
        "1. **Which approach is known for the resolution limit issue?**  \n",
        "   Modularity optimization can struggle with small communities because of the resolution limit.\n",
        "\n",
        "2. **Which approach relies on eigenvectors of the graph Laplacian?**  \n",
        "   Spectral clustering uses the eigenvectors of the Laplacian for partitioning.\n",
        "\n",
        "3. **Which method iteratively merges communities to maximize modularity?**  \n",
        "   The Louvain method refines communities in passes, merging them to improve modularity.\n",
        "\n",
        "---\n",
        "\n",
        "## **Answers for Unit 6.3**\n",
        "\n",
        "1. **How does a community in a social network compare to a functional module in a PPI network?**  \n",
        "   Both represent densely connected subsets of the larger network. In social settings, this often means shared interests or friendships; in biology, these are proteins that physically or functionally interact.\n",
        "\n",
        "2. **Two potential pitfalls of directly applying social network methods to PPI data**  \n",
        "   - Biological data may be noisier or incomplete, so social methods might overfit.  \n",
        "   - PPI networks can have different connectivity dynamics, requiring domain-specific interpretations.\n",
        "\n",
        "---\n",
        "\n",
        "## **Answers for Unit 6.4**\n",
        "\n",
        "1. **True/False: Louvain is generally less scalable than spectral clustering for very large networks**  \n",
        "   False. Louvain tends to be more scalable on large networks due to its iterative aggregation approach.\n",
        "\n",
        "2. **Why might we see drastically different community structures using different algorithms on the same dataset?**  \n",
        "   Each algorithm optimizes or detects communities based on different criteria (e.g., modularity vs. eigenvalue gaps), leading to variations in the number and size of communities found.\n",
        "\n",
        "---\n",
        "\n",
        "## **Answers for Unit 6.5**\n",
        "\n",
        "1. **Which metric compares discovered partitions with ground truth, adjusting for chance?**  \n",
        "   Adjusted Rand Index (ARI) accounts for chance agreements in partitioning.\n",
        "\n",
        "2. **One reason overlapping communities are more realistic in real-world networks**  \n",
        "   Individuals (or nodes) often belong to multiple groups simultaneously, so strict partitioning may not capture the true complexity of relationships.\n"
      ],
      "metadata": {
        "id": "LEiZjHR_hRFw"
      }
    }
  ]
}