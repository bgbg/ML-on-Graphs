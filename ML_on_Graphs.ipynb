{
  "nbformat": 4,
  "nbformat_minor": 0,
  "metadata": {
    "colab": {
      "provenance": [],
      "authorship_tag": "ABX9TyM2LtOsmPHpqTA/mKCMHbg9",
      "include_colab_link": true
    },
    "kernelspec": {
      "name": "python3",
      "display_name": "Python 3"
    },
    "language_info": {
      "name": "python"
    }
  },
  "cells": [
    {
      "cell_type": "markdown",
      "metadata": {
        "id": "view-in-github",
        "colab_type": "text"
      },
      "source": [
        "<a href=\"https://colab.research.google.com/github/ryandale7/ML-on-Graphs/blob/main/ML_on_Graphs.ipynb\" target=\"_parent\"><img src=\"https://colab.research.google.com/assets/colab-badge.svg\" alt=\"Open In Colab\"/></a>"
      ]
    },
    {
      "cell_type": "markdown",
      "source": [
        "\n",
        "## **What is a Graphical Neural Networks (GNNs)**\n",
        "\n",
        "GNNs are a type of neural network specifically designed to work with **graph-structured data**. Unlike traditional neural networks, which process structured inputs like sequences or grids (e.g., text or images), GNNs can handle **nodes** (entities) and **edges** (relationships) in graphs, making them suitable for problems where data is best represented as a graph.\n",
        "\n",
        "---\n",
        "\n",
        "A graph \\( G \\) is a mathematical structure represented as:  \n",
        "\\[\n",
        "G = (V, E)\n",
        "\\]  \n",
        "where:\n",
        "- \\( V \\): Set of **nodes** (or vertices), representing entities.\n",
        "- \\( E \\): Set of **edges**, representing relationships between entities.\n",
        "- \\( A \\): **Adjacency matrix** describing connections between nodes. \\( A_{ij} = 1 \\) if an edge exists between nodes \\( i \\) and \\( j \\).\n",
        "\n",
        "Each node \\( v \\in V \\) or edge \\( e_{ij} \\in E \\) can also carry **features**. For example:\n",
        "- In a **social network**, nodes are people, edges are friendships, and node features could include user attributes (age, interests, etc.).\n",
        "- In a **molecular graph**, nodes are atoms, edges are chemical bonds, and node features represent atom types.\n",
        "\n",
        "---\n"
      ],
      "metadata": {
        "id": "8OPkkPLMEl0Y"
      }
    },
    {
      "cell_type": "markdown",
      "source": [
        "#### Quiz:\n",
        "1. Define a graph in mathematical terms.\n",
        "2. What are the primary components of a graph?\n",
        "3. List two real-world applications of GNNs.\n",
        "4. Why are traditional neural networks insufficient for graph data?\n",
        "\n",
        "#### Practical Activity:\n",
        "- **Task**: Create a graph using the PyTorch Geometric library with 5 nodes and random edge connections. Assign each node a feature vector and print the graph's details.\n"
      ],
      "metadata": {
        "id": "QMZ5ZIZiJQGJ"
      }
    },
    {
      "cell_type": "markdown",
      "source": [
        "\n",
        "## **Why Do We Need GNNs?**\n",
        "\n",
        "Graphs are everywhere in the real world:\n",
        "- **Social Networks**: Users (nodes) and friendships (edges).\n",
        "- **Molecules**: Atoms (nodes) and bonds (edges).\n",
        "- **Knowledge Graphs**: Entities (nodes) and relationships (edges).\n",
        "- **Transportation Networks**: Locations (nodes) and routes (edges).\n",
        "- **Recommender Systems**: Users and items as nodes, interactions as edges.\n",
        "\n",
        "Traditional machine learning methods struggle to capture graph structure because:\n",
        "1. Graphs are non-Euclidean, meaning they lack a regular grid-like structure.\n",
        "2. Nodes and edges have varying numbers of connections.\n",
        "\n",
        "GNNs overcome this by **propagating and learning information** through graph structures.\n",
        "\n",
        "---\n"
      ],
      "metadata": {
        "id": "za_8rJVMEocn"
      }
    },
    {
      "cell_type": "markdown",
      "source": [
        "To work with **Graph Neural Networks (GNNs)** in Jupyter Notebook, you can use libraries like **PyTorch Geometric** or **Deep Graph Library (DGL)**. Below, I will guide you through setting up and implementing a simple **Graph Convolutional Network (GCN)** for **node classification** using PyTorch Geometric.\n",
        "\n",
        "## **Step 1: Install Necessary Libraries**\n",
        "\n",
        "Run the following in a Jupyter Notebook cell:"
      ],
      "metadata": {
        "id": "XaRhtZciYi_k"
      }
    },
    {
      "cell_type": "code",
      "source": [
        "!pip install torch torchvision torchaudio\n",
        "!pip install torch-geometric\n",
        "!pip install torch-scatter torch-sparse torch-cluster torch-spline-conv\n"
      ],
      "metadata": {
        "colab": {
          "base_uri": "https://localhost:8080/"
        },
        "collapsed": true,
        "id": "qHuPhJ3xE4sO",
        "outputId": "9508fc0a-4dcb-4d47-dc4d-5a2d86bb957b"
      },
      "execution_count": null,
      "outputs": [
        {
          "output_type": "stream",
          "name": "stdout",
          "text": [
            "Requirement already satisfied: torch in /usr/local/lib/python3.10/dist-packages (2.5.1+cu121)\n",
            "Requirement already satisfied: torchvision in /usr/local/lib/python3.10/dist-packages (0.20.1+cu121)\n",
            "Requirement already satisfied: torchaudio in /usr/local/lib/python3.10/dist-packages (2.5.1+cu121)\n",
            "Requirement already satisfied: filelock in /usr/local/lib/python3.10/dist-packages (from torch) (3.16.1)\n",
            "Requirement already satisfied: typing-extensions>=4.8.0 in /usr/local/lib/python3.10/dist-packages (from torch) (4.12.2)\n",
            "Requirement already satisfied: networkx in /usr/local/lib/python3.10/dist-packages (from torch) (3.4.2)\n",
            "Requirement already satisfied: jinja2 in /usr/local/lib/python3.10/dist-packages (from torch) (3.1.4)\n",
            "Requirement already satisfied: fsspec in /usr/local/lib/python3.10/dist-packages (from torch) (2024.10.0)\n",
            "Requirement already satisfied: sympy==1.13.1 in /usr/local/lib/python3.10/dist-packages (from torch) (1.13.1)\n",
            "Requirement already satisfied: mpmath<1.4,>=1.1.0 in /usr/local/lib/python3.10/dist-packages (from sympy==1.13.1->torch) (1.3.0)\n",
            "Requirement already satisfied: numpy in /usr/local/lib/python3.10/dist-packages (from torchvision) (1.26.4)\n",
            "Requirement already satisfied: pillow!=8.3.*,>=5.3.0 in /usr/local/lib/python3.10/dist-packages (from torchvision) (11.0.0)\n",
            "Requirement already satisfied: MarkupSafe>=2.0 in /usr/local/lib/python3.10/dist-packages (from jinja2->torch) (3.0.2)\n",
            "Collecting torch-geometric\n",
            "  Downloading torch_geometric-2.6.1-py3-none-any.whl.metadata (63 kB)\n",
            "\u001b[2K     \u001b[90m━━━━━━━━━━━━━━━━━━━━━━━━━━━━━━━━━━━━━━━━\u001b[0m \u001b[32m63.1/63.1 kB\u001b[0m \u001b[31m1.7 MB/s\u001b[0m eta \u001b[36m0:00:00\u001b[0m\n",
            "\u001b[?25hRequirement already satisfied: aiohttp in /usr/local/lib/python3.10/dist-packages (from torch-geometric) (3.11.10)\n",
            "Requirement already satisfied: fsspec in /usr/local/lib/python3.10/dist-packages (from torch-geometric) (2024.10.0)\n",
            "Requirement already satisfied: jinja2 in /usr/local/lib/python3.10/dist-packages (from torch-geometric) (3.1.4)\n",
            "Requirement already satisfied: numpy in /usr/local/lib/python3.10/dist-packages (from torch-geometric) (1.26.4)\n",
            "Requirement already satisfied: psutil>=5.8.0 in /usr/local/lib/python3.10/dist-packages (from torch-geometric) (5.9.5)\n",
            "Requirement already satisfied: pyparsing in /usr/local/lib/python3.10/dist-packages (from torch-geometric) (3.2.0)\n",
            "Requirement already satisfied: requests in /usr/local/lib/python3.10/dist-packages (from torch-geometric) (2.32.3)\n",
            "Requirement already satisfied: tqdm in /usr/local/lib/python3.10/dist-packages (from torch-geometric) (4.66.6)\n",
            "Requirement already satisfied: aiohappyeyeballs>=2.3.0 in /usr/local/lib/python3.10/dist-packages (from aiohttp->torch-geometric) (2.4.4)\n",
            "Requirement already satisfied: aiosignal>=1.1.2 in /usr/local/lib/python3.10/dist-packages (from aiohttp->torch-geometric) (1.3.1)\n",
            "Requirement already satisfied: async-timeout<6.0,>=4.0 in /usr/local/lib/python3.10/dist-packages (from aiohttp->torch-geometric) (4.0.3)\n",
            "Requirement already satisfied: attrs>=17.3.0 in /usr/local/lib/python3.10/dist-packages (from aiohttp->torch-geometric) (24.2.0)\n",
            "Requirement already satisfied: frozenlist>=1.1.1 in /usr/local/lib/python3.10/dist-packages (from aiohttp->torch-geometric) (1.5.0)\n",
            "Requirement already satisfied: multidict<7.0,>=4.5 in /usr/local/lib/python3.10/dist-packages (from aiohttp->torch-geometric) (6.1.0)\n",
            "Requirement already satisfied: propcache>=0.2.0 in /usr/local/lib/python3.10/dist-packages (from aiohttp->torch-geometric) (0.2.1)\n",
            "Requirement already satisfied: yarl<2.0,>=1.17.0 in /usr/local/lib/python3.10/dist-packages (from aiohttp->torch-geometric) (1.18.3)\n",
            "Requirement already satisfied: MarkupSafe>=2.0 in /usr/local/lib/python3.10/dist-packages (from jinja2->torch-geometric) (3.0.2)\n",
            "Requirement already satisfied: charset-normalizer<4,>=2 in /usr/local/lib/python3.10/dist-packages (from requests->torch-geometric) (3.4.0)\n",
            "Requirement already satisfied: idna<4,>=2.5 in /usr/local/lib/python3.10/dist-packages (from requests->torch-geometric) (3.10)\n",
            "Requirement already satisfied: urllib3<3,>=1.21.1 in /usr/local/lib/python3.10/dist-packages (from requests->torch-geometric) (2.2.3)\n",
            "Requirement already satisfied: certifi>=2017.4.17 in /usr/local/lib/python3.10/dist-packages (from requests->torch-geometric) (2024.8.30)\n",
            "Requirement already satisfied: typing-extensions>=4.1.0 in /usr/local/lib/python3.10/dist-packages (from multidict<7.0,>=4.5->aiohttp->torch-geometric) (4.12.2)\n",
            "Downloading torch_geometric-2.6.1-py3-none-any.whl (1.1 MB)\n",
            "\u001b[2K   \u001b[90m━━━━━━━━━━━━━━━━━━━━━━━━━━━━━━━━━━━━━━━━\u001b[0m \u001b[32m1.1/1.1 MB\u001b[0m \u001b[31m18.3 MB/s\u001b[0m eta \u001b[36m0:00:00\u001b[0m\n",
            "\u001b[?25hInstalling collected packages: torch-geometric\n",
            "Successfully installed torch-geometric-2.6.1\n",
            "Collecting torch-scatter\n",
            "  Downloading torch_scatter-2.1.2.tar.gz (108 kB)\n",
            "\u001b[2K     \u001b[90m━━━━━━━━━━━━━━━━━━━━━━━━━━━━━━━━━━━━━━━━\u001b[0m \u001b[32m108.0/108.0 kB\u001b[0m \u001b[31m2.7 MB/s\u001b[0m eta \u001b[36m0:00:00\u001b[0m\n",
            "\u001b[?25h  Preparing metadata (setup.py) ... \u001b[?25l\u001b[?25hdone\n",
            "Collecting torch-sparse\n",
            "  Downloading torch_sparse-0.6.18.tar.gz (209 kB)\n",
            "\u001b[2K     \u001b[90m━━━━━━━━━━━━━━━━━━━━━━━━━━━━━━━━━━━━━━━━\u001b[0m \u001b[32m210.0/210.0 kB\u001b[0m \u001b[31m6.9 MB/s\u001b[0m eta \u001b[36m0:00:00\u001b[0m\n",
            "\u001b[?25h  Preparing metadata (setup.py) ... \u001b[?25l\u001b[?25hdone\n",
            "Collecting torch-cluster\n",
            "  Downloading torch_cluster-1.6.3.tar.gz (54 kB)\n",
            "\u001b[2K     \u001b[90m━━━━━━━━━━━━━━━━━━━━━━━━━━━━━━━━━━━━━━━━\u001b[0m \u001b[32m54.5/54.5 kB\u001b[0m \u001b[31m3.6 MB/s\u001b[0m eta \u001b[36m0:00:00\u001b[0m\n",
            "\u001b[?25h  Preparing metadata (setup.py) ... \u001b[?25l\u001b[?25hdone\n",
            "Collecting torch-spline-conv\n",
            "  Downloading torch_spline_conv-1.2.2.tar.gz (25 kB)\n",
            "  Preparing metadata (setup.py) ... \u001b[?25l\u001b[?25hdone\n",
            "Requirement already satisfied: scipy in /usr/local/lib/python3.10/dist-packages (from torch-sparse) (1.13.1)\n",
            "Requirement already satisfied: numpy<2.3,>=1.22.4 in /usr/local/lib/python3.10/dist-packages (from scipy->torch-sparse) (1.26.4)\n",
            "Building wheels for collected packages: torch-scatter, torch-sparse, torch-cluster, torch-spline-conv\n",
            "  Building wheel for torch-scatter (setup.py) ... \u001b[?25l\u001b[?25hdone\n",
            "  Created wheel for torch-scatter: filename=torch_scatter-2.1.2-cp310-cp310-linux_x86_64.whl size=538974 sha256=38aeb4b3304bf26c1fc2e1c98d50b791ed9083cb0c6b46ce945182805e65fc9e\n",
            "  Stored in directory: /root/.cache/pip/wheels/92/f1/2b/3b46d54b134259f58c8363568569053248040859b1a145b3ce\n",
            "  Building wheel for torch-sparse (setup.py) ... \u001b[?25l\u001b[?25hdone\n",
            "  Created wheel for torch-sparse: filename=torch_sparse-0.6.18-cp310-cp310-linux_x86_64.whl size=1104576 sha256=82b522ba4631e1680b0fc0845cc3818e4fa9649dcc0edafee1b873eed6e7493a\n",
            "  Stored in directory: /root/.cache/pip/wheels/c9/dd/0f/a6a16f9f3b0236733d257b4b4ea91b548b984a341ed3b8f38c\n",
            "  Building wheel for torch-cluster (setup.py) ... \u001b[?25l\u001b[?25hdone\n",
            "  Created wheel for torch-cluster: filename=torch_cluster-1.6.3-cp310-cp310-linux_x86_64.whl size=728767 sha256=700cf260f52ce4b2ed7baf126811f8bb7f71ba6231f983b06a35f7c1a5877c99\n",
            "  Stored in directory: /root/.cache/pip/wheels/51/78/c3/536637b3cdcc3313aa5e8851a6c72b97f6a01877e68c7595e3\n",
            "  Building wheel for torch-spline-conv (setup.py) ... \u001b[?25l\u001b[?25hdone\n",
            "  Created wheel for torch-spline-conv: filename=torch_spline_conv-1.2.2-cp310-cp310-linux_x86_64.whl size=227095 sha256=31953e5e252e6a385ffbe3f9b206bce13ccf750b2a024448619dabd17143ae8f\n",
            "  Stored in directory: /root/.cache/pip/wheels/fc/34/be/187e4b5f5ccefecca2c1a5dfc8da244ec50baa1f33c7b8c9a1\n",
            "Successfully built torch-scatter torch-sparse torch-cluster torch-spline-conv\n",
            "Installing collected packages: torch-spline-conv, torch-scatter, torch-sparse, torch-cluster\n",
            "Successfully installed torch-cluster-1.6.3 torch-scatter-2.1.2 torch-sparse-0.6.18 torch-spline-conv-1.2.2\n"
          ]
        }
      ]
    },
    {
      "cell_type": "markdown",
      "source": [
        "## **Step 2: Import Libraries**"
      ],
      "metadata": {
        "id": "BRiXfaPbY2-j"
      }
    },
    {
      "cell_type": "code",
      "source": [
        "import torch\n",
        "import torch.nn.functional as F\n",
        "from torch_geometric.data import Data\n",
        "from torch_geometric.nn import GCNConv\n"
      ],
      "metadata": {
        "id": "xW2f2fAmY4wv"
      },
      "execution_count": null,
      "outputs": []
    },
    {
      "cell_type": "markdown",
      "source": [
        "## **Step 3: Define a Graph Dataset**\n",
        "\n",
        "We create a small graph for demonstration. The graph consists of:\n",
        "- 4 nodes with features.\n",
        "- Undirected edges between nodes."
      ],
      "metadata": {
        "id": "YGbKz5atc3ZP"
      }
    },
    {
      "cell_type": "code",
      "source": [
        "# Define the graph structure\n",
        "edge_index = torch.tensor([\n",
        "    [0, 1, 1, 2, 2, 3],  # Source nodes\n",
        "    [1, 0, 2, 1, 3, 2]   # Target nodes\n",
        "], dtype=torch.long)\n",
        "\n",
        "# Node features (4 nodes, 3 features each)\n",
        "x = torch.tensor([\n",
        "    [1, 2, 1],\n",
        "    [2, 1, 0],\n",
        "    [3, 1, 4],\n",
        "    [4, 2, 1]\n",
        "], dtype=torch.float)\n",
        "\n",
        "# Node labels (e.g., for classification)\n",
        "y = torch.tensor([0, 1, 0, 1], dtype=torch.long)\n",
        "\n",
        "# Create PyTorch Geometric data object\n",
        "data = Data(x=x, edge_index=edge_index, y=y)\n",
        "print(data)\n"
      ],
      "metadata": {
        "colab": {
          "base_uri": "https://localhost:8080/"
        },
        "id": "nZtX8wmkc4dd",
        "outputId": "8e426171-9b76-45c4-ecd6-b60304f1209b"
      },
      "execution_count": null,
      "outputs": [
        {
          "output_type": "stream",
          "name": "stdout",
          "text": [
            "Data(x=[4, 3], edge_index=[2, 6], y=[4])\n"
          ]
        }
      ]
    },
    {
      "cell_type": "markdown",
      "source": [
        "## **How Do GNNs Work?**\n",
        "\n",
        "GNNs use a **message-passing mechanism** to allow nodes to exchange information with their neighbors iteratively.\n",
        "\n",
        "1. **Node Representation Initialization**:  \n",
        "   Each node starts with initial features \\( h_v^{(0)} \\).\n",
        "\n",
        "2. **Message Passing**:  \n",
        "   At each iteration (or \"layer\"), a node aggregates information from its neighbors. This can be written as:\n",
        "   \\[\n",
        "   h_v^{(t+1)} = \\text{UPDATE}\\left(h_v^{(t)}, \\text{AGGREGATE}\\left(\\{h_u^{(t)} : u \\in \\mathcal{N}(v)\\}\\right)\\right)\n",
        "   \\]\n",
        "   - **AGGREGATE**: Combines information from the neighbors of \\( v \\) (e.g., using sum, mean, max, or attention mechanisms).\n",
        "   - **UPDATE**: Updates the node's representation using the aggregated information (e.g., with a neural network).\n",
        "\n",
        "3. **Final Representation**:  \n",
        "   After \\( T \\) layers of message passing, nodes have learned **contextual embeddings** that encode both their features and the graph's structure.\n",
        "\n",
        "4. **Graph-Level Representations**:  \n",
        "   To produce a representation for the whole graph, a **pooling** operation (e.g., sum, mean, or max) combines all node representations.\n",
        "\n",
        "---"
      ],
      "metadata": {
        "id": "DHCkhwedEt5r"
      }
    },
    {
      "cell_type": "markdown",
      "source": [
        "#### Quiz:\n",
        "1. What is the purpose of the `AGGREGATE` and `UPDATE` steps in GNNs?\n",
        "2. Explain how the message-passing mechanism works in GNNs.\n",
        "3. What is a graph-level representation?\n",
        "\n",
        "#### Practical Activity:\n",
        "- **Task**: Modify the provided example graph dataset by adding an edge between two nodes and observe the change in the adjacency matrix."
      ],
      "metadata": {
        "id": "Tyv_2lr9JyJr"
      }
    },
    {
      "cell_type": "markdown",
      "source": [
        "## **Types of GNNs**\n",
        "\n",
        "### 1. **Graph Convolutional Networks (GCN)**\n",
        "- Generalizes traditional convolutions to graphs.\n",
        "- Uses a normalized adjacency matrix to propagate information between nodes.\n",
        "\n",
        "### 2. **Graph Attention Networks (GAT)**\n",
        "- Uses **attention mechanisms** to assign different weights to neighboring nodes during aggregation.\n",
        "\n",
        "### 3. **GraphSAGE**\n",
        "- Scalable GNN for large graphs.\n",
        "- Samples neighborhoods and aggregates information using mean, LSTM, or pooling.\n",
        "\n",
        "### 4. **Message Passing Neural Networks (MPNNs)**\n",
        "- A general framework where messages are passed between nodes through edges.\n",
        "\n",
        "### 5. **Graph Isomorphism Networks (GIN)**\n",
        "- A powerful model capable of distinguishing graph structures effectively.\n",
        "\n",
        "---"
      ],
      "metadata": {
        "id": "HoaliR6BExcs"
      }
    },
    {
      "cell_type": "markdown",
      "source": [
        "#### Quiz:\n",
        "1. Name and briefly describe two types of GNNs.\n",
        "2. What distinguishes a Graph Attention Network (GAT) from a Graph Convolutional Network (GCN)?\n",
        "3. What is the purpose of pooling operations in GNNs?\n",
        "\n",
        "#### Practical Activity:\n",
        "- **Task**: Implement a small GCN model and train it on a toy dataset to predict node labels.\n"
      ],
      "metadata": {
        "id": "zYnerfZYJ4hm"
      }
    },
    {
      "cell_type": "markdown",
      "source": [
        "## **Step 4: Define the GCN Model**\n",
        "\n",
        "We create a simple GCN with two layers. The first layer aggregates node information, and the second layer predicts node labels."
      ],
      "metadata": {
        "id": "MNirRss6c_XX"
      }
    },
    {
      "cell_type": "code",
      "source": [
        "class GCN(torch.nn.Module):\n",
        "    def __init__(self):\n",
        "        super(GCN, self).__init__()\n",
        "        self.conv1 = GCNConv(3, 4)  # Input features: 3, Output features: 4\n",
        "        self.conv2 = GCNConv(4, 2)  # Output features: 2 (binary classification)\n",
        "\n",
        "    def forward(self, data):\n",
        "        x, edge_index = data.x, data.edge_index\n",
        "\n",
        "        # First GCN layer + activation\n",
        "        x = self.conv1(x, edge_index)\n",
        "        x = F.relu(x)\n",
        "\n",
        "        # Second GCN layer + softmax\n",
        "        x = self.conv2(x, edge_index)\n",
        "        return F.log_softmax(x, dim=1)\n"
      ],
      "metadata": {
        "id": "GNgwGMTIdG0P"
      },
      "execution_count": null,
      "outputs": []
    },
    {
      "cell_type": "markdown",
      "source": [
        "## **Step 5: Train the GCN**\n",
        "\n",
        "Train the GCN using cross-entropy loss on the node labels."
      ],
      "metadata": {
        "id": "3BAM1HSBdSAb"
      }
    },
    {
      "cell_type": "code",
      "source": [
        "# Initialize model, optimizer, and loss function\n",
        "model = GCN()\n",
        "optimizer = torch.optim.Adam(model.parameters(), lr=0.01)\n",
        "loss_fn = torch.nn.CrossEntropyLoss()\n",
        "\n",
        "# Training loop\n",
        "def train():\n",
        "    model.train()\n",
        "    optimizer.zero_grad()\n",
        "    out = model(data)  # Forward pass\n",
        "    loss = loss_fn(out, data.y)  # Compute loss\n",
        "    loss.backward()  # Backpropagation\n",
        "    optimizer.step()  # Update weights\n",
        "    return loss.item()\n",
        "\n",
        "# Train for 100 epochs\n",
        "for epoch in range(100):\n",
        "    loss = train()\n",
        "    if epoch % 10 == 0:\n",
        "        print(f\"Epoch {epoch}, Loss: {loss:.4f}\")\n"
      ],
      "metadata": {
        "colab": {
          "base_uri": "https://localhost:8080/"
        },
        "id": "dAU1coNOdTMp",
        "outputId": "3fc89383-1a0d-4312-c317-b181e74883ea"
      },
      "execution_count": null,
      "outputs": [
        {
          "output_type": "stream",
          "name": "stdout",
          "text": [
            "Epoch 0, Loss: 0.9152\n",
            "Epoch 10, Loss: 0.7074\n",
            "Epoch 20, Loss: 0.6694\n",
            "Epoch 30, Loss: 0.6675\n",
            "Epoch 40, Loss: 0.6674\n",
            "Epoch 50, Loss: 0.6659\n",
            "Epoch 60, Loss: 0.6644\n",
            "Epoch 70, Loss: 0.6632\n",
            "Epoch 80, Loss: 0.6620\n",
            "Epoch 90, Loss: 0.6608\n"
          ]
        }
      ]
    },
    {
      "cell_type": "markdown",
      "source": [
        "## **Step 6: Evaluate the Model**\n",
        "\n",
        "After training, evaluate the GCN's predictions."
      ],
      "metadata": {
        "id": "vC-tMSAIddzS"
      }
    },
    {
      "cell_type": "code",
      "source": [
        "# Evaluate the model\n",
        "model.eval()\n",
        "_, pred = model(data).max(dim=1)  # Get predicted classes\n",
        "correct = (pred == data.y).sum()\n",
        "acc = int(correct) / len(data.y)\n",
        "print(f\"Accuracy: {acc:.4f}\")\n",
        "\n",
        "# Print predictions\n",
        "print(\"Predicted labels:\", pred)\n",
        "print(\"True labels:     \", data.y)\n"
      ],
      "metadata": {
        "colab": {
          "base_uri": "https://localhost:8080/"
        },
        "id": "FQXvpxcbddWP",
        "outputId": "e36eba4a-d3af-4b59-920a-5173fe3271c1"
      },
      "execution_count": null,
      "outputs": [
        {
          "output_type": "stream",
          "name": "stdout",
          "text": [
            "Accuracy: 0.5000\n",
            "Predicted labels: tensor([0, 0, 1, 1])\n",
            "True labels:      tensor([0, 1, 0, 1])\n"
          ]
        }
      ]
    },
    {
      "cell_type": "markdown",
      "source": [
        "#### Quiz:\n",
        "1. What is the role of the `CrossEntropyLoss` function in training a GCN?\n",
        "2. What does the accuracy metric measure in the evaluation phase?\n",
        "\n",
        "#### Practical Activity:\n",
        "- **Task**: Train the GCN model provided in the document for 50 epochs and plot the training loss over time."
      ],
      "metadata": {
        "id": "XdjdNdh4KUeP"
      }
    },
    {
      "cell_type": "markdown",
      "source": [
        "\n",
        "## **Applications of GNNs**\n",
        "\n",
        "1. **Node Classification**: Predict node labels (e.g., categorizing users in social networks).\n",
        "2. **Link Prediction**: Predict edges between nodes (e.g., friend recommendations).\n",
        "3. **Graph Classification**: Classify entire graphs (e.g., molecular property prediction).\n",
        "4. **Community Detection**: Identify groups of closely connected nodes.\n",
        "5. **Recommender Systems**: Use user-item graphs to predict preferences.\n",
        "6. **Knowledge Graph Completion**: Predict missing relationships between entities.\n",
        "7. **Traffic Networks**: Analyze and predict traffic patterns in road networks."
      ],
      "metadata": {
        "id": "C0hF-JJRfHB5"
      }
    },
    {
      "cell_type": "markdown",
      "source": [
        "#### Quiz:\n",
        "1. Match the following applications to their corresponding tasks:\n",
        "   - **Node Classification**: (a) Predicting item preferences.\n",
        "   - **Link Prediction**: (b) Categorizing nodes in a social network.\n",
        "   - **Graph Classification**: (c) Predicting molecule properties.\n",
        "2. Which GNN-based application would you use for friend recommendation on social networks?\n",
        "\n",
        "#### Practical Activity:\n",
        "- **Task**: Choose an application (e.g., link prediction). Using PyTorch Geometric, split the edges of a graph into training and test sets, then predict the missing edges.\n"
      ],
      "metadata": {
        "id": "gBocaCzhJ_1x"
      }
    },
    {
      "cell_type": "markdown",
      "source": [
        "Below, I provide an example implementation for each **application of GNNs** in Jupyter Notebook format. Each includes a code snippet and explanation using **PyTorch Geometric**.\n",
        "\n",
        "---\n",
        "\n",
        "## **1. Node Classification**: Predict Node Labels\n",
        "\n",
        "**Example**: Categorizing nodes in a citation network (e.g., Cora dataset).\n"
      ],
      "metadata": {
        "id": "6S6iRJE_fOLM"
      }
    },
    {
      "cell_type": "code",
      "source": [
        "from torch_geometric.datasets import Planetoid\n",
        "from torch_geometric.nn import GCNConv\n",
        "import torch.nn.functional as F\n",
        "import torch\n",
        "\n",
        "# Load the Cora dataset\n",
        "dataset = Planetoid(root='data/Cora', name='Cora')\n",
        "data = dataset[0]\n",
        "\n",
        "# Define a 2-layer GCN\n",
        "class GCN(torch.nn.Module):\n",
        "    def __init__(self):\n",
        "        super(GCN, self).__init__()\n",
        "        self.conv1 = GCNConv(dataset.num_node_features, 16)\n",
        "        self.conv2 = GCNConv(16, dataset.num_classes)\n",
        "\n",
        "    def forward(self, data):\n",
        "        x, edge_index = data.x, data.edge_index\n",
        "        x = F.relu(self.conv1(x, edge_index))\n",
        "        x = F.dropout(x, training=self.training)\n",
        "        x = self.conv2(x, edge_index)\n",
        "        return F.log_softmax(x, dim=1)\n",
        "\n",
        "# Train the model\n",
        "device = torch.device('cuda' if torch.cuda.is_available() else 'cpu')\n",
        "model = GCN().to(device)\n",
        "data = data.to(device)\n",
        "optimizer = torch.optim.Adam(model.parameters(), lr=0.01, weight_decay=5e-4)\n",
        "\n",
        "def train():\n",
        "    model.train()\n",
        "    optimizer.zero_grad()\n",
        "    out = model(data)\n",
        "    loss = F.nll_loss(out[data.train_mask], data.y[data.train_mask])\n",
        "    loss.backward()\n",
        "    optimizer.step()\n",
        "    return loss\n",
        "\n",
        "# Training loop\n",
        "for epoch in range(200):\n",
        "    loss = train()\n",
        "    if epoch % 20 == 0:\n",
        "        print(f'Epoch {epoch}, Loss: {loss.item()}')\n",
        "\n",
        "# Test accuracy\n",
        "model.eval()\n",
        "_, pred = model(data).max(dim=1)\n",
        "correct = (pred[data.test_mask] == data.y[data.test_mask]).sum()\n",
        "accuracy = int(correct) / int(data.test_mask.sum())\n",
        "print(f'Accuracy: {accuracy:.4f}')\n"
      ],
      "metadata": {
        "colab": {
          "base_uri": "https://localhost:8080/"
        },
        "id": "5fZWf4KIfjPl",
        "outputId": "3c26f165-1b3f-43c2-e01b-7646a7d6a053"
      },
      "execution_count": null,
      "outputs": [
        {
          "output_type": "stream",
          "name": "stderr",
          "text": [
            "Downloading https://github.com/kimiyoung/planetoid/raw/master/data/ind.cora.x\n",
            "Downloading https://github.com/kimiyoung/planetoid/raw/master/data/ind.cora.tx\n",
            "Downloading https://github.com/kimiyoung/planetoid/raw/master/data/ind.cora.allx\n",
            "Downloading https://github.com/kimiyoung/planetoid/raw/master/data/ind.cora.y\n",
            "Downloading https://github.com/kimiyoung/planetoid/raw/master/data/ind.cora.ty\n",
            "Downloading https://github.com/kimiyoung/planetoid/raw/master/data/ind.cora.ally\n",
            "Downloading https://github.com/kimiyoung/planetoid/raw/master/data/ind.cora.graph\n",
            "Downloading https://github.com/kimiyoung/planetoid/raw/master/data/ind.cora.test.index\n",
            "Processing...\n",
            "Done!\n"
          ]
        },
        {
          "output_type": "stream",
          "name": "stdout",
          "text": [
            "Epoch 0, Loss: 1.9564495086669922\n",
            "Epoch 20, Loss: 0.30586671829223633\n",
            "Epoch 40, Loss: 0.07725340873003006\n",
            "Epoch 60, Loss: 0.04905160143971443\n",
            "Epoch 80, Loss: 0.038548845797777176\n",
            "Epoch 100, Loss: 0.046711429953575134\n",
            "Epoch 120, Loss: 0.052146393805742264\n",
            "Epoch 140, Loss: 0.04306652396917343\n",
            "Epoch 160, Loss: 0.030829235911369324\n",
            "Epoch 180, Loss: 0.029147198423743248\n",
            "Accuracy: 0.8040\n"
          ]
        }
      ]
    },
    {
      "cell_type": "markdown",
      "source": [
        "## **2. Link Prediction**: Predict Edges\n",
        "\n",
        "**Example**: Predict missing friendships in a graph."
      ],
      "metadata": {
        "id": "QNu1B7ndf02i"
      }
    },
    {
      "cell_type": "code",
      "source": [
        "import torch\n",
        "import torch.nn.functional as F\n",
        "from torch_geometric.nn import GCNConv\n",
        "from torch_geometric.transforms import RandomLinkSplit\n",
        "from torch_geometric.datasets import Planetoid\n",
        "\n",
        "# Load dataset\n",
        "dataset = Planetoid(root='data/Cora', name='Cora')\n",
        "\n",
        "# Split edges using RandomLinkSplit\n",
        "transform = RandomLinkSplit(is_undirected=True,\n",
        "                            split_labels=True,\n",
        "                            add_negative_train_samples=True)\n",
        "train_data, val_data, test_data = transform(dataset[0])\n",
        "\n",
        "# Define GCN model for link prediction\n",
        "class GCNLinkPredictor(torch.nn.Module):\n",
        "    def __init__(self, in_channels, hidden_channels):\n",
        "        super(GCNLinkPredictor, self).__init__()\n",
        "        self.conv1 = GCNConv(in_channels, hidden_channels)\n",
        "        self.conv2 = GCNConv(hidden_channels, hidden_channels)\n",
        "        self.fc = torch.nn.Linear(hidden_channels, 1)  # Binary prediction: Link or no link\n",
        "\n",
        "    def forward(self, x, edge_index):\n",
        "        x = F.relu(self.conv1(x, edge_index))\n",
        "        x = F.relu(self.conv2(x, edge_index))\n",
        "        return x\n",
        "\n",
        "    def decode(self, z, pos_edge_index, neg_edge_index):\n",
        "        # Positive edges\n",
        "        pos_scores = (z[pos_edge_index[0]] * z[pos_edge_index[1]]).sum(dim=-1)\n",
        "        # Negative edges\n",
        "        neg_scores = (z[neg_edge_index[0]] * z[neg_edge_index[1]]).sum(dim=-1)\n",
        "        return pos_scores, neg_scores\n",
        "\n",
        "# Initialize the model\n",
        "device = torch.device('cuda' if torch.cuda.is_available() else 'cpu')\n",
        "model = GCNLinkPredictor(dataset.num_node_features, 16).to(device)\n",
        "optimizer = torch.optim.Adam(model.parameters(), lr=0.01)\n",
        "train_data = train_data.to(device)\n",
        "\n",
        "# Loss function for link prediction\n",
        "def link_prediction_loss(pos_scores, neg_scores):\n",
        "    pos_loss = -torch.log(torch.sigmoid(pos_scores) + 1e-15).mean()\n",
        "    neg_loss = -torch.log(1 - torch.sigmoid(neg_scores) + 1e-15).mean()\n",
        "    return pos_loss + neg_loss\n",
        "\n",
        "# Training loop\n",
        "def train():\n",
        "    model.train()\n",
        "    optimizer.zero_grad()\n",
        "    z = model(train_data.x, train_data.edge_index)\n",
        "    pos_scores, neg_scores = model.decode(z, train_data.pos_edge_label_index, train_data.neg_edge_label_index)\n",
        "    loss = link_prediction_loss(pos_scores, neg_scores)\n",
        "    loss.backward()\n",
        "    optimizer.step()\n",
        "    return loss.item()\n",
        "\n",
        "# Training for 100 epochs\n",
        "for epoch in range(1, 101):\n",
        "    loss = train()\n",
        "    if epoch % 10 == 0:\n",
        "        print(f\"Epoch {epoch}, Loss: {loss:.4f}\")\n"
      ],
      "metadata": {
        "colab": {
          "base_uri": "https://localhost:8080/"
        },
        "id": "-LbdEUqaf1sW",
        "outputId": "c407a20d-1d87-40fe-855f-25794b4be238"
      },
      "execution_count": null,
      "outputs": [
        {
          "output_type": "stream",
          "name": "stdout",
          "text": [
            "Epoch 10, Loss: 1.1681\n",
            "Epoch 20, Loss: 1.0405\n",
            "Epoch 30, Loss: 0.9619\n",
            "Epoch 40, Loss: 0.9013\n",
            "Epoch 50, Loss: 0.8520\n",
            "Epoch 60, Loss: 0.8145\n",
            "Epoch 70, Loss: 0.7859\n",
            "Epoch 80, Loss: 0.7636\n",
            "Epoch 90, Loss: 0.7470\n",
            "Epoch 100, Loss: 0.7352\n"
          ]
        }
      ]
    },
    {
      "cell_type": "markdown",
      "source": [
        "## **3. Graph Classification**: Classify Entire Graphs\n",
        "\n",
        "**Example**: Classify molecular graphs based on properties."
      ],
      "metadata": {
        "id": "V6ytTvDsgulY"
      }
    },
    {
      "cell_type": "code",
      "source": [
        "from torch_geometric.datasets import TUDataset\n",
        "from torch_geometric.loader import DataLoader\n",
        "from torch_geometric.nn import GCNConv, global_mean_pool  # Import global_mean_pool\n",
        "import torch\n",
        "import torch.nn.functional as F\n",
        "\n",
        "# Load MUTAG dataset (graph classification)\n",
        "dataset = TUDataset(root='data/TUDataset', name='MUTAG')\n",
        "loader = DataLoader(dataset, batch_size=32, shuffle=True)\n",
        "\n",
        "# Define Graph Classification Model\n",
        "class GraphClassifier(torch.nn.Module):\n",
        "    def __init__(self):\n",
        "        super().__init__()\n",
        "        self.conv1 = GCNConv(dataset.num_node_features, 16)\n",
        "        self.conv2 = GCNConv(16, 16)\n",
        "        self.fc = torch.nn.Linear(16, dataset.num_classes)\n",
        "\n",
        "    def forward(self, x, edge_index, batch):\n",
        "        x = F.relu(self.conv1(x, edge_index))\n",
        "        x = F.relu(self.conv2(x, edge_index))\n",
        "        x = global_mean_pool(x, batch)  # Global mean pooling\n",
        "        return F.log_softmax(self.fc(x), dim=1)\n",
        "\n",
        "# Initialize model and optimizer\n",
        "device = torch.device('cuda' if torch.cuda.is_available() else 'cpu')\n",
        "model = GraphClassifier().to(device)\n",
        "optimizer = torch.optim.Adam(model.parameters(), lr=0.01)\n",
        "\n",
        "# Training loop\n",
        "for epoch in range(50):\n",
        "    model.train()\n",
        "    total_loss = 0\n",
        "    for data in loader:\n",
        "        data = data.to(device)\n",
        "        optimizer.zero_grad()\n",
        "        out = model(data.x, data.edge_index, data.batch)\n",
        "        loss = F.nll_loss(out, data.y)\n",
        "        loss.backward()\n",
        "        optimizer.step()\n",
        "        total_loss += loss.item()\n",
        "    print(f'Epoch {epoch}, Loss: {total_loss:.4f}')\n"
      ],
      "metadata": {
        "colab": {
          "base_uri": "https://localhost:8080/"
        },
        "id": "LPPKONuKguIP",
        "outputId": "78c5efed-db68-4057-a124-9cd42be11984"
      },
      "execution_count": null,
      "outputs": [
        {
          "output_type": "stream",
          "name": "stdout",
          "text": [
            "Epoch 0, Loss: 3.8779\n",
            "Epoch 1, Loss: 3.8464\n",
            "Epoch 2, Loss: 3.7634\n",
            "Epoch 3, Loss: 3.7365\n",
            "Epoch 4, Loss: 3.7161\n",
            "Epoch 5, Loss: 3.6899\n",
            "Epoch 6, Loss: 3.6362\n",
            "Epoch 7, Loss: 3.5808\n",
            "Epoch 8, Loss: 3.5910\n",
            "Epoch 9, Loss: 3.4370\n",
            "Epoch 10, Loss: 3.3756\n",
            "Epoch 11, Loss: 3.3133\n",
            "Epoch 12, Loss: 3.2283\n",
            "Epoch 13, Loss: 3.2545\n",
            "Epoch 14, Loss: 3.1020\n",
            "Epoch 15, Loss: 3.1682\n",
            "Epoch 16, Loss: 3.1621\n",
            "Epoch 17, Loss: 3.1586\n",
            "Epoch 18, Loss: 3.1620\n",
            "Epoch 19, Loss: 3.0904\n",
            "Epoch 20, Loss: 3.1652\n",
            "Epoch 21, Loss: 3.0977\n",
            "Epoch 22, Loss: 3.0886\n",
            "Epoch 23, Loss: 3.1251\n",
            "Epoch 24, Loss: 3.1373\n",
            "Epoch 25, Loss: 3.1645\n",
            "Epoch 26, Loss: 3.0912\n",
            "Epoch 27, Loss: 3.0871\n",
            "Epoch 28, Loss: 3.0557\n",
            "Epoch 29, Loss: 3.0688\n",
            "Epoch 30, Loss: 3.0591\n",
            "Epoch 31, Loss: 3.0866\n",
            "Epoch 32, Loss: 3.0582\n",
            "Epoch 33, Loss: 3.0579\n",
            "Epoch 34, Loss: 3.0660\n",
            "Epoch 35, Loss: 3.0555\n",
            "Epoch 36, Loss: 3.0650\n",
            "Epoch 37, Loss: 3.0311\n",
            "Epoch 38, Loss: 3.0619\n",
            "Epoch 39, Loss: 3.0195\n",
            "Epoch 40, Loss: 3.0557\n",
            "Epoch 41, Loss: 3.0204\n",
            "Epoch 42, Loss: 3.0325\n",
            "Epoch 43, Loss: 3.0578\n",
            "Epoch 44, Loss: 3.0265\n",
            "Epoch 45, Loss: 3.0264\n",
            "Epoch 46, Loss: 3.0230\n",
            "Epoch 47, Loss: 3.0403\n",
            "Epoch 48, Loss: 3.0462\n",
            "Epoch 49, Loss: 3.0333\n"
          ]
        }
      ]
    },
    {
      "cell_type": "markdown",
      "source": [
        "## **4. Community Detection: Identify Communities**\n",
        "\n",
        "**Goal**: Identify groups of closely connected nodes in a graph. This is an unsupervised task.\n",
        "\n",
        "### **Example Code**\n",
        "We use the **Karate Club dataset**, a social network graph, to detect communities using node embeddings and clustering."
      ],
      "metadata": {
        "id": "y0pgQRxEiJDW"
      }
    },
    {
      "cell_type": "code",
      "source": [
        "import torch\n",
        "from torch_geometric.datasets import KarateClub\n",
        "from torch_geometric.nn import GCNConv\n",
        "import torch.nn.functional as F\n",
        "from sklearn.cluster import KMeans\n",
        "import matplotlib.pyplot as plt\n",
        "\n",
        "# Load Karate Club dataset\n",
        "dataset = KarateClub()\n",
        "data = dataset[0]\n",
        "\n",
        "# Define GCN Model for Node Embeddings\n",
        "class GCN(torch.nn.Module):\n",
        "    def __init__(self, hidden_channels):\n",
        "        super().__init__()\n",
        "        self.conv1 = GCNConv(dataset.num_node_features, hidden_channels)\n",
        "        self.conv2 = GCNConv(hidden_channels, hidden_channels)\n",
        "\n",
        "    def forward(self, x, edge_index):\n",
        "        x = F.relu(self.conv1(x, edge_index))\n",
        "        x = self.conv2(x, edge_index)\n",
        "        return x\n",
        "\n",
        "# Initialize Model\n",
        "device = torch.device('cuda' if torch.cuda.is_available() else 'cpu')\n",
        "model = GCN(hidden_channels=16).to(device)\n",
        "data = data.to(device)\n",
        "optimizer = torch.optim.Adam(model.parameters(), lr=0.01)\n",
        "\n",
        "# Custom Loss: Embeddings should be similar to their neighbors\n",
        "def train():\n",
        "    model.train()\n",
        "    optimizer.zero_grad()\n",
        "    out = model(data.x, data.edge_index)  # Node embeddings\n",
        "    loss = F.mse_loss(out[data.edge_index[0]], out[data.edge_index[1]])  # Neighbor similarity\n",
        "    loss.backward()\n",
        "    optimizer.step()\n",
        "    return loss.item()\n",
        "\n",
        "# Training Loop\n",
        "for epoch in range(200):\n",
        "    loss = train()\n",
        "    if epoch % 20 == 0:\n",
        "        print(f'Epoch {epoch}, Loss: {loss:.4f}')\n",
        "\n",
        "# Extract Node Embeddings\n",
        "model.eval()\n",
        "embeddings = model(data.x, data.edge_index).detach().cpu().numpy()\n",
        "\n",
        "# Apply KMeans for Community Detection\n",
        "kmeans = KMeans(n_clusters=2, random_state=42)\n",
        "clusters = kmeans.fit_predict(embeddings)\n",
        "\n",
        "# Visualize the Communities\n",
        "plt.figure(figsize=(8, 6))\n",
        "plt.scatter(embeddings[:, 0], embeddings[:, 1], c=clusters, cmap='viridis', s=100)\n",
        "plt.title(\"Community Detection using GNN Embeddings\")\n",
        "plt.show()\n"
      ],
      "metadata": {
        "colab": {
          "base_uri": "https://localhost:8080/",
          "height": 779
        },
        "id": "_Z92A8aliLiu",
        "outputId": "665892a6-4bd9-4f4b-d20c-e797367012e6"
      },
      "execution_count": null,
      "outputs": [
        {
          "output_type": "stream",
          "name": "stdout",
          "text": [
            "Epoch 0, Loss: 0.0011\n",
            "Epoch 20, Loss: 0.0000\n",
            "Epoch 40, Loss: 0.0000\n",
            "Epoch 60, Loss: 0.0000\n",
            "Epoch 80, Loss: 0.0000\n",
            "Epoch 100, Loss: 0.0000\n",
            "Epoch 120, Loss: 0.0000\n",
            "Epoch 140, Loss: 0.0000\n",
            "Epoch 160, Loss: 0.0000\n",
            "Epoch 180, Loss: 0.0000\n"
          ]
        },
        {
          "output_type": "stream",
          "name": "stderr",
          "text": [
            "/usr/local/lib/python3.10/dist-packages/sklearn/base.py:1473: ConvergenceWarning: Number of distinct clusters (1) found smaller than n_clusters (2). Possibly due to duplicate points in X.\n",
            "  return fit_method(estimator, *args, **kwargs)\n"
          ]
        },
        {
          "output_type": "display_data",
          "data": {
            "text/plain": [
              "<Figure size 800x600 with 1 Axes>"
            ],
            "image/png": "[encoded data removed]"
          },
          "metadata": {}
        }
      ]
    },
    {
      "cell_type": "markdown",
      "source": [
        "### **Explanation**:\n",
        "1. We use the **Karate Club** dataset, which represents a social network.\n",
        "2. A GCN learns node embeddings in an unsupervised way.\n",
        "3. **KMeans** clustering is applied on the embeddings to detect communities.\n",
        "4. The results are visualized, showing nodes grouped into communities.\n",
        "\n",
        "---\n",
        "\n",
        "## **5. Recommender Systems: Predict Preferences**\n",
        "\n",
        "**Goal**: Predict user preferences for items based on a user-item graph.\n",
        "\n",
        "### **Example Code**\n",
        "We simulate a **user-item bipartite graph** and predict item recommendations.\n"
      ],
      "metadata": {
        "id": "bjsckAktludr"
      }
    },
    {
      "cell_type": "code",
      "source": [
        "import torch\n",
        "from torch_geometric.data import Data\n",
        "from torch_geometric.nn import GCNConv\n",
        "import torch.nn.functional as F\n",
        "\n",
        "# Simulate User-Item Graph\n",
        "edge_index = torch.tensor([\n",
        "    [0, 0, 1, 1, 2, 2, 3],  # Users\n",
        "    [4, 5, 4, 6, 5, 6, 4]   # Items\n",
        "], dtype=torch.long)\n",
        "\n",
        "x = torch.eye(7)  # Node features: Identity matrix (7 nodes: 4 users + 3 items)\n",
        "\n",
        "data = Data(x=x, edge_index=edge_index)\n",
        "\n",
        "# Define GCN Model\n",
        "class RecommenderGCN(torch.nn.Module):\n",
        "    def __init__(self, hidden_channels):\n",
        "        super().__init__()\n",
        "        self.conv1 = GCNConv(data.num_node_features, hidden_channels)\n",
        "        self.conv2 = GCNConv(hidden_channels, 1)  # Output preference score\n",
        "\n",
        "    def forward(self, x, edge_index):\n",
        "        x = F.relu(self.conv1(x, edge_index))\n",
        "        x = self.conv2(x, edge_index)\n",
        "        return x\n",
        "\n",
        "# Train the Recommender Model\n",
        "model = RecommenderGCN(hidden_channels=16)\n",
        "optimizer = torch.optim.Adam(model.parameters(), lr=0.01)\n",
        "\n",
        "for epoch in range(100):\n",
        "    model.train()\n",
        "    optimizer.zero_grad()\n",
        "    out = model(data.x, data.edge_index)\n",
        "    loss = F.mse_loss(out[:4], torch.tensor([[1.0], [0.5], [0.8], [0.2]]))  # Simulated preferences\n",
        "    loss.backward()\n",
        "    optimizer.step()\n",
        "    if epoch % 20 == 0:\n",
        "        print(f'Epoch {epoch}, Loss: {loss.item():.4f}')\n",
        "\n",
        "# Output Predicted Preferences\n",
        "model.eval()\n",
        "recommendations = model(data.x, data.edge_index)\n",
        "print(\"Predicted Item Preferences:\", recommendations[4:].detach())\n"
      ],
      "metadata": {
        "colab": {
          "base_uri": "https://localhost:8080/"
        },
        "id": "a88ZDEnJl2lN",
        "outputId": "3a626ed8-47dd-405c-f33c-f96bf92db28d"
      },
      "execution_count": null,
      "outputs": [
        {
          "output_type": "stream",
          "name": "stdout",
          "text": [
            "Epoch 0, Loss: 0.3843\n",
            "Epoch 20, Loss: 0.0173\n",
            "Epoch 40, Loss: 0.0030\n",
            "Epoch 60, Loss: 0.0003\n",
            "Epoch 80, Loss: 0.0000\n",
            "Predicted Item Preferences: tensor([[0.9114],\n",
            "        [1.2797],\n",
            "        [0.8705]])\n"
          ]
        }
      ]
    },
    {
      "cell_type": "markdown",
      "source": [
        "### **Explanation**:\n",
        "1. A bipartite user-item graph is simulated.\n",
        "2. The GCN learns user and item embeddings.\n",
        "3. We predict item preferences for users.\n",
        "4. Simulated target scores are compared against predictions using MSE loss.\n",
        "\n",
        "---\n",
        "\n",
        "## **6. Knowledge Graph Completion: Predict Missing Relationships**\n",
        "\n",
        "**Goal**: Predict missing relationships (edges) in a knowledge graph.\n",
        "\n",
        "### **Example Code**\n",
        "We use a small knowledge graph and train a GNN for link prediction."
      ],
      "metadata": {
        "id": "trepqzezluSf"
      }
    },
    {
      "cell_type": "code",
      "source": [
        "import torch\n",
        "from torch_geometric.data import Data\n",
        "from torch_geometric.transforms import RandomLinkSplit\n",
        "from torch_geometric.nn import GCNConv\n",
        "import torch.nn.functional as F\n",
        "\n",
        "# Simulate a small Knowledge Graph\n",
        "edge_index = torch.tensor([\n",
        "    [0, 1, 2, 0],\n",
        "    [1, 2, 3, 3]\n",
        "], dtype=torch.long)\n",
        "\n",
        "# Define the graph data\n",
        "data = Data(edge_index=edge_index, num_nodes=4)\n",
        "\n",
        "# Split data into train, validation, and test using RandomLinkSplit\n",
        "transform = RandomLinkSplit(num_val=0.1, num_test=0.1, is_undirected=True)\n",
        "train_data, val_data, test_data = transform(data)\n",
        "\n",
        "# Define a GCN Link Prediction Model\n",
        "class GCNLinkPredictor(torch.nn.Module):\n",
        "    def __init__(self, hidden_channels):\n",
        "        super().__init__()\n",
        "        self.conv1 = GCNConv(1, hidden_channels)\n",
        "        self.conv2 = GCNConv(hidden_channels, hidden_channels)\n",
        "        self.link_predictor = torch.nn.Sequential(\n",
        "            torch.nn.Linear(2 * hidden_channels, 16),  # Concatenated embeddings\n",
        "            torch.nn.ReLU(),\n",
        "            torch.nn.Linear(16, 1),\n",
        "            torch.nn.Sigmoid()\n",
        "        )\n",
        "\n",
        "    def forward(self, x, edge_index):\n",
        "        x = F.relu(self.conv1(x, edge_index))\n",
        "        x = self.conv2(x, edge_index)\n",
        "        return x\n",
        "\n",
        "    def predict_links(self, z, edge_label_index):\n",
        "        # Concatenate embeddings of source and destination nodes\n",
        "        src = z[edge_label_index[0]]\n",
        "        dst = z[edge_label_index[1]]\n",
        "        return self.link_predictor(torch.cat([src, dst], dim=1))\n",
        "\n",
        "# Model setup\n",
        "device = torch.device('cuda' if torch.cuda.is_available() else 'cpu')\n",
        "model = GCNLinkPredictor(hidden_channels=16).to(device)\n",
        "optimizer = torch.optim.Adam(model.parameters(), lr=0.01)\n",
        "\n",
        "# Node features (dummy input features for all nodes)\n",
        "x = torch.ones((data.num_nodes, 1)).to(device)\n",
        "\n",
        "# Training Loop\n",
        "def train():\n",
        "    model.train()\n",
        "    optimizer.zero_grad()\n",
        "    z = model(x, train_data.edge_index)  # Learn embeddings\n",
        "    pred = model.predict_links(z, train_data.edge_label_index)  # Predictions\n",
        "    loss = F.binary_cross_entropy(pred.view(-1), train_data.edge_label.float())  # Binary cross-entropy loss\n",
        "    loss.backward()\n",
        "    optimizer.step()\n",
        "    return loss.item()\n",
        "\n",
        "# Training the model\n",
        "for epoch in range(100):\n",
        "    loss = train()\n",
        "    if epoch % 10 == 0:\n",
        "        print(f'Epoch {epoch}, Loss: {loss:.4f}')\n",
        "\n",
        "# Evaluate on Test Data\n",
        "model.eval()\n",
        "with torch.no_grad():\n",
        "    z = model(x, test_data.edge_index)\n",
        "    pred = model.predict_links(z, test_data.edge_label_index)\n",
        "    acc = ((pred.view(-1) > 0.5).int() == test_data.edge_label).sum() / len(test_data.edge_label)\n",
        "    print(f'Test Accuracy: {acc:.4f}')\n"
      ],
      "metadata": {
        "colab": {
          "base_uri": "https://localhost:8080/"
        },
        "id": "IhIAV5Yfl3eg",
        "outputId": "2dccc8d5-e9a3-464c-f496-65ba7c6aeaf7"
      },
      "execution_count": null,
      "outputs": [
        {
          "output_type": "stream",
          "name": "stdout",
          "text": [
            "Epoch 0, Loss: 0.7021\n",
            "Epoch 10, Loss: 0.6933\n",
            "Epoch 20, Loss: 0.6931\n",
            "Epoch 30, Loss: 0.6932\n",
            "Epoch 40, Loss: 0.6932\n",
            "Epoch 50, Loss: 0.6931\n",
            "Epoch 60, Loss: 0.6931\n",
            "Epoch 70, Loss: 0.6931\n",
            "Epoch 80, Loss: 0.6931\n",
            "Epoch 90, Loss: 0.6931\n",
            "Test Accuracy: nan\n"
          ]
        }
      ]
    },
    {
      "cell_type": "markdown",
      "source": [
        "**Explanation**:\n",
        "1. A small knowledge graph is simulated.\n",
        "2. Edges are split into training and test sets.\n",
        "3. A GCN predicts missing relationships.\n",
        "\n",
        "---\n",
        "\n",
        "## **7. Traffic Networks: Predict Traffic Patterns**\n",
        "\n",
        "**Goal**: Predict traffic flow over a road network using temporal GNNs."
      ],
      "metadata": {
        "id": "2cw9-WfGluFN"
      }
    },
    {
      "cell_type": "code",
      "source": [
        "from torch_geometric.data import Data\n",
        "from torch_geometric.nn import GCNConv\n",
        "import torch.nn.functional as F\n",
        "\n",
        "# Simulate Traffic Network\n",
        "edge_index = torch.tensor([\n",
        "    [0, 1, 2, 3, 4],\n",
        "    [1, 2, 3, 4, 0]\n",
        "], dtype=torch.long)\n",
        "\n",
        "x = torch.tensor([[5.0], [10.0], [15.0], [20.0], [25.0]])  # Traffic flow at nodes\n",
        "\n",
        "data = Data(x=x, edge_index=edge_index)\n",
        "\n",
        "# GCN for Traffic Prediction\n",
        "class TrafficGCN(torch.nn.Module):\n",
        "    def __init__(self):\n",
        "        super().__init__()\n",
        "        self.conv1 = GCNConv(1, 16)\n",
        "        self.conv2 = GCNConv(16, 1)\n",
        "\n",
        "    def forward(self, x, edge_index):\n",
        "        x = F.relu(self.conv1(x, edge_index))\n",
        "        return self.conv2(x, edge_index)\n",
        "\n",
        "# Train the GCN\n",
        "model = TrafficGCN()\n",
        "optimizer = torch.optim.Adam(model.parameters(), lr=0.01)\n",
        "\n",
        "for epoch in range(100):\n",
        "    model.train()\n",
        "    optimizer.zero_grad()\n",
        "    out = model(data.x, data.edge_index)\n",
        "    loss = F.mse_loss(out, data.x * 1.1)  # Simulated target with increased flow\n",
        "    loss.backward()\n",
        "    optimizer.step()\n",
        "\n",
        "print(\"Traffic Flow Prediction Complete\")\n"
      ],
      "metadata": {
        "colab": {
          "base_uri": "https://localhost:8080/"
        },
        "id": "BSR9JZLdn2Ln",
        "outputId": "18280ba7-2b53-483d-f4af-00b670f53170"
      },
      "execution_count": null,
      "outputs": [
        {
          "output_type": "stream",
          "name": "stdout",
          "text": [
            "Traffic Flow Prediction Complete\n"
          ]
        }
      ]
    },
    {
      "cell_type": "markdown",
      "source": [
        "**Explanation**:\n",
        "1. A road network is modeled as a graph.\n",
        "2. Traffic flow values are predicted at each node.\n",
        "3. The GCN learns relationships between connected nodes."
      ],
      "metadata": {
        "id": "gnrWRNWTltuR"
      }
    },
    {
      "cell_type": "markdown",
      "source": [
        "## **Advantages of GNNs**\n",
        "\n",
        "- GNNs can model both **node features** and **graph structures**.\n",
        "- They work on irregular, non-Euclidean data like graphs.\n",
        "- They allow nodes to learn from their **local neighborhoods**."
      ],
      "metadata": {
        "id": "-hw09KSNfGvs"
      }
    },
    {
      "cell_type": "markdown",
      "source": [
        "## **Popular Frameworks for GNNs**\n",
        "\n",
        "- **PyTorch Geometric**: GNN library built on PyTorch.\n",
        "- **Deep Graph Library (DGL)**: Flexible and scalable framework.\n",
        "- **Spektral**: GNN library for TensorFlow/Keras.\n",
        "- **NetworkX**: Graph processing library (non-deep learning)."
      ],
      "metadata": {
        "id": "Sky4oxGUfGfs"
      }
    },
    {
      "cell_type": "markdown",
      "source": [
        "#### Quiz:\n",
        "1. List three advantages of using GNNs.\n",
        "2. Name two frameworks that support the development of GNNs.\n",
        "\n",
        "#### Practical Activity:\n",
        "- **Task**: Install PyTorch Geometric or DGL and set up a basic GNN pipeline on your local system."
      ],
      "metadata": {
        "id": "4S8ZsX1lKZ20"
      }
    }
  ]
}