{
  "nbformat": 4,
  "nbformat_minor": 0,
  "metadata": {
    "colab": {
      "provenance": [],
      "include_colab_link": true
    },
    "kernelspec": {
      "name": "python3",
      "display_name": "Python 3"
    },
    "language_info": {
      "name": "python"
    }
  },
  "cells": [
    {
      "cell_type": "markdown",
      "metadata": {
        "id": "view-in-github",
        "colab_type": "text"
      },
      "source": [
        "<a href=\"https://colab.research.google.com/github/ryandale7/ML-on-Graphs/blob/main/4_Visualization%2C_Interpretation%2C_and_Communication_of_Results.ipynb\" target=\"_parent\"><img src=\"https://colab.research.google.com/assets/colab-badge.svg\" alt=\"Open In Colab\"/></a>"
      ]
    },
    {
      "cell_type": "code",
      "execution_count": null,
      "metadata": {
        "colab": {
          "base_uri": "https://localhost:8080/"
        },
        "collapsed": true,
        "id": "lsyLFTDEMxLM",
        "outputId": "4464c52e-c554-4cda-937a-86e7cfac654d"
      },
      "outputs": [
        {
          "output_type": "stream",
          "name": "stdout",
          "text": [
            "Mounted at /content/drive\n",
            "/content/drive/MyDrive/Colab Notebooks\n",
            "Collecting nbqa\n",
            "  Downloading nbqa-1.9.1-py3-none-any.whl.metadata (31 kB)\n",
            "Collecting black\n",
            "  Downloading black-24.10.0-cp310-cp310-manylinux_2_17_x86_64.manylinux2014_x86_64.manylinux_2_28_x86_64.whl.metadata (79 kB)\n",
            "\u001b[2K     \u001b[90m━━━━━━━━━━━━━━━━━━━━━━━━━━━━━━━━━━━━━━━━\u001b[0m \u001b[32m79.2/79.2 kB\u001b[0m \u001b[31m3.2 MB/s\u001b[0m eta \u001b[36m0:00:00\u001b[0m\n",
            "\u001b[?25hCollecting autopep8>=1.5 (from nbqa)\n",
            "  Downloading autopep8-2.3.1-py2.py3-none-any.whl.metadata (16 kB)\n",
            "Requirement already satisfied: ipython>=7.8.0 in /usr/local/lib/python3.10/dist-packages (from nbqa) (7.34.0)\n",
            "Collecting tokenize-rt>=3.2.0 (from nbqa)\n",
            "  Downloading tokenize_rt-6.1.0-py2.py3-none-any.whl.metadata (4.1 kB)\n",
            "Requirement already satisfied: tomli in /usr/local/lib/python3.10/dist-packages (from nbqa) (2.2.1)\n",
            "Requirement already satisfied: click>=8.0.0 in /usr/local/lib/python3.10/dist-packages (from black) (8.1.8)\n",
            "Collecting mypy-extensions>=0.4.3 (from black)\n",
            "  Downloading mypy_extensions-1.0.0-py3-none-any.whl.metadata (1.1 kB)\n",
            "Requirement already satisfied: packaging>=22.0 in /usr/local/lib/python3.10/dist-packages (from black) (24.2)\n",
            "Collecting pathspec>=0.9.0 (from black)\n",
            "  Downloading pathspec-0.12.1-py3-none-any.whl.metadata (21 kB)\n",
            "Requirement already satisfied: platformdirs>=2 in /usr/local/lib/python3.10/dist-packages (from black) (4.3.6)\n",
            "Requirement already satisfied: typing-extensions>=4.0.1 in /usr/local/lib/python3.10/dist-packages (from black) (4.12.2)\n",
            "Collecting pycodestyle>=2.12.0 (from autopep8>=1.5->nbqa)\n",
            "  Downloading pycodestyle-2.12.1-py2.py3-none-any.whl.metadata (4.5 kB)\n",
            "Requirement already satisfied: setuptools>=18.5 in /usr/local/lib/python3.10/dist-packages (from ipython>=7.8.0->nbqa) (75.1.0)\n",
            "Collecting jedi>=0.16 (from ipython>=7.8.0->nbqa)\n",
            "  Downloading jedi-0.19.2-py2.py3-none-any.whl.metadata (22 kB)\n",
            "Requirement already satisfied: decorator in /usr/local/lib/python3.10/dist-packages (from ipython>=7.8.0->nbqa) (4.4.2)\n",
            "Requirement already satisfied: pickleshare in /usr/local/lib/python3.10/dist-packages (from ipython>=7.8.0->nbqa) (0.7.5)\n",
            "Requirement already satisfied: traitlets>=4.2 in /usr/local/lib/python3.10/dist-packages (from ipython>=7.8.0->nbqa) (5.7.1)\n",
            "Requirement already satisfied: prompt-toolkit!=3.0.0,!=3.0.1,<3.1.0,>=2.0.0 in /usr/local/lib/python3.10/dist-packages (from ipython>=7.8.0->nbqa) (3.0.48)\n",
            "Requirement already satisfied: pygments in /usr/local/lib/python3.10/dist-packages (from ipython>=7.8.0->nbqa) (2.18.0)\n",
            "Requirement already satisfied: backcall in /usr/local/lib/python3.10/dist-packages (from ipython>=7.8.0->nbqa) (0.2.0)\n",
            "Requirement already satisfied: matplotlib-inline in /usr/local/lib/python3.10/dist-packages (from ipython>=7.8.0->nbqa) (0.1.7)\n",
            "Requirement already satisfied: pexpect>4.3 in /usr/local/lib/python3.10/dist-packages (from ipython>=7.8.0->nbqa) (4.9.0)\n",
            "Requirement already satisfied: parso<0.9.0,>=0.8.4 in /usr/local/lib/python3.10/dist-packages (from jedi>=0.16->ipython>=7.8.0->nbqa) (0.8.4)\n",
            "Requirement already satisfied: ptyprocess>=0.5 in /usr/local/lib/python3.10/dist-packages (from pexpect>4.3->ipython>=7.8.0->nbqa) (0.7.0)\n",
            "Requirement already satisfied: wcwidth in /usr/local/lib/python3.10/dist-packages (from prompt-toolkit!=3.0.0,!=3.0.1,<3.1.0,>=2.0.0->ipython>=7.8.0->nbqa) (0.2.13)\n",
            "Downloading nbqa-1.9.1-py3-none-any.whl (35 kB)\n",
            "Downloading black-24.10.0-cp310-cp310-manylinux_2_17_x86_64.manylinux2014_x86_64.manylinux_2_28_x86_64.whl (1.8 MB)\n",
            "\u001b[2K   \u001b[90m━━━━━━━━━━━━━━━━━━━━━━━━━━━━━━━━━━━━━━━━\u001b[0m \u001b[32m1.8/1.8 MB\u001b[0m \u001b[31m26.0 MB/s\u001b[0m eta \u001b[36m0:00:00\u001b[0m\n",
            "\u001b[?25hDownloading autopep8-2.3.1-py2.py3-none-any.whl (45 kB)\n",
            "\u001b[2K   \u001b[90m━━━━━━━━━━━━━━━━━━━━━━━━━━━━━━━━━━━━━━━━\u001b[0m \u001b[32m45.7/45.7 kB\u001b[0m \u001b[31m3.6 MB/s\u001b[0m eta \u001b[36m0:00:00\u001b[0m\n",
            "\u001b[?25hDownloading mypy_extensions-1.0.0-py3-none-any.whl (4.7 kB)\n",
            "Downloading pathspec-0.12.1-py3-none-any.whl (31 kB)\n",
            "Downloading tokenize_rt-6.1.0-py2.py3-none-any.whl (6.0 kB)\n",
            "Downloading jedi-0.19.2-py2.py3-none-any.whl (1.6 MB)\n",
            "\u001b[2K   \u001b[90m━━━━━━━━━━━━━━━━━━━━━━━━━━━━━━━━━━━━━━━━\u001b[0m \u001b[32m1.6/1.6 MB\u001b[0m \u001b[31m45.0 MB/s\u001b[0m eta \u001b[36m0:00:00\u001b[0m\n",
            "\u001b[?25hDownloading pycodestyle-2.12.1-py2.py3-none-any.whl (31 kB)\n",
            "Installing collected packages: tokenize-rt, pycodestyle, pathspec, mypy-extensions, jedi, black, autopep8, nbqa\n",
            "Successfully installed autopep8-2.3.1 black-24.10.0 jedi-0.19.2 mypy-extensions-1.0.0 nbqa-1.9.1 pathspec-0.12.1 pycodestyle-2.12.1 tokenize-rt-6.1.0\n",
            "reformatted 3. Advanced Network Properties.ipynb\n",
            "\n",
            "All done! ✨ 🍰 ✨\n",
            "1 file reformatted, 7 files left unchanged.\n"
          ]
        }
      ],
      "source": [
        "# Running black\n",
        "\n",
        "\n",
        "from google.colab import drive\n",
        "\n",
        "\n",
        "# 1. Mount Drive\n",
        "drive.mount(\"/content/drive\")\n",
        "\n",
        "\n",
        "# 2. Change directory to your notebooks folder\n",
        "%cd /content/drive/MyDrive/Colab\\ Notebooks\n",
        "\n",
        "\n",
        "# 3. Install nbqa and black (required each new session)\n",
        "!pip install nbqa black\n",
        "\n",
        "\n",
        "# 4. Run nbqa black on all notebooks in the current directory\n",
        "!nbqa black ."
      ]
    },
    {
      "cell_type": "code",
      "source": [
        "# PRACTICE ACTIVITY: Load the Bitcoin OTC Dataset and Prepare for Visualization\n",
        "\n",
        "# Step 1: Navigate to data directory if needed\n",
        "# %cd /content/drive/MyDrive/Colab Notebooks/Data\n",
        "\n",
        "# Step 2: Basic imports\n",
        "import networkx as nx\n",
        "import matplotlib.pyplot as plt\n",
        "\n",
        "# (Optional) Plotly import\n",
        "# !pip install plotly\n",
        "import plotly.express as px\n",
        "\n",
        "# Step 3: Load the CSV\n",
        "# The CSV might have columns like: source, target, rating, [optional other cols].\n",
        "# We'll parse only the first three columns (src, tgt, weight).\n",
        "file_path = \"/content/drive/MyDrive/Colab Notebooks/Data/soc-sign-bitcoinotc.csv\"\n",
        "G = nx.DiGraph()\n",
        "\n",
        "with open(file_path, \"r\") as f:\n",
        "    for line in f:\n",
        "        # Split the line by commas\n",
        "        fields = line.strip().split(\",\")\n",
        "        # Extract only the first three entries (ignore extras if present)\n",
        "        src, tgt, w = fields[0], fields[1], fields[2]\n",
        "        G.add_edge(src, tgt, weight=float(w))\n",
        "\n",
        "print(\"Number of nodes:\", G.number_of_nodes())\n",
        "print(\"Number of edges:\", G.number_of_edges())\n",
        "\n",
        "# Quick peek at some edges and their weights\n",
        "edges_list = list(G.edges(data=True))[:5]\n",
        "print(\"Sample edges (with weights):\", edges_list)"
      ],
      "metadata": {
        "colab": {
          "base_uri": "https://localhost:8080/"
        },
        "id": "vnDj05JNObqO",
        "outputId": "1a9fb52a-4e73-48e0-9095-5f0adc3253e2"
      },
      "execution_count": null,
      "outputs": [
        {
          "output_type": "stream",
          "name": "stdout",
          "text": [
            "Number of nodes: 5881\n",
            "Number of edges: 35592\n",
            "Sample edges (with weights): [('6', '2', {'weight': 4.0}), ('6', '5', {'weight': 2.0}), ('6', '4', {'weight': 2.0}), ('6', '7', {'weight': 5.0}), ('6', '114', {'weight': 2.0})]\n"
          ]
        }
      ]
    },
    {
      "cell_type": "markdown",
      "source": [
        "### Explanation / Feedback\n",
        "\n",
        "- We created a directed graph `G` from the CSV using `networkx.DiGraph()`.\n",
        "- Each edge is assigned a `weight` based on the trust score (-10 to +10).\n",
        "- The dataset has around 5,881 nodes and 35,592 edges, so plotting **all** edges at once might be too large.\n",
        "\n",
        "---\n",
        "\n",
        "### Practice Activity: Subset Visualization with Plotly\n",
        "\n",
        "**Task**:  \n",
        "1. Create a subgraph of ~200 nodes (e.g., pick random nodes or the top nodes with the highest outdegree).  \n",
        "2. Use Plotly to color edges by their weight (negative vs. positive).\n",
        "\n",
        "\"Try to accomplish this by writing code that filters nodes and then calls a Plotly function to visualize edges.\"\n"
      ],
      "metadata": {
        "id": "QPxDL2DVQTc1"
      }
    },
    {
      "cell_type": "code",
      "source": [
        "# CODE CELL: Subgraph Visualization with Plotly\n",
        "\n",
        "import random\n",
        "\n",
        "# Step 1: Get a subset of nodes for visualization\n",
        "all_nodes = list(G.nodes())\n",
        "subset_nodes = random.sample(all_nodes, 200)  # pick 200 random nodes\n",
        "H = G.subgraph(subset_nodes).copy()\n",
        "\n",
        "# Step 2: Extract edge data for Plotly\n",
        "edge_x = []\n",
        "edge_y = []\n",
        "edge_color = []\n",
        "\n",
        "pos = nx.spring_layout(H, seed=42)  # 2D layout\n",
        "\n",
        "for u, v, data in H.edges(data=True):\n",
        "    x0, y0 = pos[u]\n",
        "    x1, y1 = pos[v]\n",
        "    edge_x.append(x0)\n",
        "    edge_x.append(x1)\n",
        "    edge_x.append(None)\n",
        "    edge_y.append(y0)\n",
        "    edge_y.append(y1)\n",
        "    edge_y.append(None)\n",
        "\n",
        "    # Decide color based on weight sign\n",
        "    w = data[\"weight\"]\n",
        "    if w < 0:\n",
        "        edge_color.append(\"red\")\n",
        "    else:\n",
        "        edge_color.append(\"green\")\n",
        "    edge_color.append(\"green\")  # or red, but we have to keep consistent segments\n",
        "    edge_color.append(None)\n",
        "\n",
        "fig = px.scatter(\n",
        "    x=[pos[n][0] for n in H.nodes()],\n",
        "    y=[pos[n][1] for n in H.nodes()],\n",
        "    text=[n for n in H.nodes()],\n",
        "    title=\"Plotly Visualization of Subset of Bitcoin OTC Network\",\n",
        ")\n",
        "\n",
        "# Plot edges using \"line\" segments approach\n",
        "fig.add_scatter(\n",
        "    x=edge_x, y=edge_y, mode=\"lines\", line=dict(color=\"blue\", width=1), name=\"edges\"\n",
        ")\n",
        "\n",
        "fig.show()"
      ],
      "metadata": {
        "colab": {
          "base_uri": "https://localhost:8080/",
          "height": 542
        },
        "id": "kQewsgnhQTAe",
        "outputId": "afabdee1-f0da-4051-bab8-e7d66e8d1ecc"
      },
      "execution_count": null,
      "outputs": [
        {
          "output_type": "display_data",
          "data": {
            "text/html": [
              "<html>\n",
              "<head><meta charset=\"utf-8\" /></head>\n",
              "<body>\n",
              "    <div>            <script src=\"https://cdnjs.cloudflare.com/ajax/libs/mathjax/2.7.5/MathJax.js?config=TeX-AMS-MML_SVG\"></script><script type=\"text/javascript\">if (window.MathJax && window.MathJax.Hub && window.MathJax.Hub.Config) {window.MathJax.Hub.Config({SVG: {font: \"STIX-Web\"}});}</script>                <script type=\"text/javascript\">window.PlotlyConfig = {MathJaxConfig: 'local'};</script>\n",
              "        <script charset=\"utf-8\" src=\"https://cdn.plot.ly/plotly-2.35.2.min.js\"></script>                <div id=\"02e1bcfe-c207-4035-b238-81729bc70c5e\" class=\"plotly-graph-div\" style=\"height:525px; width:100%;\"></div>            <script type=\"text/javascript\">                                    window.PLOTLYENV=window.PLOTLYENV || {};                                    if (document.getElementById(\"02e1bcfe-c207-4035-b238-81729bc70c5e\")) {                    Plotly.newPlot(                        \"02e1bcfe-c207-4035-b238-81729bc70c5e\",                        [{\"hovertemplate\":\"x=%{x}\\u003cbr\\u003ey=%{y}\\u003cbr\\u003etext=%{text}\\u003cextra\\u003e\\u003c\\u002fextra\\u003e\",\"legendgroup\":\"\",\"marker\":{\"color\":\"#636efa\",\"symbol\":\"circle\"},\"mode\":\"markers+text\",\"name\":\"\",\"orientation\":\"v\",\"showlegend\":false,\"text\":[\"5051\",\"4126\",\"4358\",\"4038\",\"4079\",\"4470\",\"5479\",\"639\",\"4588\",\"4808\",\"5374\",\"5\",\"101\",\"3183\",\"618\",\"1510\",\"3608\",\"4562\",\"240\",\"2995\",\"69\",\"2889\",\"1898\",\"1216\",\"5138\",\"4567\",\"4892\",\"5333\",\"1374\",\"1606\",\"4748\",\"2843\",\"5552\",\"225\",\"1692\",\"3907\",\"1742\",\"4261\",\"1889\",\"4061\",\"740\",\"2987\",\"1557\",\"5904\",\"713\",\"5533\",\"2899\",\"2414\",\"4258\",\"832\",\"5160\",\"1249\",\"5013\",\"4607\",\"368\",\"3863\",\"4415\",\"4942\",\"2367\",\"5367\",\"2567\",\"5151\",\"4213\",\"992\",\"4620\",\"2849\",\"3079\",\"2148\",\"5049\",\"4962\",\"2371\",\"2708\",\"2837\",\"3812\",\"1352\",\"4857\",\"2418\",\"1569\",\"3540\",\"5250\",\"1826\",\"1480\",\"5120\",\"484\",\"2940\",\"3908\",\"5583\",\"430\",\"1036\",\"2240\",\"2271\",\"2901\",\"3108\",\"434\",\"1879\",\"2188\",\"2751\",\"3357\",\"1298\",\"2880\",\"4140\",\"5694\",\"1430\",\"464\",\"983\",\"5114\",\"3163\",\"812\",\"4746\",\"3165\",\"5593\",\"4761\",\"2697\",\"2582\",\"3577\",\"4381\",\"2380\",\"3731\",\"3249\",\"5775\",\"981\",\"4475\",\"3685\",\"5155\",\"1928\",\"1733\",\"4881\",\"2127\",\"5048\",\"290\",\"588\",\"5917\",\"4753\",\"4828\",\"977\",\"2811\",\"4423\",\"5655\",\"4630\",\"1609\",\"4248\",\"2426\",\"3413\",\"1825\",\"5976\",\"4765\",\"5668\",\"3572\",\"1171\",\"3092\",\"4578\",\"3799\",\"5293\",\"2019\",\"3650\",\"3748\",\"5097\",\"4117\",\"4810\",\"2476\",\"1127\",\"4632\",\"5268\",\"901\",\"5116\",\"1519\",\"4282\",\"3158\",\"2274\",\"1754\",\"4122\",\"3984\",\"160\",\"5416\",\"4041\",\"956\",\"4894\",\"1221\",\"1593\",\"2687\",\"3696\",\"4513\",\"1526\",\"189\",\"179\",\"5491\",\"439\",\"3321\",\"4658\",\"1454\",\"2966\",\"5047\",\"4628\",\"5577\",\"1545\",\"257\",\"5730\",\"5354\",\"3049\",\"4395\"],\"x\":[-0.16503399710606925,0.8314328296741774,-0.7534186359041978,-0.8969019664788634,0.29461720351320575,-0.6954825004774831,0.7430284579296411,-0.7951563447104106,-0.9020139784509726,-0.429435913522983,0.2733616335588062,-0.8596695998240677,-0.07756672687670574,-0.9348313148508389,0.1172610106341569,0.18248308634746732,-0.574432839465498,0.9009898110047866,-0.48014143348177835,0.8574951587598497,-0.9646268557416506,-0.8152006902169607,-0.620514470762893,-0.8546763504283031,0.08505004927325623,0.9297539156679848,0.6574907685752552,-0.0076909756538224286,-0.8794702337582769,-0.9730004287219449,-0.5564610827053382,0.8771390900490211,-0.8929909038152595,-0.6943215409789967,-0.472756559048955,0.5582023400611327,-0.5421880319827046,0.425723318497587,0.5167374722833613,-0.26821547316360067,0.9399953888688235,-0.2174396864722486,-0.721861356491428,0.6822658500113344,0.960934817444311,-0.8076491650869652,0.8936021691449878,0.9086852083470905,0.3741084910413863,0.08748273164443904,-0.9715711566602193,-0.792702507230356,0.8501060123209918,-0.1877479595429387,-0.5444753056270663,-0.6247722289281782,0.8044946469772322,-0.634640737897349,0.6370275356999819,0.9626957020014699,0.3989557821501931,-0.39819749394648835,-0.9214209746978369,0.5450582582959944,-1.0,-0.2129172280369745,-0.9107639562609986,0.950556556799794,-0.12541025891648364,-0.24672944276101064,0.89354202163122,0.1347202799729019,-0.4424234771021938,0.8668597075866415,-0.19842286849349547,0.8053612146064013,-0.9516192769897495,0.937491837435353,0.19722493160131555,-0.5594595942146992,-0.48347908676656426,0.8303574422982877,-0.611724033237235,-0.5259499652021673,-0.9786020764089874,0.38738833258134625,-0.01903110593791398,0.36800197283102715,0.7779927424090474,0.7530617031970563,-0.34428278830652426,0.7089190057673684,-0.806051935231263,0.9339574006955386,0.2939750579311663,-0.6309016745010678,0.9289934739923157,-0.7853321589677258,0.3094353806802993,0.7320502945623489,0.4284439107502857,-0.40403964163478195,0.18295840354527976,-0.9223761537171223,-0.9474035826582443,0.12914313695181764,0.569664859096921,0.6428424197245303,-0.44530409655985254,0.1457725103031148,0.7273100890063476,-0.9673882734456531,-0.7974949218023316,0.9810482485429416,0.9556642224386553,0.9308692116586668,0.7766077811140596,-0.7387357840640021,-0.31681227931546896,0.5020050370478653,0.5897648245446849,0.954941817378154,-0.8765140186013353,-0.08405779916359557,0.8590370134808605,-0.878838773635341,0.8635048639500009,-0.2093186413454664,0.9594546658757293,0.05040922999906287,0.10676205219087918,-0.9465226489439207,0.8385347283215998,0.5426584494677058,-0.6391032883829318,0.6092670822902777,0.4721521100237671,-0.22290441094045044,0.8249262042408044,0.2529038494007058,0.9174543331982797,-0.16276299217051513,0.007524035313330326,0.5324924595544154,-0.8439610508470545,-0.8198146944349617,0.9170018636010541,-0.186376358971513,0.6877062403552947,0.23570571180481448,-0.988189718343959,0.05244445936802624,0.23391088253221312,0.5705159189763036,0.7614945650586439,-0.09094919509435886,-0.7687243992801116,0.7722910283389718,-0.1213507833932303,-0.8791417411425541,-0.015766053094421407,0.6983783167321355,0.9447254497219814,0.3770630320888214,-0.3300082221296819,-0.34603187117757433,-0.8776868181354812,-0.7326262776303171,0.8889200549256148,-0.04156249891221225,-0.14553583434920603,-0.9256870280299053,-0.24072597805565657,0.3189037093843187,-0.7262111054983422,0.08658691129903426,0.4557028594599077,-0.9462247919608053,-0.9938531238710052,0.9764698738541617,-0.37661539327346877,-0.7497734913749159,0.9779732428520538,0.7842418252685635,-0.6525546220745744,-0.6129559040063307,-0.9054763640098642,-0.9468874601327202,0.6147849607961903,0.8045237542151139,-0.8743069122846907,0.05524636522410673,0.35750476460113934,-0.6952383233886641,0.4884856912400984,-0.3685107741572389,-0.26673613692277637,-0.32579958975588935,0.9472296169719938,0.6486414257205484],\"xaxis\":\"x\",\"y\":[0.979179434296902,0.38851049575295643,-0.6546898332608445,0.49823254888421975,0.8651737896724547,0.8008729536725584,-0.6354919960934087,-0.5803364734302676,0.005929490623295162,-0.7994746376026355,-0.9177368974485652,-0.31607937640964406,0.9315191382553607,0.08310617471727204,-0.97935220009296,-0.9295389179717711,0.8695485402440907,0.47295508939279124,-0.8583346142477764,-0.26251900315056326,-0.013352311093490646,0.6535691288170643,0.6957581324974503,0.2630378313447982,-0.9356082435340025,0.3996505702274508,0.7908072457385807,0.9775589103986423,-0.48865715298190393,-0.22606422434320222,-0.7320537729330502,-0.3665671327435251,0.19356350352281876,0.7125828549857012,0.9320231741305691,-0.7880262831547209,0.843516503042648,0.8330738051809319,-0.8555264140981139,-0.9307008306646726,0.19048289386387934,-0.9634635279854679,-0.5752119972379406,0.6206213037145002,-0.02925810464447634,0.5607185291902873,0.22840325206449472,-0.15201635700993002,-0.7693956898534264,-0.027475710708366314,0.24361289503488232,-0.36777555664190487,-0.5060910449316282,0.9089618414986119,-0.841941029607149,-0.7387113246500349,0.6097338143744409,0.6049314537168197,-0.7402567068296112,0.03597267574683047,0.9137188992319123,-0.8932495653075203,-0.12884217823445,0.830689224841982,-0.06702490029900261,-0.9045260798975504,-0.3504718566223895,-0.2733947731573882,0.8949538852229463,0.9710161555763649,-0.4612046760033152,-0.8883948190454217,-0.9019196689956932,0.05525432603283487,0.022885103711450444,-0.5782183628138801,-0.07805583146312187,-0.3823614653963967,0.912436844195466,0.7704392892755607,0.7484053755699512,0.29246420815884655,0.6081316103064632,-0.7984862668648403,0.18137285193707434,-0.9250341714065787,-0.9245247054571357,-0.8762462623105224,-0.4642278905538242,-0.6870984535586601,-0.9109069957643495,0.7367562557385615,0.47778716082887396,0.10509504595489634,-0.8679705884414234,0.8088422030637437,0.28778752073390074,-0.4542822974293757,0.9354183004512648,0.6697073882702546,-0.8775923930433358,0.9191344896762379,-0.9826086577024106,0.3400384671447405,-0.4110702975552076,0.8939633107653419,-0.7420883817209547,-0.6915164530338719,0.8258046456729031,0.9484410549996243,0.5117511943900073,-0.15203355586833128,-0.5147895247785991,-0.14812791956812396,0.14798083197513578,-0.004450609092688709,-0.35326518269792845,0.6214228382125339,-0.9559324557136821,-0.8041721591380613,0.8584728898807404,-0.19998973905764725,0.5807460373693587,0.9910835504056011,0.5615344826787765,-0.2372088348620657,-0.4270557280269,0.015577727526910123,0.23734075738609303,-0.966826236527172,0.9976965677851463,0.1512191635524635,0.5120669507135222,0.7535665159011018,-0.6602630592549269,0.7674620354406019,0.8963163312266836,0.04419340334275164,0.45958064187359543,0.9152059157696468,-0.32073949023450743,-0.9592711486875168,-0.9873229280587007,0.6399479439425855,0.3578152370131871,-0.6626103849504497,-0.23660607997341046,0.006387589901874715,-0.6728200672700656,-0.9475227174944278,0.035580836861815075,0.8838532737632588,0.9799833202798042,-0.668995384334697,-0.5773504507327676,-0.9710668631105607,0.7281092817130642,0.5749719635451916,-0.9376913707675552,-0.4236529300963462,0.9097428873848049,-0.5985819763571195,0.33130678212196046,0.7920519818666776,-0.86205264988137,0.8672245059317819,-0.5598141000891508,-0.7523228298163267,0.3846887361753826,-0.9667455938655373,-0.8253479574752333,-0.2100677787835855,0.8428074216624811,-0.9371195499092664,0.5253645338906238,-0.043043846631775254,-0.8394088739052818,0.2923888081479571,0.10013787001953313,0.08620507868838043,0.8050134058656945,0.3881074911486091,-0.07041451508301104,0.6798021515733006,-0.7717053504891058,-0.8434731818702822,0.39487579984211724,-0.29549618381499204,-0.8222883046530505,-0.5214241441615385,0.44811548830904524,0.96353494407409,0.8899769664755971,-0.6657176391439217,0.8333746744624364,-0.6610425944430575,0.900527813746509,0.9364130338192304,-0.1064375502744813,0.6996155487567144],\"yaxis\":\"y\",\"type\":\"scatter\"},{\"line\":{\"color\":\"blue\",\"width\":1},\"mode\":\"lines\",\"name\":\"edges\",\"x\":[-0.5421880319827046,0.08748273164443904,null,0.08748273164443904,0.08658691129903426,null,-0.634640737897349,-0.7687243992801116,null,-0.634640737897349,-0.611724033237235,null,-0.19842286849349547,-0.2093186413454664,null,-0.19842286849349547,-0.186376358971513,null,-0.19842286849349547,-0.22290441094045044,null,-0.611724033237235,-0.634640737897349,null,-0.2093186413454664,-0.19842286849349547,null,-0.22290441094045044,-0.19842286849349547,null,-0.186376358971513,-0.19842286849349547,null,0.08658691129903426,0.08748273164443904,null,-0.3685107741572389,-0.48014143348177835,null],\"y\":[0.843516503042648,-0.027475710708366314,null,-0.027475710708366314,-0.043043846631775254,null,0.6049314537168197,0.7281092817130642,null,0.6049314537168197,0.6081316103064632,null,0.022885103711450444,0.015577727526910123,null,0.022885103711450444,0.006387589901874715,null,0.022885103711450444,0.04419340334275164,null,0.6081316103064632,0.6049314537168197,null,0.015577727526910123,0.022885103711450444,null,0.04419340334275164,0.022885103711450444,null,0.006387589901874715,0.022885103711450444,null,-0.043043846631775254,-0.027475710708366314,null,-0.6610425944430575,-0.8583346142477764,null],\"type\":\"scatter\"}],                        {\"template\":{\"data\":{\"histogram2dcontour\":[{\"type\":\"histogram2dcontour\",\"colorbar\":{\"outlinewidth\":0,\"ticks\":\"\"},\"colorscale\":[[0.0,\"#0d0887\"],[0.1111111111111111,\"#46039f\"],[0.2222222222222222,\"#7201a8\"],[0.3333333333333333,\"#9c179e\"],[0.4444444444444444,\"#bd3786\"],[0.5555555555555556,\"#d8576b\"],[0.6666666666666666,\"#ed7953\"],[0.7777777777777778,\"#fb9f3a\"],[0.8888888888888888,\"#fdca26\"],[1.0,\"#f0f921\"]]}],\"choropleth\":[{\"type\":\"choropleth\",\"colorbar\":{\"outlinewidth\":0,\"ticks\":\"\"}}],\"histogram2d\":[{\"type\":\"histogram2d\",\"colorbar\":{\"outlinewidth\":0,\"ticks\":\"\"},\"colorscale\":[[0.0,\"#0d0887\"],[0.1111111111111111,\"#46039f\"],[0.2222222222222222,\"#7201a8\"],[0.3333333333333333,\"#9c179e\"],[0.4444444444444444,\"#bd3786\"],[0.5555555555555556,\"#d8576b\"],[0.6666666666666666,\"#ed7953\"],[0.7777777777777778,\"#fb9f3a\"],[0.8888888888888888,\"#fdca26\"],[1.0,\"#f0f921\"]]}],\"heatmap\":[{\"type\":\"heatmap\",\"colorbar\":{\"outlinewidth\":0,\"ticks\":\"\"},\"colorscale\":[[0.0,\"#0d0887\"],[0.1111111111111111,\"#46039f\"],[0.2222222222222222,\"#7201a8\"],[0.3333333333333333,\"#9c179e\"],[0.4444444444444444,\"#bd3786\"],[0.5555555555555556,\"#d8576b\"],[0.6666666666666666,\"#ed7953\"],[0.7777777777777778,\"#fb9f3a\"],[0.8888888888888888,\"#fdca26\"],[1.0,\"#f0f921\"]]}],\"heatmapgl\":[{\"type\":\"heatmapgl\",\"colorbar\":{\"outlinewidth\":0,\"ticks\":\"\"},\"colorscale\":[[0.0,\"#0d0887\"],[0.1111111111111111,\"#46039f\"],[0.2222222222222222,\"#7201a8\"],[0.3333333333333333,\"#9c179e\"],[0.4444444444444444,\"#bd3786\"],[0.5555555555555556,\"#d8576b\"],[0.6666666666666666,\"#ed7953\"],[0.7777777777777778,\"#fb9f3a\"],[0.8888888888888888,\"#fdca26\"],[1.0,\"#f0f921\"]]}],\"contourcarpet\":[{\"type\":\"contourcarpet\",\"colorbar\":{\"outlinewidth\":0,\"ticks\":\"\"}}],\"contour\":[{\"type\":\"contour\",\"colorbar\":{\"outlinewidth\":0,\"ticks\":\"\"},\"colorscale\":[[0.0,\"#0d0887\"],[0.1111111111111111,\"#46039f\"],[0.2222222222222222,\"#7201a8\"],[0.3333333333333333,\"#9c179e\"],[0.4444444444444444,\"#bd3786\"],[0.5555555555555556,\"#d8576b\"],[0.6666666666666666,\"#ed7953\"],[0.7777777777777778,\"#fb9f3a\"],[0.8888888888888888,\"#fdca26\"],[1.0,\"#f0f921\"]]}],\"surface\":[{\"type\":\"surface\",\"colorbar\":{\"outlinewidth\":0,\"ticks\":\"\"},\"colorscale\":[[0.0,\"#0d0887\"],[0.1111111111111111,\"#46039f\"],[0.2222222222222222,\"#7201a8\"],[0.3333333333333333,\"#9c179e\"],[0.4444444444444444,\"#bd3786\"],[0.5555555555555556,\"#d8576b\"],[0.6666666666666666,\"#ed7953\"],[0.7777777777777778,\"#fb9f3a\"],[0.8888888888888888,\"#fdca26\"],[1.0,\"#f0f921\"]]}],\"mesh3d\":[{\"type\":\"mesh3d\",\"colorbar\":{\"outlinewidth\":0,\"ticks\":\"\"}}],\"scatter\":[{\"fillpattern\":{\"fillmode\":\"overlay\",\"size\":10,\"solidity\":0.2},\"type\":\"scatter\"}],\"parcoords\":[{\"type\":\"parcoords\",\"line\":{\"colorbar\":{\"outlinewidth\":0,\"ticks\":\"\"}}}],\"scatterpolargl\":[{\"type\":\"scatterpolargl\",\"marker\":{\"colorbar\":{\"outlinewidth\":0,\"ticks\":\"\"}}}],\"bar\":[{\"error_x\":{\"color\":\"#2a3f5f\"},\"error_y\":{\"color\":\"#2a3f5f\"},\"marker\":{\"line\":{\"color\":\"#E5ECF6\",\"width\":0.5},\"pattern\":{\"fillmode\":\"overlay\",\"size\":10,\"solidity\":0.2}},\"type\":\"bar\"}],\"scattergeo\":[{\"type\":\"scattergeo\",\"marker\":{\"colorbar\":{\"outlinewidth\":0,\"ticks\":\"\"}}}],\"scatterpolar\":[{\"type\":\"scatterpolar\",\"marker\":{\"colorbar\":{\"outlinewidth\":0,\"ticks\":\"\"}}}],\"histogram\":[{\"marker\":{\"pattern\":{\"fillmode\":\"overlay\",\"size\":10,\"solidity\":0.2}},\"type\":\"histogram\"}],\"scattergl\":[{\"type\":\"scattergl\",\"marker\":{\"colorbar\":{\"outlinewidth\":0,\"ticks\":\"\"}}}],\"scatter3d\":[{\"type\":\"scatter3d\",\"line\":{\"colorbar\":{\"outlinewidth\":0,\"ticks\":\"\"}},\"marker\":{\"colorbar\":{\"outlinewidth\":0,\"ticks\":\"\"}}}],\"scattermapbox\":[{\"type\":\"scattermapbox\",\"marker\":{\"colorbar\":{\"outlinewidth\":0,\"ticks\":\"\"}}}],\"scatterternary\":[{\"type\":\"scatterternary\",\"marker\":{\"colorbar\":{\"outlinewidth\":0,\"ticks\":\"\"}}}],\"scattercarpet\":[{\"type\":\"scattercarpet\",\"marker\":{\"colorbar\":{\"outlinewidth\":0,\"ticks\":\"\"}}}],\"carpet\":[{\"aaxis\":{\"endlinecolor\":\"#2a3f5f\",\"gridcolor\":\"white\",\"linecolor\":\"white\",\"minorgridcolor\":\"white\",\"startlinecolor\":\"#2a3f5f\"},\"baxis\":{\"endlinecolor\":\"#2a3f5f\",\"gridcolor\":\"white\",\"linecolor\":\"white\",\"minorgridcolor\":\"white\",\"startlinecolor\":\"#2a3f5f\"},\"type\":\"carpet\"}],\"table\":[{\"cells\":{\"fill\":{\"color\":\"#EBF0F8\"},\"line\":{\"color\":\"white\"}},\"header\":{\"fill\":{\"color\":\"#C8D4E3\"},\"line\":{\"color\":\"white\"}},\"type\":\"table\"}],\"barpolar\":[{\"marker\":{\"line\":{\"color\":\"#E5ECF6\",\"width\":0.5},\"pattern\":{\"fillmode\":\"overlay\",\"size\":10,\"solidity\":0.2}},\"type\":\"barpolar\"}],\"pie\":[{\"automargin\":true,\"type\":\"pie\"}]},\"layout\":{\"autotypenumbers\":\"strict\",\"colorway\":[\"#636efa\",\"#EF553B\",\"#00cc96\",\"#ab63fa\",\"#FFA15A\",\"#19d3f3\",\"#FF6692\",\"#B6E880\",\"#FF97FF\",\"#FECB52\"],\"font\":{\"color\":\"#2a3f5f\"},\"hovermode\":\"closest\",\"hoverlabel\":{\"align\":\"left\"},\"paper_bgcolor\":\"white\",\"plot_bgcolor\":\"#E5ECF6\",\"polar\":{\"bgcolor\":\"#E5ECF6\",\"angularaxis\":{\"gridcolor\":\"white\",\"linecolor\":\"white\",\"ticks\":\"\"},\"radialaxis\":{\"gridcolor\":\"white\",\"linecolor\":\"white\",\"ticks\":\"\"}},\"ternary\":{\"bgcolor\":\"#E5ECF6\",\"aaxis\":{\"gridcolor\":\"white\",\"linecolor\":\"white\",\"ticks\":\"\"},\"baxis\":{\"gridcolor\":\"white\",\"linecolor\":\"white\",\"ticks\":\"\"},\"caxis\":{\"gridcolor\":\"white\",\"linecolor\":\"white\",\"ticks\":\"\"}},\"coloraxis\":{\"colorbar\":{\"outlinewidth\":0,\"ticks\":\"\"}},\"colorscale\":{\"sequential\":[[0.0,\"#0d0887\"],[0.1111111111111111,\"#46039f\"],[0.2222222222222222,\"#7201a8\"],[0.3333333333333333,\"#9c179e\"],[0.4444444444444444,\"#bd3786\"],[0.5555555555555556,\"#d8576b\"],[0.6666666666666666,\"#ed7953\"],[0.7777777777777778,\"#fb9f3a\"],[0.8888888888888888,\"#fdca26\"],[1.0,\"#f0f921\"]],\"sequentialminus\":[[0.0,\"#0d0887\"],[0.1111111111111111,\"#46039f\"],[0.2222222222222222,\"#7201a8\"],[0.3333333333333333,\"#9c179e\"],[0.4444444444444444,\"#bd3786\"],[0.5555555555555556,\"#d8576b\"],[0.6666666666666666,\"#ed7953\"],[0.7777777777777778,\"#fb9f3a\"],[0.8888888888888888,\"#fdca26\"],[1.0,\"#f0f921\"]],\"diverging\":[[0,\"#8e0152\"],[0.1,\"#c51b7d\"],[0.2,\"#de77ae\"],[0.3,\"#f1b6da\"],[0.4,\"#fde0ef\"],[0.5,\"#f7f7f7\"],[0.6,\"#e6f5d0\"],[0.7,\"#b8e186\"],[0.8,\"#7fbc41\"],[0.9,\"#4d9221\"],[1,\"#276419\"]]},\"xaxis\":{\"gridcolor\":\"white\",\"linecolor\":\"white\",\"ticks\":\"\",\"title\":{\"standoff\":15},\"zerolinecolor\":\"white\",\"automargin\":true,\"zerolinewidth\":2},\"yaxis\":{\"gridcolor\":\"white\",\"linecolor\":\"white\",\"ticks\":\"\",\"title\":{\"standoff\":15},\"zerolinecolor\":\"white\",\"automargin\":true,\"zerolinewidth\":2},\"scene\":{\"xaxis\":{\"backgroundcolor\":\"#E5ECF6\",\"gridcolor\":\"white\",\"linecolor\":\"white\",\"showbackground\":true,\"ticks\":\"\",\"zerolinecolor\":\"white\",\"gridwidth\":2},\"yaxis\":{\"backgroundcolor\":\"#E5ECF6\",\"gridcolor\":\"white\",\"linecolor\":\"white\",\"showbackground\":true,\"ticks\":\"\",\"zerolinecolor\":\"white\",\"gridwidth\":2},\"zaxis\":{\"backgroundcolor\":\"#E5ECF6\",\"gridcolor\":\"white\",\"linecolor\":\"white\",\"showbackground\":true,\"ticks\":\"\",\"zerolinecolor\":\"white\",\"gridwidth\":2}},\"shapedefaults\":{\"line\":{\"color\":\"#2a3f5f\"}},\"annotationdefaults\":{\"arrowcolor\":\"#2a3f5f\",\"arrowhead\":0,\"arrowwidth\":1},\"geo\":{\"bgcolor\":\"white\",\"landcolor\":\"#E5ECF6\",\"subunitcolor\":\"white\",\"showland\":true,\"showlakes\":true,\"lakecolor\":\"white\"},\"title\":{\"x\":0.05},\"mapbox\":{\"style\":\"light\"}}},\"xaxis\":{\"anchor\":\"y\",\"domain\":[0.0,1.0],\"title\":{\"text\":\"x\"}},\"yaxis\":{\"anchor\":\"x\",\"domain\":[0.0,1.0],\"title\":{\"text\":\"y\"}},\"legend\":{\"tracegroupgap\":0},\"title\":{\"text\":\"Plotly Visualization of Subset of Bitcoin OTC Network\"}},                        {\"responsive\": true}                    ).then(function(){\n",
              "                            \n",
              "var gd = document.getElementById('02e1bcfe-c207-4035-b238-81729bc70c5e');\n",
              "var x = new MutationObserver(function (mutations, observer) {{\n",
              "        var display = window.getComputedStyle(gd).display;\n",
              "        if (!display || display === 'none') {{\n",
              "            console.log([gd, 'removed!']);\n",
              "            Plotly.purge(gd);\n",
              "            observer.disconnect();\n",
              "        }}\n",
              "}});\n",
              "\n",
              "// Listen for the removal of the full notebook cells\n",
              "var notebookContainer = gd.closest('#notebook-container');\n",
              "if (notebookContainer) {{\n",
              "    x.observe(notebookContainer, {childList: true});\n",
              "}}\n",
              "\n",
              "// Listen for the clearing of the current output cell\n",
              "var outputEl = gd.closest('.output');\n",
              "if (outputEl) {{\n",
              "    x.observe(outputEl, {childList: true});\n",
              "}}\n",
              "\n",
              "                        })                };                            </script>        </div>\n",
              "</body>\n",
              "</html>"
            ]
          },
          "metadata": {}
        }
      ]
    },
    {
      "cell_type": "markdown",
      "source": [
        "### Feedback / Sample Discussion\n",
        "\n",
        "- We used a **spring layout** for a 2D projection.\n",
        "- **Edge colors** could be improved by segmenting negative vs. positive edges distinctly (this example is simplified).\n",
        "- For large networks, Plotly might lag. Consider tools like Gephi for larger-scale analysis.\n",
        "\n",
        "---\n",
        "\n",
        "### Quiz: Visualization Tools\n",
        "\n",
        "**Q1 (Multiple Choice)**: Which tool is primarily a standalone software for large-scale graph visualization?  \n",
        "- a) Plotly  \n",
        "- b) Gephi  \n",
        "- c) Pandas  \n",
        "- d) Matplotlib  \n",
        "\n",
        "**Q2 (Short Answer)**: Why might you export data to Neo4j Bloom instead of only visualizing in Python?\n",
        "\n",
        "---\n",
        "\n",
        "#### Answers\n",
        "\n",
        "- **A1**: (b) **Gephi** is standalone software specifically for network visualization.  \n",
        "- **A2**: Neo4j Bloom provides an **interactive** graph database environment, allowing advanced querying, exploration, and possibly real-time updates outside of a Python notebook.\n"
      ],
      "metadata": {
        "id": "VWa90R9HQdbG"
      }
    },
    {
      "cell_type": "markdown",
      "source": [
        "## 4.2 Interpreting and Explaining Model Predictions for Stakeholders\n",
        "\n",
        "### 4.2.1 Understanding Model Outputs\n",
        "- In a weighted signed network, model predictions might include:\n",
        "  - Predicted trust score for a user or an edge\n",
        "  - Risk/fraud likelihood scores for specific users\n",
        "\n",
        "### 4.2.2 Visual Interpretation of Trust vs. Distrust\n",
        "- Color edges by negative or positive weight\n",
        "- Focus on clusters of strongly positive or negative relationships\n",
        "\n",
        "### 4.2.3 Explaining Results to Different Audiences\n",
        "- **Technical**: Detailed metrics, confidence intervals, reproducibility steps\n",
        "- **Non-technical**: Focus on the \"big picture\" (e.g., how many suspicious users found)\n",
        "\n",
        "### 4.2.4 Real-Life Examples: Bitcoin OTC Network\n",
        "- Some users consistently rated at +10 by many peers → highly trusted\n",
        "- Others might have multiple negative edges → potential risk/fraud\n",
        "\n",
        "**Practice Activity**:  \n",
        "- \"Try to accomplish X by writing code that calculates the top 10 most trusted users (based on average incoming edge weight).\"\n"
      ],
      "metadata": {
        "id": "mszSpb-_Qe9j"
      }
    },
    {
      "cell_type": "code",
      "source": [
        "# CODE CELL: Compute and Display Top 10 Most Trusted Users\n",
        "\n",
        "# Partial Starter Code\n",
        "import statistics\n",
        "\n",
        "\n",
        "def top_trusted_users(graph, top_n=10):\n",
        "    # Calculate average incoming edge weight for each node\n",
        "    avg_incoming = {}\n",
        "    for node in graph.nodes():\n",
        "        in_edges = graph.in_edges(node, data=True)\n",
        "        weights = [data[\"weight\"] for (_, _, data) in in_edges]\n",
        "        if weights:\n",
        "            avg_incoming[node] = statistics.mean(weights)\n",
        "        else:\n",
        "            avg_incoming[node] = 0  # no incoming edges means no rating\n",
        "\n",
        "    # Sort by average rating\n",
        "    sorted_users = sorted(avg_incoming.items(), key=lambda x: x[1], reverse=True)\n",
        "    return sorted_users[:top_n]\n",
        "\n",
        "\n",
        "top_10_trusted = top_trusted_users(G, top_n=10)\n",
        "print(\"Top 10 Most Trusted Users (by avg incoming weight):\")\n",
        "for user, rating in top_10_trusted:\n",
        "    print(user, rating)"
      ],
      "metadata": {
        "colab": {
          "base_uri": "https://localhost:8080/"
        },
        "id": "jaldRHvwQgZg",
        "outputId": "7b9c8a19-426d-47ad-904a-e65d20a3efbf"
      },
      "execution_count": null,
      "outputs": [
        {
          "output_type": "stream",
          "name": "stdout",
          "text": [
            "Top 10 Most Trusted Users (by avg incoming weight):\n",
            "529 10.0\n",
            "814 10.0\n",
            "1122 10.0\n",
            "1261 10.0\n",
            "1326 10.0\n",
            "1340 10.0\n",
            "1501 10.0\n",
            "1545 10.0\n",
            "1663 10.0\n",
            "2078 10.0\n"
          ]
        }
      ]
    },
    {
      "cell_type": "markdown",
      "source": [
        "### Explanation / Feedback\n",
        "\n",
        "- We iterated through each node's incoming edges, took the average weight, and used Python's `statistics.mean`.\n",
        "- **Possible variation**: Weighted by the number of ratings, or ignoring negative edges, etc.\n",
        "- **Interpretation**: These top users tend to receive positive trust scores from many other users.\n",
        "\n",
        "---\n",
        "\n",
        "### Quiz: Why Might a \"Highly Trusted\" User Still Be Risky?\n",
        "\n",
        "**Short Answer**: Provide at least one reason why a user with many +10 edges could still pose a risk or be fraudulent.\n",
        "\n",
        "**Sample Answer**:  \n",
        "- The user might engage in collusive activity where a small group of accomplices rate them highly.\n",
        "- They might have very few total transactions, so a small number of positive ratings inflates their average.\n",
        "\n",
        "---\n"
      ],
      "metadata": {
        "id": "85Pnv6MuQp-_"
      }
    },
    {
      "cell_type": "markdown",
      "source": [
        "## 4.3 Effective Communication Strategies for Technical and Non-Technical Audiences\n",
        "\n",
        "### 4.3.1 Storytelling with Data\n",
        "- Narratives around trust and distrust relationships\n",
        "- Emphasize real-world impacts (safe trading vs. fraud)\n",
        "\n",
        "### 4.3.2 Simplifying Complex Concepts\n",
        "- Avoid jargon when talking to non-technical stakeholders\n",
        "- Focus on the \"why\" (why these scores matter, why some users are risky)\n",
        "\n",
        "### 4.3.3 Practice Activity\n",
        "- Create a short summary for management explaining the top-level insight:\n",
        "  1. How many high-trust users exist\n",
        "  2. What fraction of edges are negative\n",
        "  3. One recommended action to reduce fraud risk\n",
        "\n",
        "\"Try writing 2-3 bullet points in clear, non-technical language.\"\n"
      ],
      "metadata": {
        "id": "ZPJi7KIcQrHZ"
      }
    },
    {
      "cell_type": "markdown",
      "source": [
        "## 4.4 Ensuring Reproducibility, Transparency, and Trust in Graph ML Outcomes\n",
        "\n",
        "### 4.4.1 Reproducibility in Jupyter\n",
        "- Document library versions (e.g., `pip freeze`)\n",
        "- Share code notebooks along with the dataset location\n",
        "\n",
        "### 4.4.2 Data and Code Transparency\n",
        "- Provide clear data preprocessing steps\n",
        "- Reference the original Bitcoin OTC CSV source\n",
        "\n",
        "### 4.4.3 Ethical Considerations\n",
        "- Privacy concerns, even if user IDs are anonymized\n",
        "- Avoiding biased interpretations or undue suspicion\n",
        "\n",
        "### 4.4.4 Practice Activity\n",
        "- \"Try to accomplish X by writing a short script that logs your environment setup and any data transformations.\"\n",
        "\n",
        "**Quiz**  \n",
        "- MCQ: Which file type is best for sharing reproducible notebooks? (e.g., `.ipynb`, `.py`, `.html`)  \n",
        "- Short Answer: Give two ways to ensure a notebook can be trusted by peers reviewing it.\n"
      ],
      "metadata": {
        "id": "XMUbQIvoQu9P"
      }
    },
    {
      "cell_type": "markdown",
      "source": [
        "# More Advanced Examples with the Bitcoin OTC Dataset\n",
        "\n",
        "In this notebook, we explore deeper analysis and transformations of the **Bitcoin OTC trust weighted signed network**. We will:\n",
        "- Compute **weighted PageRank** (ignoring negative edges or transforming them).\n",
        "- Separate the graph into **positive** and **negative** subgraphs.\n",
        "- Perform **shortest path analysis** with custom distance transformations for signed edges.\n",
        "- Apply **community detection** on a positive subgraph.\n",
        "- Investigate **signed triad analysis** to see whether the network follows balance theory.\n",
        "\n",
        "Each example demonstrates a different approach to handling or interpreting signed, weighted edges.\n"
      ],
      "metadata": {
        "id": "raVIQxK4RhtH"
      }
    },
    {
      "cell_type": "markdown",
      "source": [
        "## Dataset Reminder\n",
        "\n",
        "- **Dataset**: soc-sign-bitcoinotc.csv\n",
        "- **Nodes**: 5,881\n",
        "- **Edges**: 35,592\n",
        "- **Range of Edge Weight**: -10 (full distrust) to +10 (full trust)\n",
        "- **Percentage of Positive Edges**: ~89%\n",
        "\n",
        "We assume you have already loaded the full graph into a variable called `G` (a `nx.DiGraph`) with an edge attribute `'weight'` for each trust score. If you have not loaded it yet, remember to do so before running the advanced code examples.\n",
        "\n",
        "Example (from a previous step):\n",
        "```python\n",
        "import networkx as nx\n",
        "G = nx.DiGraph()\n",
        "with open('soc-sign-bitcoinotc.csv', 'r') as f:\n",
        "    for line in f:\n",
        "        src, tgt, w = line.strip().split(',')[:3]\n",
        "        G.add_edge(src, tgt, weight=float(w))\n"
      ],
      "metadata": {
        "id": "TLo5mnQwRkDw"
      }
    },
    {
      "cell_type": "markdown",
      "source": [
        "## 1. PageRank with Edge Weights (Weighted PageRank)\n",
        "\n",
        "**Goal**: Compute a PageRank-like metric where higher trust edges contribute more to a node's rank. Negative edges can be ignored or transformed, depending on your modeling preference.\n",
        "\n",
        "### Approach: Ignore Negative Edges\n",
        "- Create a new directed graph containing **only non-negative edges** (weight >= 0).\n",
        "- Run `nx.pagerank` with `weight='weight'`.\n"
      ],
      "metadata": {
        "id": "cCZaDV8dRnfs"
      }
    },
    {
      "cell_type": "code",
      "source": [
        "import networkx as nx\n",
        "\n",
        "# Step 1: Filter the original G to retain only edges with weight >= 0\n",
        "G_pos = nx.DiGraph()\n",
        "for u, v, data in G.edges(data=True):\n",
        "    w = data[\"weight\"]\n",
        "    if w >= 0:\n",
        "        G_pos.add_edge(u, v, weight=w)\n",
        "\n",
        "# Step 2: Run weighted PageRank\n",
        "pr = nx.pagerank(G_pos, alpha=0.85, weight=\"weight\")\n",
        "\n",
        "# Step 3: Print top 5 nodes by PageRank\n",
        "top_5_pr = sorted(pr.items(), key=lambda x: x[1], reverse=True)[:5]\n",
        "print(\"Top 5 nodes by (non-negative) Weighted PageRank:\")\n",
        "for node, score in top_5_pr:\n",
        "    print(f\"{node} -> {score:.5f}\")"
      ],
      "metadata": {
        "colab": {
          "base_uri": "https://localhost:8080/"
        },
        "id": "bT046ZfVRpm2",
        "outputId": "e443a56f-1b18-4a87-bb34-aa86977a3324"
      },
      "execution_count": null,
      "outputs": [
        {
          "output_type": "stream",
          "name": "stdout",
          "text": [
            "Top 5 nodes by (non-negative) Weighted PageRank:\n",
            "35 -> 0.01606\n",
            "2642 -> 0.01348\n",
            "1 -> 0.00911\n",
            "7 -> 0.00883\n",
            "1810 -> 0.00760\n"
          ]
        }
      ]
    },
    {
      "cell_type": "markdown",
      "source": [
        "## 2. Signed Edge Transformation (Positive vs. Negative Graphs)\n",
        "\n",
        "**Goal**: Separate the original graph into **two subgraphs**:\n",
        "- **G_pos** (only positive edges)\n",
        "- **G_neg** (only negative edges)\n",
        "\n",
        "This can be helpful if you want to analyze \"trust\" vs. \"distrust\" networks separately.\n"
      ],
      "metadata": {
        "id": "kCITNEaSRzHr"
      }
    },
    {
      "cell_type": "markdown",
      "source": [
        "# Create positive and negative subgraphs from G\n",
        "G_pos = nx.DiGraph()\n",
        "G_neg = nx.DiGraph()\n",
        "\n",
        "for u, v, data in G.edges(data=True):\n",
        "    w = data['weight']\n",
        "    if w > 0:\n",
        "        G_pos.add_edge(u, v, weight=w)\n",
        "    elif w < 0:\n",
        "        # Optionally store absolute value\n",
        "        G_neg.add_edge(u, v, weight=abs(w))\n",
        "\n",
        "# Basic stats\n",
        "print(\"Positive subgraph:\")\n",
        "print(\"  Nodes:\", G_pos.number_of_nodes(), \"Edges:\", G_pos.number_of_edges())\n",
        "\n",
        "print(\"Negative subgraph:\")\n",
        "print(\"  Nodes:\", G_neg.number_of_nodes(), \"Edges:\", G_neg.number_of_edges())\n",
        "\n",
        "# Example: largest strongly connected component in negative subgraph\n",
        "if G_neg.number_of_nodes() > 0:\n",
        "    largest_neg_scc = max(nx.strongly_connected_components(G_neg), key=len)\n",
        "    print(\"Size of largest SCC in negative subgraph:\", len(largest_neg_scc))\n",
        "else:\n",
        "    print(\"No nodes in G_neg, so no SCCs.\")\n"
      ],
      "metadata": {
        "id": "Wi3jTkEIR0iE"
      }
    },
    {
      "cell_type": "markdown",
      "source": [
        "## 3. Shortest Path Analysis with Signed Weights\n",
        "\n",
        "**Goal**: Use a custom transformation to treat negative edges as higher \"cost.\"\n",
        "- For instance, map edge weight w to a distance d = 11 - w if w in [-10, +10].\n",
        "  - Then +10 becomes distance=1, and -10 becomes distance=21.\n",
        "\n",
        "We can then apply standard shortest path algorithms like Dijkstra or Bellman-Ford to find minimal \"cost\" paths favoring positive edges.\n"
      ],
      "metadata": {
        "id": "330dkLFrR2-D"
      }
    },
    {
      "cell_type": "code",
      "source": [
        "import random\n",
        "\n",
        "# Create a new graph H_dist where edge \"weight\" is actually the cost/distance\n",
        "H_dist = nx.DiGraph()\n",
        "for u, v, data in G.edges(data=True):\n",
        "    w = data[\"weight\"]\n",
        "    # Example transform: distance = 11 - w\n",
        "    # +10 -> 1,  -10 -> 21\n",
        "    dist = 11 - w\n",
        "    H_dist.add_edge(u, v, weight=dist)\n",
        "\n",
        "# Pick two random nodes to measure the \"cost-based\" shortest path\n",
        "all_nodes = list(H_dist.nodes())\n",
        "if len(all_nodes) > 1:\n",
        "    src, tgt = random.sample(all_nodes, 2)\n",
        "    try:\n",
        "        path = nx.shortest_path(H_dist, source=src, target=tgt, weight=\"weight\")\n",
        "        path_cost = nx.shortest_path_length(\n",
        "            H_dist, source=src, target=tgt, weight=\"weight\"\n",
        "        )\n",
        "        print(f\"Shortest path from {src} to {tgt} (transformed cost):\")\n",
        "        print(f\"  Path: {path}\")\n",
        "        print(f\"  Total cost: {path_cost:.2f}\")\n",
        "    except nx.NetworkXNoPath:\n",
        "        print(f\"No path found from {src} to {tgt}.\")\n",
        "else:\n",
        "    print(\"Not enough nodes to pick a random source and target.\")"
      ],
      "metadata": {
        "colab": {
          "base_uri": "https://localhost:8080/"
        },
        "id": "mJN1UV6LR4hA",
        "outputId": "dad4746a-1b96-4431-f5b7-7f21d1c36d9f"
      },
      "execution_count": null,
      "outputs": [
        {
          "output_type": "stream",
          "name": "stdout",
          "text": [
            "Shortest path from 5271 to 1001 (transformed cost):\n",
            "  Path: ['5271', '4002', '35', '1437', '492', '1001']\n",
            "  Total cost: 30.00\n"
          ]
        }
      ]
    },
    {
      "cell_type": "markdown",
      "source": [
        "## 4. Signed Triad Analysis (Balance Theory)\n",
        "\n",
        "**Goal**: Investigate whether triads follow \"balance theory\" (friend of a friend is a friend, etc.).\n",
        "- We look at triplets of nodes and check whether their edges align as \"balanced\" or \"unbalanced.\"\n",
        "\n",
        "**Note**: This can be computationally heavy for large networks. We might sample a subset of nodes.\n"
      ],
      "metadata": {
        "id": "-mf-vcmaSR0x"
      }
    },
    {
      "cell_type": "code",
      "source": [
        "from itertools import combinations\n",
        "import random\n",
        "\n",
        "\n",
        "def is_balanced_triad(u, v, w, graph):\n",
        "    \"\"\"\n",
        "    Returns True if the triad (u, v, w) is balanced, False otherwise.\n",
        "    We'll treat edges as undirected for simplicity and gather signs.\n",
        "    If an edge doesn't exist, we consider it sign=0 (neutral).\n",
        "    Balanced if the product of non-zero signs is positive.\n",
        "    \"\"\"\n",
        "    edges = [(u, v), (v, w), (u, w)]\n",
        "    signs = []\n",
        "\n",
        "    for e in edges:\n",
        "        # Check e in both directions\n",
        "        if graph.has_edge(e[0], e[1]):\n",
        "            sign_val = 1 if graph[e[0]][e[1]][\"weight\"] >= 0 else -1\n",
        "        elif graph.has_edge(e[1], e[0]):\n",
        "            sign_val = 1 if graph[e[1]][e[0]][\"weight\"] >= 0 else -1\n",
        "        else:\n",
        "            sign_val = 0  # no edge\n",
        "        signs.append(sign_val)\n",
        "\n",
        "    product = 1\n",
        "    for s in signs:\n",
        "        if s == 0:\n",
        "            continue\n",
        "        product *= s\n",
        "    return product > 0\n",
        "\n",
        "\n",
        "# Sample 300 nodes to reduce runtime\n",
        "all_nodes = list(G.nodes())\n",
        "sampled_nodes = random.sample(all_nodes, min(len(all_nodes), 300))\n",
        "\n",
        "triad_count = 0\n",
        "balanced_count = 0\n",
        "\n",
        "for u, v, w in combinations(sampled_nodes, 3):\n",
        "    triad_count += 1\n",
        "    if is_balanced_triad(u, v, w, G):\n",
        "        balanced_count += 1\n",
        "\n",
        "print(f\"Checked {triad_count} triads in sample, {balanced_count} are balanced.\")\n",
        "if triad_count > 0:\n",
        "    print(f\"({balanced_count/triad_count*100:.2f}% balanced)\")"
      ],
      "metadata": {
        "colab": {
          "base_uri": "https://localhost:8080/"
        },
        "id": "TfuUTp4xSRH-",
        "outputId": "d07069bf-d945-4e2d-edd3-e72b8b5e7d2c"
      },
      "execution_count": null,
      "outputs": [
        {
          "output_type": "stream",
          "name": "stdout",
          "text": [
            "Checked 4455100 triads in sample, 4452130 are balanced.\n",
            "(99.93% balanced)\n"
          ]
        }
      ]
    },
    {
      "cell_type": "markdown",
      "source": [
        "## 4.5 References and Further Reading\n",
        "\n",
        "- **Dataset Citation**:\n",
        "  - S. Kumar et al. (2016, 2018). Papers on Edge Weight Prediction in Weighted Signed Networks.\n",
        "- **Tool Documentation**:\n",
        "  - [Plotly](https://plotly.com/python/)\n",
        "  - [Gephi](https://gephi.org/)\n",
        "  - [Neo4j Bloom](https://neo4j.com/developer/neo4j-bloom/)\n",
        "- **Advanced Topics**:\n",
        "  - Real-time graph updates, streaming data, interactive dashboards, etc.\n",
        "\n",
        "---\n",
        "\n",
        "# End of Unit 4: Visualization, Interpretation, and Communication\n"
      ],
      "metadata": {
        "id": "sxhVGgK0Q5e8"
      }
    }
  ]
}