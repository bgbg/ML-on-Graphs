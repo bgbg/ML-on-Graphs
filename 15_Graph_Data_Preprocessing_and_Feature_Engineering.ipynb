{
  "nbformat": 4,
  "nbformat_minor": 0,
  "metadata": {
    "colab": {
      "provenance": [],
      "toc_visible": true,
      "authorship_tag": "ABX9TyOxBHH+qqRVUiN/FvpR459y",
      "include_colab_link": true
    },
    "kernelspec": {
      "name": "python3",
      "display_name": "Python 3"
    },
    "language_info": {
      "name": "python"
    }
  },
  "cells": [
    {
      "cell_type": "markdown",
      "metadata": {
        "id": "view-in-github",
        "colab_type": "text"
      },
      "source": [
        "<a href=\"https://colab.research.google.com/github/ryandale7/ML-on-Graphs/blob/main/15_Graph_Data_Preprocessing_and_Feature_Engineering.ipynb\" target=\"_parent\"><img src=\"https://colab.research.google.com/assets/colab-badge.svg\" alt=\"Open In Colab\"/></a>"
      ]
    },
    {
      "cell_type": "markdown",
      "source": [
        "# Automated Download and Extraction\n",
        "\n",
        "In this approach, we will:\n",
        "- Mount Google Drive.\n",
        "- Create or navigate to a \"Data\" subfolder under Colab Notebooks.\n",
        "- Use curl to download the .zip file from the repository.\n",
        "- Extract the .zip file using unzip.\n",
        "- Verify the extracted files.\n",
        "- Load the dataset.\n"
      ],
      "metadata": {
        "id": "fyQdDkERDU4f"
      }
    },
    {
      "cell_type": "code",
      "execution_count": null,
      "metadata": {
        "colab": {
          "base_uri": "https://localhost:8080/"
        },
        "id": "Ap0DOKsMDMrB",
        "outputId": "fbb8cd91-12e6-4410-895b-d03cf284c6fd"
      },
      "outputs": [
        {
          "output_type": "stream",
          "name": "stdout",
          "text": [
            "Mounted at /content/drive\n",
            "/content/drive/MyDrive/Colab Notebooks/Data\n",
            "  % Total    % Received % Xferd  Average Speed   Time    Time     Time  Current\n",
            "                                 Dload  Upload   Total   Spent    Left  Speed\n",
            "100 1301k  100 1301k    0     0  1531k      0 --:--:-- --:--:-- --:--:-- 1529k\n",
            "Archive:  deezer_ego_nets.zip\n",
            "replace deezer_ego_nets/README.txt? [y]es, [n]o, [A]ll, [N]one, [r]ename: y\n",
            "  inflating: deezer_ego_nets/README.txt  \n",
            "replace deezer_ego_nets/citing.txt? [y]es, [n]o, [A]ll, [N]one, [r]ename: y\n",
            "  inflating: deezer_ego_nets/citing.txt  \n",
            "replace deezer_ego_nets/deezer_target.csv? [y]es, [n]o, [A]ll, [N]one, [r]ename: y\n",
            "  inflating: deezer_ego_nets/deezer_target.csv  \n",
            "replace deezer_ego_nets/deezer_edges.json? [y]es, [n]o, [A]ll, [N]one, [r]ename: y\n",
            "  inflating: deezer_ego_nets/deezer_edges.json  \n",
            "total 254688\n",
            "-rw------- 1 root root   114992 Feb  7 12:50 as20000102.txt\n",
            "-rw------- 1 root root  1431846 Feb  7 16:06 as-caida20071105.txt\n",
            "-rw------- 1 root root   447101 Feb  7 16:05 as-caida20071105.txt.gz\n",
            "-rw------- 1 root root  5284478 Feb  7 09:36 ca-AstroPh.txt\n",
            "-rw------- 1 root root  6704722 Jan 10 19:22 cit-HepPh.txt\n",
            "-rw------- 1 root root  5576851 Feb  7 09:02 cit-HepTh.txt\n",
            "-rw------- 1 root root  1150439 Jan 16 12:52 CollegeMsg.txt\n",
            "-rw------- 1 root root 12585884 Jan 10 18:46 com-amazon.ungraph.txt\n",
            "-rw------- 1 root root  1074676 Jan 16 18:57 com-lj.top5000.cmty.txt\n",
            "-rw------- 1 root root  7842475 Jan 10 19:22 com-orkut.top5000.cmty.txt\n",
            "drwx------ 2 root root     4096 Jan  6 14:56 congress_network\n",
            "-rw------- 1 root root   193815 Jan 16 10:36 congress_network.zip\n",
            "drwx------ 2 root root     4096 Feb  8 10:15 deezer_ego_nets\n",
            "-rw------- 1 root root  1333188 Feb  8 10:14 deezer_ego_nets.zip\n",
            "-rw------- 1 root root  5517753 Feb  8 07:52 email-Eu-core-temporal.txt\n",
            "-rw------- 1 root root   192698 Jan 16 10:47 email-Eu-core.txt\n",
            "drwx------ 2 root root     4096 Jan 10 19:22 facebook_large\n",
            "drwx------ 2 root root     4096 Jan 10 18:45 git_web_ml\n",
            "drwx------ 2 root root     4096 Jan 10 19:22 lasftm_asia\n",
            "-rw------- 1 root root  4578934 Jan 23 09:46 loc-brightkite_edges.txt\n",
            "-rw------- 1 root root   431145 Feb  7 11:12 p2p-Gnutella04.txt\n",
            "-rw------- 1 root root 17116478 Feb  8 09:16 redditSubmissions.csv\n",
            "-rw------- 1 root root 59234946 Jan 10 19:02 roadNet-TX.txt\n",
            "-rw------- 1 root root  5663083 Jan 23 10:18 soc-Epinions1.txt\n",
            "-rw------- 1 root root  1011180 Jan 16 10:49 soc-sign-bitcoinotc.csv\n",
            "-rw------- 1 root root 10747200 Jan 10 19:22 soc-Slashdot0811.txt\n",
            "-rw------- 1 root root 22881649 Jan 10 19:11 sx-askubuntu.txt\n",
            "-rw------- 1 root root 34119270 Jan 10 19:11 sx-superuser.txt\n",
            "-rw------- 1 root root 21555101 Feb  7 10:05 web-NotreDame.txt\n",
            "-rw------- 1 root root 32888333 Jan 10 19:01 web-Stanford.txt\n",
            "-rw------- 1 root root  1095061 Feb  8 07:32 wiki-Vote.txt\n",
            "head: cannot open 'some_extracted_file.txt' for reading: No such file or directory\n"
          ]
        }
      ],
      "source": [
        "from google.colab import drive\n",
        "drive.mount('/content/drive')\n",
        "\n",
        "# Change directory to the Data subfolder (adjust the path as necessary)\n",
        "%cd /content/drive/MyDrive/Colab\\ Notebooks/Data\n",
        "\n",
        "# Download the dataset (deezer_ego_nets.zip) from the repository\n",
        "!curl -O https://snap.stanford.edu/data/deezer_ego_nets.zip\n",
        "\n",
        "# Extract the downloaded zip file\n",
        "!unzip deezer_ego_nets.zip\n",
        "\n",
        "# List the extracted files to verify the extraction\n",
        "!ls -l\n",
        "\n",
        "# (Optional) Display the first 10 lines of an extracted file to inspect its content\n",
        "!head -n 10 some_extracted_file.txt\n"
      ]
    },
    {
      "cell_type": "markdown",
      "source": [
        "# Manual Upload Instructions\n",
        "\n",
        "If the automated method is not feasible, or you prefer manual steps:\n",
        "- Download the deezer_ego_nets.zip file from the repository to your local machine.\n",
        "- Extract it locally (e.g., right-click and unzip, or use unzip on macOS/Linux).\n",
        "- Create or navigate to a \"Data\" subfolder under Colab Notebooks in your Google Drive.\n",
        "- Upload the extracted files into that \"Data\" subfolder.\n",
        "- Open or create a Colab notebook.\n",
        "- Mount Google Drive and change directory to the Colab Notebooks/Data folder.\n",
        "- Load and verify the dataset.\n"
      ],
      "metadata": {
        "id": "9SE3t1_gDolu"
      }
    },
    {
      "cell_type": "code",
      "source": [
        "from google.colab import drive\n",
        "drive.mount('/content/drive')\n",
        "\n",
        "# Change directory to the Data subfolder in Colab Notebooks (adjust the path as needed)\n",
        "%cd /content/drive/MyDrive/Colab\\ Notebooks/Data\n",
        "\n",
        "# List the files to verify the manual upload\n",
        "!ls -l\n",
        "\n",
        "# (Optional) Display the first 10 lines of an uploaded file to verify its content\n",
        "!head -n 10 some_extracted_file.txt\n"
      ],
      "metadata": {
        "id": "45_i9Y1yDqB3"
      },
      "execution_count": null,
      "outputs": []
    },
    {
      "cell_type": "code",
      "source": [
        "# Running black\n",
        "\n",
        "from google.colab import drive\n",
        "\n",
        "# Install nbqa and black (required each new session)\n",
        "!pip install nbqa black\n",
        "\n",
        "# Run nbqa black on all notebooks in the current directory\n",
        "!nbqa black .\n"
      ],
      "metadata": {
        "colab": {
          "base_uri": "https://localhost:8080/"
        },
        "id": "zweDbyBqDtgP",
        "outputId": "1d316565-946e-4500-84b4-9b321efcc353"
      },
      "execution_count": null,
      "outputs": [
        {
          "output_type": "stream",
          "name": "stdout",
          "text": [
            "Requirement already satisfied: nbqa in /usr/local/lib/python3.11/dist-packages (1.9.1)\n",
            "Requirement already satisfied: black in /usr/local/lib/python3.11/dist-packages (25.1.0)\n",
            "Requirement already satisfied: autopep8>=1.5 in /usr/local/lib/python3.11/dist-packages (from nbqa) (2.3.2)\n",
            "Requirement already satisfied: ipython>=7.8.0 in /usr/local/lib/python3.11/dist-packages (from nbqa) (7.34.0)\n",
            "Requirement already satisfied: tokenize-rt>=3.2.0 in /usr/local/lib/python3.11/dist-packages (from nbqa) (6.1.0)\n",
            "Requirement already satisfied: tomli in /usr/local/lib/python3.11/dist-packages (from nbqa) (2.2.1)\n",
            "Requirement already satisfied: click>=8.0.0 in /usr/local/lib/python3.11/dist-packages (from black) (8.1.8)\n",
            "Requirement already satisfied: mypy-extensions>=0.4.3 in /usr/local/lib/python3.11/dist-packages (from black) (1.0.0)\n",
            "Requirement already satisfied: packaging>=22.0 in /usr/local/lib/python3.11/dist-packages (from black) (24.2)\n",
            "Requirement already satisfied: pathspec>=0.9.0 in /usr/local/lib/python3.11/dist-packages (from black) (0.12.1)\n",
            "Requirement already satisfied: platformdirs>=2 in /usr/local/lib/python3.11/dist-packages (from black) (4.3.6)\n",
            "Requirement already satisfied: pycodestyle>=2.12.0 in /usr/local/lib/python3.11/dist-packages (from autopep8>=1.5->nbqa) (2.12.1)\n",
            "Requirement already satisfied: setuptools>=18.5 in /usr/local/lib/python3.11/dist-packages (from ipython>=7.8.0->nbqa) (75.1.0)\n",
            "Requirement already satisfied: jedi>=0.16 in /usr/local/lib/python3.11/dist-packages (from ipython>=7.8.0->nbqa) (0.19.2)\n",
            "Requirement already satisfied: decorator in /usr/local/lib/python3.11/dist-packages (from ipython>=7.8.0->nbqa) (4.4.2)\n",
            "Requirement already satisfied: pickleshare in /usr/local/lib/python3.11/dist-packages (from ipython>=7.8.0->nbqa) (0.7.5)\n",
            "Requirement already satisfied: traitlets>=4.2 in /usr/local/lib/python3.11/dist-packages (from ipython>=7.8.0->nbqa) (5.7.1)\n",
            "Requirement already satisfied: prompt-toolkit!=3.0.0,!=3.0.1,<3.1.0,>=2.0.0 in /usr/local/lib/python3.11/dist-packages (from ipython>=7.8.0->nbqa) (3.0.50)\n",
            "Requirement already satisfied: pygments in /usr/local/lib/python3.11/dist-packages (from ipython>=7.8.0->nbqa) (2.18.0)\n",
            "Requirement already satisfied: backcall in /usr/local/lib/python3.11/dist-packages (from ipython>=7.8.0->nbqa) (0.2.0)\n",
            "Requirement already satisfied: matplotlib-inline in /usr/local/lib/python3.11/dist-packages (from ipython>=7.8.0->nbqa) (0.1.7)\n",
            "Requirement already satisfied: pexpect>4.3 in /usr/local/lib/python3.11/dist-packages (from ipython>=7.8.0->nbqa) (4.9.0)\n",
            "Requirement already satisfied: parso<0.9.0,>=0.8.4 in /usr/local/lib/python3.11/dist-packages (from jedi>=0.16->ipython>=7.8.0->nbqa) (0.8.4)\n",
            "Requirement already satisfied: ptyprocess>=0.5 in /usr/local/lib/python3.11/dist-packages (from pexpect>4.3->ipython>=7.8.0->nbqa) (0.7.0)\n",
            "Requirement already satisfied: wcwidth in /usr/local/lib/python3.11/dist-packages (from prompt-toolkit!=3.0.0,!=3.0.1,<3.1.0,>=2.0.0->ipython>=7.8.0->nbqa) (0.2.13)\n",
            "No notebooks found in given path(s)\n"
          ]
        }
      ]
    },
    {
      "cell_type": "markdown",
      "source": [
        "# Unit 15: Data Preparation and Analysis for Deezer Ego Nets\n",
        "\n",
        "## Section 1: Techniques for Cleaning and Preparing Large Graph Datasets\n",
        "\n",
        "**Objective:**  \n",
        "- Understand strategies for cleaning noisy graph data.  \n",
        "- Recognize methods for handling missing or inconsistent node and edge information.\n",
        "\n",
        "**Introduction:**  \n",
        "- Introduce the process of cleaning large graph datasets such as Deezer Ego Nets.  \n",
        "- Discuss the importance of data quality for subsequent analysis and machine learning tasks.\n",
        "\n",
        "**Key Points:**  \n",
        "- Data sanitation using filtering and imputation methods.  \n",
        "- Removal of duplicate or irrelevant records.  \n",
        "- Handling missing values in node attributes and edge lists.\n"
      ],
      "metadata": {
        "id": "XYNJAY3_EaiR"
      }
    },
    {
      "cell_type": "code",
      "source": [
        "import os\n",
        "import networkx as nx\n",
        "import matplotlib.pyplot as plt\n",
        "\n",
        "# Define the directory where the Deezer Ego Nets dataset is located\n",
        "data_dir = '/content/drive/MyDrive/Colab Notebooks/Data/deezer_ego_nets'\n",
        "\n",
        "# List files in the dataset directory to inspect the contents\n",
        "files = os.listdir(data_dir)\n",
        "print(\"Files in the dataset directory:\")\n",
        "print(files)\n",
        "\n",
        "# Load a sample ego network file (assuming files are in edge list format)\n",
        "sample_file = os.path.join(data_dir, files[0])\n",
        "G_raw = nx.read_edgelist(sample_file)\n",
        "\n",
        "# Display basic properties of the raw graph\n",
        "print(\"Raw graph properties:\")\n",
        "print(\"Number of nodes:\", G_raw.number_of_nodes())\n",
        "print(\"Number of edges:\", G_raw.number_of_edges())\n",
        "\n",
        "# Visualize the raw graph\n",
        "plt.figure(figsize=(8, 6))\n",
        "nx.draw_networkx(G_raw, with_labels=False, node_size=50)\n",
        "plt.title(\"Raw Ego Network Graph\")\n",
        "plt.show()\n",
        "\n",
        "# Example data cleaning: Remove isolated nodes (nodes with no edges)\n",
        "G_clean = G_raw.copy()\n",
        "isolated_nodes = list(nx.isolates(G_clean))\n",
        "G_clean.remove_nodes_from(isolated_nodes)\n",
        "print(\"After cleaning, number of nodes:\", G_clean.number_of_nodes())\n"
      ],
      "metadata": {
        "colab": {
          "base_uri": "https://localhost:8080/",
          "height": 652
        },
        "id": "iIWyf8KZEbzU",
        "outputId": "18ed133a-9985-4c46-db18-febe91a44b9e"
      },
      "execution_count": null,
      "outputs": [
        {
          "output_type": "stream",
          "name": "stdout",
          "text": [
            "Files in the dataset directory:\n",
            "['deezer_target.csv', 'deezer_edges.json', 'citing.txt', 'README.txt']\n",
            "Raw graph properties:\n",
            "Number of nodes: 0\n",
            "Number of edges: 0\n"
          ]
        },
        {
          "output_type": "display_data",
          "data": {
            "text/plain": [
              "<Figure size 800x600 with 1 Axes>"
            ],
            "image/png": "[encoded data removed]"
          },
          "metadata": {}
        },
        {
          "output_type": "stream",
          "name": "stdout",
          "text": [
            "After cleaning, number of nodes: 0\n"
          ]
        }
      ]
    },
    {
      "cell_type": "markdown",
      "source": [
        "**Observations & Explanations:**  \n",
        "- Cleaning the dataset by removing isolated nodes enhances the overall graph quality.  \n",
        "- Visualizing the raw graph helps identify noise, such as disconnected nodes and inconsistent records.  \n",
        "- Comparing graph properties before and after cleaning indicates improvements in data quality.\n"
      ],
      "metadata": {
        "id": "IYoyrfVUEhNH"
      }
    },
    {
      "cell_type": "markdown",
      "source": [
        "**Practical Activities:**  \n",
        "- Develop a script to filter out incomplete ego networks from the dataset.  \n",
        "- Experiment with imputation techniques to handle missing node attributes.  \n",
        "- Visualize and compare the graph structures before and after applying various cleaning methods.\n"
      ],
      "metadata": {
        "id": "TVxuKcESEiH_"
      }
    },
    {
      "cell_type": "markdown",
      "source": [
        "**Quiz:**  \n",
        "1. What are common techniques used to clean large graph datasets?  \n",
        "2. Why is data cleaning critical for graph analysis?\n"
      ],
      "metadata": {
        "id": "2io27QNaEesq"
      }
    },
    {
      "cell_type": "markdown",
      "source": [
        "## Section 2: Feature Extraction from Graph Topology and Node Attributes\n",
        "\n",
        "**Objective:**  \n",
        "- Learn methods to extract meaningful features from graph structure.  \n",
        "- Understand how node attributes contribute to graph-level insights.\n",
        "\n",
        "**Introduction:**  \n",
        "- Describe the process of deriving features from both the topology of the graph and node-specific attributes.  \n",
        "- Emphasize the role of feature extraction in improving model interpretability.\n",
        "\n",
        "**Key Points:**  \n",
        "- Extraction of structural metrics such as degree, centrality, and clustering coefficient.  \n",
        "- Incorporation of node attributes like user demographics or interaction counts.  \n",
        "- Combining topology-based features with attribute-based features for robust analysis.\n"
      ],
      "metadata": {
        "id": "LS3pcjcMEtFU"
      }
    },
    {
      "cell_type": "code",
      "source": [
        "import os\n",
        "import networkx as nx\n",
        "import pandas as pd\n",
        "import matplotlib.pyplot as plt\n",
        "\n",
        "# Define the directory containing Deezer Ego Nets files\n",
        "data_dir = '/content/drive/MyDrive/Colab Notebooks/Data/deezer_ego_nets'\n",
        "files = os.listdir(data_dir)\n",
        "print(\"Files in the dataset directory:\")\n",
        "print(files)\n",
        "\n",
        "# Process each file in the dataset directory (assuming .txt files for ego networks)\n",
        "feature_list = []\n",
        "for filename in files:\n",
        "    if filename.endswith('.txt'):\n",
        "        filepath = os.path.join(data_dir, filename)\n",
        "        # Load the ego network from an edge list file, ignoring additional edge data\n",
        "        G = nx.read_edgelist(filepath, data=False)\n",
        "        num_nodes = G.number_of_nodes()\n",
        "        # Calculate average degree\n",
        "        degrees = dict(G.degree())\n",
        "        avg_degree = sum(degrees.values()) / float(num_nodes) if num_nodes > 0 else 0\n",
        "        # Calculate average clustering coefficient\n",
        "        avg_clustering = nx.average_clustering(G) if num_nodes > 0 else 0\n",
        "        feature_list.append({\n",
        "            'file': filename,\n",
        "            'num_nodes': num_nodes,\n",
        "            'avg_degree': avg_degree,\n",
        "            'avg_clustering': avg_clustering\n",
        "        })\n",
        "\n",
        "# Create a DataFrame from the extracted features\n",
        "features_df = pd.DataFrame(feature_list)\n",
        "print(\"Extracted Features:\")\n",
        "print(features_df.head())\n",
        "\n",
        "# Visualize the distribution of average degree and average clustering coefficient\n",
        "plt.figure(figsize=(12, 5))\n",
        "plt.subplot(1, 2, 1)\n",
        "plt.hist(features_df['avg_degree'], bins=20, color='skyblue', edgecolor='black')\n",
        "plt.xlabel('Average Degree')\n",
        "plt.ylabel('Frequency')\n",
        "plt.title('Distribution of Average Degree')\n",
        "\n",
        "plt.subplot(1, 2, 2)\n",
        "plt.hist(features_df['avg_clustering'], bins=20, color='salmon', edgecolor='black')\n",
        "plt.xlabel('Average Clustering Coefficient')\n",
        "plt.ylabel('Frequency')\n",
        "plt.title('Distribution of Average Clustering')\n",
        "plt.tight_layout()\n",
        "plt.show()\n"
      ],
      "metadata": {
        "colab": {
          "base_uri": "https://localhost:8080/",
          "height": 542
        },
        "id": "4vP2PftVE6LC",
        "outputId": "45642847-a8ce-431b-9d9d-674ef6898324"
      },
      "execution_count": null,
      "outputs": [
        {
          "output_type": "stream",
          "name": "stdout",
          "text": [
            "Files in the dataset directory:\n",
            "['deezer_target.csv', 'deezer_edges.json', 'citing.txt', 'README.txt']\n",
            "Extracted Features:\n",
            "         file  num_nodes  avg_degree  avg_clustering\n",
            "0  citing.txt          8    1.000000             0.0\n",
            "1  README.txt         19    1.473684             0.0\n"
          ]
        },
        {
          "output_type": "display_data",
          "data": {
            "text/plain": [
              "<Figure size 1200x500 with 2 Axes>"
            ],
            "image/png": "[encoded data removed]"
          },
          "metadata": {}
        }
      ]
    },
    {
      "cell_type": "markdown",
      "source": [
        "**Observations & Explanations:**  \n",
        "- The computed metrics capture essential aspects of each ego network's structure.  \n",
        "- Average degree indicates the overall connectivity, while average clustering reflects the tendency of nodes to form clusters.  \n",
        "- Merging these features provides a comprehensive view of the network’s topology.\n",
        "\n",
        "**Practical Activities:**  \n",
        "- Implement additional functions to compute other centrality measures (e.g., betweenness centrality) and add them to the feature matrix.  \n",
        "- Create comparative visualizations of different feature distributions across ego networks.  \n",
        "- Evaluate how various feature sets impact a simple classification task on the dataset.\n",
        "\n",
        "**Quiz:**  \n",
        "1. Which structural metrics are commonly extracted from graph topology?  \n",
        "2. How can node attributes enhance graph-level feature extraction?\n"
      ],
      "metadata": {
        "id": "MuRN4ZUnE8rC"
      }
    },
    {
      "cell_type": "markdown",
      "source": [
        "## Section 3: Dimensionality Reduction for Large Graphs\n",
        "\n",
        "**Objective:**  \n",
        "- Understand techniques to reduce the dimensionality of graph features.  \n",
        "- Learn how to visualize high-dimensional graph data in lower-dimensional spaces.\n",
        "\n",
        "**Introduction:**  \n",
        "- Introduce dimensionality reduction methods such as PCA and t-SNE for large graphs.  \n",
        "- Discuss the importance of reducing complexity for visualization and analysis.\n",
        "\n",
        "**Key Points:**  \n",
        "- Application of Principal Component Analysis (PCA) to compress feature space.  \n",
        "- Use of t-SNE for nonlinear dimensionality reduction and visualization.  \n",
        "- Benefits of dimensionality reduction for handling high-dimensional graph data.\n"
      ],
      "metadata": {
        "id": "sjzuKkV1FLJy"
      }
    },
    {
      "cell_type": "code",
      "source": [
        "import pandas as pd\n",
        "import numpy as np\n",
        "import matplotlib.pyplot as plt\n",
        "from sklearn.decomposition import PCA\n",
        "from sklearn.manifold import TSNE\n",
        "from sklearn.preprocessing import StandardScaler\n",
        "\n",
        "# Use features_df if available; otherwise, create a dummy DataFrame for demonstration.\n",
        "if 'features_df' not in globals():\n",
        "    features_df = pd.DataFrame({\n",
        "        'num_nodes': np.random.randint(10, 400, 50),\n",
        "        'avg_degree': np.random.rand(50) * 10,\n",
        "        'avg_clustering': np.random.rand(50)\n",
        "    })\n",
        "\n",
        "# Standardize the features\n",
        "scaler = StandardScaler()\n",
        "X_scaled = scaler.fit_transform(features_df[['num_nodes', 'avg_degree', 'avg_clustering']])\n",
        "\n",
        "# Determine an appropriate perplexity value (must be less than number of samples)\n",
        "n_samples = X_scaled.shape[0]\n",
        "perplexity_value = 10 if n_samples > 10 else n_samples - 1\n",
        "\n",
        "# Apply PCA to reduce dimensions to 2 components\n",
        "pca = PCA(n_components=2)\n",
        "X_pca = pca.fit_transform(X_scaled)\n",
        "\n",
        "# Apply t-SNE to reduce dimensions to 2 components using the adjusted perplexity\n",
        "tsne = TSNE(n_components=2, random_state=42, perplexity=perplexity_value)\n",
        "X_tsne = tsne.fit_transform(X_scaled)\n",
        "\n",
        "# Visualize the PCA result\n",
        "plt.figure(figsize=(12, 5))\n",
        "plt.subplot(1, 2, 1)\n",
        "plt.scatter(X_pca[:, 0], X_pca[:, 1], c='blue', alpha=0.7)\n",
        "plt.title(\"PCA of Graph Features\")\n",
        "plt.xlabel(\"PC1\")\n",
        "plt.ylabel(\"PC2\")\n",
        "\n",
        "# Visualize the t-SNE result\n",
        "plt.subplot(1, 2, 2)\n",
        "plt.scatter(X_tsne[:, 0], X_tsne[:, 1], c='green', alpha=0.7)\n",
        "plt.title(\"t-SNE of Graph Features\")\n",
        "plt.xlabel(\"Dimension 1\")\n",
        "plt.ylabel(\"Dimension 2\")\n",
        "plt.tight_layout()\n",
        "plt.show()"
      ],
      "metadata": {
        "colab": {
          "base_uri": "https://localhost:8080/",
          "height": 434
        },
        "id": "5aRynGonFYrt",
        "outputId": "7a660a91-735d-41cc-8fa0-4303158cfb61"
      },
      "execution_count": null,
      "outputs": [
        {
          "output_type": "display_data",
          "data": {
            "text/plain": [
              "<Figure size 1200x500 with 2 Axes>"
            ],
            "image/png": "[encoded data removed]"
          },
          "metadata": {}
        }
      ]
    },
    {
      "cell_type": "markdown",
      "source": [
        "**Observations & Explanations:**  \n",
        "- PCA provides a linear projection of the features that preserves maximum variance.  \n",
        "- t-SNE offers a nonlinear mapping that can reveal clusters not visible through PCA.  \n",
        "- Comparing both visualizations helps in understanding the inherent structure of the graph features.\n"
      ],
      "metadata": {
        "id": "PW2s4aNEFeyk"
      }
    },
    {
      "cell_type": "markdown",
      "source": [
        "**Practical Activities:**  \n",
        "- Experiment with different numbers of PCA components and observe changes in the explained variance.  \n",
        "- Adjust t-SNE parameters (perplexity and learning rate) and analyze their impact on the visualization.  \n",
        "- Compare the clustering of graphs in the reduced feature space with any available labels.\n"
      ],
      "metadata": {
        "id": "V9tJ1LE_FgKE"
      }
    },
    {
      "cell_type": "markdown",
      "source": [
        "**Quiz:**  \n",
        "1. What are the advantages of using PCA for graph feature reduction?  \n",
        "2. How does t-SNE differ from linear reduction techniques like PCA?\n"
      ],
      "metadata": {
        "id": "omBUn2uWFg-0"
      }
    },
    {
      "cell_type": "markdown",
      "source": [
        "## Section 4: Best Practices for Efficient Data Handling\n",
        "\n",
        "**Objective:**  \n",
        "- Learn strategies for managing large graph datasets efficiently.  \n",
        "- Recognize methods to optimize memory and processing time during data handling.\n",
        "\n",
        "**Introduction:**  \n",
        "- Large-scale graph data can strain memory and processing resources.  \n",
        "- Best practices include efficient storage formats, batch processing, lazy loading, and parallel processing.\n",
        "\n",
        "**Key Points:**  \n",
        "- Efficient data storage: using binary formats or databases.  \n",
        "- Batch processing and lazy loading reduce memory footprint.  \n",
        "- Parallel processing and distributed systems can accelerate data handling.\n"
      ],
      "metadata": {
        "id": "X_rBOCxWF6Y8"
      }
    },
    {
      "cell_type": "code",
      "source": [
        "import pandas as pd\n",
        "import time\n",
        "import os\n",
        "\n",
        "data_dir = '/content/drive/MyDrive/Colab Notebooks/Data/deezer_ego_nets'\n",
        "files = os.listdir(data_dir)\n",
        "print(\"Files in the dataset directory:\")\n",
        "print(files)\n",
        "\n",
        "# Find CSV files in the directory\n",
        "csv_files = [f for f in files if f.endswith('.csv')]\n",
        "if not csv_files:\n",
        "    print(\"No CSV files found in the directory. Please verify the dataset extraction.\")\n",
        "else:\n",
        "    csv_file = os.path.join(data_dir, csv_files[0])\n",
        "    chunk_size = 1000\n",
        "    chunks = []\n",
        "    start_time = time.time()\n",
        "    for chunk in pd.read_csv(csv_file, chunksize=chunk_size, engine='python'):\n",
        "        chunks.append(chunk)\n",
        "    df_chunked = pd.concat(chunks, ignore_index=True)\n",
        "    end_time = time.time()\n",
        "    print(\"Chunked loading time:\", end_time - start_time, \"seconds\")\n",
        "    print(\"First few rows of the loaded data:\")\n",
        "    print(df_chunked.head())\n"
      ],
      "metadata": {
        "colab": {
          "base_uri": "https://localhost:8080/"
        },
        "id": "_Y4sTPgfGGH2",
        "outputId": "633be4d8-e890-4f1d-b25d-8c2187591ee8"
      },
      "execution_count": null,
      "outputs": [
        {
          "output_type": "stream",
          "name": "stdout",
          "text": [
            "Files in the dataset directory:\n",
            "['deezer_target.csv', 'deezer_edges.json', 'citing.txt', 'README.txt']\n",
            "Chunked loading time: 0.06284070014953613 seconds\n",
            "First few rows of the loaded data:\n",
            "   id  target\n",
            "0   0       0\n",
            "1   1       1\n",
            "2   2       0\n",
            "3   3       0\n",
            "4   4       1\n"
          ]
        }
      ]
    },
    {
      "cell_type": "markdown",
      "source": [
        "**Observations & Explanations:**  \n",
        "- Chunking with pandas reduces memory load by processing the file in manageable pieces.  \n",
        "- Lazy file reading avoids loading the entire file into memory, which is beneficial for very large files.  \n",
        "- Comparing processing times helps determine the most efficient method for a given dataset.\n"
      ],
      "metadata": {
        "id": "60rePKugGIUL"
      }
    },
    {
      "cell_type": "markdown",
      "source": [
        "**Practical Activities:**  \n",
        "- Implement efficient data loading routines for other file formats in the Deezer Ego Nets dataset.  \n",
        "- Experiment with different chunk sizes and batch sizes to optimize processing time.  \n",
        "- Benchmark the performance improvements by comparing processing times before and after applying these techniques.\n"
      ],
      "metadata": {
        "id": "1voegrExGJJb"
      }
    },
    {
      "cell_type": "markdown",
      "source": [
        "**Quiz:**  \n",
        "1. What techniques can be used to efficiently handle large graph datasets?  \n",
        "2. Why is batch processing important in data handling?\n"
      ],
      "metadata": {
        "id": "Zd55H1ENGSYD"
      }
    },
    {
      "cell_type": "markdown",
      "source": [
        "## Section 5: Integrating Graph Data into Machine Learning Workflows\n",
        "\n",
        "**Objective:**  \n",
        "- Understand how to integrate cleaned and feature-extracted graph data into ML models.  \n",
        "- Learn to construct end-to-end workflows for graph-based predictive tasks.\n",
        "\n",
        "**Introduction:**  \n",
        "- Describe the process of integrating graph data into machine learning pipelines.  \n",
        "- Emphasize the importance of seamless transitions from data preparation to model training.\n",
        "\n",
        "**Key Points:**  \n",
        "- Combining data cleaning, feature extraction, and dimensionality reduction into a unified pipeline.  \n",
        "- Use of pipelines for reproducible and scalable machine learning tasks.  \n",
        "- Integration of explainability methods to interpret graph-based predictions.\n"
      ],
      "metadata": {
        "id": "jXsuyWxbGpci"
      }
    },
    {
      "cell_type": "code",
      "source": [
        "import pandas as pd\n",
        "import numpy as np\n",
        "from sklearn.pipeline import Pipeline\n",
        "from sklearn.preprocessing import StandardScaler\n",
        "from sklearn.decomposition import PCA\n",
        "from sklearn.ensemble import RandomForestClassifier\n",
        "from sklearn.model_selection import train_test_split\n",
        "from sklearn.metrics import classification_report, confusion_matrix\n",
        "import matplotlib.pyplot as plt\n",
        "\n",
        "# Use features_df if available; otherwise, create a dummy DataFrame for demonstration.\n",
        "if 'features_df' not in globals():\n",
        "    features_df = pd.DataFrame({\n",
        "        'num_nodes': np.random.randint(10, 400, 100),\n",
        "        'avg_degree': np.random.rand(100) * 10,\n",
        "        'avg_clustering': np.random.rand(100)\n",
        "    })\n",
        "else:\n",
        "    features_df = features_df.select_dtypes(include=[np.number])\n",
        "\n",
        "# Create synthetic labels: label 1 if avg_degree is above the median, else 0\n",
        "median_avg_degree = features_df['avg_degree'].median()\n",
        "labels = (features_df['avg_degree'] > median_avg_degree).astype(int)\n",
        "\n",
        "X = features_df\n",
        "\n",
        "# Split data into training and testing sets\n",
        "X_train, X_test, y_train, y_test = train_test_split(X, labels, test_size=0.2, random_state=42)\n",
        "\n",
        "# Set PCA components: choose 2 if possible, otherwise use 1\n",
        "n_features = X_train.shape[1]\n",
        "# Change here to ensure n_components <= min(n_samples, n_features)\n",
        "pca_components = min(2, min(X_train.shape[0], n_features))\n",
        "\n",
        "# Construct an end-to-end ML pipeline\n",
        "pipeline = Pipeline([\n",
        "    ('scaler', StandardScaler()),\n",
        "    ('pca', PCA(n_components=pca_components)),\n",
        "    ('classifier', RandomForestClassifier(random_state=42))\n",
        "])\n",
        "\n",
        "# Train the pipeline\n",
        "pipeline.fit(X_train, y_train)\n",
        "\n",
        "# Predict and evaluate\n",
        "y_pred = pipeline.predict(X_test)\n",
        "print(\"Classification Report:\")\n",
        "print(classification_report(y_test, y_pred))\n",
        "\n",
        "# Visualize the confusion matrix\n",
        "cm = confusion_matrix(y_test, y_pred)\n",
        "plt.figure(figsize=(6, 5))\n",
        "plt.imshow(cm, interpolation='nearest', cmap=plt.cm.Blues)\n",
        "plt.title(\"Confusion Matrix\")\n",
        "plt.colorbar()\n",
        "plt.xlabel(\"Predicted Label\")\n",
        "plt.ylabel(\"True Label\")\n",
        "plt.show()\n",
        "\n",
        "# Display PCA explained variance ratio\n",
        "pca_explained_variance = pipeline.named_steps['pca'].explained_variance_ratio_\n",
        "print(\"PCA Explained Variance Ratio:\", pca_explained_variance)\n"
      ],
      "metadata": {
        "colab": {
          "base_uri": "https://localhost:8080/",
          "height": 940
        },
        "id": "d6lF81DQHGpD",
        "outputId": "99c851dc-4980-4358-c7e4-11a884c460bb"
      },
      "execution_count": null,
      "outputs": [
        {
          "output_type": "stream",
          "name": "stderr",
          "text": [
            "/usr/local/lib/python3.11/dist-packages/sklearn/decomposition/_pca.py:586: RuntimeWarning: invalid value encountered in divide\n",
            "  explained_variance_ = (S**2) / (n_samples - 1)\n",
            "/usr/local/lib/python3.11/dist-packages/sklearn/metrics/_classification.py:1565: UndefinedMetricWarning: Precision is ill-defined and being set to 0.0 in labels with no predicted samples. Use `zero_division` parameter to control this behavior.\n",
            "  _warn_prf(average, modifier, f\"{metric.capitalize()} is\", len(result))\n",
            "/usr/local/lib/python3.11/dist-packages/sklearn/metrics/_classification.py:1565: UndefinedMetricWarning: Recall is ill-defined and being set to 0.0 in labels with no true samples. Use `zero_division` parameter to control this behavior.\n",
            "  _warn_prf(average, modifier, f\"{metric.capitalize()} is\", len(result))\n",
            "/usr/local/lib/python3.11/dist-packages/sklearn/metrics/_classification.py:1565: UndefinedMetricWarning: Precision is ill-defined and being set to 0.0 in labels with no predicted samples. Use `zero_division` parameter to control this behavior.\n",
            "  _warn_prf(average, modifier, f\"{metric.capitalize()} is\", len(result))\n",
            "/usr/local/lib/python3.11/dist-packages/sklearn/metrics/_classification.py:1565: UndefinedMetricWarning: Recall is ill-defined and being set to 0.0 in labels with no true samples. Use `zero_division` parameter to control this behavior.\n",
            "  _warn_prf(average, modifier, f\"{metric.capitalize()} is\", len(result))\n",
            "/usr/local/lib/python3.11/dist-packages/sklearn/metrics/_classification.py:1565: UndefinedMetricWarning: Precision is ill-defined and being set to 0.0 in labels with no predicted samples. Use `zero_division` parameter to control this behavior.\n",
            "  _warn_prf(average, modifier, f\"{metric.capitalize()} is\", len(result))\n",
            "/usr/local/lib/python3.11/dist-packages/sklearn/metrics/_classification.py:1565: UndefinedMetricWarning: Recall is ill-defined and being set to 0.0 in labels with no true samples. Use `zero_division` parameter to control this behavior.\n",
            "  _warn_prf(average, modifier, f\"{metric.capitalize()} is\", len(result))\n"
          ]
        },
        {
          "output_type": "stream",
          "name": "stdout",
          "text": [
            "Classification Report:\n",
            "              precision    recall  f1-score   support\n",
            "\n",
            "           0       0.00      0.00      0.00       0.0\n",
            "           1       0.00      0.00      0.00       1.0\n",
            "\n",
            "    accuracy                           0.00       1.0\n",
            "   macro avg       0.00      0.00      0.00       1.0\n",
            "weighted avg       0.00      0.00      0.00       1.0\n",
            "\n"
          ]
        },
        {
          "output_type": "display_data",
          "data": {
            "text/plain": [
              "<Figure size 600x500 with 2 Axes>"
            ],
            "image/png": "[encoded data removed]"
          },
          "metadata": {}
        },
        {
          "output_type": "stream",
          "name": "stdout",
          "text": [
            "PCA Explained Variance Ratio: [nan]\n"
          ]
        }
      ]
    },
    {
      "cell_type": "markdown",
      "source": [
        "**Observations & Explanations:**  \n",
        "- Pipeline integration streamlines the entire workflow from preprocessing to model evaluation, reducing manual intervention.  \n",
        "- The PCA component effectively reduces the feature dimensionality, aiding visualization and noise reduction.  \n",
        "- Integrating all steps into a single pipeline enhances reproducibility and scalability, while also facilitating model interpretability.\n"
      ],
      "metadata": {
        "id": "grCXql2OHbc9"
      }
    },
    {
      "cell_type": "markdown",
      "source": [
        "**Practical Activities:**  \n",
        "- Modify the pipeline to use different classifiers (e.g., SVM, Logistic Regression) and compare their performance.  \n",
        "- Experiment with alternative dimensionality reduction techniques, such as t-SNE, within the pipeline.  \n",
        "- Use cross-validation to further evaluate the performance of the integrated workflow.\n"
      ],
      "metadata": {
        "id": "r-QClijZHc8c"
      }
    },
    {
      "cell_type": "markdown",
      "source": [
        "**Quiz:**  \n",
        "1. What are the benefits of integrating graph data into ML workflows?  \n",
        "2. How does pipeline integration contribute to reproducibility and scalability?\n"
      ],
      "metadata": {
        "id": "25j31vqzHdtI"
      }
    },
    {
      "cell_type": "markdown",
      "source": [
        "## All Quiz Answers\n",
        "\n",
        "1. **Section 1: Techniques for Cleaning and Preparing Large Graph Datasets**  \n",
        "   - Common techniques include filtering, imputation, and removal of duplicate or irrelevant records.  \n",
        "   - Data cleaning is critical for graph analysis because it improves data quality, leading to more reliable analysis and model performance.\n",
        "\n",
        "2. **Section 2: Feature Extraction from Graph Topology and Node Attributes**  \n",
        "   - Common structural metrics extracted from graph topology include degree, centrality, and clustering coefficient.  \n",
        "   - Node attributes enhance graph-level feature extraction by providing additional context that improves model interpretability and predictive power.\n",
        "\n",
        "3. **Section 3: Dimensionality Reduction for Large Graphs**  \n",
        "   - PCA reduces dimensionality by identifying linear combinations of features that capture the maximum variance.  \n",
        "   - t-SNE differs from linear techniques like PCA by preserving local structure through nonlinear mapping, which can reveal clusters in the data.\n",
        "\n",
        "4. **Section 4: Best Practices for Efficient Data Handling**  \n",
        "   - Techniques such as using efficient file formats, chunking, lazy loading, and parallel processing help manage large graph datasets effectively.  \n",
        "   - Batch processing is important because it reduces memory usage and speeds up data handling by processing data in manageable segments.\n",
        "\n",
        "5. **Section 5: Integrating Graph Data into Machine Learning Workflows**  \n",
        "   - Integrating graph data into ML workflows provides end-to-end automation, ensuring seamless transitions from data preparation to model training, which enhances reproducibility and scalability.  \n",
        "   - Pipeline integration contributes to reproducibility by ensuring that all processing steps are applied consistently and enables scalability by facilitating modular and maintainable workflows.\n"
      ],
      "metadata": {
        "id": "bf_nSKvTHo2K"
      }
    }
  ]
}